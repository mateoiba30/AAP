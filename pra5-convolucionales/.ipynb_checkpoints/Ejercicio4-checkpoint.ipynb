{
 "cells": [
  {
   "cell_type": "code",
   "execution_count": 1,
   "metadata": {
    "colab": {
     "base_uri": "https://localhost:8080/"
    },
    "id": "m9JbofDpsG3j",
    "outputId": "fccc0795-e371-4c47-b331-02171141f02b"
   },
   "outputs": [
    {
     "name": "stderr",
     "output_type": "stream",
     "text": [
      "C:\\Users\\Mateo\\anaconda3\\Lib\\site-packages\\keras\\src\\layers\\core\\input_layer.py:26: UserWarning: Argument `input_shape` is deprecated. Use `shape` instead.\n",
      "  warnings.warn(\n"
     ]
    },
    {
     "data": {
      "text/html": [
       "<pre style=\"white-space:pre;overflow-x:auto;line-height:normal;font-family:Menlo,'DejaVu Sans Mono',consolas,'Courier New',monospace\"><span style=\"font-weight: bold\">Model: \"sequential\"</span>\n",
       "</pre>\n"
      ],
      "text/plain": [
       "\u001b[1mModel: \"sequential\"\u001b[0m\n"
      ]
     },
     "metadata": {},
     "output_type": "display_data"
    },
    {
     "data": {
      "text/html": [
       "<pre style=\"white-space:pre;overflow-x:auto;line-height:normal;font-family:Menlo,'DejaVu Sans Mono',consolas,'Courier New',monospace\">┏━━━━━━━━━━━━━━━━━━━━━━━━━━━━━━━━━━━━━━┳━━━━━━━━━━━━━━━━━━━━━━━━━━━━━┳━━━━━━━━━━━━━━━━━┓\n",
       "┃<span style=\"font-weight: bold\"> Layer (type)                         </span>┃<span style=\"font-weight: bold\"> Output Shape                </span>┃<span style=\"font-weight: bold\">         Param # </span>┃\n",
       "┡━━━━━━━━━━━━━━━━━━━━━━━━━━━━━━━━━━━━━━╇━━━━━━━━━━━━━━━━━━━━━━━━━━━━━╇━━━━━━━━━━━━━━━━━┩\n",
       "│ conv2d (<span style=\"color: #0087ff; text-decoration-color: #0087ff\">Conv2D</span>)                      │ (<span style=\"color: #00d7ff; text-decoration-color: #00d7ff\">None</span>, <span style=\"color: #00af00; text-decoration-color: #00af00\">31</span>, <span style=\"color: #00af00; text-decoration-color: #00af00\">31</span>, <span style=\"color: #00af00; text-decoration-color: #00af00\">8</span>)           │              <span style=\"color: #00af00; text-decoration-color: #00af00\">80</span> │\n",
       "├──────────────────────────────────────┼─────────────────────────────┼─────────────────┤\n",
       "│ max_pooling2d (<span style=\"color: #0087ff; text-decoration-color: #0087ff\">MaxPooling2D</span>)         │ (<span style=\"color: #00d7ff; text-decoration-color: #00d7ff\">None</span>, <span style=\"color: #00af00; text-decoration-color: #00af00\">15</span>, <span style=\"color: #00af00; text-decoration-color: #00af00\">15</span>, <span style=\"color: #00af00; text-decoration-color: #00af00\">8</span>)           │               <span style=\"color: #00af00; text-decoration-color: #00af00\">0</span> │\n",
       "├──────────────────────────────────────┼─────────────────────────────┼─────────────────┤\n",
       "│ conv2d_1 (<span style=\"color: #0087ff; text-decoration-color: #0087ff\">Conv2D</span>)                    │ (<span style=\"color: #00d7ff; text-decoration-color: #00d7ff\">None</span>, <span style=\"color: #00af00; text-decoration-color: #00af00\">7</span>, <span style=\"color: #00af00; text-decoration-color: #00af00\">7</span>, <span style=\"color: #00af00; text-decoration-color: #00af00\">16</span>)            │           <span style=\"color: #00af00; text-decoration-color: #00af00\">1,168</span> │\n",
       "├──────────────────────────────────────┼─────────────────────────────┼─────────────────┤\n",
       "│ max_pooling2d_1 (<span style=\"color: #0087ff; text-decoration-color: #0087ff\">MaxPooling2D</span>)       │ (<span style=\"color: #00d7ff; text-decoration-color: #00d7ff\">None</span>, <span style=\"color: #00af00; text-decoration-color: #00af00\">3</span>, <span style=\"color: #00af00; text-decoration-color: #00af00\">3</span>, <span style=\"color: #00af00; text-decoration-color: #00af00\">16</span>)            │               <span style=\"color: #00af00; text-decoration-color: #00af00\">0</span> │\n",
       "├──────────────────────────────────────┼─────────────────────────────┼─────────────────┤\n",
       "│ flatten (<span style=\"color: #0087ff; text-decoration-color: #0087ff\">Flatten</span>)                    │ (<span style=\"color: #00d7ff; text-decoration-color: #00d7ff\">None</span>, <span style=\"color: #00af00; text-decoration-color: #00af00\">144</span>)                 │               <span style=\"color: #00af00; text-decoration-color: #00af00\">0</span> │\n",
       "├──────────────────────────────────────┼─────────────────────────────┼─────────────────┤\n",
       "│ dense (<span style=\"color: #0087ff; text-decoration-color: #0087ff\">Dense</span>)                        │ (<span style=\"color: #00d7ff; text-decoration-color: #00d7ff\">None</span>, <span style=\"color: #00af00; text-decoration-color: #00af00\">10</span>)                  │           <span style=\"color: #00af00; text-decoration-color: #00af00\">1,450</span> │\n",
       "├──────────────────────────────────────┼─────────────────────────────┼─────────────────┤\n",
       "│ dense_1 (<span style=\"color: #0087ff; text-decoration-color: #0087ff\">Dense</span>)                      │ (<span style=\"color: #00d7ff; text-decoration-color: #00d7ff\">None</span>, <span style=\"color: #00af00; text-decoration-color: #00af00\">6</span>)                   │              <span style=\"color: #00af00; text-decoration-color: #00af00\">66</span> │\n",
       "└──────────────────────────────────────┴─────────────────────────────┴─────────────────┘\n",
       "</pre>\n"
      ],
      "text/plain": [
       "┏━━━━━━━━━━━━━━━━━━━━━━━━━━━━━━━━━━━━━━┳━━━━━━━━━━━━━━━━━━━━━━━━━━━━━┳━━━━━━━━━━━━━━━━━┓\n",
       "┃\u001b[1m \u001b[0m\u001b[1mLayer (type)                        \u001b[0m\u001b[1m \u001b[0m┃\u001b[1m \u001b[0m\u001b[1mOutput Shape               \u001b[0m\u001b[1m \u001b[0m┃\u001b[1m \u001b[0m\u001b[1m        Param #\u001b[0m\u001b[1m \u001b[0m┃\n",
       "┡━━━━━━━━━━━━━━━━━━━━━━━━━━━━━━━━━━━━━━╇━━━━━━━━━━━━━━━━━━━━━━━━━━━━━╇━━━━━━━━━━━━━━━━━┩\n",
       "│ conv2d (\u001b[38;5;33mConv2D\u001b[0m)                      │ (\u001b[38;5;45mNone\u001b[0m, \u001b[38;5;34m31\u001b[0m, \u001b[38;5;34m31\u001b[0m, \u001b[38;5;34m8\u001b[0m)           │              \u001b[38;5;34m80\u001b[0m │\n",
       "├──────────────────────────────────────┼─────────────────────────────┼─────────────────┤\n",
       "│ max_pooling2d (\u001b[38;5;33mMaxPooling2D\u001b[0m)         │ (\u001b[38;5;45mNone\u001b[0m, \u001b[38;5;34m15\u001b[0m, \u001b[38;5;34m15\u001b[0m, \u001b[38;5;34m8\u001b[0m)           │               \u001b[38;5;34m0\u001b[0m │\n",
       "├──────────────────────────────────────┼─────────────────────────────┼─────────────────┤\n",
       "│ conv2d_1 (\u001b[38;5;33mConv2D\u001b[0m)                    │ (\u001b[38;5;45mNone\u001b[0m, \u001b[38;5;34m7\u001b[0m, \u001b[38;5;34m7\u001b[0m, \u001b[38;5;34m16\u001b[0m)            │           \u001b[38;5;34m1,168\u001b[0m │\n",
       "├──────────────────────────────────────┼─────────────────────────────┼─────────────────┤\n",
       "│ max_pooling2d_1 (\u001b[38;5;33mMaxPooling2D\u001b[0m)       │ (\u001b[38;5;45mNone\u001b[0m, \u001b[38;5;34m3\u001b[0m, \u001b[38;5;34m3\u001b[0m, \u001b[38;5;34m16\u001b[0m)            │               \u001b[38;5;34m0\u001b[0m │\n",
       "├──────────────────────────────────────┼─────────────────────────────┼─────────────────┤\n",
       "│ flatten (\u001b[38;5;33mFlatten\u001b[0m)                    │ (\u001b[38;5;45mNone\u001b[0m, \u001b[38;5;34m144\u001b[0m)                 │               \u001b[38;5;34m0\u001b[0m │\n",
       "├──────────────────────────────────────┼─────────────────────────────┼─────────────────┤\n",
       "│ dense (\u001b[38;5;33mDense\u001b[0m)                        │ (\u001b[38;5;45mNone\u001b[0m, \u001b[38;5;34m10\u001b[0m)                  │           \u001b[38;5;34m1,450\u001b[0m │\n",
       "├──────────────────────────────────────┼─────────────────────────────┼─────────────────┤\n",
       "│ dense_1 (\u001b[38;5;33mDense\u001b[0m)                      │ (\u001b[38;5;45mNone\u001b[0m, \u001b[38;5;34m6\u001b[0m)                   │              \u001b[38;5;34m66\u001b[0m │\n",
       "└──────────────────────────────────────┴─────────────────────────────┴─────────────────┘\n"
      ]
     },
     "metadata": {},
     "output_type": "display_data"
    },
    {
     "data": {
      "text/html": [
       "<pre style=\"white-space:pre;overflow-x:auto;line-height:normal;font-family:Menlo,'DejaVu Sans Mono',consolas,'Courier New',monospace\"><span style=\"font-weight: bold\"> Total params: </span><span style=\"color: #00af00; text-decoration-color: #00af00\">2,764</span> (10.80 KB)\n",
       "</pre>\n"
      ],
      "text/plain": [
       "\u001b[1m Total params: \u001b[0m\u001b[38;5;34m2,764\u001b[0m (10.80 KB)\n"
      ]
     },
     "metadata": {},
     "output_type": "display_data"
    },
    {
     "data": {
      "text/html": [
       "<pre style=\"white-space:pre;overflow-x:auto;line-height:normal;font-family:Menlo,'DejaVu Sans Mono',consolas,'Courier New',monospace\"><span style=\"font-weight: bold\"> Trainable params: </span><span style=\"color: #00af00; text-decoration-color: #00af00\">2,764</span> (10.80 KB)\n",
       "</pre>\n"
      ],
      "text/plain": [
       "\u001b[1m Trainable params: \u001b[0m\u001b[38;5;34m2,764\u001b[0m (10.80 KB)\n"
      ]
     },
     "metadata": {},
     "output_type": "display_data"
    },
    {
     "data": {
      "text/html": [
       "<pre style=\"white-space:pre;overflow-x:auto;line-height:normal;font-family:Menlo,'DejaVu Sans Mono',consolas,'Courier New',monospace\"><span style=\"font-weight: bold\"> Non-trainable params: </span><span style=\"color: #00af00; text-decoration-color: #00af00\">0</span> (0.00 B)\n",
       "</pre>\n"
      ],
      "text/plain": [
       "\u001b[1m Non-trainable params: \u001b[0m\u001b[38;5;34m0\u001b[0m (0.00 B)\n"
      ]
     },
     "metadata": {},
     "output_type": "display_data"
    },
    {
     "name": "stdout",
     "output_type": "stream",
     "text": [
      "Found 0 images belonging to 0 classes.\n"
     ]
    },
    {
     "ename": "NameError",
     "evalue": "name 'DATOS_DIR' is not defined",
     "output_type": "error",
     "traceback": [
      "\u001b[1;31m---------------------------------------------------------------------------\u001b[0m",
      "\u001b[1;31mNameError\u001b[0m                                 Traceback (most recent call last)",
      "Cell \u001b[1;32mIn[1], line 64\u001b[0m\n\u001b[0;32m     52\u001b[0m \u001b[38;5;66;03m# generador para entrenamiento a partir de la carpeta indicada en IMAGES_DIR\u001b[39;00m\n\u001b[0;32m     53\u001b[0m train_iter \u001b[38;5;241m=\u001b[39m data_train_generator\u001b[38;5;241m.\u001b[39mflow_from_directory(\n\u001b[0;32m     54\u001b[0m             target_size\u001b[38;5;241m=\u001b[39m(IMG_SIZE[\u001b[38;5;241m0\u001b[39m],IMG_SIZE[\u001b[38;5;241m1\u001b[39m]),\n\u001b[0;32m     55\u001b[0m             directory\u001b[38;5;241m=\u001b[39m\u001b[38;5;124m'\u001b[39m\u001b[38;5;124m../Datos/fingers/train\u001b[39m\u001b[38;5;124m'\u001b[39m,\n\u001b[1;32m   (...)\u001b[0m\n\u001b[0;32m     59\u001b[0m             subset\u001b[38;5;241m=\u001b[39m\u001b[38;5;124m'\u001b[39m\u001b[38;5;124mtraining\u001b[39m\u001b[38;5;124m'\u001b[39m   \u001b[38;5;66;03m# asigna subconjunto segun validation_split del ImageDataGenerator\u001b[39;00m\n\u001b[0;32m     60\u001b[0m             )\n\u001b[0;32m     62\u001b[0m valid_iter \u001b[38;5;241m=\u001b[39m data_train_generator\u001b[38;5;241m.\u001b[39mflow_from_directory(\n\u001b[0;32m     63\u001b[0m             target_size\u001b[38;5;241m=\u001b[39m(IMG_SIZE[\u001b[38;5;241m0\u001b[39m],IMG_SIZE[\u001b[38;5;241m1\u001b[39m]),\n\u001b[1;32m---> 64\u001b[0m             directory\u001b[38;5;241m=\u001b[39mDATOS_DIR\u001b[38;5;241m+\u001b[39m\u001b[38;5;124m'\u001b[39m\u001b[38;5;124m../Datos/fingers/train\u001b[39m\u001b[38;5;124m'\u001b[39m,\n\u001b[0;32m     65\u001b[0m             class_mode\u001b[38;5;241m=\u001b[39m\u001b[38;5;124m'\u001b[39m\u001b[38;5;124mcategorical\u001b[39m\u001b[38;5;124m'\u001b[39m,\n\u001b[0;32m     66\u001b[0m             batch_size\u001b[38;5;241m=\u001b[39mLOTES,\n\u001b[0;32m     67\u001b[0m             color_mode\u001b[38;5;241m=\u001b[39m\u001b[38;5;124m'\u001b[39m\u001b[38;5;124mgrayscale\u001b[39m\u001b[38;5;124m'\u001b[39m,\n\u001b[0;32m     68\u001b[0m             subset\u001b[38;5;241m=\u001b[39m\u001b[38;5;124m'\u001b[39m\u001b[38;5;124mvalidation\u001b[39m\u001b[38;5;124m'\u001b[39m \u001b[38;5;66;03m# asigna subconjunto segun validation_split del ImageDataGenerator\u001b[39;00m\n\u001b[0;32m     69\u001b[0m             )\n\u001b[0;32m     72\u001b[0m data_test_generator \u001b[38;5;241m=\u001b[39m ImageDataGenerator(\n\u001b[0;32m     73\u001b[0m     rotation_range\u001b[38;5;241m=\u001b[39m\u001b[38;5;241m45\u001b[39m,         \u001b[38;5;66;03m# rotacion\u001b[39;00m\n\u001b[0;32m     74\u001b[0m     \u001b[38;5;66;03m# zoom_range=0.15,         # zoom\u001b[39;00m\n\u001b[1;32m   (...)\u001b[0m\n\u001b[0;32m     80\u001b[0m     fill_mode\u001b[38;5;241m=\u001b[39m\u001b[38;5;124m\"\u001b[39m\u001b[38;5;124mnearest\u001b[39m\u001b[38;5;124m\"\u001b[39m\n\u001b[0;32m     81\u001b[0m     )\n\u001b[0;32m     83\u001b[0m test_iter \u001b[38;5;241m=\u001b[39m data_test_generator\u001b[38;5;241m.\u001b[39mflow_from_directory(\n\u001b[0;32m     84\u001b[0m             target_size\u001b[38;5;241m=\u001b[39m(IMG_SIZE[\u001b[38;5;241m0\u001b[39m],IMG_SIZE[\u001b[38;5;241m1\u001b[39m]),\n\u001b[0;32m     85\u001b[0m             directory\u001b[38;5;241m=\u001b[39mDATOS_DIR\u001b[38;5;241m+\u001b[39m\u001b[38;5;124m'\u001b[39m\u001b[38;5;124mFingers/test\u001b[39m\u001b[38;5;124m'\u001b[39m,\n\u001b[1;32m   (...)\u001b[0m\n\u001b[0;32m     88\u001b[0m             batch_size\u001b[38;5;241m=\u001b[39mLOTES\n\u001b[0;32m     89\u001b[0m             )\n",
      "\u001b[1;31mNameError\u001b[0m: name 'DATOS_DIR' is not defined"
     ]
    }
   ],
   "source": [
    "from tensorflow.keras.models import Sequential\n",
    "from tensorflow.keras.layers import Dense, Flatten, InputLayer, Conv2D, MaxPooling2D\n",
    "from tensorflow.keras.preprocessing.image import ImageDataGenerator\n",
    "from tensorflow.keras.callbacks import EarlyStopping\n",
    "import matplotlib.pyplot as plt\n",
    "\n",
    "# constantes para arquitectura, generación datos y entrenamiento/validacion\n",
    "EPOCAS = 30\n",
    "LOTES  = 32\n",
    "IMG_SIZE = (64, 64, 1)\n",
    "N_CLASSES = 6\n",
    "PACIENCIA = 10\n",
    "\n",
    "# %% construye le modelo\n",
    "\n",
    "def build_model(img_size, classes):\n",
    "    model = Sequential()\n",
    "\n",
    "    model.add(InputLayer(input_shape=img_size))\n",
    "    model.add(Conv2D(8, kernel_size=(3,3), strides=(2,2), activation='relu'))\n",
    "    model.add(MaxPooling2D(pool_size=(2,2)))\n",
    "    model.add(Conv2D(16, kernel_size=(3,3), strides=(2,2), activation='relu'))\n",
    "    model.add(MaxPooling2D(pool_size=(2,2)))\n",
    "    model.add(Flatten())\n",
    "    model.add(Dense(10, activation = 'tanh'))\n",
    "    model.add(Dense(classes, activation = 'softmax'))\n",
    "\n",
    "    model.summary()\n",
    "    return model\n",
    "\n",
    "# obtiene la arquitectura para el modelo y lo compila\n",
    "model = build_model(IMG_SIZE, N_CLASSES)\n",
    "model.compile('adam', loss = 'categorical_crossentropy', metrics = ['accuracy'])\n",
    "\n",
    "\n",
    "# %% Entrenamiento del modelo\n",
    "\n",
    "# construye un generador de imagenes para dividir en entrenamiento y validación\n",
    "# aplicando transformaciones para aumentar los datos\n",
    "data_train_generator = ImageDataGenerator(\n",
    "    validation_split=0.2,\n",
    "    rotation_range=45,         # rotacion\n",
    "    # zoom_range=0.15,         # zoom\n",
    "    # width_shift_range=0.1,   # desplazamiento horizontal\n",
    "    # height_shift_range=0.1,  # desplazamiento vertical\n",
    "    # shear_range=0.15,        #\n",
    "    # horizontal_flip=False,   # espejo horizontal\n",
    "    #vertical_flip=False,      # espejo vertical\n",
    "    fill_mode=\"nearest\"\n",
    "    )\n",
    "\n",
    "# generador para entrenamiento a partir de la carpeta indicada en IMAGES_DIR\n",
    "train_iter = data_train_generator.flow_from_directory(\n",
    "            target_size=(IMG_SIZE[0],IMG_SIZE[1]),\n",
    "            directory='../Datos/fingers/train',\n",
    "            class_mode='categorical',\n",
    "            batch_size=LOTES,\n",
    "            color_mode='grayscale',\n",
    "            subset='training'   # asigna subconjunto segun validation_split del ImageDataGenerator\n",
    "            )\n",
    "\n",
    "valid_iter = data_train_generator.flow_from_directory(\n",
    "            target_size=(IMG_SIZE[0],IMG_SIZE[1]),\n",
    "            directory='../Datos/fingers/train',\n",
    "            class_mode='categorical',\n",
    "            batch_size=LOTES,\n",
    "            color_mode='grayscale',\n",
    "            subset='validation' # asigna subconjunto segun validation_split del ImageDataGenerator\n",
    "            )\n",
    "\n",
    "\n",
    "data_test_generator = ImageDataGenerator(\n",
    "    rotation_range=45,         # rotacion\n",
    "    # zoom_range=0.15,         # zoom\n",
    "    # width_shift_range=0.1,   # desplazamiento horizontal\n",
    "    # height_shift_range=0.1,  # desplazamiento vertical\n",
    "    # shear_range=0.15,        #\n",
    "    # horizontal_flip=False,   # espejo horizontal\n",
    "    #vertical_flip=False,      # espejo vertical\n",
    "    fill_mode=\"nearest\"\n",
    "    )\n",
    "\n",
    "test_iter = data_test_generator.flow_from_directory(\n",
    "            target_size=(IMG_SIZE[0],IMG_SIZE[1]),\n",
    "            directory='../Datos/fingers/test',\n",
    "            class_mode='categorical',\n",
    "            color_mode='grayscale',\n",
    "            batch_size=LOTES\n",
    "            )\n",
    "\n",
    "# Callback para parada temprana\n",
    "early_stop = EarlyStopping(monitor='val_loss',\n",
    "                           patience=PACIENCIA,\n",
    "                           restore_best_weights=True)\n",
    "\n",
    "H = model.fit(\n",
    "    train_iter,\n",
    "    validation_data=valid_iter,\n",
    "    validation_steps= 10,\n",
    "    epochs=EPOCAS,\n",
    "    callbacks=[early_stop])\n",
    "\n",
    "# dibuja accuracy del progreso del entrenamiento\n",
    "fig, axs = plt.subplots(1,2, figsize=(20,6))\n",
    "plt.figure()\n",
    "axs[0].plot(H.history[\"loss\"], label=\"train_loss\")\n",
    "axs[0].plot(H.history[\"val_loss\"], label=\"val_loss\")\n",
    "\n",
    "axs[1].plot(H.history[\"accuracy\"], label=\"train_acc\")\n",
    "axs[1].plot(H.history[\"val_accuracy\"], label=\"val_acc\")\n",
    "\n",
    "# %% evalua el modelo para entrenamiento\n",
    "pred = model.evaluate(train_iter, verbose=0)\n",
    "print(\"\\nEfectividad del modelo con datos de entrenamiento: %6.2f%%\" % (pred[1]*100))\n",
    "\n",
    "# evalua el modelo con los datos de testeo\n",
    "pred = model.evaluate(valid_iter, verbose=0)\n",
    "print(\"Efectividad del modelo con datos de Validación...: %6.2f%%\" % (pred[1]*100))\n",
    "\n",
    "# evalua el modelo con los datos de testeo\n",
    "pred = model.evaluate(test_iter, verbose=0)\n",
    "print(\"Efectividad del modelo con datos de Prueba.......: %6.2f%%\" % (pred[1]*100))\n",
    "\n"
   ]
  },
  {
   "cell_type": "code",
   "execution_count": null,
   "metadata": {},
   "outputs": [],
   "source": []
  }
 ],
 "metadata": {
  "accelerator": "GPU",
  "colab": {
   "provenance": []
  },
  "gpuClass": "standard",
  "kernelspec": {
   "display_name": "Python 3 (ipykernel)",
   "language": "python",
   "name": "python3"
  },
  "language_info": {
   "codemirror_mode": {
    "name": "ipython",
    "version": 3
   },
   "file_extension": ".py",
   "mimetype": "text/x-python",
   "name": "python",
   "nbconvert_exporter": "python",
   "pygments_lexer": "ipython3",
   "version": "3.11.5"
  },
  "varInspector": {
   "cols": {
    "lenName": "16",
    "lenType": "16",
    "lenVar": "50"
   },
   "kernels_config": {
    "python": {
     "delete_cmd_postfix": "",
     "delete_cmd_prefix": "del ",
     "library": "var_list.py",
     "varRefreshCmd": "print(var_dic_list())"
    },
    "r": {
     "delete_cmd_postfix": ") ",
     "delete_cmd_prefix": "rm(",
     "library": "var_list.r",
     "varRefreshCmd": "cat(var_dic_list()) "
    }
   },
   "types_to_exclude": [
    "module",
    "function",
    "builtin_function_or_method",
    "instance",
    "_Feature"
   ],
   "window_display": false
  }
 },
 "nbformat": 4,
 "nbformat_minor": 1
}
