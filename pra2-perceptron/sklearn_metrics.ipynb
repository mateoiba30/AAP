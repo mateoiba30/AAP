{
 "cells": [
  {
   "cell_type": "code",
   "execution_count": 1,
   "id": "d0d02c2b",
   "metadata": {},
   "outputs": [],
   "source": [
    "from sklearn import  metrics"
   ]
  },
  {
   "cell_type": "code",
   "execution_count": 2,
   "id": "a25fc0d6",
   "metadata": {},
   "outputs": [],
   "source": [
    "Y_train = [0,1,2,3,0,1,2,3,0,1,2,3]\n",
    "Y_pred  = [0,2,1,3,0,1,2,0,0,1,2,3]\n"
   ]
  },
  {
   "cell_type": "code",
   "execution_count": 3,
   "id": "c3957a47",
   "metadata": {},
   "outputs": [
    {
     "name": "stdout",
     "output_type": "stream",
     "text": [
      "% accuracy = 0.750\n"
     ]
    }
   ],
   "source": [
    "aciertos = metrics.accuracy_score(Y_train,Y_pred)\n",
    "print(\"%% accuracy = %.3f\" % aciertos)"
   ]
  },
  {
   "cell_type": "code",
   "execution_count": 4,
   "id": "4f2154d6",
   "metadata": {},
   "outputs": [
    {
     "name": "stdout",
     "output_type": "stream",
     "text": [
      "Resultado de la clasificación:\n",
      "              precision    recall  f1-score   support\n",
      "\n",
      "           0       0.75      1.00      0.86         3\n",
      "           1       0.67      0.67      0.67         3\n",
      "           2       0.67      0.67      0.67         3\n",
      "           3       1.00      0.67      0.80         3\n",
      "\n",
      "    accuracy                           0.75        12\n",
      "   macro avg       0.77      0.75      0.75        12\n",
      "weighted avg       0.77      0.75      0.75        12\n",
      "\n"
     ]
    }
   ],
   "source": [
    "report = metrics.classification_report(Y_train,Y_pred)\n",
    "print(\"Resultado de la clasificación:\\n%s\" % report)"
   ]
  },
  {
   "cell_type": "code",
   "execution_count": 5,
   "id": "586e5133",
   "metadata": {},
   "outputs": [
    {
     "name": "stdout",
     "output_type": "stream",
     "text": [
      "Matriz de confusión:\n",
      "[[3 0 0 0]\n",
      " [0 2 1 0]\n",
      " [0 1 2 0]\n",
      " [1 0 0 2]]\n"
     ]
    }
   ],
   "source": [
    "MM = metrics.confusion_matrix(Y_train,Y_pred)\n",
    "print(\"Matriz de confusión:\\n%s\" % MM)"
   ]
  }
 ],
 "metadata": {
  "kernelspec": {
   "display_name": "Python 3 (ipykernel)",
   "language": "python",
   "name": "python3"
  },
  "language_info": {
   "codemirror_mode": {
    "name": "ipython",
    "version": 3
   },
   "file_extension": ".py",
   "mimetype": "text/x-python",
   "name": "python",
   "nbconvert_exporter": "python",
   "pygments_lexer": "ipython3",
   "version": "3.11.7"
  }
 },
 "nbformat": 4,
 "nbformat_minor": 5
}
