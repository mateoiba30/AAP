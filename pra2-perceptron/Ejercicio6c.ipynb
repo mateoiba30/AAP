{
 "cells": [
  {
   "cell_type": "markdown",
   "id": "09e96cd1",
   "metadata": {},
   "source": [
    "# NO separar el dataset en entrenamiento y testeo a menos que me lo pida la consigna"
   ]
  },
  {
   "cell_type": "code",
   "execution_count": 1,
   "id": "61a5eee6",
   "metadata": {},
   "outputs": [],
   "source": [
    "FUENTES_DIR  = '../Fuentes'\n",
    "DATOS_DIR   = '../Datos/' \n",
    "\n",
    "import sys\n",
    "sys.path.append(FUENTES_DIR)\n",
    "\n",
    "import pandas as pd\n",
    "import numpy as np\n",
    "from matplotlib import pylab as plt\n",
    "from sklearn import model_selection,preprocessing, metrics\n",
    "from ClassPerceptron import Perceptron"
   ]
  },
  {
   "cell_type": "code",
   "execution_count": 2,
   "id": "bcd673c3",
   "metadata": {},
   "outputs": [
    {
     "data": {
      "text/html": [
       "<div>\n",
       "<style scoped>\n",
       "    .dataframe tbody tr th:only-of-type {\n",
       "        vertical-align: middle;\n",
       "    }\n",
       "\n",
       "    .dataframe tbody tr th {\n",
       "        vertical-align: top;\n",
       "    }\n",
       "\n",
       "    .dataframe thead th {\n",
       "        text-align: right;\n",
       "    }\n",
       "</style>\n",
       "<table border=\"1\" class=\"dataframe\">\n",
       "  <thead>\n",
       "    <tr style=\"text-align: right;\">\n",
       "      <th></th>\n",
       "      <th>animal</th>\n",
       "      <th>Tiene_Pelo</th>\n",
       "      <th>Tiene_Plumas</th>\n",
       "      <th>Nace_de_huevo</th>\n",
       "      <th>Toma_Leche</th>\n",
       "      <th>Vuela</th>\n",
       "      <th>Acuatico</th>\n",
       "      <th>Depredador</th>\n",
       "      <th>Dentado</th>\n",
       "      <th>Vertebrado</th>\n",
       "      <th>Respira</th>\n",
       "      <th>Venenoso</th>\n",
       "      <th>Tiene_Aletas</th>\n",
       "      <th>Cant_Patas</th>\n",
       "      <th>Tiene_Cola</th>\n",
       "      <th>Domestico</th>\n",
       "      <th>Tamano_Gato</th>\n",
       "      <th>Clase</th>\n",
       "    </tr>\n",
       "  </thead>\n",
       "  <tbody>\n",
       "    <tr>\n",
       "      <th>0</th>\n",
       "      <td>oso_hormiguero</td>\n",
       "      <td>1</td>\n",
       "      <td>0</td>\n",
       "      <td>0</td>\n",
       "      <td>1</td>\n",
       "      <td>0</td>\n",
       "      <td>0</td>\n",
       "      <td>1</td>\n",
       "      <td>1</td>\n",
       "      <td>1</td>\n",
       "      <td>1</td>\n",
       "      <td>0</td>\n",
       "      <td>0</td>\n",
       "      <td>4</td>\n",
       "      <td>0</td>\n",
       "      <td>0</td>\n",
       "      <td>1</td>\n",
       "      <td>Mamifero</td>\n",
       "    </tr>\n",
       "    <tr>\n",
       "      <th>1</th>\n",
       "      <td>antilope</td>\n",
       "      <td>1</td>\n",
       "      <td>0</td>\n",
       "      <td>0</td>\n",
       "      <td>1</td>\n",
       "      <td>0</td>\n",
       "      <td>0</td>\n",
       "      <td>0</td>\n",
       "      <td>1</td>\n",
       "      <td>1</td>\n",
       "      <td>1</td>\n",
       "      <td>0</td>\n",
       "      <td>0</td>\n",
       "      <td>4</td>\n",
       "      <td>1</td>\n",
       "      <td>0</td>\n",
       "      <td>1</td>\n",
       "      <td>Mamifero</td>\n",
       "    </tr>\n",
       "    <tr>\n",
       "      <th>2</th>\n",
       "      <td>robalo</td>\n",
       "      <td>0</td>\n",
       "      <td>0</td>\n",
       "      <td>1</td>\n",
       "      <td>0</td>\n",
       "      <td>0</td>\n",
       "      <td>1</td>\n",
       "      <td>1</td>\n",
       "      <td>1</td>\n",
       "      <td>1</td>\n",
       "      <td>0</td>\n",
       "      <td>0</td>\n",
       "      <td>1</td>\n",
       "      <td>0</td>\n",
       "      <td>1</td>\n",
       "      <td>0</td>\n",
       "      <td>0</td>\n",
       "      <td>Pez</td>\n",
       "    </tr>\n",
       "    <tr>\n",
       "      <th>3</th>\n",
       "      <td>oso</td>\n",
       "      <td>1</td>\n",
       "      <td>0</td>\n",
       "      <td>0</td>\n",
       "      <td>1</td>\n",
       "      <td>0</td>\n",
       "      <td>0</td>\n",
       "      <td>1</td>\n",
       "      <td>1</td>\n",
       "      <td>1</td>\n",
       "      <td>1</td>\n",
       "      <td>0</td>\n",
       "      <td>0</td>\n",
       "      <td>4</td>\n",
       "      <td>0</td>\n",
       "      <td>0</td>\n",
       "      <td>1</td>\n",
       "      <td>Mamifero</td>\n",
       "    </tr>\n",
       "    <tr>\n",
       "      <th>4</th>\n",
       "      <td>jabali</td>\n",
       "      <td>1</td>\n",
       "      <td>0</td>\n",
       "      <td>0</td>\n",
       "      <td>1</td>\n",
       "      <td>0</td>\n",
       "      <td>0</td>\n",
       "      <td>1</td>\n",
       "      <td>1</td>\n",
       "      <td>1</td>\n",
       "      <td>1</td>\n",
       "      <td>0</td>\n",
       "      <td>0</td>\n",
       "      <td>4</td>\n",
       "      <td>1</td>\n",
       "      <td>0</td>\n",
       "      <td>1</td>\n",
       "      <td>Mamifero</td>\n",
       "    </tr>\n",
       "  </tbody>\n",
       "</table>\n",
       "</div>"
      ],
      "text/plain": [
       "           animal  Tiene_Pelo  Tiene_Plumas  Nace_de_huevo  Toma_Leche  Vuela  \\\n",
       "0  oso_hormiguero           1             0              0           1      0   \n",
       "1        antilope           1             0              0           1      0   \n",
       "2          robalo           0             0              1           0      0   \n",
       "3             oso           1             0              0           1      0   \n",
       "4          jabali           1             0              0           1      0   \n",
       "\n",
       "   Acuatico  Depredador  Dentado  Vertebrado  Respira  Venenoso  Tiene_Aletas  \\\n",
       "0         0           1        1           1        1         0             0   \n",
       "1         0           0        1           1        1         0             0   \n",
       "2         1           1        1           1        0         0             1   \n",
       "3         0           1        1           1        1         0             0   \n",
       "4         0           1        1           1        1         0             0   \n",
       "\n",
       "   Cant_Patas  Tiene_Cola  Domestico  Tamano_Gato     Clase  \n",
       "0           4           0          0            1  Mamifero  \n",
       "1           4           1          0            1  Mamifero  \n",
       "2           0           1          0            0       Pez  \n",
       "3           4           0          0            1  Mamifero  \n",
       "4           4           1          0            1  Mamifero  "
      ]
     },
     "execution_count": 2,
     "metadata": {},
     "output_type": "execute_result"
    }
   ],
   "source": [
    "datos = pd.read_csv(DATOS_DIR + \"zoo.csv\", encoding='latin1')\n",
    "\n",
    "datos.head()\n",
    "#len(datos)"
   ]
  },
  {
   "cell_type": "code",
   "execution_count": 3,
   "id": "d367ecb4",
   "metadata": {},
   "outputs": [
    {
     "data": {
      "text/plain": [
       "100"
      ]
     },
     "execution_count": 3,
     "metadata": {},
     "output_type": "execute_result"
    }
   ],
   "source": [
    "datos.Clase.unique()\n",
    "len(datos.animal.unique())"
   ]
  },
  {
   "cell_type": "code",
   "execution_count": 4,
   "id": "9658dcf1",
   "metadata": {},
   "outputs": [
    {
     "data": {
      "image/png": "[encoded data removed]",
      "text/plain": [
       "<Figure size 640x480 with 1 Axes>"
      ]
     },
     "metadata": {},
     "output_type": "display_data"
    }
   ],
   "source": [
    "import seaborn as sns\n",
    "import matplotlib.pyplot as plt\n",
    "\n",
    "sns.countplot(x=\"Clase\", data=datos)\n",
    "plt.show()"
   ]
  },
  {
   "cell_type": "markdown",
   "id": "6c026838",
   "metadata": {},
   "source": [
    "## a)\n",
    "Yo creo que la dificultad está en que solo las aves y mamíferos tienen más de 15 datos, por lo cual es probable que el modelo solo sea bueno prediciendo mamíferos"
   ]
  },
  {
   "cell_type": "markdown",
   "id": "dbe54062",
   "metadata": {},
   "source": [
    "# b)\n",
    "### A continuación vamos a entrenar el modelo sin dividir el dataset en train y test, simplemente porque así lo pide la consigna"
   ]
  },
  {
   "cell_type": "code",
   "execution_count": 5,
   "id": "26c23953",
   "metadata": {},
   "outputs": [
    {
     "data": {
      "text/html": [
       "<div>\n",
       "<style scoped>\n",
       "    .dataframe tbody tr th:only-of-type {\n",
       "        vertical-align: middle;\n",
       "    }\n",
       "\n",
       "    .dataframe tbody tr th {\n",
       "        vertical-align: top;\n",
       "    }\n",
       "\n",
       "    .dataframe thead th {\n",
       "        text-align: right;\n",
       "    }\n",
       "</style>\n",
       "<table border=\"1\" class=\"dataframe\">\n",
       "  <thead>\n",
       "    <tr style=\"text-align: right;\">\n",
       "      <th></th>\n",
       "      <th>animal</th>\n",
       "      <th>Tiene_Pelo</th>\n",
       "      <th>Tiene_Plumas</th>\n",
       "      <th>Nace_de_huevo</th>\n",
       "      <th>Toma_Leche</th>\n",
       "      <th>Vuela</th>\n",
       "      <th>Acuatico</th>\n",
       "      <th>Depredador</th>\n",
       "      <th>Dentado</th>\n",
       "      <th>Vertebrado</th>\n",
       "      <th>Respira</th>\n",
       "      <th>Venenoso</th>\n",
       "      <th>Tiene_Aletas</th>\n",
       "      <th>Cant_Patas</th>\n",
       "      <th>Tiene_Cola</th>\n",
       "      <th>Domestico</th>\n",
       "      <th>Tamano_Gato</th>\n",
       "      <th>Clase</th>\n",
       "    </tr>\n",
       "  </thead>\n",
       "  <tbody>\n",
       "    <tr>\n",
       "      <th>0</th>\n",
       "      <td>oso_hormiguero</td>\n",
       "      <td>1</td>\n",
       "      <td>0</td>\n",
       "      <td>0</td>\n",
       "      <td>1</td>\n",
       "      <td>0</td>\n",
       "      <td>0</td>\n",
       "      <td>1</td>\n",
       "      <td>1</td>\n",
       "      <td>1</td>\n",
       "      <td>1</td>\n",
       "      <td>0</td>\n",
       "      <td>0</td>\n",
       "      <td>4</td>\n",
       "      <td>0</td>\n",
       "      <td>0</td>\n",
       "      <td>1</td>\n",
       "      <td>0</td>\n",
       "    </tr>\n",
       "    <tr>\n",
       "      <th>1</th>\n",
       "      <td>antilope</td>\n",
       "      <td>1</td>\n",
       "      <td>0</td>\n",
       "      <td>0</td>\n",
       "      <td>1</td>\n",
       "      <td>0</td>\n",
       "      <td>0</td>\n",
       "      <td>0</td>\n",
       "      <td>1</td>\n",
       "      <td>1</td>\n",
       "      <td>1</td>\n",
       "      <td>0</td>\n",
       "      <td>0</td>\n",
       "      <td>4</td>\n",
       "      <td>1</td>\n",
       "      <td>0</td>\n",
       "      <td>1</td>\n",
       "      <td>0</td>\n",
       "    </tr>\n",
       "    <tr>\n",
       "      <th>2</th>\n",
       "      <td>robalo</td>\n",
       "      <td>0</td>\n",
       "      <td>0</td>\n",
       "      <td>1</td>\n",
       "      <td>0</td>\n",
       "      <td>0</td>\n",
       "      <td>1</td>\n",
       "      <td>1</td>\n",
       "      <td>1</td>\n",
       "      <td>1</td>\n",
       "      <td>0</td>\n",
       "      <td>0</td>\n",
       "      <td>1</td>\n",
       "      <td>0</td>\n",
       "      <td>1</td>\n",
       "      <td>0</td>\n",
       "      <td>0</td>\n",
       "      <td>0</td>\n",
       "    </tr>\n",
       "    <tr>\n",
       "      <th>3</th>\n",
       "      <td>oso</td>\n",
       "      <td>1</td>\n",
       "      <td>0</td>\n",
       "      <td>0</td>\n",
       "      <td>1</td>\n",
       "      <td>0</td>\n",
       "      <td>0</td>\n",
       "      <td>1</td>\n",
       "      <td>1</td>\n",
       "      <td>1</td>\n",
       "      <td>1</td>\n",
       "      <td>0</td>\n",
       "      <td>0</td>\n",
       "      <td>4</td>\n",
       "      <td>0</td>\n",
       "      <td>0</td>\n",
       "      <td>1</td>\n",
       "      <td>0</td>\n",
       "    </tr>\n",
       "    <tr>\n",
       "      <th>4</th>\n",
       "      <td>jabali</td>\n",
       "      <td>1</td>\n",
       "      <td>0</td>\n",
       "      <td>0</td>\n",
       "      <td>1</td>\n",
       "      <td>0</td>\n",
       "      <td>0</td>\n",
       "      <td>1</td>\n",
       "      <td>1</td>\n",
       "      <td>1</td>\n",
       "      <td>1</td>\n",
       "      <td>0</td>\n",
       "      <td>0</td>\n",
       "      <td>4</td>\n",
       "      <td>1</td>\n",
       "      <td>0</td>\n",
       "      <td>1</td>\n",
       "      <td>0</td>\n",
       "    </tr>\n",
       "  </tbody>\n",
       "</table>\n",
       "</div>"
      ],
      "text/plain": [
       "           animal  Tiene_Pelo  Tiene_Plumas  Nace_de_huevo  Toma_Leche  Vuela  \\\n",
       "0  oso_hormiguero           1             0              0           1      0   \n",
       "1        antilope           1             0              0           1      0   \n",
       "2          robalo           0             0              1           0      0   \n",
       "3             oso           1             0              0           1      0   \n",
       "4          jabali           1             0              0           1      0   \n",
       "\n",
       "   Acuatico  Depredador  Dentado  Vertebrado  Respira  Venenoso  Tiene_Aletas  \\\n",
       "0         0           1        1           1        1         0             0   \n",
       "1         0           0        1           1        1         0             0   \n",
       "2         1           1        1           1        0         0             1   \n",
       "3         0           1        1           1        1         0             0   \n",
       "4         0           1        1           1        1         0             0   \n",
       "\n",
       "   Cant_Patas  Tiene_Cola  Domestico  Tamano_Gato  Clase  \n",
       "0           4           0          0            1      0  \n",
       "1           4           1          0            1      0  \n",
       "2           0           1          0            0      0  \n",
       "3           4           0          0            1      0  \n",
       "4           4           1          0            1      0  "
      ]
     },
     "execution_count": 5,
     "metadata": {},
     "output_type": "execute_result"
    }
   ],
   "source": [
    "mapeo = {\n",
    "    \"Clase\":{'Mamifero':0, 'Pez':0, 'Ave':0, 'Invertebrado':0, 'Insecto':0, 'Anfibio':0, 'Reptil':1}\n",
    "}\n",
    "datos.replace(mapeo,inplace=True)\n",
    "datos.head()"
   ]
  },
  {
   "cell_type": "code",
   "execution_count": 6,
   "id": "ee6fc286",
   "metadata": {},
   "outputs": [
    {
     "name": "stdout",
     "output_type": "stream",
     "text": [
      "101\n",
      "101\n"
     ]
    }
   ],
   "source": [
    "X = np.array(datos.iloc[:,1:-1])\n",
    "T = np.array(datos['Clase'])\n",
    "\n",
    "print(len(X))\n",
    "print(len(T))"
   ]
  },
  {
   "cell_type": "code",
   "execution_count": 7,
   "id": "32f3caf8",
   "metadata": {},
   "outputs": [
    {
     "name": "stdout",
     "output_type": "stream",
     "text": [
      "[[ 1.16139451 -0.49690399 -1.18522652 ... -1.69841555 -0.38435306\n",
      "   1.13818037]\n",
      " [ 1.16139451 -0.49690399 -1.18522652 ...  0.58878406 -0.38435306\n",
      "   1.13818037]\n",
      " [-0.86103386 -0.49690399  0.84372057 ...  0.58878406 -0.38435306\n",
      "  -0.87859537]\n",
      " ...\n",
      " [ 1.16139451 -0.49690399 -1.18522652 ...  0.58878406 -0.38435306\n",
      "   1.13818037]\n",
      " [-0.86103386 -0.49690399  0.84372057 ... -1.69841555 -0.38435306\n",
      "  -0.87859537]\n",
      " [-0.86103386  2.01246118  0.84372057 ...  0.58878406 -0.38435306\n",
      "  -0.87859537]]\n"
     ]
    }
   ],
   "source": [
    "normalizador= preprocessing.StandardScaler() #media y desvío\n",
    "X = normalizador.fit_transform(X)\n",
    "\n",
    "print(X)"
   ]
  },
  {
   "cell_type": "code",
   "execution_count": 8,
   "id": "5f805473",
   "metadata": {},
   "outputs": [
    {
     "data": {
      "image/png": "[encoded data removed]",
      "text/plain": [
       "<Figure size 640x480 with 1 Axes>"
      ]
     },
     "metadata": {},
     "output_type": "display_data"
    }
   ],
   "source": [
    "ppn = Perceptron(alpha=0.05, n_iter=200, random_state=None) #random_state=None significa que no utiliza una semilla para la generación de números aleatorios\n",
    "ppn.fit(X, T)\n",
    "\n",
    "plt.plot(range(1, len(ppn.errors_) + 1), ppn.errors_, marker='*')\n",
    "plt.title('Datos de entrenamiento')\n",
    "plt.xlabel('Iteraciones')\n",
    "plt.ylabel('Cantidad de actualizaciones')\n",
    "plt.show()"
   ]
  },
  {
   "cell_type": "code",
   "execution_count": 9,
   "id": "e611f3de",
   "metadata": {},
   "outputs": [
    {
     "name": "stdout",
     "output_type": "stream",
     "text": [
      "Dimensiones de Y_test: (101,)\n",
      "Dimensiones de T_test: (101,)\n",
      "cantidad de tests:  101\n",
      "aciertos:  101\n",
      "% de aciertos = 100.00 %\n"
     ]
    }
   ],
   "source": [
    "Y_test = 0 * len(X) #necesario inicializar el array en 0?\n",
    "Y_test = ppn.predict(X)\n",
    "nAciertos = np.sum(Y_test == T)\n",
    "print(\"Dimensiones de Y_test:\", Y_test.shape)\n",
    "print(\"Dimensiones de T_test:\", T.shape)\n",
    "print(\"cantidad de tests: \", X.shape[0])\n",
    "print(\"aciertos: \", nAciertos)\n",
    "print(\"%% de aciertos = %.2f %%\" % (100 * nAciertos / X.shape[0]))"
   ]
  },
  {
   "cell_type": "code",
   "execution_count": 10,
   "id": "06b3ef04",
   "metadata": {},
   "outputs": [
    {
     "name": "stdout",
     "output_type": "stream",
     "text": [
      "[0 0 0 0 0 0 0 0 0 0 0 0 0 0 0 0 0 0 0 0 0 0 0 0 0 0 0 0 0 0 0 0 0 0 0 0 0\n",
      " 0 0 0 0 0 0 0 0 0 0 0 0 0 0 0 0 0 0 0 0 0 0 0 0 0 1 0 0 0 0 0 0 0 0 0 0 0\n",
      " 0 0 1 0 0 0 1 0 0 0 0 0 0 0 0 0 1 1 0 0 0 0 0 0 0 0 0]\n"
     ]
    }
   ],
   "source": [
    "print(Y_test)"
   ]
  },
  {
   "cell_type": "code",
   "execution_count": 11,
   "id": "295cf72f",
   "metadata": {},
   "outputs": [
    {
     "ename": "NameError",
     "evalue": "name 'T_test' is not defined",
     "output_type": "error",
     "traceback": [
      "\u001b[1;31m---------------------------------------------------------------------------\u001b[0m",
      "\u001b[1;31mNameError\u001b[0m                                 Traceback (most recent call last)",
      "Cell \u001b[1;32mIn[11], line 1\u001b[0m\n\u001b[1;32m----> 1\u001b[0m \u001b[38;5;28mprint\u001b[39m(T_test)\n",
      "\u001b[1;31mNameError\u001b[0m: name 'T_test' is not defined"
     ]
    }
   ],
   "source": [
    "print(T_test)"
   ]
  },
  {
   "cell_type": "code",
   "execution_count": null,
   "id": "8e13ff61",
   "metadata": {},
   "outputs": [],
   "source": [
    "print(ppn.w_)"
   ]
  },
  {
   "cell_type": "markdown",
   "id": "9437b3a5",
   "metadata": {},
   "source": [
    "# c)\n",
    "El perceptrón detecta reptiles de la sigueinte forma:\n",
    "Notar que hay ciertos errores, en parte por tener pocos datos de entrenamiento"
   ]
  },
  {
   "cell_type": "code",
   "execution_count": null,
   "id": "6e698244",
   "metadata": {},
   "outputs": [],
   "source": [
    "nro_columna = 1 #la primer columna del df no fue usada\n",
    "pesos_por_columna = {}\n",
    "\n",
    "for peso in ppn.w_:\n",
    "    nombre_columna = datos.columns[nro_columna]\n",
    "    if peso < 0:\n",
    "        nombre_columna = \"no \"+nombre_columna\n",
    "    pesos_por_columna.update({nombre_columna:abs(peso)})\n",
    "    nro_columna += 1\n",
    "    #print(nombre_columna, \":\",peso)\n",
    "    \n",
    "pesos_ordenados = dict(sorted(pesos_por_columna.items(), key=lambda item: item[1], reverse=True))\n",
    "\n",
    "print(pesos_ordenados.keys())"
   ]
  }
 ],
 "metadata": {
  "kernelspec": {
   "display_name": "Python 3 (ipykernel)",
   "language": "python",
   "name": "python3"
  },
  "language_info": {
   "codemirror_mode": {
    "name": "ipython",
    "version": 3
   },
   "file_extension": ".py",
   "mimetype": "text/x-python",
   "name": "python",
   "nbconvert_exporter": "python",
   "pygments_lexer": "ipython3",
   "version": "3.11.5"
  }
 },
 "nbformat": 4,
 "nbformat_minor": 5
}
