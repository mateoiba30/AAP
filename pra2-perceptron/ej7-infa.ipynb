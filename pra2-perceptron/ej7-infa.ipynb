{
 "cells": [
  {
   "cell_type": "code",
   "execution_count": 1,
   "id": "d073ac63",
   "metadata": {},
   "outputs": [
    {
     "name": "stdout",
     "output_type": "stream",
     "text": [
      "91\n",
      "x =  1.0000167940625828\n",
      "y =  11.000027173364069\n",
      "valor funcion con los 2 valores =  2.9994565318059188\n"
     ]
    }
   ],
   "source": [
    "#4)\n",
    "#Funcion principal\n",
    "x = -7\n",
    "y = 150\n",
    "def f(x,y):\n",
    "    return (y*2-2*x*y+2*x*2+18*x-20*y+201) \n",
    "#En este caso apuntamos al 100 (ya que si z es = 100 obtuvimos el minimo)\n",
    "\n",
    "iteracion = 0\n",
    "MAX_ITE = 100\n",
    "learning_rate = 0.2\n",
    "cota = 10e-5\n",
    "\n",
    "valor_funcion_ant = 0\n",
    "valor_funcion_act = 99999999\n",
    "valores_z = [f(x,y)]\n",
    "\n",
    "while (iteracion < MAX_ITE) and (abs(valor_funcion_act-valor_funcion_ant) > cota):\n",
    "    df_x_temp = -2*y + 4*x + 18\n",
    "    df_y_temp = 2*y- 2*x -20\n",
    "    valor_funcion_ant = f(x,y)\n",
    "    x = x - (learning_rate * df_x_temp)\n",
    "    y = y - (learning_rate * df_y_temp)\n",
    "    valor_funcion_act = f(x,y)\n",
    "    valores_z.append(valor_funcion_act)\n",
    "    iteracion +=1\n",
    "\n",
    "print(iteracion)\n",
    "print(\"x = \" ,x)\n",
    "print(\"y = \",y)\n",
    "print(\"valor funcion con los 2 valores = \",f(x,y))"
   ]
  },
  {
   "cell_type": "code",
   "execution_count": null,
   "id": "5b96642c",
   "metadata": {},
   "outputs": [],
   "source": []
  }
 ],
 "metadata": {
  "kernelspec": {
   "display_name": "Python 3 (ipykernel)",
   "language": "python",
   "name": "python3"
  },
  "language_info": {
   "codemirror_mode": {
    "name": "ipython",
    "version": 3
   },
   "file_extension": ".py",
   "mimetype": "text/x-python",
   "name": "python",
   "nbconvert_exporter": "python",
   "pygments_lexer": "ipython3",
   "version": "3.11.5"
  }
 },
 "nbformat": 4,
 "nbformat_minor": 5
}
