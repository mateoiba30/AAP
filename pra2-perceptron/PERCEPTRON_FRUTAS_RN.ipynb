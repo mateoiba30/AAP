{
 "cells": [
  {
   "cell_type": "code",
   "execution_count": 1,
   "id": "e3fbae62",
   "metadata": {},
   "outputs": [],
   "source": [
    "ColabNotebook = 'google.colab' in str(get_ipython())\n",
    "\n",
    "if ColabNotebook:\n",
    "    # monta G-drive en entorno COLAB\n",
    "    from google.colab import drive\n",
    "    drive.mount('/content/drive/')\n",
    "\n",
    "    # carpeta donde se encuentran archivos .py auxiliares\n",
    "    FUENTES_DIR = '/content/drive/MyDrive/Colab Notebooks/FUENTES/'\n",
    "    DATOS_DIR = '/content/drive/MyDrive/Colab Notebooks/DATOS/'      # carpeta donde se encuentran los datasets\n",
    "else:\n",
    "    # configuración para notebook con instalación LOCAL\n",
    "    FUENTES_DIR = '../Fuentes'         # carpeta donde se encuentran archivos .py auxiliares\n",
    "    DATOS_DIR   = '../Datos/' # carpeta donde se encuentran los datasets\n",
    "\n",
    "# agrega ruta de busqueda donde tenemos archivos .py\n",
    "import sys\n",
    "sys.path.append(FUENTES_DIR)"
   ]
  },
  {
   "cell_type": "code",
   "execution_count": 2,
   "id": "f3fbf3c3",
   "metadata": {},
   "outputs": [],
   "source": [
    "%matplotlib inline\n",
    "import pandas as pd\n",
    "import numpy as np\n",
    "from sklearn import preprocessing\n",
    "\n",
    "from matplotlib import pylab as plt\n",
    "from IPython import display\n",
    "\n",
    "# Ajustar el tamaño predeterminado de las figuras\n",
    "plt.rcParams['figure.figsize'] = [4,3] \n",
    "\n",
    "from grafica import *\n",
    "from ClassPerceptron import Perceptron"
   ]
  },
  {
   "cell_type": "code",
   "execution_count": 3,
   "id": "b6b4b05f",
   "metadata": {},
   "outputs": [],
   "source": [
    "# Leer FrutasTrain.csv\n",
    "datos = pd.read_csv(DATOS_DIR + \"FrutasTrain.csv\")\n",
    "nColum = list(datos.columns.values)\n",
    "\n",
    "#--- DATOS DE ENTRENAMIENTO ---\n",
    "X = np.array(datos.iloc[:,0:2])\n",
    "normalizarEntrada = 1\n",
    "\n",
    "if normalizarEntrada:\n",
    "    # Escala los valores entre 0 y 1\n",
    "    normalizador = preprocessing.StandardScaler()\n",
    "    X = normalizador.fit_transform(X)\n",
    "\n",
    "#--- SALIDA BINARIA ---\n",
    "T = datos['Clase'] == 'Melon'  #es boolean\n",
    "T = np.array(T * 1)  #lo convierte en binario"
   ]
  },
  {
   "cell_type": "code",
   "execution_count": 4,
   "id": "fe0ccd78",
   "metadata": {},
   "outputs": [
    {
     "data": {
      "text/html": [
       "<div>\n",
       "<style scoped>\n",
       "    .dataframe tbody tr th:only-of-type {\n",
       "        vertical-align: middle;\n",
       "    }\n",
       "\n",
       "    .dataframe tbody tr th {\n",
       "        vertical-align: top;\n",
       "    }\n",
       "\n",
       "    .dataframe thead th {\n",
       "        text-align: right;\n",
       "    }\n",
       "</style>\n",
       "<table border=\"1\" class=\"dataframe\">\n",
       "  <thead>\n",
       "    <tr style=\"text-align: right;\">\n",
       "      <th></th>\n",
       "      <th>Diametro</th>\n",
       "      <th>Color</th>\n",
       "      <th>Clase</th>\n",
       "    </tr>\n",
       "  </thead>\n",
       "  <tbody>\n",
       "    <tr>\n",
       "      <th>0</th>\n",
       "      <td>10</td>\n",
       "      <td>200</td>\n",
       "      <td>Naranja</td>\n",
       "    </tr>\n",
       "    <tr>\n",
       "      <th>1</th>\n",
       "      <td>20</td>\n",
       "      <td>30</td>\n",
       "      <td>Melon</td>\n",
       "    </tr>\n",
       "    <tr>\n",
       "      <th>2</th>\n",
       "      <td>8</td>\n",
       "      <td>150</td>\n",
       "      <td>Naranja</td>\n",
       "    </tr>\n",
       "    <tr>\n",
       "      <th>3</th>\n",
       "      <td>26</td>\n",
       "      <td>30</td>\n",
       "      <td>Melon</td>\n",
       "    </tr>\n",
       "    <tr>\n",
       "      <th>4</th>\n",
       "      <td>7</td>\n",
       "      <td>170</td>\n",
       "      <td>Naranja</td>\n",
       "    </tr>\n",
       "    <tr>\n",
       "      <th>5</th>\n",
       "      <td>24</td>\n",
       "      <td>32</td>\n",
       "      <td>Melon</td>\n",
       "    </tr>\n",
       "    <tr>\n",
       "      <th>6</th>\n",
       "      <td>20</td>\n",
       "      <td>170</td>\n",
       "      <td>Naranja</td>\n",
       "    </tr>\n",
       "    <tr>\n",
       "      <th>7</th>\n",
       "      <td>21</td>\n",
       "      <td>160</td>\n",
       "      <td>Melon</td>\n",
       "    </tr>\n",
       "    <tr>\n",
       "      <th>8</th>\n",
       "      <td>21</td>\n",
       "      <td>180</td>\n",
       "      <td>Naranja</td>\n",
       "    </tr>\n",
       "    <tr>\n",
       "      <th>9</th>\n",
       "      <td>23</td>\n",
       "      <td>160</td>\n",
       "      <td>Melon</td>\n",
       "    </tr>\n",
       "    <tr>\n",
       "      <th>10</th>\n",
       "      <td>22</td>\n",
       "      <td>190</td>\n",
       "      <td>Naranja</td>\n",
       "    </tr>\n",
       "    <tr>\n",
       "      <th>11</th>\n",
       "      <td>23</td>\n",
       "      <td>190</td>\n",
       "      <td>Melon</td>\n",
       "    </tr>\n",
       "    <tr>\n",
       "      <th>12</th>\n",
       "      <td>24</td>\n",
       "      <td>250</td>\n",
       "      <td>Naranja</td>\n",
       "    </tr>\n",
       "    <tr>\n",
       "      <th>13</th>\n",
       "      <td>15</td>\n",
       "      <td>31</td>\n",
       "      <td>Melon</td>\n",
       "    </tr>\n",
       "    <tr>\n",
       "      <th>14</th>\n",
       "      <td>15</td>\n",
       "      <td>250</td>\n",
       "      <td>Naranja</td>\n",
       "    </tr>\n",
       "    <tr>\n",
       "      <th>15</th>\n",
       "      <td>19</td>\n",
       "      <td>31</td>\n",
       "      <td>Melon</td>\n",
       "    </tr>\n",
       "  </tbody>\n",
       "</table>\n",
       "</div>"
      ],
      "text/plain": [
       "    Diametro  Color    Clase\n",
       "0         10    200  Naranja\n",
       "1         20     30    Melon\n",
       "2          8    150  Naranja\n",
       "3         26     30    Melon\n",
       "4          7    170  Naranja\n",
       "5         24     32    Melon\n",
       "6         20    170  Naranja\n",
       "7         21    160    Melon\n",
       "8         21    180  Naranja\n",
       "9         23    160    Melon\n",
       "10        22    190  Naranja\n",
       "11        23    190    Melon\n",
       "12        24    250  Naranja\n",
       "13        15     31    Melon\n",
       "14        15    250  Naranja\n",
       "15        19     31    Melon"
      ]
     },
     "execution_count": 4,
     "metadata": {},
     "output_type": "execute_result"
    }
   ],
   "source": [
    "datos"
   ]
  },
  {
   "cell_type": "code",
   "execution_count": 5,
   "id": "44132efd",
   "metadata": {},
   "outputs": [
    {
     "data": {
      "text/plain": [
       "array([[-1.50462909,  0.78461053],\n",
       "       [ 0.23986841, -1.40200899],\n",
       "       [-1.85352859,  0.14148715],\n",
       "       [ 1.2865669 , -1.40200899],\n",
       "       [-2.02797834,  0.3987365 ],\n",
       "       [ 0.9376674 , -1.37628405],\n",
       "       [ 0.23986841,  0.3987365 ],\n",
       "       [ 0.41431816,  0.27011182],\n",
       "       [ 0.41431816,  0.52736118],\n",
       "       [ 0.76321765,  0.27011182],\n",
       "       [ 0.58876791,  0.65598586],\n",
       "       [ 0.76321765,  0.65598586],\n",
       "       [ 0.9376674 ,  1.42773392],\n",
       "       [-0.63238034, -1.38914652],\n",
       "       [-0.63238034,  1.42773392],\n",
       "       [ 0.06541866, -1.38914652]])"
      ]
     },
     "execution_count": 5,
     "metadata": {},
     "output_type": "execute_result"
    }
   ],
   "source": [
    "X"
   ]
  },
  {
   "cell_type": "code",
   "execution_count": 6,
   "id": "4626dfc3",
   "metadata": {
    "scrolled": true
   },
   "outputs": [
    {
     "data": {
      "image/png": "[encoded data removed]",
      "text/plain": [
       "<Figure size 400x300 with 1 Axes>"
      ]
     },
     "metadata": {},
     "output_type": "display_data"
    },
    {
     "data": {
      "text/plain": [
       "<ClassPerceptron.Perceptron at 0x215dbbe6c50>"
      ]
     },
     "execution_count": 6,
     "metadata": {},
     "output_type": "execute_result"
    },
    {
     "data": {
      "image/png": "[encoded data removed]",
      "text/plain": [
       "<Figure size 400x300 with 1 Axes>"
      ]
     },
     "metadata": {},
     "output_type": "display_data"
    }
   ],
   "source": [
    "ppn = Perceptron(alpha=0.001, n_iter=100, draw=1, title=nColum[0:2], random_state=None)\n",
    "ppn.fit(X, T)"
   ]
  },
  {
   "cell_type": "code",
   "execution_count": 7,
   "id": "bf51693f",
   "metadata": {},
   "outputs": [
    {
     "data": {
      "image/png": "[encoded data removed]",
      "text/plain": [
       "<Figure size 400x300 with 1 Axes>"
      ]
     },
     "metadata": {},
     "output_type": "display_data"
    }
   ],
   "source": [
    "plt.plot(range(1, len(ppn.errors_) + 1), ppn.errors_, marker='o')\n",
    "plt.xlabel('Iteraciones')\n",
    "plt.ylabel('Cantidad de actualizaciones')\n",
    "plt.show()"
   ]
  },
  {
   "cell_type": "code",
   "execution_count": 8,
   "id": "28005582",
   "metadata": {},
   "outputs": [
    {
     "data": {
      "image/png": "[encoded data removed]",
      "text/plain": [
       "<Figure size 400x300 with 1 Axes>"
      ]
     },
     "metadata": {},
     "output_type": "display_data"
    }
   ],
   "source": [
    "from PlotRegiones import plot_decision_regions\n",
    "\n",
    "plot_decision_regions(X, T, classifier=ppn)\n",
    "plt.xlabel(ppn.title[0])\n",
    "plt.ylabel(ppn.title[1])\n",
    "plt.legend(loc='lower left')\n",
    "plt.show()"
   ]
  },
  {
   "cell_type": "code",
   "execution_count": 9,
   "id": "ef97d2be",
   "metadata": {},
   "outputs": [
    {
     "name": "stdout",
     "output_type": "stream",
     "text": [
      "Y =  [0 1 0 1 0 1 0 1 0 1 0 1 0 1 0 1]\n",
      "T =  [0 1 0 1 0 1 0 1 0 1 0 1 0 1 0 1]\n",
      "aciertos =  16\n",
      "% de aciertos = 100.00 %\n"
     ]
    }
   ],
   "source": [
    "Y = ppn.predict(X)\n",
    "print(\"Y = \", Y)\n",
    "print(\"T = \", T)\n",
    "aciertos = sum(Y == T)\n",
    "print(\"aciertos = \", aciertos)\n",
    "nAciertos = sum(Y==T)\n",
    "print(\"%% de aciertos = %.2f %%\" % (100*nAciertos/X.shape[0]))\n"
   ]
  },
  {
   "cell_type": "code",
   "execution_count": 10,
   "id": "af788f27",
   "metadata": {},
   "outputs": [
    {
     "name": "stdout",
     "output_type": "stream",
     "text": [
      "   Diametro  Color    Clase\n",
      "0         7    100  Naranja\n",
      "1        20     20    Melon\n",
      "2        25     70    Melon\n",
      "3        10    210  Naranja\n",
      "Datos normalizados\n",
      "[[-2.02797834 -0.50163624]\n",
      " [ 0.23986841 -1.53063367]\n",
      " [ 1.11211715 -0.88751028]\n",
      " [-1.50462909  0.91323521]]\n"
     ]
    }
   ],
   "source": [
    "# Leemos los datos de testeo\n",
    "df = pd.read_csv(DATOS_DIR + \"FrutasTest.csv\")\n",
    "print(df)\n",
    "\n",
    "# ejemplos para ingresar al perceptrón ya entrenado\n",
    "X_test = np.array(df.iloc[:,0:2])\n",
    "\n",
    "if normalizarEntrada:\n",
    "    X_test = normalizador.transform(X_test)\n",
    "    print(\"Datos normalizados\")\n",
    "    print(X_test)\n",
    "\n",
    "#--- slaida esperada (sólo para comparar con la respuesta del perceptrón) ---\n",
    "T_test = (df['Clase'] == 'Melon') * 1  #es boolean\n",
    "T_test = np.array(T_test * 1)  #lo convierte en binario"
   ]
  },
  {
   "cell_type": "code",
   "execution_count": 11,
   "id": "ab815cdc",
   "metadata": {},
   "outputs": [
    {
     "name": "stdout",
     "output_type": "stream",
     "text": [
      "Y =  [0 1 1 0]\n",
      "T =  [0 1 1 0]\n",
      "aciertos =  4\n",
      "% de aciertos = 100.00 %\n"
     ]
    }
   ],
   "source": [
    "# veamos qué responde el perceptrón para cada ejemplo de testeo\n",
    "Y_test = ppn.predict(X_test)\n",
    "print(\"Y = \", Y_test)\n",
    "print(\"T = \", T_test)\n",
    "aciertos = sum(Y_test == T_test)\n",
    "print(\"aciertos = \", aciertos)\n",
    "nAciertos = sum(Y_test==T_test)\n",
    "print(\"%% de aciertos = %.2f %%\" % (100*nAciertos/X_test.shape[0]))"
   ]
  },
  {
   "cell_type": "code",
   "execution_count": null,
   "id": "05ea913a",
   "metadata": {},
   "outputs": [],
   "source": []
  }
 ],
 "metadata": {
  "kernelspec": {
   "display_name": "Python 3 (ipykernel)",
   "language": "python",
   "name": "python3"
  },
  "language_info": {
   "codemirror_mode": {
    "name": "ipython",
    "version": 3
   },
   "file_extension": ".py",
   "mimetype": "text/x-python",
   "name": "python",
   "nbconvert_exporter": "python",
   "pygments_lexer": "ipython3",
   "version": "3.11.5"
  }
 },
 "nbformat": 4,
 "nbformat_minor": 5
}
