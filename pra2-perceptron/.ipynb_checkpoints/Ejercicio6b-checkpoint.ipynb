{
 "cells": [
  {
   "cell_type": "code",
   "execution_count": 183,
   "id": "61a5eee6",
   "metadata": {},
   "outputs": [],
   "source": [
    "FUENTES_DIR  = '../Fuentes'\n",
    "DATOS_DIR   = '../Datos/' \n",
    "\n",
    "import sys\n",
    "sys.path.append(FUENTES_DIR)\n",
    "\n",
    "import pandas as pd\n",
    "import numpy as np\n",
    "from matplotlib import pylab as plt\n",
    "from sklearn import model_selection,preprocessing, metrics\n",
    "from ClassPerceptron import Perceptron"
   ]
  },
  {
   "cell_type": "code",
   "execution_count": 184,
   "id": "bcd673c3",
   "metadata": {},
   "outputs": [
    {
     "data": {
      "text/html": [
       "<div>\n",
       "<style scoped>\n",
       "    .dataframe tbody tr th:only-of-type {\n",
       "        vertical-align: middle;\n",
       "    }\n",
       "\n",
       "    .dataframe tbody tr th {\n",
       "        vertical-align: top;\n",
       "    }\n",
       "\n",
       "    .dataframe thead th {\n",
       "        text-align: right;\n",
       "    }\n",
       "</style>\n",
       "<table border=\"1\" class=\"dataframe\">\n",
       "  <thead>\n",
       "    <tr style=\"text-align: right;\">\n",
       "      <th></th>\n",
       "      <th>animal</th>\n",
       "      <th>Tiene_Pelo</th>\n",
       "      <th>Tiene_Plumas</th>\n",
       "      <th>Nace_de_huevo</th>\n",
       "      <th>Toma_Leche</th>\n",
       "      <th>Vuela</th>\n",
       "      <th>Acuatico</th>\n",
       "      <th>Depredador</th>\n",
       "      <th>Dentado</th>\n",
       "      <th>Vertebrado</th>\n",
       "      <th>Respira</th>\n",
       "      <th>Venenoso</th>\n",
       "      <th>Tiene_Aletas</th>\n",
       "      <th>Cant_Patas</th>\n",
       "      <th>Tiene_Cola</th>\n",
       "      <th>Domestico</th>\n",
       "      <th>Tamano_Gato</th>\n",
       "      <th>Clase</th>\n",
       "    </tr>\n",
       "  </thead>\n",
       "  <tbody>\n",
       "    <tr>\n",
       "      <th>0</th>\n",
       "      <td>oso_hormiguero</td>\n",
       "      <td>1</td>\n",
       "      <td>0</td>\n",
       "      <td>0</td>\n",
       "      <td>1</td>\n",
       "      <td>0</td>\n",
       "      <td>0</td>\n",
       "      <td>1</td>\n",
       "      <td>1</td>\n",
       "      <td>1</td>\n",
       "      <td>1</td>\n",
       "      <td>0</td>\n",
       "      <td>0</td>\n",
       "      <td>4</td>\n",
       "      <td>0</td>\n",
       "      <td>0</td>\n",
       "      <td>1</td>\n",
       "      <td>Mamifero</td>\n",
       "    </tr>\n",
       "    <tr>\n",
       "      <th>1</th>\n",
       "      <td>antilope</td>\n",
       "      <td>1</td>\n",
       "      <td>0</td>\n",
       "      <td>0</td>\n",
       "      <td>1</td>\n",
       "      <td>0</td>\n",
       "      <td>0</td>\n",
       "      <td>0</td>\n",
       "      <td>1</td>\n",
       "      <td>1</td>\n",
       "      <td>1</td>\n",
       "      <td>0</td>\n",
       "      <td>0</td>\n",
       "      <td>4</td>\n",
       "      <td>1</td>\n",
       "      <td>0</td>\n",
       "      <td>1</td>\n",
       "      <td>Mamifero</td>\n",
       "    </tr>\n",
       "    <tr>\n",
       "      <th>2</th>\n",
       "      <td>robalo</td>\n",
       "      <td>0</td>\n",
       "      <td>0</td>\n",
       "      <td>1</td>\n",
       "      <td>0</td>\n",
       "      <td>0</td>\n",
       "      <td>1</td>\n",
       "      <td>1</td>\n",
       "      <td>1</td>\n",
       "      <td>1</td>\n",
       "      <td>0</td>\n",
       "      <td>0</td>\n",
       "      <td>1</td>\n",
       "      <td>0</td>\n",
       "      <td>1</td>\n",
       "      <td>0</td>\n",
       "      <td>0</td>\n",
       "      <td>Pez</td>\n",
       "    </tr>\n",
       "    <tr>\n",
       "      <th>3</th>\n",
       "      <td>oso</td>\n",
       "      <td>1</td>\n",
       "      <td>0</td>\n",
       "      <td>0</td>\n",
       "      <td>1</td>\n",
       "      <td>0</td>\n",
       "      <td>0</td>\n",
       "      <td>1</td>\n",
       "      <td>1</td>\n",
       "      <td>1</td>\n",
       "      <td>1</td>\n",
       "      <td>0</td>\n",
       "      <td>0</td>\n",
       "      <td>4</td>\n",
       "      <td>0</td>\n",
       "      <td>0</td>\n",
       "      <td>1</td>\n",
       "      <td>Mamifero</td>\n",
       "    </tr>\n",
       "    <tr>\n",
       "      <th>4</th>\n",
       "      <td>jabali</td>\n",
       "      <td>1</td>\n",
       "      <td>0</td>\n",
       "      <td>0</td>\n",
       "      <td>1</td>\n",
       "      <td>0</td>\n",
       "      <td>0</td>\n",
       "      <td>1</td>\n",
       "      <td>1</td>\n",
       "      <td>1</td>\n",
       "      <td>1</td>\n",
       "      <td>0</td>\n",
       "      <td>0</td>\n",
       "      <td>4</td>\n",
       "      <td>1</td>\n",
       "      <td>0</td>\n",
       "      <td>1</td>\n",
       "      <td>Mamifero</td>\n",
       "    </tr>\n",
       "  </tbody>\n",
       "</table>\n",
       "</div>"
      ],
      "text/plain": [
       "           animal  Tiene_Pelo  Tiene_Plumas  Nace_de_huevo  Toma_Leche  Vuela  \\\n",
       "0  oso_hormiguero           1             0              0           1      0   \n",
       "1        antilope           1             0              0           1      0   \n",
       "2          robalo           0             0              1           0      0   \n",
       "3             oso           1             0              0           1      0   \n",
       "4          jabali           1             0              0           1      0   \n",
       "\n",
       "   Acuatico  Depredador  Dentado  Vertebrado  Respira  Venenoso  Tiene_Aletas  \\\n",
       "0         0           1        1           1        1         0             0   \n",
       "1         0           0        1           1        1         0             0   \n",
       "2         1           1        1           1        0         0             1   \n",
       "3         0           1        1           1        1         0             0   \n",
       "4         0           1        1           1        1         0             0   \n",
       "\n",
       "   Cant_Patas  Tiene_Cola  Domestico  Tamano_Gato     Clase  \n",
       "0           4           0          0            1  Mamifero  \n",
       "1           4           1          0            1  Mamifero  \n",
       "2           0           1          0            0       Pez  \n",
       "3           4           0          0            1  Mamifero  \n",
       "4           4           1          0            1  Mamifero  "
      ]
     },
     "execution_count": 184,
     "metadata": {},
     "output_type": "execute_result"
    }
   ],
   "source": [
    "datos = pd.read_csv(DATOS_DIR + \"zoo.csv\", encoding='latin1')\n",
    "\n",
    "datos.head()\n",
    "#len(datos)"
   ]
  },
  {
   "cell_type": "code",
   "execution_count": 185,
   "id": "d367ecb4",
   "metadata": {},
   "outputs": [
    {
     "data": {
      "text/plain": [
       "100"
      ]
     },
     "execution_count": 185,
     "metadata": {},
     "output_type": "execute_result"
    }
   ],
   "source": [
    "datos.Clase.unique()\n",
    "len(datos.animal.unique())"
   ]
  },
  {
   "cell_type": "code",
   "execution_count": 186,
   "id": "9658dcf1",
   "metadata": {},
   "outputs": [
    {
     "data": {
      "image/png": "[encoded data removed]",
      "text/plain": [
       "<Figure size 640x480 with 1 Axes>"
      ]
     },
     "metadata": {},
     "output_type": "display_data"
    }
   ],
   "source": [
    "import seaborn as sns\n",
    "import matplotlib.pyplot as plt\n",
    "\n",
    "sns.countplot(x=\"Clase\", data=datos)\n",
    "plt.show()"
   ]
  },
  {
   "cell_type": "markdown",
   "id": "6c026838",
   "metadata": {},
   "source": [
    "## a)\n",
    "Yo creo que la dificultad está en que solo las aves y mamíferos tienen más de 15 datos, por lo cual es probable que el modelo solo sea bueno prediciendo mamíferos"
   ]
  },
  {
   "cell_type": "markdown",
   "id": "dbe54062",
   "metadata": {},
   "source": [
    "# b)\n",
    "### A continuación vamos a entrenar el modelo sin dividir el dataset en train y test, simplemente porque así lo pide la consigna"
   ]
  },
  {
   "cell_type": "code",
   "execution_count": 187,
   "id": "26c23953",
   "metadata": {},
   "outputs": [
    {
     "data": {
      "text/html": [
       "<div>\n",
       "<style scoped>\n",
       "    .dataframe tbody tr th:only-of-type {\n",
       "        vertical-align: middle;\n",
       "    }\n",
       "\n",
       "    .dataframe tbody tr th {\n",
       "        vertical-align: top;\n",
       "    }\n",
       "\n",
       "    .dataframe thead th {\n",
       "        text-align: right;\n",
       "    }\n",
       "</style>\n",
       "<table border=\"1\" class=\"dataframe\">\n",
       "  <thead>\n",
       "    <tr style=\"text-align: right;\">\n",
       "      <th></th>\n",
       "      <th>animal</th>\n",
       "      <th>Tiene_Pelo</th>\n",
       "      <th>Tiene_Plumas</th>\n",
       "      <th>Nace_de_huevo</th>\n",
       "      <th>Toma_Leche</th>\n",
       "      <th>Vuela</th>\n",
       "      <th>Acuatico</th>\n",
       "      <th>Depredador</th>\n",
       "      <th>Dentado</th>\n",
       "      <th>Vertebrado</th>\n",
       "      <th>Respira</th>\n",
       "      <th>Venenoso</th>\n",
       "      <th>Tiene_Aletas</th>\n",
       "      <th>Cant_Patas</th>\n",
       "      <th>Tiene_Cola</th>\n",
       "      <th>Domestico</th>\n",
       "      <th>Tamano_Gato</th>\n",
       "      <th>Clase</th>\n",
       "    </tr>\n",
       "  </thead>\n",
       "  <tbody>\n",
       "    <tr>\n",
       "      <th>0</th>\n",
       "      <td>oso_hormiguero</td>\n",
       "      <td>1</td>\n",
       "      <td>0</td>\n",
       "      <td>0</td>\n",
       "      <td>1</td>\n",
       "      <td>0</td>\n",
       "      <td>0</td>\n",
       "      <td>1</td>\n",
       "      <td>1</td>\n",
       "      <td>1</td>\n",
       "      <td>1</td>\n",
       "      <td>0</td>\n",
       "      <td>0</td>\n",
       "      <td>4</td>\n",
       "      <td>0</td>\n",
       "      <td>0</td>\n",
       "      <td>1</td>\n",
       "      <td>0</td>\n",
       "    </tr>\n",
       "    <tr>\n",
       "      <th>1</th>\n",
       "      <td>antilope</td>\n",
       "      <td>1</td>\n",
       "      <td>0</td>\n",
       "      <td>0</td>\n",
       "      <td>1</td>\n",
       "      <td>0</td>\n",
       "      <td>0</td>\n",
       "      <td>0</td>\n",
       "      <td>1</td>\n",
       "      <td>1</td>\n",
       "      <td>1</td>\n",
       "      <td>0</td>\n",
       "      <td>0</td>\n",
       "      <td>4</td>\n",
       "      <td>1</td>\n",
       "      <td>0</td>\n",
       "      <td>1</td>\n",
       "      <td>0</td>\n",
       "    </tr>\n",
       "    <tr>\n",
       "      <th>2</th>\n",
       "      <td>robalo</td>\n",
       "      <td>0</td>\n",
       "      <td>0</td>\n",
       "      <td>1</td>\n",
       "      <td>0</td>\n",
       "      <td>0</td>\n",
       "      <td>1</td>\n",
       "      <td>1</td>\n",
       "      <td>1</td>\n",
       "      <td>1</td>\n",
       "      <td>0</td>\n",
       "      <td>0</td>\n",
       "      <td>1</td>\n",
       "      <td>0</td>\n",
       "      <td>1</td>\n",
       "      <td>0</td>\n",
       "      <td>0</td>\n",
       "      <td>0</td>\n",
       "    </tr>\n",
       "    <tr>\n",
       "      <th>3</th>\n",
       "      <td>oso</td>\n",
       "      <td>1</td>\n",
       "      <td>0</td>\n",
       "      <td>0</td>\n",
       "      <td>1</td>\n",
       "      <td>0</td>\n",
       "      <td>0</td>\n",
       "      <td>1</td>\n",
       "      <td>1</td>\n",
       "      <td>1</td>\n",
       "      <td>1</td>\n",
       "      <td>0</td>\n",
       "      <td>0</td>\n",
       "      <td>4</td>\n",
       "      <td>0</td>\n",
       "      <td>0</td>\n",
       "      <td>1</td>\n",
       "      <td>0</td>\n",
       "    </tr>\n",
       "    <tr>\n",
       "      <th>4</th>\n",
       "      <td>jabali</td>\n",
       "      <td>1</td>\n",
       "      <td>0</td>\n",
       "      <td>0</td>\n",
       "      <td>1</td>\n",
       "      <td>0</td>\n",
       "      <td>0</td>\n",
       "      <td>1</td>\n",
       "      <td>1</td>\n",
       "      <td>1</td>\n",
       "      <td>1</td>\n",
       "      <td>0</td>\n",
       "      <td>0</td>\n",
       "      <td>4</td>\n",
       "      <td>1</td>\n",
       "      <td>0</td>\n",
       "      <td>1</td>\n",
       "      <td>0</td>\n",
       "    </tr>\n",
       "  </tbody>\n",
       "</table>\n",
       "</div>"
      ],
      "text/plain": [
       "           animal  Tiene_Pelo  Tiene_Plumas  Nace_de_huevo  Toma_Leche  Vuela  \\\n",
       "0  oso_hormiguero           1             0              0           1      0   \n",
       "1        antilope           1             0              0           1      0   \n",
       "2          robalo           0             0              1           0      0   \n",
       "3             oso           1             0              0           1      0   \n",
       "4          jabali           1             0              0           1      0   \n",
       "\n",
       "   Acuatico  Depredador  Dentado  Vertebrado  Respira  Venenoso  Tiene_Aletas  \\\n",
       "0         0           1        1           1        1         0             0   \n",
       "1         0           0        1           1        1         0             0   \n",
       "2         1           1        1           1        0         0             1   \n",
       "3         0           1        1           1        1         0             0   \n",
       "4         0           1        1           1        1         0             0   \n",
       "\n",
       "   Cant_Patas  Tiene_Cola  Domestico  Tamano_Gato  Clase  \n",
       "0           4           0          0            1      0  \n",
       "1           4           1          0            1      0  \n",
       "2           0           1          0            0      0  \n",
       "3           4           0          0            1      0  \n",
       "4           4           1          0            1      0  "
      ]
     },
     "execution_count": 187,
     "metadata": {},
     "output_type": "execute_result"
    }
   ],
   "source": [
    "mapeo = {\n",
    "    \"Clase\":{'Mamifero':0, 'Pez':0, 'Ave':1, 'Invertebrado':0, 'Insecto':0, 'Anfibio':0, 'Reptil':0}\n",
    "}\n",
    "datos.replace(mapeo,inplace=True)\n",
    "datos.head()"
   ]
  },
  {
   "cell_type": "code",
   "execution_count": 188,
   "id": "ee6fc286",
   "metadata": {},
   "outputs": [
    {
     "name": "stdout",
     "output_type": "stream",
     "text": [
      "101\n",
      "101\n"
     ]
    }
   ],
   "source": [
    "X = np.array(datos.iloc[:,1:-1])\n",
    "T = np.array(datos['Clase'])\n",
    "\n",
    "print(len(X))\n",
    "print(len(T))"
   ]
  },
  {
   "cell_type": "code",
   "execution_count": 189,
   "id": "32f3caf8",
   "metadata": {},
   "outputs": [
    {
     "name": "stdout",
     "output_type": "stream",
     "text": [
      "[[ 1.30088727 -0.56635211 -1.34164079  1.30088727 -0.52223297 -0.76870611\n",
      "  -1.12163475  0.84102145  0.40824829  0.54433105 -0.17149859 -0.5\n",
      "  -0.28949313  0.52223297 -0.3592106  -0.89155583]\n",
      " [ 1.30088727 -0.56635211 -1.34164079  1.30088727 -0.52223297 -0.76870611\n",
      "  -1.12163475  0.84102145  0.40824829  0.54433105 -0.17149859 -0.5\n",
      "   0.74971297  0.52223297 -0.3592106   1.12163475]\n",
      " [-0.76870611 -0.56635211 -1.34164079  1.30088727 -0.52223297  1.30088727\n",
      "   0.89155583  0.84102145  0.40824829  0.54433105 -0.17149859  2.\n",
      "  -1.32869922  0.52223297 -0.3592106   1.12163475]\n",
      " [ 1.30088727 -0.56635211 -1.34164079  1.30088727 -0.52223297 -0.76870611\n",
      "   0.89155583  0.84102145  0.40824829  0.54433105 -0.17149859 -0.5\n",
      "   0.74971297  0.52223297 -0.3592106   1.12163475]\n",
      " [ 1.30088727 -0.56635211 -1.34164079  1.30088727 -0.52223297 -0.76870611\n",
      "   0.89155583  0.84102145  0.40824829  0.54433105 -0.17149859 -0.5\n",
      "   0.74971297  0.52223297 -0.3592106   1.12163475]\n",
      " [ 1.30088727 -0.56635211  0.74535599 -0.76870611  1.91485422 -0.76870611\n",
      "  -1.12163475 -1.18903032 -2.44948974  0.54433105  5.83095189 -0.5\n",
      "   1.78891906 -1.91485422  2.78388218 -0.89155583]\n",
      " [ 1.30088727 -0.56635211 -1.34164079  1.30088727 -0.52223297 -0.76870611\n",
      "  -1.12163475  0.84102145  0.40824829  0.54433105 -0.17149859 -0.5\n",
      "   0.74971297  0.52223297 -0.3592106   1.12163475]\n",
      " [ 1.30088727 -0.56635211 -1.34164079  1.30088727 -0.52223297 -0.76870611\n",
      "   0.89155583  0.84102145  0.40824829  0.54433105 -0.17149859 -0.5\n",
      "   0.74971297  0.52223297 -0.3592106   1.12163475]\n",
      " [ 1.30088727 -0.56635211 -1.34164079  1.30088727 -0.52223297 -0.76870611\n",
      "   0.89155583  0.84102145  0.40824829  0.54433105 -0.17149859 -0.5\n",
      "   0.74971297  0.52223297 -0.3592106   1.12163475]\n",
      " [ 1.30088727 -0.56635211 -1.34164079  1.30088727 -0.52223297 -0.76870611\n",
      "   0.89155583  0.84102145  0.40824829  0.54433105 -0.17149859 -0.5\n",
      "   0.74971297 -1.91485422 -0.3592106   1.12163475]\n",
      " [-0.76870611 -0.56635211  0.74535599 -0.76870611 -0.52223297  1.30088727\n",
      "   0.89155583  0.84102145  0.40824829 -1.83711731 -0.17149859  2.\n",
      "  -1.32869922  0.52223297 -0.3592106   1.12163475]\n",
      " [-0.76870611 -0.56635211  0.74535599 -0.76870611  1.91485422 -0.76870611\n",
      "  -1.12163475 -1.18903032 -2.44948974  0.54433105 -0.17149859 -0.5\n",
      "   1.78891906 -1.91485422 -0.3592106  -0.89155583]\n",
      " [ 1.30088727 -0.56635211  0.74535599 -0.76870611  1.91485422 -0.76870611\n",
      "  -1.12163475 -1.18903032 -2.44948974  0.54433105  5.83095189 -0.5\n",
      "   1.78891906 -1.91485422 -0.3592106  -0.89155583]\n",
      " [-0.76870611  1.765686    0.74535599 -0.76870611  1.91485422  1.30088727\n",
      "   0.89155583 -1.18903032  0.40824829  0.54433105 -0.17149859 -0.5\n",
      "  -0.28949313  0.52223297 -0.3592106  -0.89155583]\n",
      " [-0.76870611 -0.56635211  0.74535599 -0.76870611 -0.52223297  1.30088727\n",
      "   0.89155583 -1.18903032 -2.44948974 -1.83711731  5.83095189 -0.5\n",
      "  -1.32869922 -1.91485422 -0.3592106  -0.89155583]\n",
      " [ 1.30088727 -0.56635211 -1.34164079  1.30088727 -0.52223297 -0.76870611\n",
      "   0.89155583  0.84102145  0.40824829  0.54433105 -0.17149859 -0.5\n",
      "   0.74971297  0.52223297 -0.3592106   1.12163475]\n",
      " [ 1.30088727 -0.56635211 -1.34164079  1.30088727  1.91485422 -0.76870611\n",
      "  -1.12163475  0.84102145  0.40824829  0.54433105 -0.17149859 -0.5\n",
      "  -0.28949313  0.52223297 -0.3592106  -0.89155583]\n",
      " [-0.76870611  1.765686    0.74535599 -0.76870611  1.91485422  1.30088727\n",
      "   0.89155583 -1.18903032  0.40824829  0.54433105 -0.17149859 -0.5\n",
      "  -0.28949313  0.52223297 -0.3592106  -0.89155583]\n",
      " [-0.76870611 -0.56635211  0.74535599 -0.76870611 -0.52223297  1.30088727\n",
      "   0.89155583  0.84102145  0.40824829 -1.83711731 -0.17149859  2.\n",
      "  -1.32869922  0.52223297 -0.3592106  -0.89155583]\n",
      " [ 1.30088727 -0.56635211 -1.34164079  1.30088727 -0.52223297 -0.76870611\n",
      "  -1.12163475  0.84102145  0.40824829  0.54433105 -0.17149859 -0.5\n",
      "   0.74971297  0.52223297  2.78388218  1.12163475]\n",
      " [-0.76870611 -0.56635211 -1.34164079 -0.76870611 -0.52223297  1.30088727\n",
      "   0.89155583  0.84102145  0.40824829 -1.83711731  5.83095189 -0.5\n",
      "  -1.32869922  0.52223297 -0.3592106  -0.89155583]\n",
      " [-0.76870611 -0.56635211  0.74535599 -0.76870611 -0.52223297  1.30088727\n",
      "  -1.12163475  0.84102145  0.40824829  0.54433105 -0.17149859 -0.5\n",
      "   0.74971297 -1.91485422 -0.3592106  -0.89155583]\n",
      " [-0.76870611 -0.56635211  0.74535599 -0.76870611 -0.52223297  1.30088727\n",
      "   0.89155583  0.84102145  0.40824829  0.54433105  5.83095189 -0.5\n",
      "   0.74971297 -1.91485422 -0.3592106  -0.89155583]\n",
      " [-0.76870611 -0.56635211  0.74535599 -0.76870611  1.91485422 -0.76870611\n",
      "   0.89155583 -1.18903032 -2.44948974  0.54433105 -0.17149859 -0.5\n",
      "   1.78891906 -1.91485422 -0.3592106  -0.89155583]\n",
      " [ 1.30088727 -0.56635211 -1.34164079  1.30088727 -0.52223297 -0.76870611\n",
      "  -1.12163475  0.84102145  0.40824829  0.54433105 -0.17149859 -0.5\n",
      "   0.74971297  0.52223297  2.78388218  1.12163475]\n",
      " [-0.76870611 -0.56635211  0.74535599 -0.76870611 -0.52223297  1.30088727\n",
      "   0.89155583 -1.18903032 -2.44948974 -1.83711731 -0.17149859 -0.5\n",
      "   1.78891906 -1.91485422 -0.3592106  -0.89155583]\n",
      " [ 1.30088727 -0.56635211  0.74535599 -0.76870611  1.91485422 -0.76870611\n",
      "  -1.12163475 -1.18903032 -2.44948974  0.54433105 -0.17149859 -0.5\n",
      "   1.78891906 -1.91485422 -0.3592106  -0.89155583]\n",
      " [-0.76870611 -0.56635211 -1.34164079 -0.76870611 -0.52223297 -0.76870611\n",
      "   0.89155583 -1.18903032 -2.44948974  0.54433105  5.83095189 -0.5\n",
      "   2.82812516  0.52223297 -0.3592106  -0.89155583]\n",
      " [ 1.30088727 -0.56635211 -1.34164079  1.30088727 -0.52223297 -0.76870611\n",
      "  -1.12163475  0.84102145  0.40824829  0.54433105 -0.17149859 -0.5\n",
      "   0.74971297 -1.91485422  2.78388218 -0.89155583]\n",
      " [ 1.30088727 -0.56635211 -1.34164079  1.30088727 -0.52223297 -0.76870611\n",
      "  -1.12163475  0.84102145  0.40824829  0.54433105 -0.17149859 -0.5\n",
      "  -0.28949313  0.52223297 -0.3592106   1.12163475]\n",
      " [-0.76870611  1.765686    0.74535599 -0.76870611  1.91485422 -0.76870611\n",
      "  -1.12163475 -1.18903032  0.40824829  0.54433105 -0.17149859 -0.5\n",
      "  -0.28949313  0.52223297  2.78388218 -0.89155583]]\n"
     ]
    }
   ],
   "source": [
    "X_train, X_test, T_train, T_test = model_selection.train_test_split(\n",
    "        X, T, test_size=0.30, random_state=42)\n",
    "\n",
    "normalizador= preprocessing.StandardScaler() #media y desvío\n",
    "X_train = normalizador.fit_transform(X_train)\n",
    "X_test  = normalizador.transform(X_test)\n",
    "\n",
    "print(X_test)"
   ]
  },
  {
   "cell_type": "code",
   "execution_count": 190,
   "id": "5f805473",
   "metadata": {},
   "outputs": [
    {
     "data": {
      "image/png": "[encoded data removed]",
      "text/plain": [
       "<Figure size 640x480 with 1 Axes>"
      ]
     },
     "metadata": {},
     "output_type": "display_data"
    }
   ],
   "source": [
    "ppn = Perceptron(alpha=0.0001, n_iter=500, random_state=None) #random_state=None significa que no utiliza una semilla para la generación de números aleatorios\n",
    "ppn.fit(X_train, T_train)\n",
    "\n",
    "plt.plot(range(1, len(ppn.errors_) + 1), ppn.errors_, marker='*')\n",
    "plt.title('Datos de entrenamiento')\n",
    "plt.xlabel('Iteraciones')\n",
    "plt.ylabel('Cantidad de actualizaciones')\n",
    "plt.show()"
   ]
  },
  {
   "cell_type": "code",
   "execution_count": 191,
   "id": "e611f3de",
   "metadata": {},
   "outputs": [
    {
     "name": "stdout",
     "output_type": "stream",
     "text": [
      "Dimensiones de Y_test: (31,)\n",
      "Dimensiones de T_test: (31,)\n",
      "cantidad de tests:  31\n",
      "aciertos:  31\n",
      "% de aciertos = 100.00 %\n"
     ]
    }
   ],
   "source": [
    "Y_test = 0 * len(X_test) #necesario inicializar el array en 0?\n",
    "Y_test = ppn.predict(X_test)\n",
    "nAciertos = np.sum(Y_test == T_test)\n",
    "print(\"Dimensiones de Y_test:\", Y_test.shape)\n",
    "print(\"Dimensiones de T_test:\", T_test.shape)\n",
    "print(\"cantidad de tests: \", X_test.shape[0])\n",
    "print(\"aciertos: \", nAciertos)\n",
    "print(\"%% de aciertos = %.2f %%\" % (100 * nAciertos / X_test.shape[0]))"
   ]
  },
  {
   "cell_type": "code",
   "execution_count": 192,
   "id": "06b3ef04",
   "metadata": {},
   "outputs": [
    {
     "name": "stdout",
     "output_type": "stream",
     "text": [
      "[0 0 0 0 0 0 0 0 0 0 0 0 0 1 0 0 0 1 0 0 0 0 0 0 0 0 0 0 0 0 1]\n"
     ]
    }
   ],
   "source": [
    "print(Y_test)"
   ]
  },
  {
   "cell_type": "code",
   "execution_count": 193,
   "id": "295cf72f",
   "metadata": {},
   "outputs": [
    {
     "name": "stdout",
     "output_type": "stream",
     "text": [
      "[0 0 0 0 0 0 0 0 0 0 0 0 0 1 0 0 0 1 0 0 0 0 0 0 0 0 0 0 0 0 1]\n"
     ]
    }
   ],
   "source": [
    "print(T_test)"
   ]
  },
  {
   "cell_type": "code",
   "execution_count": 194,
   "id": "8e13ff61",
   "metadata": {},
   "outputs": [
    {
     "name": "stdout",
     "output_type": "stream",
     "text": [
      "[-0.22581437  0.28918767  0.07873915 -0.25437784 -0.0704178  -0.02575188\n",
      "  0.00061919 -0.11898603  0.28629822 -0.08056071 -0.11820377 -0.16288515\n",
      "  0.00247242 -0.04666066 -0.19961256 -0.08921268]\n"
     ]
    }
   ],
   "source": [
    "print(ppn.w_)"
   ]
  },
  {
   "cell_type": "markdown",
   "id": "9437b3a5",
   "metadata": {},
   "source": [
    "# c)\n",
    "El perceptrón detecta aves de la siguiente forma\n",
    "Según mi opinión nos estamos encontrando con más errores en los pesos porque entrenamos con menos datos al perceptrón"
   ]
  },
  {
   "cell_type": "code",
   "execution_count": 197,
   "id": "6e698244",
   "metadata": {},
   "outputs": [
    {
     "name": "stdout",
     "output_type": "stream",
     "text": [
      "dict_keys(['Tiene_Plumas', 'Vertebrado', 'no Toma_Leche', 'no Tiene_Pelo', 'no Domestico', 'no Tiene_Aletas', 'no Dentado', 'no Venenoso', 'no Tamano_Gato', 'no Respira', 'Nace_de_huevo', 'no Vuela', 'no Tiene_Cola', 'no Acuatico', 'Cant_Patas', 'Depredador'])\n"
     ]
    }
   ],
   "source": [
    "nro_columna = 1 #la primer columna del df no fue usada\n",
    "pesos_por_columna = {}\n",
    "\n",
    "for peso in ppn.w_:\n",
    "    nombre_columna = datos.columns[nro_columna]\n",
    "    if peso < 0:\n",
    "        nombre_columna = \"no \"+nombre_columna\n",
    "    pesos_por_columna.update({nombre_columna:abs(peso)})\n",
    "    nro_columna += 1\n",
    "    #print(nombre_columna, \":\",peso)\n",
    "    \n",
    "pesos_ordenados = dict(sorted(pesos_por_columna.items(), key=lambda item: item[1], reverse=True))\n",
    "\n",
    "print(pesos_ordenados.keys())"
   ]
  },
  {
   "cell_type": "code",
   "execution_count": null,
   "id": "4170e205",
   "metadata": {},
   "outputs": [],
   "source": []
  }
 ],
 "metadata": {
  "kernelspec": {
   "display_name": "Python 3 (ipykernel)",
   "language": "python",
   "name": "python3"
  },
  "language_info": {
   "codemirror_mode": {
    "name": "ipython",
    "version": 3
   },
   "file_extension": ".py",
   "mimetype": "text/x-python",
   "name": "python",
   "nbconvert_exporter": "python",
   "pygments_lexer": "ipython3",
   "version": "3.11.5"
  }
 },
 "nbformat": 4,
 "nbformat_minor": 5
}
