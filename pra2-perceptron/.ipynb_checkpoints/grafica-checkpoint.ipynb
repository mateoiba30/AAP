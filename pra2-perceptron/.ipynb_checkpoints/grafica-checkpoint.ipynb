{
 "cells": [
  {
   "cell_type": "code",
   "execution_count": 4,
   "id": "49bae9ea",
   "metadata": {},
   "outputs": [],
   "source": [
    "import numpy as np\n",
    "import time\n",
    "from matplotlib import pylab as plt\n",
    "from IPython import display\n",
    "\n",
    "def dibuPtosRecta(entradas, salida, W, b, titulos=[], ph=0):\n",
    "    if (entradas.shape[1]==2):\n",
    "       #--- DIBUJA LOS EJEMPLOS EN EL FONDO -----\n",
    "   \n",
    "        plt.axis([min(entradas[:,0])-0.05, max(entradas[:,0])+0.05,min(entradas[:,1])-0.05, max(entradas[:,1])+0.05])\n",
    "        plt.setp(plt.gca(), autoscale_on=False)\n",
    "               \n",
    "        clases=np.unique(salida)\n",
    "        if len(clases)==2:\n",
    "            plt.plot(entradas[salida==min(clases),0], entradas[salida==min(clases),1], 'bo')\n",
    "            plt.plot(entradas[salida==max(clases),0], entradas[salida==max(clases),1], 'ro')\n",
    "        else:\n",
    "            plt.plot(entradas[:,0], entradas[:,1], 'ro')\n",
    "        if (len(titulos)==2):\n",
    "            plt.xlabel(titulos[0])\n",
    "            plt.ylabel(titulos[1])\n",
    "        \n",
    "       #--- DIBUJA LA RECTA ---\n",
    "        if (ph!=0):\n",
    "            for p in ph:\n",
    "                p.remove()\n",
    "        \n",
    "        X = np.array([min(entradas[:,0]), max(entradas[:,0])])\n",
    "        Y = (-1)*(W[0]/W[1])*X - (b/W[1])\n",
    "        ph = plt.plot(X,np.squeeze(np.asarray(Y)))\n",
    "\n",
    "        display.clear_output(wait=True)\n",
    "        display.display(plt.gcf())\n",
    "        time.sleep(0.001)\n",
    "    #time.sleep(1.0)\n",
    "    #    plt.draw()\n",
    "    #    plt.pause(.001)\n",
    "        return(ph)\n"
   ]
  }
 ],
 "metadata": {
  "kernelspec": {
   "display_name": "Python 3 (ipykernel)",
   "language": "python",
   "name": "python3"
  },
  "language_info": {
   "codemirror_mode": {
    "name": "ipython",
    "version": 3
   },
   "file_extension": ".py",
   "mimetype": "text/x-python",
   "name": "python",
   "nbconvert_exporter": "python",
   "pygments_lexer": "ipython3",
   "version": "3.11.5"
  }
 },
 "nbformat": 4,
 "nbformat_minor": 5
}
