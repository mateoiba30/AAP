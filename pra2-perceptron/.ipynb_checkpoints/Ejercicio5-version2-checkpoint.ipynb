{
 "cells": [
  {
   "cell_type": "markdown",
   "id": "d5d18f1d",
   "metadata": {},
   "source": [
    "# Solución correcta\n",
    "\n",
    "fuimos probando diferentes modelos, donde cambiábamos cómo realizábamos el mapeo.\n",
    "- El modelo donde tipo1:1 y el resto 0 tuvo una precisión cercana al 92%\n",
    "- El modelo donde tipo2:1 y el resto 0 tuvo una precisión cercana al 99%\n",
    "- El modelo donde tipo3:1 y el resto 0 tuvo una precisión cercana al 92%"
   ]
  },
  {
   "cell_type": "code",
   "execution_count": 26,
   "id": "465d3808",
   "metadata": {},
   "outputs": [],
   "source": [
    "FUENTES_DIR  = '../Fuentes'\n",
    "DATOS_DIR   = '../Datos/' \n",
    "\n",
    "import sys\n",
    "sys.path.append(FUENTES_DIR)\n",
    "\n",
    "import pandas as pd\n",
    "import numpy as np\n",
    "from matplotlib import pylab as plt\n",
    "from sklearn import model_selection,preprocessing, metrics\n",
    "from ClassPerceptron import Perceptron"
   ]
  },
  {
   "cell_type": "code",
   "execution_count": 27,
   "id": "3d30ef3f",
   "metadata": {},
   "outputs": [
    {
     "data": {
      "text/html": [
       "<div>\n",
       "<style scoped>\n",
       "    .dataframe tbody tr th:only-of-type {\n",
       "        vertical-align: middle;\n",
       "    }\n",
       "\n",
       "    .dataframe tbody tr th {\n",
       "        vertical-align: top;\n",
       "    }\n",
       "\n",
       "    .dataframe thead th {\n",
       "        text-align: right;\n",
       "    }\n",
       "</style>\n",
       "<table border=\"1\" class=\"dataframe\">\n",
       "  <thead>\n",
       "    <tr style=\"text-align: right;\">\n",
       "      <th></th>\n",
       "      <th>Area</th>\n",
       "      <th>Perimetro</th>\n",
       "      <th>Compacidad</th>\n",
       "      <th>LongNucleo</th>\n",
       "      <th>AnchoNucleo</th>\n",
       "      <th>Asimetria</th>\n",
       "      <th>LongSurco</th>\n",
       "      <th>Clase</th>\n",
       "    </tr>\n",
       "  </thead>\n",
       "  <tbody>\n",
       "    <tr>\n",
       "      <th>0</th>\n",
       "      <td>15.26</td>\n",
       "      <td>14.84</td>\n",
       "      <td>0.8710</td>\n",
       "      <td>5.763</td>\n",
       "      <td>3.312</td>\n",
       "      <td>2.221</td>\n",
       "      <td>5.220</td>\n",
       "      <td>1</td>\n",
       "    </tr>\n",
       "    <tr>\n",
       "      <th>1</th>\n",
       "      <td>14.88</td>\n",
       "      <td>14.57</td>\n",
       "      <td>0.8811</td>\n",
       "      <td>5.554</td>\n",
       "      <td>3.333</td>\n",
       "      <td>1.018</td>\n",
       "      <td>4.956</td>\n",
       "      <td>1</td>\n",
       "    </tr>\n",
       "    <tr>\n",
       "      <th>2</th>\n",
       "      <td>14.29</td>\n",
       "      <td>14.09</td>\n",
       "      <td>0.9050</td>\n",
       "      <td>5.291</td>\n",
       "      <td>3.337</td>\n",
       "      <td>2.699</td>\n",
       "      <td>4.825</td>\n",
       "      <td>1</td>\n",
       "    </tr>\n",
       "    <tr>\n",
       "      <th>3</th>\n",
       "      <td>13.84</td>\n",
       "      <td>13.94</td>\n",
       "      <td>0.8955</td>\n",
       "      <td>5.324</td>\n",
       "      <td>3.379</td>\n",
       "      <td>2.259</td>\n",
       "      <td>4.805</td>\n",
       "      <td>1</td>\n",
       "    </tr>\n",
       "    <tr>\n",
       "      <th>4</th>\n",
       "      <td>16.14</td>\n",
       "      <td>14.99</td>\n",
       "      <td>0.9034</td>\n",
       "      <td>5.658</td>\n",
       "      <td>3.562</td>\n",
       "      <td>1.355</td>\n",
       "      <td>5.175</td>\n",
       "      <td>1</td>\n",
       "    </tr>\n",
       "  </tbody>\n",
       "</table>\n",
       "</div>"
      ],
      "text/plain": [
       "    Area  Perimetro  Compacidad  LongNucleo  AnchoNucleo  Asimetria  \\\n",
       "0  15.26      14.84      0.8710       5.763        3.312      2.221   \n",
       "1  14.88      14.57      0.8811       5.554        3.333      1.018   \n",
       "2  14.29      14.09      0.9050       5.291        3.337      2.699   \n",
       "3  13.84      13.94      0.8955       5.324        3.379      2.259   \n",
       "4  16.14      14.99      0.9034       5.658        3.562      1.355   \n",
       "\n",
       "   LongSurco  Clase  \n",
       "0      5.220      1  \n",
       "1      4.956      1  \n",
       "2      4.825      1  \n",
       "3      4.805      1  \n",
       "4      5.175      1  "
      ]
     },
     "execution_count": 27,
     "metadata": {},
     "output_type": "execute_result"
    }
   ],
   "source": [
    "datos = pd.read_csv(DATOS_DIR + \"Semillas.csv\")\n",
    "mapeo = {'Clase': {'Tipo1':0, 'Tipo2':1,'Tipo3':0}}\n",
    "datos.replace(mapeo,inplace=True)\n",
    "datos.head()"
   ]
  },
  {
   "cell_type": "code",
   "execution_count": 28,
   "id": "ae29e2c2",
   "metadata": {},
   "outputs": [
    {
     "name": "stdout",
     "output_type": "stream",
     "text": [
      "[[ 1.42097769e-01  2.15462437e-01  6.06017918e-05 ...  1.41701823e-01\n",
      "  -9.86151745e-01 -3.83577423e-01]\n",
      " [ 1.11880257e-02  8.22375713e-03  4.28515270e-01 ...  1.97432229e-01\n",
      "  -1.78816620e+00 -9.22013487e-01]\n",
      " [-1.92066576e-01 -3.60200562e-01  1.44238325e+00 ...  2.08047544e-01\n",
      "  -6.67479334e-01 -1.18919199e+00]\n",
      " ...\n",
      " [-5.67570840e-01 -6.90247348e-01  7.33948301e-01 ... -7.06044846e-02\n",
      "   3.07658816e+00 -7.18060432e-01]\n",
      " [-1.03608992e+00 -1.03564515e+00 -8.01701104e-01 ... -1.12152071e+00\n",
      "  -6.81351965e-02 -7.42534799e-01]\n",
      " [-8.77620233e-01 -9.35863561e-01 -1.10234659e-01 ... -7.55292327e-01\n",
      "   1.29122264e+00 -7.03783718e-01]]\n"
     ]
    }
   ],
   "source": [
    "X = np.array(datos.iloc[:,:-1])\n",
    "T = np.array(datos['Clase'])\n",
    "\n",
    "\n",
    "normalizador= preprocessing.StandardScaler() #media y desvío\n",
    "X = normalizador.fit_transform(X)\n",
    "\n",
    "print(X)"
   ]
  },
  {
   "cell_type": "code",
   "execution_count": 29,
   "id": "525fb998",
   "metadata": {},
   "outputs": [
    {
     "data": {
      "image/png": "[encoded data removed]",
      "text/plain": [
       "<Figure size 640x480 with 1 Axes>"
      ]
     },
     "metadata": {},
     "output_type": "display_data"
    }
   ],
   "source": [
    "ppn = Perceptron(alpha=0.05, n_iter=200, random_state=None) #random_state=None significa que no utiliza una semilla para la generación de números aleatorios\n",
    "ppn.fit(X, T)\n",
    "\n",
    "plt.plot(range(1, len(ppn.errors_) + 1), ppn.errors_, marker='*')\n",
    "plt.title('Datos de entrenamiento')\n",
    "plt.xlabel('Iteraciones')\n",
    "plt.ylabel('Cantidad de actualizaciones')\n",
    "plt.show()"
   ]
  },
  {
   "cell_type": "code",
   "execution_count": 30,
   "id": "41024afb",
   "metadata": {},
   "outputs": [
    {
     "name": "stdout",
     "output_type": "stream",
     "text": [
      "Dimensiones de Y_test: (210,)\n",
      "Dimensiones de T_test: (210,)\n",
      "cantidad de tests:  210\n",
      "aciertos:  140\n",
      "% de aciertos = 66.67 %\n"
     ]
    }
   ],
   "source": [
    "Y_test = ppn.predict(X)\n",
    "nAciertos = np.sum(Y_test == T)\n",
    "print(\"Dimensiones de Y_test:\", Y_test.shape)\n",
    "print(\"Dimensiones de T_test:\", T.shape)\n",
    "print(\"cantidad de tests: \", X.shape[0])\n",
    "print(\"aciertos: \", nAciertos)\n",
    "print(\"%% de aciertos = %.2f %%\" % (100 * nAciertos / X.shape[0]))"
   ]
  },
  {
   "cell_type": "code",
   "execution_count": null,
   "id": "03469011",
   "metadata": {},
   "outputs": [],
   "source": []
  }
 ],
 "metadata": {
  "kernelspec": {
   "display_name": "Python 3 (ipykernel)",
   "language": "python",
   "name": "python3"
  },
  "language_info": {
   "codemirror_mode": {
    "name": "ipython",
    "version": 3
   },
   "file_extension": ".py",
   "mimetype": "text/x-python",
   "name": "python",
   "nbconvert_exporter": "python",
   "pygments_lexer": "ipython3",
   "version": "3.11.5"
  }
 },
 "nbformat": 4,
 "nbformat_minor": 5
}
