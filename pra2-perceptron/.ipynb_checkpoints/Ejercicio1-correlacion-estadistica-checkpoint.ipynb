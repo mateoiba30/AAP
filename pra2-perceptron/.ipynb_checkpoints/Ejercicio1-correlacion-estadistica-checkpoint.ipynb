{
 "cells": [
  {
   "cell_type": "markdown",
   "id": "472b7e81",
   "metadata": {},
   "source": [
    "# inciso A"
   ]
  },
  {
   "cell_type": "code",
   "execution_count": 2,
   "id": "b7a9467c",
   "metadata": {},
   "outputs": [],
   "source": [
    "FUENTES_DIR  = '../Fuentes'\n",
    "DATOS_DIR    = '../Datos/' \n",
    "    \n",
    "import sys\n",
    "sys.path.append(FUENTES_DIR)\n",
    "import pandas as pd\n",
    "import numpy as np\n",
    "from matplotlib import pylab as plt\n",
    "from sklearn import model_selection,preprocessing\n",
    "from ClassPerceptron import Perceptron"
   ]
  },
  {
   "cell_type": "code",
   "execution_count": 12,
   "id": "8b6e39eb",
   "metadata": {},
   "outputs": [
    {
     "name": "stdout",
     "output_type": "stream",
     "text": [
      "<bound method DataFrame.corr of      Year Species   Wing  Weight  Tail  Hallux  Coopers?  Red-tailed?  \\\n",
      "0    1992      RT  385.0   920.0   219    30.1         0            1   \n",
      "1    1992      RT  381.0   990.0   235    31.3         0            1   \n",
      "2    1992      CH  265.0   470.0   220    23.5         1            0   \n",
      "3    1992      RT  370.0   960.0   212    30.1         0            1   \n",
      "4    1992      RT  405.0  1120.0   238    30.2         0            1   \n",
      "..    ...     ...    ...     ...   ...     ...       ...          ...   \n",
      "442  2003      RT  362.0   840.0   206    26.1         0            1   \n",
      "443  2003      SS  190.0   200.0   157    15.0         0            0   \n",
      "444  2003      SS  197.0   185.0   157    15.6         0            0   \n",
      "445  2003      RT  360.0  1325.0   224    30.6         0            1   \n",
      "446  2003      RT  369.0   860.0   207    28.0         0            1   \n",
      "\n",
      "     Sharp-shinned?  \n",
      "0                 0  \n",
      "1                 0  \n",
      "2                 0  \n",
      "3                 0  \n",
      "4                 0  \n",
      "..              ...  \n",
      "442               0  \n",
      "443               1  \n",
      "444               1  \n",
      "445               0  \n",
      "446               0  \n",
      "\n",
      "[447 rows x 9 columns]>\n"
     ]
    }
   ],
   "source": [
    "df = pd.read_csv(DATOS_DIR + \"Hawks.csv\")\n",
    "df.head(20)\n",
    "#print(df.corr())\n",
    "correlation = df\n",
    "correlation.drop(columns=\"Species\", axis=1)\n",
    "print(correlation.corr)"
   ]
  },
  {
   "cell_type": "code",
   "execution_count": 5,
   "id": "fe4b69fa",
   "metadata": {},
   "outputs": [
    {
     "data": {
      "text/html": [
       "<div>\n",
       "<style scoped>\n",
       "    .dataframe tbody tr th:only-of-type {\n",
       "        vertical-align: middle;\n",
       "    }\n",
       "\n",
       "    .dataframe tbody tr th {\n",
       "        vertical-align: top;\n",
       "    }\n",
       "\n",
       "    .dataframe thead th {\n",
       "        text-align: right;\n",
       "    }\n",
       "</style>\n",
       "<table border=\"1\" class=\"dataframe\">\n",
       "  <thead>\n",
       "    <tr style=\"text-align: right;\">\n",
       "      <th></th>\n",
       "      <th>Ala</th>\n",
       "      <th>Cola</th>\n",
       "    </tr>\n",
       "  </thead>\n",
       "  <tbody>\n",
       "    <tr>\n",
       "      <th>0</th>\n",
       "      <td>385.0</td>\n",
       "      <td>219</td>\n",
       "    </tr>\n",
       "    <tr>\n",
       "      <th>1</th>\n",
       "      <td>381.0</td>\n",
       "      <td>235</td>\n",
       "    </tr>\n",
       "    <tr>\n",
       "      <th>2</th>\n",
       "      <td>265.0</td>\n",
       "      <td>220</td>\n",
       "    </tr>\n",
       "    <tr>\n",
       "      <th>3</th>\n",
       "      <td>370.0</td>\n",
       "      <td>212</td>\n",
       "    </tr>\n",
       "    <tr>\n",
       "      <th>4</th>\n",
       "      <td>405.0</td>\n",
       "      <td>238</td>\n",
       "    </tr>\n",
       "  </tbody>\n",
       "</table>\n",
       "</div>"
      ],
      "text/plain": [
       "     Ala  Cola\n",
       "0  385.0   219\n",
       "1  381.0   235\n",
       "2  265.0   220\n",
       "3  370.0   212\n",
       "4  405.0   238"
      ]
     },
     "execution_count": 5,
     "metadata": {},
     "output_type": "execute_result"
    }
   ],
   "source": [
    "alaYcola = pd.DataFrame()\n",
    "alaYcola['Ala']= df['Wing']\n",
    "alaYcola['Cola'] = df['Tail']\n",
    "alaYcola.head()"
   ]
  },
  {
   "cell_type": "code",
   "execution_count": 6,
   "id": "6e6c4325",
   "metadata": {},
   "outputs": [
    {
     "name": "stdout",
     "output_type": "stream",
     "text": [
      "           Ala      Cola\n",
      "Ala   1.000000  0.911765\n",
      "Cola  0.911765  1.000000\n"
     ]
    }
   ],
   "source": [
    "print(alaYcola.corr())"
   ]
  },
  {
   "cell_type": "markdown",
   "id": "8954c491",
   "metadata": {},
   "source": [
    "# Correlación\n",
    "<0.5 no hay\n",
    "\n",
    "\\>= 0.8 fuerte\n",
    "sinó se dice débil\n",
    "\n",
    "la correlación entre ala y cola es de 0.911765..., lo que indica que es una correlación fuerte positiva. Cuando el tamaño del ala aumenta, significa que las alas aumentan cuando la cola crece (casi siempre es así)"
   ]
  },
  {
   "cell_type": "markdown",
   "id": "3d64f5a3",
   "metadata": {},
   "source": [
    "# Inciso B"
   ]
  },
  {
   "cell_type": "code",
   "execution_count": null,
   "id": "a5b2d04b",
   "metadata": {},
   "outputs": [],
   "source": [
    "hallux_list = []\n",
    "for index, row in df.iterrows():\n",
    "    hallux_list.append(row.Hallux)\n",
    "hallux = np.array(hallux_list)#primero usamos una lista porque es más eficiente\n",
    "hallux2D = hallux.reshape(-1, 1) #ponemos todo dentro de unos corchetes para que lo pueda manipular MinMaxScaler()\n",
    "                                 \n",
    "# Normaliza utilizando la media y el desvio\n",
    "normalizador= preprocessing.MinMaxScaler()\n",
    "hallux_normalizado2D = normalizador.fit_transform(hallux2D)\n",
    "hallux_normalizado = hallux_normalizado2D.reshape(-1)\n",
    "print(hallux_normalizado)\n",
    "                                    \n"
   ]
  },
  {
   "cell_type": "code",
   "execution_count": null,
   "id": "12c70b6b",
   "metadata": {},
   "outputs": [],
   "source": [
    "print(hallux)"
   ]
  },
  {
   "cell_type": "code",
   "execution_count": null,
   "id": "39e6d93a",
   "metadata": {},
   "outputs": [],
   "source": [
    "estadistica = pd.DataFrame()\n",
    "estadistica['medida']=[\"media\", \"desvío estándar\", \"minimo\", \"Q1\", \"Q2\", \"Q3\", \"RIC\", \"Maximo\", \"Bigote inferior\", \"Bigote superior\"]\n",
    "estadistica.head(10)"
   ]
  },
  {
   "cell_type": "code",
   "execution_count": null,
   "id": "fe67e276",
   "metadata": {},
   "outputs": [],
   "source": [
    "def completarColumna(columna, arreglo):\n",
    "    q3 = np.percentile(arreglo, 75)\n",
    "    q1 = np.percentile(arreglo, 25)\n",
    "    ric = q3 - q1\n",
    "    bigote_inferior = q1 - 1.5 * ric\n",
    "    bigote_superior = q3 + 1.5 * ric\n",
    "    estadistica[columna] = [arreglo.mean(), arreglo.std(), arreglo.min(), q1, np.percentile(arreglo, 50), q3, ric, arreglo.max(), bigote_inferior, bigote_superior]\n",
    "    \n",
    "completarColumna(\"sin normalizar\", hallux)\n",
    "completarColumna(\"normalizado\", hallux_normalizado)\n",
    "estadistica['normalizado'] = estadistica['normalizado'].apply(lambda x: '{:.6f}'.format(x)) # para no ver los datos en notación científica\n",
    "estadistica.head(10)"
   ]
  },
  {
   "cell_type": "markdown",
   "id": "6ad30b35",
   "metadata": {},
   "source": [
    "aclaraciones: \n",
    "El bigote inferior se extiende desde el primer cuartil (Q1) hasta el valor mínimo dentro del rango de normalidad, el cual va desde el límite inferior (q1 - 15*ric) hasta el límite superior (q3 + 15*ric).\n",
    "Estamos calculando la desviación estándar, no la máxima. Esta medida conserva las unidades originales.\n",
    "\n",
    "I. El valor de Q2 (lo mismo que la mediana) normalizado permite afirmar que la media y la mediana tienen valores cercanos.\n",
    "    verdadero\n",
    "    \n",
    "II. El máximo valor de Hallux se encuentra a más de 9 desvíos por encima de la media.\n",
    "    verdadero, se ve que está a 9.8 desvíos\n",
    "    \n",
    "III. Un hallux que mida más de 600 mm es considerado atípico extremo.\n",
    "    verdadero. bigote sup + 1.5*ric = 80.5 -> los datos mayores a este número son atípicos extremos\n",
    "    \n",
    "IV. Un valor normalizado del atributo “hallux” de 2 se considerará un valor atípico extremo.\n",
    "    Falso, ya que ni siquiera habríamos superado el bigote superior (no es nisiquiera un atípico)\n",
    "    \n",
    "V. En un gavilán es atípico que su hallux mida menos de 100 mm.\n",
    "    Falso, la media es de menos de 100"
   ]
  },
  {
   "cell_type": "code",
   "execution_count": null,
   "id": "aa370bca",
   "metadata": {},
   "outputs": [],
   "source": []
  }
 ],
 "metadata": {
  "kernelspec": {
   "display_name": "Python 3 (ipykernel)",
   "language": "python",
   "name": "python3"
  },
  "language_info": {
   "codemirror_mode": {
    "name": "ipython",
    "version": 3
   },
   "file_extension": ".py",
   "mimetype": "text/x-python",
   "name": "python",
   "nbconvert_exporter": "python",
   "pygments_lexer": "ipython3",
   "version": "3.11.5"
  }
 },
 "nbformat": 4,
 "nbformat_minor": 5
}
