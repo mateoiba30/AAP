{
 "cells": [
  {
   "cell_type": "markdown",
   "id": "443a164b",
   "metadata": {},
   "source": [
    "el 0 no siempre corresponde al falso, eso lo elijo yo"
   ]
  },
  {
   "cell_type": "code",
   "execution_count": 1,
   "id": "4854bf71",
   "metadata": {},
   "outputs": [
    {
     "name": "stdout",
     "output_type": "stream",
     "text": [
      "C:\\Users\\Mateo\\Documents\\1-uni\\2024\\cuatri2\\aap\\pra\\pra2-perceptron\n"
     ]
    }
   ],
   "source": [
    "import os\n",
    "print(os.getcwd())"
   ]
  },
  {
   "cell_type": "code",
   "execution_count": 2,
   "id": "29c55348",
   "metadata": {},
   "outputs": [],
   "source": [
    "FUENTES_DIR  = '../Fuentes'\n",
    "import sys\n",
    "sys.path.append(FUENTES_DIR)\n",
    "\n",
    "import pandas as pd\n",
    "import numpy as np\n",
    "from matplotlib import pylab as plt\n",
    "from sklearn import model_selection,preprocessing\n",
    "from ClassPerceptron import Perceptron"
   ]
  },
  {
   "cell_type": "code",
   "execution_count": 7,
   "id": "3eeb5d06",
   "metadata": {},
   "outputs": [
    {
     "name": "stdout",
     "output_type": "stream",
     "text": [
      "[[0.28571429 1.        ]\n",
      " [0.42857143 0.5       ]\n",
      " [0.71428571 0.5       ]\n",
      " [0.42857143 0.        ]\n",
      " [0.85714286 0.        ]\n",
      " [0.57142857 0.5       ]\n",
      " [1.         0.        ]\n",
      " [0.         1.        ]\n",
      " [0.85714286 0.5       ]]\n"
     ]
    }
   ],
   "source": [
    "#incorporamos datos, por ahora no vamos a separar los datos entre entrenamiento y testeo porque son pocos\n",
    "X = np.array([[55,3],[56,2],[58,2],[56,1],[59,1],[57,2],[60,1],[53,3],[59,2]]) #con los datos que uso para predecir\n",
    "T = np.array([1, 0, 1, 0, 0, 1, 1, 0, 1]) #Los datos que busco predecir\n",
    "\n",
    "#normalizo linealmente entre 0 y 1\n",
    "normalizador = preprocessing.MinMaxScaler()\n",
    "X = normalizador.fit_transform(X)\n",
    "\n",
    "#inicializamos un perceptron con sus variables\n",
    "ppn = Perceptron(alpha=0.01, n_iter=650, random_state=None) \n",
    "ppn.fit(X, T)\n",
    "print(X)"
   ]
  },
  {
   "cell_type": "code",
   "execution_count": 4,
   "id": "1b2e8d04",
   "metadata": {},
   "outputs": [
    {
     "data": {
      "image/png": "[encoded data removed]",
      "text/plain": [
       "<Figure size 640x480 with 1 Axes>"
      ]
     },
     "metadata": {},
     "output_type": "display_data"
    }
   ],
   "source": [
    "#graficamos\n",
    "plt.plot(range(1, len(ppn.errors_) + 1), ppn.errors_, marker='*')\n",
    "# range(1, len(ppn.errors_) + 1) = lista de 1 hasta la cant de errores, esto nos sirve para hacer el eje Y del gráfico\n",
    "# ppn.errors_ = la lista de errores para cada iteración, nos la da el perceptrón\n",
    "# marker='o' indica como marco los puntos de la gráfica\n",
    "\n",
    "#nombro a los ejes\n",
    "plt.title('Datos de entrenamiento')\n",
    "plt.xlabel('Iteraciones')\n",
    "plt.ylabel('Cantidad de actualizaciones')\n",
    "plt.show()"
   ]
  },
  {
   "cell_type": "markdown",
   "id": "84d3b3eb",
   "metadata": {},
   "source": [
    "a) significa que cuando la edad aumenta, el riesgo disminuye casi con la misma intensidad\n",
    "La consigna no pedía hacer un perceptrón, pero de todas formas lo hice. Ahora vamos a ver que predeciría un perceptrón con la siguiente asignación de pesos y bias\n",
    "\n",
    "b) predicción = 0.0807 x EDAD + 0.074 x RIESGO + - 0.0742\n",
    "\n",
    "veamos a continuación lo que predeciría este percetrón teórico:"
   ]
  },
  {
   "cell_type": "code",
   "execution_count": 5,
   "id": "e1214980",
   "metadata": {},
   "outputs": [
    {
     "name": "stdout",
     "output_type": "stream",
     "text": [
      "[True, False, True, False, False, True, True, False, True]\n"
     ]
    }
   ],
   "source": [
    "W = np.array([0.0807, 0.074])\n",
    "Y = np.dot(X, W) - 0.0742 # a cada fila del X, vamos a multiplicar por su peso correspondiente a cada campo y al final sumar el bias para ver la predicción de cada registro\n",
    "Y_booleano = []\n",
    "\n",
    "for y in Y:\n",
    "    if (y > 0): #yo elijo si el 0 es positivo o negativo\n",
    "        Y_booleano.append(True)\n",
    "    else:\n",
    "        Y_booleano.append(False)\n",
    "\n",
    "print(Y_booleano)\n",
    "    "
   ]
  },
  {
   "cell_type": "code",
   "execution_count": 6,
   "id": "88979f1d",
   "metadata": {},
   "outputs": [
    {
     "name": "stdout",
     "output_type": "stream",
     "text": [
      "[0 1 0 1 1 0 0 1 0]\n",
      "------------\n",
      "[1 0 1 0 0 1 1 0 1]\n"
     ]
    }
   ],
   "source": [
    "#X_entry = np.array([[50,1],[51,2],[54,3]])\n",
    "W = np.array([-0.076, -0.071])\n",
    "input = np.dot(X, W) +  0.071\n",
    "prediction = np.where(input >= 0.0,1,0)\n",
    "print(prediction)\n",
    "print(\"------------\")\n",
    "print(T)"
   ]
  },
  {
   "cell_type": "code",
   "execution_count": 10,
   "id": "6cfec796",
   "metadata": {},
   "outputs": [
    {
     "name": "stdout",
     "output_type": "stream",
     "text": [
      "[[0. 0.]]\n"
     ]
    }
   ],
   "source": [
    "# prueba = np.array([[55, 2]])\n",
    "# normalizador = preprocessing.MinMaxScaler()\n",
    "# prueba = normalizador.fit_transform(prueba)\n",
    "# print(prueba)"
   ]
  },
  {
   "cell_type": "code",
   "execution_count": null,
   "id": "3e78c168",
   "metadata": {},
   "outputs": [],
   "source": []
  }
 ],
 "metadata": {
  "kernelspec": {
   "display_name": "Python 3 (ipykernel)",
   "language": "python",
   "name": "python3"
  },
  "language_info": {
   "codemirror_mode": {
    "name": "ipython",
    "version": 3
   },
   "file_extension": ".py",
   "mimetype": "text/x-python",
   "name": "python",
   "nbconvert_exporter": "python",
   "pygments_lexer": "ipython3",
   "version": "3.11.5"
  }
 },
 "nbformat": 4,
 "nbformat_minor": 5
}
