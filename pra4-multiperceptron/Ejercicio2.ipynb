{
 "cells": [
  {
   "cell_type": "code",
   "execution_count": 3,
   "id": "d913b9c0",
   "metadata": {},
   "outputs": [],
   "source": [
    "import pandas as pd      # para trabajar con archivos de datos csv, excel\n",
    "import numpy as np\n",
    "\n",
    "from sklearn import preprocessing, model_selection\n",
    "from sklearn.neural_network import MLPClassifier\n",
    "from matplotlib import pyplot as plt\n",
    "\n",
    "nombre_archivo = '../Datos/Semillas.csv' # archivo de hojas\n",
    "\n",
    "df = pd.read_csv(nombre_archivo)"
   ]
  },
  {
   "cell_type": "code",
   "execution_count": 4,
   "id": "85b50b61",
   "metadata": {},
   "outputs": [
    {
     "data": {
      "text/html": [
       "<div>\n",
       "<style scoped>\n",
       "    .dataframe tbody tr th:only-of-type {\n",
       "        vertical-align: middle;\n",
       "    }\n",
       "\n",
       "    .dataframe tbody tr th {\n",
       "        vertical-align: top;\n",
       "    }\n",
       "\n",
       "    .dataframe thead th {\n",
       "        text-align: right;\n",
       "    }\n",
       "</style>\n",
       "<table border=\"1\" class=\"dataframe\">\n",
       "  <thead>\n",
       "    <tr style=\"text-align: right;\">\n",
       "      <th></th>\n",
       "      <th>Area</th>\n",
       "      <th>Perimetro</th>\n",
       "      <th>Compacidad</th>\n",
       "      <th>LongNucleo</th>\n",
       "      <th>AnchoNucleo</th>\n",
       "      <th>Asimetria</th>\n",
       "      <th>LongSurco</th>\n",
       "      <th>Clase</th>\n",
       "    </tr>\n",
       "  </thead>\n",
       "  <tbody>\n",
       "    <tr>\n",
       "      <th>0</th>\n",
       "      <td>15.26</td>\n",
       "      <td>14.84</td>\n",
       "      <td>0.8710</td>\n",
       "      <td>5.763</td>\n",
       "      <td>3.312</td>\n",
       "      <td>2.221</td>\n",
       "      <td>5.220</td>\n",
       "      <td>Tipo1</td>\n",
       "    </tr>\n",
       "    <tr>\n",
       "      <th>1</th>\n",
       "      <td>14.88</td>\n",
       "      <td>14.57</td>\n",
       "      <td>0.8811</td>\n",
       "      <td>5.554</td>\n",
       "      <td>3.333</td>\n",
       "      <td>1.018</td>\n",
       "      <td>4.956</td>\n",
       "      <td>Tipo1</td>\n",
       "    </tr>\n",
       "    <tr>\n",
       "      <th>2</th>\n",
       "      <td>14.29</td>\n",
       "      <td>14.09</td>\n",
       "      <td>0.9050</td>\n",
       "      <td>5.291</td>\n",
       "      <td>3.337</td>\n",
       "      <td>2.699</td>\n",
       "      <td>4.825</td>\n",
       "      <td>Tipo1</td>\n",
       "    </tr>\n",
       "    <tr>\n",
       "      <th>3</th>\n",
       "      <td>13.84</td>\n",
       "      <td>13.94</td>\n",
       "      <td>0.8955</td>\n",
       "      <td>5.324</td>\n",
       "      <td>3.379</td>\n",
       "      <td>2.259</td>\n",
       "      <td>4.805</td>\n",
       "      <td>Tipo1</td>\n",
       "    </tr>\n",
       "    <tr>\n",
       "      <th>4</th>\n",
       "      <td>16.14</td>\n",
       "      <td>14.99</td>\n",
       "      <td>0.9034</td>\n",
       "      <td>5.658</td>\n",
       "      <td>3.562</td>\n",
       "      <td>1.355</td>\n",
       "      <td>5.175</td>\n",
       "      <td>Tipo1</td>\n",
       "    </tr>\n",
       "  </tbody>\n",
       "</table>\n",
       "</div>"
      ],
      "text/plain": [
       "    Area  Perimetro  Compacidad  LongNucleo  AnchoNucleo  Asimetria  \\\n",
       "0  15.26      14.84      0.8710       5.763        3.312      2.221   \n",
       "1  14.88      14.57      0.8811       5.554        3.333      1.018   \n",
       "2  14.29      14.09      0.9050       5.291        3.337      2.699   \n",
       "3  13.84      13.94      0.8955       5.324        3.379      2.259   \n",
       "4  16.14      14.99      0.9034       5.658        3.562      1.355   \n",
       "\n",
       "   LongSurco  Clase  \n",
       "0      5.220  Tipo1  \n",
       "1      4.956  Tipo1  \n",
       "2      4.825  Tipo1  \n",
       "3      4.805  Tipo1  \n",
       "4      5.175  Tipo1  "
      ]
     },
     "execution_count": 4,
     "metadata": {},
     "output_type": "execute_result"
    }
   ],
   "source": [
    "df.head()"
   ]
  },
  {
   "cell_type": "code",
   "execution_count": 5,
   "id": "047370ea",
   "metadata": {},
   "outputs": [
    {
     "name": "stdout",
     "output_type": "stream",
     "text": [
      "['Tipo1' 'Tipo2' 'Tipo3']\n"
     ]
    }
   ],
   "source": [
    "print(df.Clase.unique())"
   ]
  },
  {
   "cell_type": "markdown",
   "id": "04d329dc",
   "metadata": {},
   "source": [
    "# a)\n",
    "i)si intento predecir la clase en base a todas las otras variables, entonces tendría 8 arcos de entrada (1 por el bias), lo que significa que tengo 7 neuronas de entrada (el bias no es una neurona)\n",
    "\n",
    "ii) la capa de salida va a tener 3 neuronas, ya que hay 3 tipos de clase posible a predecir\n",
    "\n",
    "iii) si tengo 4 neuronas en la capa intermedia:\n",
    "\n",
    "    hay 8 * 4 arcos entre la 1er y 2da capa\n",
    "    hay 4 * 3 arcos entre la 2da y 3er capa\n",
    "    total = 8*4 + 4*3 = 32 + 12 = 44"
   ]
  },
  {
   "cell_type": "markdown",
   "id": "1cae5e0e",
   "metadata": {},
   "source": [
    "# b)\n",
    "respuesta incorrecta:la dirección del cambio (si le sumo o resto algo a cada peso) es condicionado por el valor del gradiente (ya que puede ser positivo o negativo). No lo condiciona el valor actual del peso ni el error de la predicción (el error dice cuando dejar de corregirse porque ya anda bien)\n",
    "\n",
    "respuesta que espera laura: si, no, si"
   ]
  },
  {
   "cell_type": "markdown",
   "id": "f1249526",
   "metadata": {},
   "source": [
    "# c)\n",
    "Dice que se usa sigmoide, por lo cual cada neurona aprende por su cuenta y en este caso solo se modifican los pesos de los arcos relacionados a la neurona que dijo 0.78. Si se usaría softmax es muy raro modificar los pesos de una sola neurona porque aprenden en conjunto"
   ]
  },
  {
   "cell_type": "code",
   "execution_count": null,
   "id": "48455612",
   "metadata": {},
   "outputs": [],
   "source": []
  }
 ],
 "metadata": {
  "kernelspec": {
   "display_name": "Python 3 (ipykernel)",
   "language": "python",
   "name": "python3"
  },
  "language_info": {
   "codemirror_mode": {
    "name": "ipython",
    "version": 3
   },
   "file_extension": ".py",
   "mimetype": "text/x-python",
   "name": "python",
   "nbconvert_exporter": "python",
   "pygments_lexer": "ipython3",
   "version": "3.11.5"
  }
 },
 "nbformat": 4,
 "nbformat_minor": 5
}
