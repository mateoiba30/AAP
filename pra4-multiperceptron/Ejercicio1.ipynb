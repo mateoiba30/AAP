{
 "cells": [
  {
   "cell_type": "markdown",
   "id": "23fecb3c",
   "metadata": {},
   "source": [
    "a) \n",
    "    i) para saber los ejemplos de entrenamiento debemos sumar todas las celdas de la matriz de confusión\n",
    "    ii) el multiperceptrón puede diferenciar entre 5 clases\n",
    "    iii) accuracy: cant predicciones en la diag / cant de datos de entrenamiento\n",
    "    iv) precisión: proporción de predicciones correctas (en la diagonal) de una columna\n",
    "    v) recall: proporción de predicciones correctas (en la diagonal) de una fila\n",
    "    \n",
    "b) f1: 2*(precision * recal) * (precision + recall)"
   ]
  },
  {
   "cell_type": "code",
   "execution_count": null,
   "id": "ded820db",
   "metadata": {},
   "outputs": [],
   "source": []
  }
 ],
 "metadata": {
  "kernelspec": {
   "display_name": "Python 3 (ipykernel)",
   "language": "python",
   "name": "python3"
  },
  "language_info": {
   "codemirror_mode": {
    "name": "ipython",
    "version": 3
   },
   "file_extension": ".py",
   "mimetype": "text/x-python",
   "name": "python",
   "nbconvert_exporter": "python",
   "pygments_lexer": "ipython3",
   "version": "3.11.5"
  }
 },
 "nbformat": 4,
 "nbformat_minor": 5
}
