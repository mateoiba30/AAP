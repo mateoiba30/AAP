{
 "cells": [
  {
   "cell_type": "code",
   "execution_count": 103,
   "id": "1e65900b",
   "metadata": {},
   "outputs": [
    {
     "data": {
      "text/html": [
       "<div>\n",
       "<style scoped>\n",
       "    .dataframe tbody tr th:only-of-type {\n",
       "        vertical-align: middle;\n",
       "    }\n",
       "\n",
       "    .dataframe tbody tr th {\n",
       "        vertical-align: top;\n",
       "    }\n",
       "\n",
       "    .dataframe thead th {\n",
       "        text-align: right;\n",
       "    }\n",
       "</style>\n",
       "<table border=\"1\" class=\"dataframe\">\n",
       "  <thead>\n",
       "    <tr style=\"text-align: right;\">\n",
       "      <th></th>\n",
       "      <th>Class</th>\n",
       "      <th>Alcohol</th>\n",
       "      <th>Malic acid</th>\n",
       "      <th>Ash</th>\n",
       "      <th>Alcalinity of ash</th>\n",
       "      <th>Magnesium</th>\n",
       "      <th>Total phenols</th>\n",
       "      <th>Flavanoids</th>\n",
       "      <th>Nonflavanoid phenols</th>\n",
       "      <th>Proanthocyanins</th>\n",
       "      <th>Color intensity</th>\n",
       "      <th>Hue</th>\n",
       "      <th>OD280/OD315</th>\n",
       "      <th>Proline</th>\n",
       "    </tr>\n",
       "  </thead>\n",
       "  <tbody>\n",
       "    <tr>\n",
       "      <th>0</th>\n",
       "      <td>1</td>\n",
       "      <td>14.23</td>\n",
       "      <td>1.71</td>\n",
       "      <td>2.43</td>\n",
       "      <td>15.6</td>\n",
       "      <td>127</td>\n",
       "      <td>2.80</td>\n",
       "      <td>3.06</td>\n",
       "      <td>0.28</td>\n",
       "      <td>2.29</td>\n",
       "      <td>5.64</td>\n",
       "      <td>1.04</td>\n",
       "      <td>3.92</td>\n",
       "      <td>1065</td>\n",
       "    </tr>\n",
       "    <tr>\n",
       "      <th>1</th>\n",
       "      <td>1</td>\n",
       "      <td>13.20</td>\n",
       "      <td>1.78</td>\n",
       "      <td>2.14</td>\n",
       "      <td>11.2</td>\n",
       "      <td>100</td>\n",
       "      <td>2.65</td>\n",
       "      <td>2.76</td>\n",
       "      <td>0.26</td>\n",
       "      <td>1.28</td>\n",
       "      <td>4.38</td>\n",
       "      <td>1.05</td>\n",
       "      <td>3.40</td>\n",
       "      <td>1050</td>\n",
       "    </tr>\n",
       "    <tr>\n",
       "      <th>2</th>\n",
       "      <td>1</td>\n",
       "      <td>13.16</td>\n",
       "      <td>2.36</td>\n",
       "      <td>2.67</td>\n",
       "      <td>18.6</td>\n",
       "      <td>101</td>\n",
       "      <td>2.80</td>\n",
       "      <td>3.24</td>\n",
       "      <td>0.30</td>\n",
       "      <td>2.81</td>\n",
       "      <td>5.68</td>\n",
       "      <td>1.03</td>\n",
       "      <td>3.17</td>\n",
       "      <td>1185</td>\n",
       "    </tr>\n",
       "    <tr>\n",
       "      <th>3</th>\n",
       "      <td>1</td>\n",
       "      <td>14.37</td>\n",
       "      <td>1.95</td>\n",
       "      <td>2.50</td>\n",
       "      <td>16.8</td>\n",
       "      <td>113</td>\n",
       "      <td>3.85</td>\n",
       "      <td>3.49</td>\n",
       "      <td>0.24</td>\n",
       "      <td>2.18</td>\n",
       "      <td>7.80</td>\n",
       "      <td>0.86</td>\n",
       "      <td>3.45</td>\n",
       "      <td>1480</td>\n",
       "    </tr>\n",
       "    <tr>\n",
       "      <th>4</th>\n",
       "      <td>1</td>\n",
       "      <td>13.24</td>\n",
       "      <td>2.59</td>\n",
       "      <td>2.87</td>\n",
       "      <td>21.0</td>\n",
       "      <td>118</td>\n",
       "      <td>2.80</td>\n",
       "      <td>2.69</td>\n",
       "      <td>0.39</td>\n",
       "      <td>1.82</td>\n",
       "      <td>4.32</td>\n",
       "      <td>1.04</td>\n",
       "      <td>2.93</td>\n",
       "      <td>735</td>\n",
       "    </tr>\n",
       "  </tbody>\n",
       "</table>\n",
       "</div>"
      ],
      "text/plain": [
       "   Class  Alcohol  Malic acid   Ash  Alcalinity of ash  Magnesium  \\\n",
       "0      1    14.23        1.71  2.43               15.6        127   \n",
       "1      1    13.20        1.78  2.14               11.2        100   \n",
       "2      1    13.16        2.36  2.67               18.6        101   \n",
       "3      1    14.37        1.95  2.50               16.8        113   \n",
       "4      1    13.24        2.59  2.87               21.0        118   \n",
       "\n",
       "   Total phenols  Flavanoids  Nonflavanoid phenols  Proanthocyanins  \\\n",
       "0           2.80        3.06                  0.28             2.29   \n",
       "1           2.65        2.76                  0.26             1.28   \n",
       "2           2.80        3.24                  0.30             2.81   \n",
       "3           3.85        3.49                  0.24             2.18   \n",
       "4           2.80        2.69                  0.39             1.82   \n",
       "\n",
       "   Color intensity   Hue  OD280/OD315  Proline  \n",
       "0             5.64  1.04         3.92     1065  \n",
       "1             4.38  1.05         3.40     1050  \n",
       "2             5.68  1.03         3.17     1185  \n",
       "3             7.80  0.86         3.45     1480  \n",
       "4             4.32  1.04         2.93      735  "
      ]
     },
     "execution_count": 103,
     "metadata": {},
     "output_type": "execute_result"
    }
   ],
   "source": [
    "import pandas as pd      # para trabajar con archivos de datos csv, excel\n",
    "import numpy as np\n",
    "\n",
    "from sklearn import preprocessing, model_selection\n",
    "from sklearn.neural_network import MLPClassifier\n",
    "from matplotlib import pyplot as plt\n",
    "\n",
    "nombre_archivo = '../Datos/Vinos.csv'\n",
    "\n",
    "df = pd.read_csv(nombre_archivo, sep=\";\")\n",
    "df.head()"
   ]
  },
  {
   "cell_type": "code",
   "execution_count": 104,
   "id": "9c5891ec",
   "metadata": {},
   "outputs": [
    {
     "name": "stdout",
     "output_type": "stream",
     "text": [
      "[[1.423e+01 1.710e+00 2.430e+00 ... 1.040e+00 3.920e+00 1.065e+03]\n",
      " [1.320e+01 1.780e+00 2.140e+00 ... 1.050e+00 3.400e+00 1.050e+03]\n",
      " [1.316e+01 2.360e+00 2.670e+00 ... 1.030e+00 3.170e+00 1.185e+03]\n",
      " ...\n",
      " [1.327e+01 4.280e+00 2.260e+00 ... 5.900e-01 1.560e+00 8.350e+02]\n",
      " [1.317e+01 2.590e+00 2.370e+00 ... 6.000e-01 1.620e+00 8.400e+02]\n",
      " [1.413e+01 4.100e+00 2.740e+00 ... 6.100e-01 1.600e+00 5.600e+02]]\n"
     ]
    }
   ],
   "source": [
    "X = np.array(df.iloc[:,1:])\n",
    "T= np.array(df.iloc[:,:1])\n",
    "print(X)"
   ]
  },
  {
   "cell_type": "code",
   "execution_count": 105,
   "id": "2a6e752a",
   "metadata": {},
   "outputs": [
    {
     "name": "stdout",
     "output_type": "stream",
     "text": [
      "[[-0.78320229 -0.62864609 -0.18153276 ... -0.30573526  0.21001404\n",
      "  -1.31706833]\n",
      " [-0.36647856  1.35942061  0.16494105 ...  1.03064089  0.72016545\n",
      "  -0.91651134]\n",
      " [ 1.52772024 -0.51326722  0.33817796 ...  0.40699869  0.31204432\n",
      "   2.35084202]\n",
      " ...\n",
      " [ 2.32328374 -0.61977079 -0.63194871 ...  0.5406363   0.31204432\n",
      "   1.01013471]\n",
      " [-0.83371426 -1.19666515 -1.3941911  ...  0.45154456 -0.47504643\n",
      "   0.03357014]\n",
      " [-0.27808261  0.04587654 -0.25082752 ... -1.73120314 -1.46619774\n",
      "  -0.89333862]]\n"
     ]
    }
   ],
   "source": [
    "binarizer = preprocessing.LabelBinarizer() #para el onehot enconding\n",
    "T = binarizer.fit_transform(T)\n",
    "# print(T)\n",
    "\n",
    "X_train, X_test, T_train, T_test = model_selection.train_test_split(X, T, test_size=0.2)#, random_state=42)\n",
    "# print('\\nDatos de Entrenamiento: %d   Datos de Testeo: %d' % (len(T_train), len(T_test) ))\n",
    "\n",
    "scaler = preprocessing.StandardScaler()\n",
    "#scaler = preprocessing.MinMaxScaler()\n",
    "\n",
    "X_train  = scaler.fit_transform( X_train )\n",
    "X_test   = scaler.transform( X_test )\n",
    "\n",
    "print(X_train)"
   ]
  },
  {
   "cell_type": "code",
   "execution_count": 106,
   "id": "4b0f4c19",
   "metadata": {},
   "outputs": [],
   "source": [
    "#elijo parámetros de entrenamiento simialres a los que mostró el profe, siempre usando cosas que vimos por el momento. Aguante Relu loco\n",
    "\n",
    "modelo = MLPClassifier(\n",
    "    hidden_layer_sizes=(4),\n",
    "    tol=1.0e-4,\n",
    "    activation='relu',          # aguante relu, sklearn no tiene leaky relu\n",
    "    solver='adam',              # todavía no vimos esto, pero el profe lo puso\n",
    "    alpha=0.005,\n",
    "    max_iter=2500,                        \n",
    ").fit(X_train, T_train)"
   ]
  },
  {
   "cell_type": "markdown",
   "id": "9632c022",
   "metadata": {},
   "source": [
    "# Precision del entrenamiento"
   ]
  },
  {
   "cell_type": "code",
   "execution_count": 107,
   "id": "96a2e06d",
   "metadata": {},
   "outputs": [
    {
     "name": "stdout",
     "output_type": "stream",
     "text": [
      "Efectividad:  97.18%\n",
      "      Score:   0.97\n",
      "[2 2 1 1 3 2 2 2 2 1 1 3 1 2 2 3 3 2 2 1 2 2 3 2 2 3 3 2 1 2 3 1 3 3 1 1 3\n",
      " 1 1 1 2 1 2 3 2 1 2 1 3 2 3 2 2 1 1 2 3 2 3 1 1 1 1 3 1 2 2 3 2 3 1 1 3 3\n",
      " 1 3 2 2 2 1 2 1 2 2 2 2 1 3 1 3 1 2 1 2 2 3 3 1 2 1 1 3 2 2 1 3 2 2 3 3 2\n",
      " 1 2 3 3 3 3 1 3 1 1 3 2 2 2 3 1 2 2 2 1 1 1 2 2 1 1 2 1 1 2 3]\n"
     ]
    }
   ],
   "source": [
    "Y_pred = modelo.predict(X_train)\n",
    "score = modelo.score(X_train, T_train)\n",
    "\n",
    "# # \"invierte\" la transformacion binaria para obtener los nombres de las clases\n",
    "Y_it = binarizer.inverse_transform(T_train)\n",
    "Y_pred_it = binarizer.inverse_transform(Y_pred)\n",
    "\n",
    "# Y_pred_it = np.argmax(Y_pred, axis = 1)\n",
    "\n",
    "# calculo manual del accuracy\n",
    "print('Efectividad: %6.2f%%' % (100*(Y_pred_it == Y_it).sum()/len(Y_it)) )\n",
    "print('      Score: %6.2f' % (score) )\n",
    "print(Y_pred_it)"
   ]
  },
  {
   "cell_type": "markdown",
   "id": "47730011",
   "metadata": {},
   "source": [
    "# Precisión del testeo"
   ]
  },
  {
   "cell_type": "code",
   "execution_count": 108,
   "id": "1523a029",
   "metadata": {},
   "outputs": [
    {
     "name": "stdout",
     "output_type": "stream",
     "text": [
      "Efectividad: 100.00%\n",
      "      Score:   1.00\n"
     ]
    }
   ],
   "source": [
    "Y_pred = modelo.predict(X_test)\n",
    "score = modelo.score(X_test, T_test)\n",
    "\n",
    "# \"invierte\" la transformacion binaria para obtener los nombres de las clases\n",
    "Y_it = binarizer.inverse_transform(T_test)\n",
    "Y_pred_it = binarizer.inverse_transform(Y_pred)\n",
    "\n",
    "# calculo manual del accuracy\n",
    "print('Efectividad: %6.2f%%' % (100*(Y_pred_it == Y_it).sum()/len(Y_it)) )\n",
    "print('      Score: %6.2f' % (score) )"
   ]
  },
  {
   "cell_type": "markdown",
   "id": "2bcbd2e9",
   "metadata": {},
   "source": [
    "# Resultados \n",
    "\n",
    "|capas ocultas|score train|score test|\n",
    "|---|---|---|\n",
    "|8, 4|0.99|0.94|\n",
    "|8|0.99|0.94|"
   ]
  },
  {
   "cell_type": "code",
   "execution_count": null,
   "id": "c8641061",
   "metadata": {},
   "outputs": [],
   "source": []
  }
 ],
 "metadata": {
  "kernelspec": {
   "display_name": "Python 3 (ipykernel)",
   "language": "python",
   "name": "python3"
  },
  "language_info": {
   "codemirror_mode": {
    "name": "ipython",
    "version": 3
   },
   "file_extension": ".py",
   "mimetype": "text/x-python",
   "name": "python",
   "nbconvert_exporter": "python",
   "pygments_lexer": "ipython3",
   "version": "3.11.5"
  }
 },
 "nbformat": 4,
 "nbformat_minor": 5
}
