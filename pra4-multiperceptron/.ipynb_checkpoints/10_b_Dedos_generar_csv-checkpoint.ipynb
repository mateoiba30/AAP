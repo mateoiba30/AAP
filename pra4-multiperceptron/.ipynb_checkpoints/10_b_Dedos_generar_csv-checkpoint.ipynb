{
 "cells": [
  {
   "cell_type": "markdown",
   "metadata": {
    "id": "vdWG2FEMDVST"
   },
   "source": [
    "# Conversión de Imágenes en Archivo CSV\n",
    "---\n",
    "**Montar la carpeta de Google Drive y definir constantes para trabajar**"
   ]
  },
  {
   "cell_type": "code",
   "execution_count": 10,
   "metadata": {
    "colab": {
     "base_uri": "https://localhost:8080/"
    },
    "executionInfo": {
     "elapsed": 2161,
     "status": "ok",
     "timestamp": 1699708529934,
     "user": {
      "displayName": "Cesar Estrebou",
      "userId": "12510511812709829812"
     },
     "user_tz": 180
    },
    "id": "HIP8SbdLIkDZ",
    "outputId": "e31c0427-e69b-4902-d56d-c5fbfd499fb6"
   },
   "outputs": [],
   "source": [
    "ColabNotebook = 'google.colab' in str(get_ipython())\n",
    "\n",
    "if ColabNotebook:\n",
    "    # monta G-drive en entorno COLAB\n",
    "    from google.colab import drive\n",
    "    drive.mount('/content/drive/')\n",
    "\n",
    "    # carpeta donde se encuentran archivos .py auxiliares\n",
    "    FUENTES_DIR = '/content/drive/MyDrive/Colab Notebooks/FUENTES/'\n",
    "    DATOS_DIR = '/content/drive/MyDrive/Colab Notebooks/DATOS/'      # carpeta donde se encuentran los datasets\n",
    "else:\n",
    "    # configuración para notebook con instalación LOCAL\n",
    "    FUENTES_DIR = '../Fuentes'         # carpeta donde se encuentran archivos .py auxiliares\n",
    "    DATOS_DIR   = '../Datos/' # carpeta donde se encuentran los datasets\n",
    "\n",
    "# agrega ruta de busqueda donde tenemos archivos .py\n",
    "import sys\n",
    "sys.path.append(FUENTES_DIR)"
   ]
  },
  {
   "cell_type": "markdown",
   "metadata": {
    "id": "hj5GbHXwGP1j"
   },
   "source": [
    "**Funciones auxiliares para convertir imagenes en carpetas a caracteristicas geométricas en un archivo separado por comas (csv)**\n",
    "\n",
    "---\n",
    "\n"
   ]
  },
  {
   "cell_type": "code",
   "execution_count": 11,
   "metadata": {
    "id": "44viJuybOEYD"
   },
   "outputs": [],
   "source": [
    "import matplotlib.pyplot as plt\n",
    "import matplotlib.patches as mpatches\n",
    "from skimage.measure import find_contours, regionprops\n",
    "from skimage.filters import threshold_otsu\n",
    "from skimage.morphology import closing, square\n",
    "from skimage.segmentation import clear_border\n",
    "from skimage import io\n",
    "import pandas as pd\n",
    "import numpy as np\n",
    "import glob\n",
    "import math\n",
    "\n",
    "# funcion para extraer características geométricas de un objeto dentro de una imagen\n",
    "def extraer_caracteristicas(imagen):\n",
    "    # busca umbral global con método estadístico de Otsu\n",
    "    umbral = threshold_otsu(imagen)\n",
    "\n",
    "    # binariza la imagen\n",
    "    imagen_bn = (imagen > umbral)*1\n",
    "\n",
    "    # cierra pequeños huecos/cortes que pudiera tener la imagen de la mano\n",
    "    imagen_bn = closing(imagen_bn, square(3))\n",
    "\n",
    "    # remueve artefactos que pudiera tener la imagen en los bordes\n",
    "    imagen_lista = clear_border(imagen_bn)\n",
    "\n",
    "    # extrae regiones de pixeles conectados, para los ejemplos debería haber\n",
    "    # solo una única region. Para cada region obtiene distintas propiedades\n",
    "    # que caracterizan a dicha region, ej: area, perimetro, centro, eje mayor y\n",
    "    # menor, orientacion, coordenadas y área del recuadro que la contiene\n",
    "    regiones = regionprops(imagen_lista)\n",
    "\n",
    "    return (regiones[0], imagen_lista)\n",
    "\n",
    "\n",
    "def mostrar_imagen(axs, imagen, cmap='gray'):\n",
    "    # remueve ejes de los graficos\n",
    "    axs.get_xaxis().set_ticks([])\n",
    "    axs.get_yaxis().set_ticks([])\n",
    "\n",
    "    axs.imshow(imagen, cmap=cmap)\n",
    "\n",
    "\n",
    "# funcion para procesar todas las imagenes de manos mostrando dedos de una carpeta\n",
    "# y generar un archivo csv con las características geometricas de lad mismas\n",
    "def convertir_dataset(dir_orig, dir_arch_dest):\n",
    "\n",
    "    # definición de columnas a guardar en el archivo csv\n",
    "    columnas=['AreaNorm', 'PerimNorm', 'RazonEjes', 'Excentricidad', 'Solidez',\n",
    "                               'Extension', 'CantDedos']\n",
    "\n",
    "    # recupera nombrs de archivos\n",
    "    print(dir_orig)\n",
    "    archivos = glob.glob(dir_orig+'/*.png') #saqué el */* por un /* por como guardé mis archivos\n",
    "\n",
    "    data = np.empty((0, len(columnas)))\n",
    "\n",
    "    # recorre la lista de archivos para procesar cada imagen. Guarda las características\n",
    "    # en un arreglo temporal\n",
    "    for nro, archivo in enumerate(archivos):\n",
    "\n",
    "        print('\\rTransformando %d imágenes: %6.2f%%' % (len(archivos), 100*(nro+1)/len(archivos)), end='')\n",
    "        imagen = io.imread(archivo)\n",
    "\n",
    "        # el nombre de archivo tiene la cantidad de dedos que se estan mostrando\n",
    "        cant_dedos = int(archivo[-6])\n",
    "\n",
    "        # extrae caracteristicas\n",
    "        props, imagen_bn = extraer_caracteristicas(imagen)\n",
    "\n",
    "        area = props.filled_area                # area en pixeles (incluyendo huecos)\n",
    "        ej_mayor = props.major_axis_length      # largo en pixeles del eje mayor en elipse de m. a.\n",
    "        ej_menor = props.minor_axis_length      # largo en pixeles del eje menor en elipse de m. a.\n",
    "        perim = props.perimeter                 # perimetro en pixeles\n",
    "        # EXCENTRICIDAD: relacion con elipse que contiene la region.\n",
    "        # cercano a 0 es un circulo, cercano a 1 es mas estirada la elipse\n",
    "        excentr = props.eccentricity\n",
    "        # SOLIDEZ: razon entre la cantidad de pixeles de la region original y de la\n",
    "        # region convexa. Para generar una region convexa se completan los pixeles\n",
    "        # de forma de eliminar regiones convexas de una figura. La región convexa\n",
    "        # de una estrella de 5 puntas se convertira en un pentágono al completarla\n",
    "        solidez = props.solidity\n",
    "        # EXTENSION: razon entre pixeles de la region original y el rectangulo que\n",
    "        # la contiene (bounding box)\n",
    "        extension = props.extent\n",
    "\n",
    "        # normaliza algunos valores para para que las unidades sean independientes de los pixeles\n",
    "        area = area /  ((ej_mayor*ej_menor))\n",
    "        perim = perim / ((ej_mayor+ej_menor)/2)\n",
    "        #perim = perim / math.sqrt(ej_mayor*ej_menor)\n",
    "        razon_ej = ej_menor/ej_mayor\n",
    "        data = np.append(data, np.array([[area, perim, razon_ej, excentr,\n",
    "                                          solidez, extension, cant_dedos]]), axis=0)\n",
    "\n",
    "    df = pd.DataFrame(columns=columnas, data = data)\n",
    "    df.to_csv(dir_arch_dest)"
   ]
  },
  {
   "cell_type": "markdown",
   "metadata": {
    "id": "Bl2l7jYvG5sP"
   },
   "source": [
    "**Asignar atributos sin valor o con valor nulo**"
   ]
  },
  {
   "cell_type": "code",
   "execution_count": 12,
   "metadata": {
    "id": "wK3O7NmWGkwy"
   },
   "outputs": [
    {
     "name": "stdout",
     "output_type": "stream",
     "text": [
      "../Datos/fingers/train/\n",
      "Transformando 18000 imágenes: 100.00%../Datos/fingers/test/\n",
      "Transformando 3600 imágenes: 100.00%"
     ]
    }
   ],
   "source": [
    "DEDOS_DIR = DATOS_DIR + 'fingers/'\n",
    "convertir_dataset(DEDOS_DIR+'train/', DEDOS_DIR+'fingers_train.csv')\n",
    "convertir_dataset(DEDOS_DIR+'test/' , DEDOS_DIR+'fingers_test.csv')"
   ]
  }
 ],
 "metadata": {
  "colab": {
   "provenance": [
    {
     "file_id": "1h9-ghQ8VXSPHLSG8Hkv8V3MqycXubDfN",
     "timestamp": 1667621061373
    },
    {
     "file_id": "1FV-Ydu5NBJ7DvGNfrlwMxfBHzXCqsO4A",
     "timestamp": 1667001788387
    }
   ]
  },
  "gpuClass": "standard",
  "kernelspec": {
   "display_name": "Python 3 (ipykernel)",
   "language": "python",
   "name": "python3"
  },
  "language_info": {
   "codemirror_mode": {
    "name": "ipython",
    "version": 3
   },
   "file_extension": ".py",
   "mimetype": "text/x-python",
   "name": "python",
   "nbconvert_exporter": "python",
   "pygments_lexer": "ipython3",
   "version": "3.11.5"
  },
  "varInspector": {
   "cols": {
    "lenName": "16",
    "lenType": "16",
    "lenVar": "50"
   },
   "kernels_config": {
    "python": {
     "delete_cmd_postfix": "",
     "delete_cmd_prefix": "del ",
     "library": "var_list.py",
     "varRefreshCmd": "print(var_dic_list())"
    },
    "r": {
     "delete_cmd_postfix": ") ",
     "delete_cmd_prefix": "rm(",
     "library": "var_list.r",
     "varRefreshCmd": "cat(var_dic_list()) "
    }
   },
   "types_to_exclude": [
    "module",
    "function",
    "builtin_function_or_method",
    "instance",
    "_Feature"
   ],
   "window_display": false
  }
 },
 "nbformat": 4,
 "nbformat_minor": 1
}
