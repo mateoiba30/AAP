{
 "cells": [
  {
   "cell_type": "markdown",
   "metadata": {
    "id": "vdWG2FEMDVST"
   },
   "source": [
    "# El 10a lleva una img a una representación más sencilla a modo de ejemplo, el 10b lleva todas las imgs a un csv y ahora vamos a replicar el 10c\n",
    "Bibliotecas como OpenCV o SciKit-Learn proveen funciones que permiten procesar imágenes y obtener valores estadísticos que\n",
    "caracterizan los objetos"
   ]
  },
  {
   "cell_type": "code",
   "execution_count": 8,
   "metadata": {
    "colab": {
     "base_uri": "https://localhost:8080/",
     "height": 423
    },
    "executionInfo": {
     "elapsed": 13319,
     "status": "ok",
     "timestamp": 1718825126212,
     "user": {
      "displayName": "Redes Neuronales",
      "userId": "11693180954775528178"
     },
     "user_tz": 180
    },
    "id": "44viJuybOEYD",
    "outputId": "dba7b369-bdc4-4908-ad45-77be4735364f"
   },
   "outputs": [
    {
     "data": {
      "text/html": [
       "<div>\n",
       "<style scoped>\n",
       "    .dataframe tbody tr th:only-of-type {\n",
       "        vertical-align: middle;\n",
       "    }\n",
       "\n",
       "    .dataframe tbody tr th {\n",
       "        vertical-align: top;\n",
       "    }\n",
       "\n",
       "    .dataframe thead th {\n",
       "        text-align: right;\n",
       "    }\n",
       "</style>\n",
       "<table border=\"1\" class=\"dataframe\">\n",
       "  <thead>\n",
       "    <tr style=\"text-align: right;\">\n",
       "      <th></th>\n",
       "      <th>Unnamed: 0</th>\n",
       "      <th>AreaNorm</th>\n",
       "      <th>PerimNorm</th>\n",
       "      <th>RazonEjes</th>\n",
       "      <th>Excentricidad</th>\n",
       "      <th>Solidez</th>\n",
       "      <th>Extension</th>\n",
       "      <th>CantDedos</th>\n",
       "    </tr>\n",
       "  </thead>\n",
       "  <tbody>\n",
       "    <tr>\n",
       "      <th>0</th>\n",
       "      <td>0</td>\n",
       "      <td>0.738394</td>\n",
       "      <td>4.735660</td>\n",
       "      <td>0.683842</td>\n",
       "      <td>0.729630</td>\n",
       "      <td>0.884906</td>\n",
       "      <td>0.668091</td>\n",
       "      <td>0.0</td>\n",
       "    </tr>\n",
       "    <tr>\n",
       "      <th>1</th>\n",
       "      <td>1</td>\n",
       "      <td>0.735083</td>\n",
       "      <td>4.530651</td>\n",
       "      <td>0.644182</td>\n",
       "      <td>0.764873</td>\n",
       "      <td>0.895489</td>\n",
       "      <td>0.661667</td>\n",
       "      <td>0.0</td>\n",
       "    </tr>\n",
       "    <tr>\n",
       "      <th>2</th>\n",
       "      <td>2</td>\n",
       "      <td>0.640701</td>\n",
       "      <td>5.137056</td>\n",
       "      <td>0.439507</td>\n",
       "      <td>0.898239</td>\n",
       "      <td>0.737976</td>\n",
       "      <td>0.583097</td>\n",
       "      <td>2.0</td>\n",
       "    </tr>\n",
       "    <tr>\n",
       "      <th>3</th>\n",
       "      <td>3</td>\n",
       "      <td>0.691368</td>\n",
       "      <td>5.373710</td>\n",
       "      <td>0.782715</td>\n",
       "      <td>0.622380</td>\n",
       "      <td>0.823265</td>\n",
       "      <td>0.595814</td>\n",
       "      <td>0.0</td>\n",
       "    </tr>\n",
       "    <tr>\n",
       "      <th>4</th>\n",
       "      <td>4</td>\n",
       "      <td>0.538321</td>\n",
       "      <td>6.421632</td>\n",
       "      <td>0.700133</td>\n",
       "      <td>0.714012</td>\n",
       "      <td>0.567008</td>\n",
       "      <td>0.344795</td>\n",
       "      <td>5.0</td>\n",
       "    </tr>\n",
       "  </tbody>\n",
       "</table>\n",
       "</div>"
      ],
      "text/plain": [
       "   Unnamed: 0  AreaNorm  PerimNorm  RazonEjes  Excentricidad   Solidez  \\\n",
       "0           0  0.738394   4.735660   0.683842       0.729630  0.884906   \n",
       "1           1  0.735083   4.530651   0.644182       0.764873  0.895489   \n",
       "2           2  0.640701   5.137056   0.439507       0.898239  0.737976   \n",
       "3           3  0.691368   5.373710   0.782715       0.622380  0.823265   \n",
       "4           4  0.538321   6.421632   0.700133       0.714012  0.567008   \n",
       "\n",
       "   Extension  CantDedos  \n",
       "0   0.668091        0.0  \n",
       "1   0.661667        0.0  \n",
       "2   0.583097        2.0  \n",
       "3   0.595814        0.0  \n",
       "4   0.344795        5.0  "
      ]
     },
     "execution_count": 8,
     "metadata": {},
     "output_type": "execute_result"
    }
   ],
   "source": [
    "import numpy as np\n",
    "import pandas as pd\n",
    "import matplotlib.pyplot as plt\n",
    "\n",
    "from sklearn import preprocessing, metrics, model_selection\n",
    "\n",
    "from sklearn.model_selection import cross_val_score\n",
    "\n",
    "from tensorflow.keras.models import Sequential\n",
    "from tensorflow.keras.layers import Dense\n",
    "from tensorflow.keras.utils import to_categorical\n",
    "\n",
    "import tensorflow as tf\n",
    "import seaborn as sns\n",
    "\n",
    "datos = pd.read_csv('../Datos/fingers/fingers_train.csv')\n",
    "\n",
    "datos.head()"
   ]
  },
  {
   "cell_type": "code",
   "execution_count": 9,
   "metadata": {},
   "outputs": [
    {
     "name": "stdout",
     "output_type": "stream",
     "text": [
      "[0 0 2 ... 0 2 2]\n",
      "[[1. 0. 0. 0. 0. 0.]\n",
      " [1. 0. 0. 0. 0. 0.]\n",
      " [0. 0. 1. 0. 0. 0.]\n",
      " ...\n",
      " [1. 0. 0. 0. 0. 0.]\n",
      " [0. 0. 1. 0. 0. 0.]\n",
      " [0. 0. 1. 0. 0. 0.]]\n"
     ]
    }
   ],
   "source": [
    "X = np.array(datos.iloc[:, :-1])\n",
    "Y = np.array(datos.iloc[:, -1])\n",
    "nomClases = datos.iloc[:, -1].value_counts()\n",
    "\n",
    "encoder = preprocessing.LabelEncoder()\n",
    "Y_nro = encoder.fit_transform(Y)\n",
    "print(Y_nro)\n",
    "Y_bin= to_categorical(Y_nro)\n",
    "\n",
    "print(Y_bin)"
   ]
  },
  {
   "cell_type": "code",
   "execution_count": 10,
   "metadata": {},
   "outputs": [
    {
     "data": {
      "text/html": [
       "<div>\n",
       "<style scoped>\n",
       "    .dataframe tbody tr th:only-of-type {\n",
       "        vertical-align: middle;\n",
       "    }\n",
       "\n",
       "    .dataframe tbody tr th {\n",
       "        vertical-align: top;\n",
       "    }\n",
       "\n",
       "    .dataframe thead th {\n",
       "        text-align: right;\n",
       "    }\n",
       "</style>\n",
       "<table border=\"1\" class=\"dataframe\">\n",
       "  <thead>\n",
       "    <tr style=\"text-align: right;\">\n",
       "      <th></th>\n",
       "      <th>Unnamed: 0</th>\n",
       "      <th>AreaNorm</th>\n",
       "      <th>PerimNorm</th>\n",
       "      <th>RazonEjes</th>\n",
       "      <th>Excentricidad</th>\n",
       "      <th>Solidez</th>\n",
       "      <th>Extension</th>\n",
       "      <th>CantDedos</th>\n",
       "    </tr>\n",
       "  </thead>\n",
       "  <tbody>\n",
       "    <tr>\n",
       "      <th>0</th>\n",
       "      <td>0</td>\n",
       "      <td>0.738394</td>\n",
       "      <td>4.735660</td>\n",
       "      <td>0.683842</td>\n",
       "      <td>0.729630</td>\n",
       "      <td>0.884906</td>\n",
       "      <td>0.668091</td>\n",
       "      <td>0.0</td>\n",
       "    </tr>\n",
       "    <tr>\n",
       "      <th>1</th>\n",
       "      <td>1</td>\n",
       "      <td>0.735083</td>\n",
       "      <td>4.530651</td>\n",
       "      <td>0.644182</td>\n",
       "      <td>0.764873</td>\n",
       "      <td>0.895489</td>\n",
       "      <td>0.661667</td>\n",
       "      <td>0.0</td>\n",
       "    </tr>\n",
       "    <tr>\n",
       "      <th>2</th>\n",
       "      <td>2</td>\n",
       "      <td>0.640701</td>\n",
       "      <td>5.137056</td>\n",
       "      <td>0.439507</td>\n",
       "      <td>0.898239</td>\n",
       "      <td>0.737976</td>\n",
       "      <td>0.583097</td>\n",
       "      <td>2.0</td>\n",
       "    </tr>\n",
       "    <tr>\n",
       "      <th>3</th>\n",
       "      <td>3</td>\n",
       "      <td>0.691368</td>\n",
       "      <td>5.373710</td>\n",
       "      <td>0.782715</td>\n",
       "      <td>0.622380</td>\n",
       "      <td>0.823265</td>\n",
       "      <td>0.595814</td>\n",
       "      <td>0.0</td>\n",
       "    </tr>\n",
       "    <tr>\n",
       "      <th>4</th>\n",
       "      <td>4</td>\n",
       "      <td>0.538321</td>\n",
       "      <td>6.421632</td>\n",
       "      <td>0.700133</td>\n",
       "      <td>0.714012</td>\n",
       "      <td>0.567008</td>\n",
       "      <td>0.344795</td>\n",
       "      <td>5.0</td>\n",
       "    </tr>\n",
       "  </tbody>\n",
       "</table>\n",
       "</div>"
      ],
      "text/plain": [
       "   Unnamed: 0  AreaNorm  PerimNorm  RazonEjes  Excentricidad   Solidez  \\\n",
       "0           0  0.738394   4.735660   0.683842       0.729630  0.884906   \n",
       "1           1  0.735083   4.530651   0.644182       0.764873  0.895489   \n",
       "2           2  0.640701   5.137056   0.439507       0.898239  0.737976   \n",
       "3           3  0.691368   5.373710   0.782715       0.622380  0.823265   \n",
       "4           4  0.538321   6.421632   0.700133       0.714012  0.567008   \n",
       "\n",
       "   Extension  CantDedos  \n",
       "0   0.668091        0.0  \n",
       "1   0.661667        0.0  \n",
       "2   0.583097        2.0  \n",
       "3   0.595814        0.0  \n",
       "4   0.344795        5.0  "
      ]
     },
     "execution_count": 10,
     "metadata": {},
     "output_type": "execute_result"
    }
   ],
   "source": [
    "X_train, X_val, Y_train, Y_val = model_selection.train_test_split( \\\n",
    "                                         X, Y_bin, test_size=0.20) #, random_state=42)\n",
    "\n",
    "normalizador = preprocessing.StandardScaler()\n",
    "X_train = normalizador.fit_transform(X_train)\n",
    "X_val = normalizador.transform(X_val)\n",
    "\n",
    "datos.head()"
   ]
  },
  {
   "cell_type": "markdown",
   "metadata": {
    "id": "Bl2l7jYvG5sP"
   },
   "source": [
    "**Construye Modelo**"
   ]
  },
  {
   "cell_type": "code",
   "execution_count": 11,
   "metadata": {
    "colab": {
     "base_uri": "https://localhost:8080/"
    },
    "executionInfo": {
     "elapsed": 266199,
     "status": "ok",
     "timestamp": 1718825392407,
     "user": {
      "displayName": "Redes Neuronales",
      "userId": "11693180954775528178"
     },
     "user_tz": 180
    },
    "id": "wK3O7NmWGkwy",
    "outputId": "1dfb4246-73b5-44fc-db93-17f3f8798458"
   },
   "outputs": [
    {
     "name": "stderr",
     "output_type": "stream",
     "text": [
      "C:\\Users\\Mateo\\anaconda3\\Lib\\site-packages\\keras\\src\\layers\\core\\dense.py:87: UserWarning: Do not pass an `input_shape`/`input_dim` argument to a layer. When using Sequential models, prefer using an `Input(shape)` object as the first layer in the model instead.\n",
      "  super().__init__(activity_regularizer=activity_regularizer, **kwargs)\n"
     ]
    },
    {
     "data": {
      "text/html": [
       "<pre style=\"white-space:pre;overflow-x:auto;line-height:normal;font-family:Menlo,'DejaVu Sans Mono',consolas,'Courier New',monospace\"><span style=\"font-weight: bold\">Model: \"sequential\"</span>\n",
       "</pre>\n"
      ],
      "text/plain": [
       "\u001b[1mModel: \"sequential\"\u001b[0m\n"
      ]
     },
     "metadata": {},
     "output_type": "display_data"
    },
    {
     "data": {
      "text/html": [
       "<pre style=\"white-space:pre;overflow-x:auto;line-height:normal;font-family:Menlo,'DejaVu Sans Mono',consolas,'Courier New',monospace\">┏━━━━━━━━━━━━━━━━━━━━━━━━━━━━━━━━━━━━━━┳━━━━━━━━━━━━━━━━━━━━━━━━━━━━━┳━━━━━━━━━━━━━━━━━┓\n",
       "┃<span style=\"font-weight: bold\"> Layer (type)                         </span>┃<span style=\"font-weight: bold\"> Output Shape                </span>┃<span style=\"font-weight: bold\">         Param # </span>┃\n",
       "┡━━━━━━━━━━━━━━━━━━━━━━━━━━━━━━━━━━━━━━╇━━━━━━━━━━━━━━━━━━━━━━━━━━━━━╇━━━━━━━━━━━━━━━━━┩\n",
       "│ dense (<span style=\"color: #0087ff; text-decoration-color: #0087ff\">Dense</span>)                        │ (<span style=\"color: #00d7ff; text-decoration-color: #00d7ff\">None</span>, <span style=\"color: #00af00; text-decoration-color: #00af00\">8</span>)                   │              <span style=\"color: #00af00; text-decoration-color: #00af00\">64</span> │\n",
       "├──────────────────────────────────────┼─────────────────────────────┼─────────────────┤\n",
       "│ dense_1 (<span style=\"color: #0087ff; text-decoration-color: #0087ff\">Dense</span>)                      │ (<span style=\"color: #00d7ff; text-decoration-color: #00d7ff\">None</span>, <span style=\"color: #00af00; text-decoration-color: #00af00\">6</span>)                   │              <span style=\"color: #00af00; text-decoration-color: #00af00\">54</span> │\n",
       "└──────────────────────────────────────┴─────────────────────────────┴─────────────────┘\n",
       "</pre>\n"
      ],
      "text/plain": [
       "┏━━━━━━━━━━━━━━━━━━━━━━━━━━━━━━━━━━━━━━┳━━━━━━━━━━━━━━━━━━━━━━━━━━━━━┳━━━━━━━━━━━━━━━━━┓\n",
       "┃\u001b[1m \u001b[0m\u001b[1mLayer (type)                        \u001b[0m\u001b[1m \u001b[0m┃\u001b[1m \u001b[0m\u001b[1mOutput Shape               \u001b[0m\u001b[1m \u001b[0m┃\u001b[1m \u001b[0m\u001b[1m        Param #\u001b[0m\u001b[1m \u001b[0m┃\n",
       "┡━━━━━━━━━━━━━━━━━━━━━━━━━━━━━━━━━━━━━━╇━━━━━━━━━━━━━━━━━━━━━━━━━━━━━╇━━━━━━━━━━━━━━━━━┩\n",
       "│ dense (\u001b[38;5;33mDense\u001b[0m)                        │ (\u001b[38;5;45mNone\u001b[0m, \u001b[38;5;34m8\u001b[0m)                   │              \u001b[38;5;34m64\u001b[0m │\n",
       "├──────────────────────────────────────┼─────────────────────────────┼─────────────────┤\n",
       "│ dense_1 (\u001b[38;5;33mDense\u001b[0m)                      │ (\u001b[38;5;45mNone\u001b[0m, \u001b[38;5;34m6\u001b[0m)                   │              \u001b[38;5;34m54\u001b[0m │\n",
       "└──────────────────────────────────────┴─────────────────────────────┴─────────────────┘\n"
      ]
     },
     "metadata": {},
     "output_type": "display_data"
    },
    {
     "data": {
      "text/html": [
       "<pre style=\"white-space:pre;overflow-x:auto;line-height:normal;font-family:Menlo,'DejaVu Sans Mono',consolas,'Courier New',monospace\"><span style=\"font-weight: bold\"> Total params: </span><span style=\"color: #00af00; text-decoration-color: #00af00\">118</span> (472.00 B)\n",
       "</pre>\n"
      ],
      "text/plain": [
       "\u001b[1m Total params: \u001b[0m\u001b[38;5;34m118\u001b[0m (472.00 B)\n"
      ]
     },
     "metadata": {},
     "output_type": "display_data"
    },
    {
     "data": {
      "text/html": [
       "<pre style=\"white-space:pre;overflow-x:auto;line-height:normal;font-family:Menlo,'DejaVu Sans Mono',consolas,'Courier New',monospace\"><span style=\"font-weight: bold\"> Trainable params: </span><span style=\"color: #00af00; text-decoration-color: #00af00\">118</span> (472.00 B)\n",
       "</pre>\n"
      ],
      "text/plain": [
       "\u001b[1m Trainable params: \u001b[0m\u001b[38;5;34m118\u001b[0m (472.00 B)\n"
      ]
     },
     "metadata": {},
     "output_type": "display_data"
    },
    {
     "data": {
      "text/html": [
       "<pre style=\"white-space:pre;overflow-x:auto;line-height:normal;font-family:Menlo,'DejaVu Sans Mono',consolas,'Courier New',monospace\"><span style=\"font-weight: bold\"> Non-trainable params: </span><span style=\"color: #00af00; text-decoration-color: #00af00\">0</span> (0.00 B)\n",
       "</pre>\n"
      ],
      "text/plain": [
       "\u001b[1m Non-trainable params: \u001b[0m\u001b[38;5;34m0\u001b[0m (0.00 B)\n"
      ]
     },
     "metadata": {},
     "output_type": "display_data"
    },
    {
     "name": "stdout",
     "output_type": "stream",
     "text": [
      "Epoch 1/200\n",
      "\u001b[1m450/450\u001b[0m \u001b[32m━━━━━━━━━━━━━━━━━━━━\u001b[0m\u001b[37m\u001b[0m \u001b[1m2s\u001b[0m 2ms/step - accuracy: 0.5021 - loss: 1.3886 - val_accuracy: 0.8156 - val_loss: 0.7366\n",
      "Epoch 2/200\n",
      "\u001b[1m450/450\u001b[0m \u001b[32m━━━━━━━━━━━━━━━━━━━━\u001b[0m\u001b[37m\u001b[0m \u001b[1m1s\u001b[0m 2ms/step - accuracy: 0.8411 - loss: 0.6545 - val_accuracy: 0.8817 - val_loss: 0.4870\n",
      "Epoch 3/200\n",
      "\u001b[1m450/450\u001b[0m \u001b[32m━━━━━━━━━━━━━━━━━━━━\u001b[0m\u001b[37m\u001b[0m \u001b[1m1s\u001b[0m 2ms/step - accuracy: 0.8827 - loss: 0.4601 - val_accuracy: 0.9178 - val_loss: 0.3690\n",
      "Epoch 4/200\n",
      "\u001b[1m450/450\u001b[0m \u001b[32m━━━━━━━━━━━━━━━━━━━━\u001b[0m\u001b[37m\u001b[0m \u001b[1m1s\u001b[0m 2ms/step - accuracy: 0.9118 - loss: 0.3509 - val_accuracy: 0.9356 - val_loss: 0.2851\n",
      "Epoch 5/200\n",
      "\u001b[1m450/450\u001b[0m \u001b[32m━━━━━━━━━━━━━━━━━━━━\u001b[0m\u001b[37m\u001b[0m \u001b[1m1s\u001b[0m 2ms/step - accuracy: 0.9351 - loss: 0.2733 - val_accuracy: 0.9536 - val_loss: 0.2237\n",
      "Epoch 6/200\n",
      "\u001b[1m450/450\u001b[0m \u001b[32m━━━━━━━━━━━━━━━━━━━━\u001b[0m\u001b[37m\u001b[0m \u001b[1m1s\u001b[0m 2ms/step - accuracy: 0.9489 - loss: 0.2181 - val_accuracy: 0.9686 - val_loss: 0.1779\n",
      "Epoch 7/200\n",
      "\u001b[1m450/450\u001b[0m \u001b[32m━━━━━━━━━━━━━━━━━━━━\u001b[0m\u001b[37m\u001b[0m \u001b[1m1s\u001b[0m 2ms/step - accuracy: 0.9639 - loss: 0.1750 - val_accuracy: 0.9731 - val_loss: 0.1446\n",
      "Epoch 8/200\n",
      "\u001b[1m450/450\u001b[0m \u001b[32m━━━━━━━━━━━━━━━━━━━━\u001b[0m\u001b[37m\u001b[0m \u001b[1m1s\u001b[0m 2ms/step - accuracy: 0.9730 - loss: 0.1406 - val_accuracy: 0.9758 - val_loss: 0.1222\n",
      "Epoch 9/200\n",
      "\u001b[1m450/450\u001b[0m \u001b[32m━━━━━━━━━━━━━━━━━━━━\u001b[0m\u001b[37m\u001b[0m \u001b[1m1s\u001b[0m 2ms/step - accuracy: 0.9781 - loss: 0.1158 - val_accuracy: 0.9786 - val_loss: 0.1053\n",
      "Epoch 10/200\n",
      "\u001b[1m450/450\u001b[0m \u001b[32m━━━━━━━━━━━━━━━━━━━━\u001b[0m\u001b[37m\u001b[0m \u001b[1m1s\u001b[0m 2ms/step - accuracy: 0.9777 - loss: 0.1020 - val_accuracy: 0.9808 - val_loss: 0.0917\n",
      "Epoch 11/200\n",
      "\u001b[1m450/450\u001b[0m \u001b[32m━━━━━━━━━━━━━━━━━━━━\u001b[0m\u001b[37m\u001b[0m \u001b[1m1s\u001b[0m 2ms/step - accuracy: 0.9787 - loss: 0.0922 - val_accuracy: 0.9819 - val_loss: 0.0826\n",
      "Epoch 12/200\n",
      "\u001b[1m450/450\u001b[0m \u001b[32m━━━━━━━━━━━━━━━━━━━━\u001b[0m\u001b[37m\u001b[0m \u001b[1m1s\u001b[0m 1ms/step - accuracy: 0.9813 - loss: 0.0826 - val_accuracy: 0.9825 - val_loss: 0.0757\n",
      "Epoch 13/200\n",
      "\u001b[1m450/450\u001b[0m \u001b[32m━━━━━━━━━━━━━━━━━━━━\u001b[0m\u001b[37m\u001b[0m \u001b[1m1s\u001b[0m 1ms/step - accuracy: 0.9826 - loss: 0.0752 - val_accuracy: 0.9831 - val_loss: 0.0695\n",
      "Epoch 14/200\n",
      "\u001b[1m450/450\u001b[0m \u001b[32m━━━━━━━━━━━━━━━━━━━━\u001b[0m\u001b[37m\u001b[0m \u001b[1m1s\u001b[0m 1ms/step - accuracy: 0.9845 - loss: 0.0663 - val_accuracy: 0.9839 - val_loss: 0.0646\n",
      "Epoch 15/200\n",
      "\u001b[1m450/450\u001b[0m \u001b[32m━━━━━━━━━━━━━━━━━━━━\u001b[0m\u001b[37m\u001b[0m \u001b[1m1s\u001b[0m 1ms/step - accuracy: 0.9812 - loss: 0.0649 - val_accuracy: 0.9842 - val_loss: 0.0606\n",
      "Epoch 16/200\n",
      "\u001b[1m450/450\u001b[0m \u001b[32m━━━━━━━━━━━━━━━━━━━━\u001b[0m\u001b[37m\u001b[0m \u001b[1m1s\u001b[0m 2ms/step - accuracy: 0.9845 - loss: 0.0585 - val_accuracy: 0.9858 - val_loss: 0.0572\n",
      "Epoch 17/200\n",
      "\u001b[1m450/450\u001b[0m \u001b[32m━━━━━━━━━━━━━━━━━━━━\u001b[0m\u001b[37m\u001b[0m \u001b[1m1s\u001b[0m 2ms/step - accuracy: 0.9848 - loss: 0.0562 - val_accuracy: 0.9858 - val_loss: 0.0548\n",
      "Epoch 18/200\n",
      "\u001b[1m450/450\u001b[0m \u001b[32m━━━━━━━━━━━━━━━━━━━━\u001b[0m\u001b[37m\u001b[0m \u001b[1m1s\u001b[0m 2ms/step - accuracy: 0.9841 - loss: 0.0542 - val_accuracy: 0.9878 - val_loss: 0.0518\n",
      "Epoch 19/200\n",
      "\u001b[1m450/450\u001b[0m \u001b[32m━━━━━━━━━━━━━━━━━━━━\u001b[0m\u001b[37m\u001b[0m \u001b[1m1s\u001b[0m 2ms/step - accuracy: 0.9852 - loss: 0.0510 - val_accuracy: 0.9875 - val_loss: 0.0493\n",
      "Epoch 20/200\n",
      "\u001b[1m450/450\u001b[0m \u001b[32m━━━━━━━━━━━━━━━━━━━━\u001b[0m\u001b[37m\u001b[0m \u001b[1m1s\u001b[0m 2ms/step - accuracy: 0.9857 - loss: 0.0480 - val_accuracy: 0.9869 - val_loss: 0.0480\n",
      "Epoch 21/200\n",
      "\u001b[1m450/450\u001b[0m \u001b[32m━━━━━━━━━━━━━━━━━━━━\u001b[0m\u001b[37m\u001b[0m \u001b[1m1s\u001b[0m 1ms/step - accuracy: 0.9857 - loss: 0.0478 - val_accuracy: 0.9875 - val_loss: 0.0459\n",
      "Epoch 22/200\n",
      "\u001b[1m450/450\u001b[0m \u001b[32m━━━━━━━━━━━━━━━━━━━━\u001b[0m\u001b[37m\u001b[0m \u001b[1m1s\u001b[0m 1ms/step - accuracy: 0.9859 - loss: 0.0462 - val_accuracy: 0.9878 - val_loss: 0.0436\n",
      "Epoch 23/200\n",
      "\u001b[1m450/450\u001b[0m \u001b[32m━━━━━━━━━━━━━━━━━━━━\u001b[0m\u001b[37m\u001b[0m \u001b[1m1s\u001b[0m 1ms/step - accuracy: 0.9859 - loss: 0.0443 - val_accuracy: 0.9881 - val_loss: 0.0415\n",
      "Epoch 24/200\n",
      "\u001b[1m450/450\u001b[0m \u001b[32m━━━━━━━━━━━━━━━━━━━━\u001b[0m\u001b[37m\u001b[0m \u001b[1m1s\u001b[0m 1ms/step - accuracy: 0.9864 - loss: 0.0430 - val_accuracy: 0.9889 - val_loss: 0.0410\n",
      "Epoch 25/200\n",
      "\u001b[1m450/450\u001b[0m \u001b[32m━━━━━━━━━━━━━━━━━━━━\u001b[0m\u001b[37m\u001b[0m \u001b[1m1s\u001b[0m 1ms/step - accuracy: 0.9857 - loss: 0.0434 - val_accuracy: 0.9892 - val_loss: 0.0386\n",
      "Epoch 26/200\n",
      "\u001b[1m450/450\u001b[0m \u001b[32m━━━━━━━━━━━━━━━━━━━━\u001b[0m\u001b[37m\u001b[0m \u001b[1m1s\u001b[0m 2ms/step - accuracy: 0.9876 - loss: 0.0388 - val_accuracy: 0.9894 - val_loss: 0.0373\n",
      "Epoch 27/200\n",
      "\u001b[1m450/450\u001b[0m \u001b[32m━━━━━━━━━━━━━━━━━━━━\u001b[0m\u001b[37m\u001b[0m \u001b[1m1s\u001b[0m 1ms/step - accuracy: 0.9875 - loss: 0.0381 - val_accuracy: 0.9894 - val_loss: 0.0364\n",
      "Epoch 28/200\n",
      "\u001b[1m450/450\u001b[0m \u001b[32m━━━━━━━━━━━━━━━━━━━━\u001b[0m\u001b[37m\u001b[0m \u001b[1m1s\u001b[0m 1ms/step - accuracy: 0.9897 - loss: 0.0348 - val_accuracy: 0.9900 - val_loss: 0.0350\n",
      "Epoch 29/200\n",
      "\u001b[1m450/450\u001b[0m \u001b[32m━━━━━━━━━━━━━━━━━━━━\u001b[0m\u001b[37m\u001b[0m \u001b[1m1s\u001b[0m 1ms/step - accuracy: 0.9878 - loss: 0.0349 - val_accuracy: 0.9906 - val_loss: 0.0338\n",
      "Epoch 30/200\n",
      "\u001b[1m450/450\u001b[0m \u001b[32m━━━━━━━━━━━━━━━━━━━━\u001b[0m\u001b[37m\u001b[0m \u001b[1m1s\u001b[0m 1ms/step - accuracy: 0.9894 - loss: 0.0333 - val_accuracy: 0.9903 - val_loss: 0.0337\n",
      "Epoch 31/200\n",
      "\u001b[1m450/450\u001b[0m \u001b[32m━━━━━━━━━━━━━━━━━━━━\u001b[0m\u001b[37m\u001b[0m \u001b[1m1s\u001b[0m 1ms/step - accuracy: 0.9891 - loss: 0.0327 - val_accuracy: 0.9903 - val_loss: 0.0321\n",
      "Epoch 32/200\n",
      "\u001b[1m450/450\u001b[0m \u001b[32m━━━━━━━━━━━━━━━━━━━━\u001b[0m\u001b[37m\u001b[0m \u001b[1m1s\u001b[0m 2ms/step - accuracy: 0.9888 - loss: 0.0326 - val_accuracy: 0.9911 - val_loss: 0.0309\n",
      "Epoch 33/200\n",
      "\u001b[1m450/450\u001b[0m \u001b[32m━━━━━━━━━━━━━━━━━━━━\u001b[0m\u001b[37m\u001b[0m \u001b[1m1s\u001b[0m 1ms/step - accuracy: 0.9895 - loss: 0.0329 - val_accuracy: 0.9911 - val_loss: 0.0308\n",
      "Epoch 34/200\n",
      "\u001b[1m450/450\u001b[0m \u001b[32m━━━━━━━━━━━━━━━━━━━━\u001b[0m\u001b[37m\u001b[0m \u001b[1m1s\u001b[0m 2ms/step - accuracy: 0.9903 - loss: 0.0322 - val_accuracy: 0.9914 - val_loss: 0.0297\n",
      "Epoch 35/200\n",
      "\u001b[1m450/450\u001b[0m \u001b[32m━━━━━━━━━━━━━━━━━━━━\u001b[0m\u001b[37m\u001b[0m \u001b[1m1s\u001b[0m 2ms/step - accuracy: 0.9908 - loss: 0.0296 - val_accuracy: 0.9917 - val_loss: 0.0292\n",
      "Epoch 36/200\n",
      "\u001b[1m450/450\u001b[0m \u001b[32m━━━━━━━━━━━━━━━━━━━━\u001b[0m\u001b[37m\u001b[0m \u001b[1m1s\u001b[0m 1ms/step - accuracy: 0.9895 - loss: 0.0293 - val_accuracy: 0.9917 - val_loss: 0.0278\n",
      "Epoch 37/200\n",
      "\u001b[1m450/450\u001b[0m \u001b[32m━━━━━━━━━━━━━━━━━━━━\u001b[0m\u001b[37m\u001b[0m \u001b[1m1s\u001b[0m 2ms/step - accuracy: 0.9904 - loss: 0.0281 - val_accuracy: 0.9911 - val_loss: 0.0277\n",
      "Epoch 38/200\n",
      "\u001b[1m450/450\u001b[0m \u001b[32m━━━━━━━━━━━━━━━━━━━━\u001b[0m\u001b[37m\u001b[0m \u001b[1m1s\u001b[0m 2ms/step - accuracy: 0.9892 - loss: 0.0299 - val_accuracy: 0.9922 - val_loss: 0.0277\n",
      "Epoch 39/200\n",
      "\u001b[1m450/450\u001b[0m \u001b[32m━━━━━━━━━━━━━━━━━━━━\u001b[0m\u001b[37m\u001b[0m \u001b[1m1s\u001b[0m 2ms/step - accuracy: 0.9897 - loss: 0.0299 - val_accuracy: 0.9919 - val_loss: 0.0264\n",
      "Epoch 40/200\n",
      "\u001b[1m450/450\u001b[0m \u001b[32m━━━━━━━━━━━━━━━━━━━━\u001b[0m\u001b[37m\u001b[0m \u001b[1m1s\u001b[0m 2ms/step - accuracy: 0.9909 - loss: 0.0271 - val_accuracy: 0.9914 - val_loss: 0.0258\n",
      "Epoch 41/200\n",
      "\u001b[1m450/450\u001b[0m \u001b[32m━━━━━━━━━━━━━━━━━━━━\u001b[0m\u001b[37m\u001b[0m \u001b[1m1s\u001b[0m 2ms/step - accuracy: 0.9918 - loss: 0.0244 - val_accuracy: 0.9919 - val_loss: 0.0254\n",
      "Epoch 42/200\n",
      "\u001b[1m450/450\u001b[0m \u001b[32m━━━━━━━━━━━━━━━━━━━━\u001b[0m\u001b[37m\u001b[0m \u001b[1m1s\u001b[0m 2ms/step - accuracy: 0.9909 - loss: 0.0268 - val_accuracy: 0.9922 - val_loss: 0.0249\n",
      "Epoch 43/200\n",
      "\u001b[1m450/450\u001b[0m \u001b[32m━━━━━━━━━━━━━━━━━━━━\u001b[0m\u001b[37m\u001b[0m \u001b[1m1s\u001b[0m 2ms/step - accuracy: 0.9918 - loss: 0.0252 - val_accuracy: 0.9919 - val_loss: 0.0242\n",
      "Epoch 44/200\n",
      "\u001b[1m450/450\u001b[0m \u001b[32m━━━━━━━━━━━━━━━━━━━━\u001b[0m\u001b[37m\u001b[0m \u001b[1m1s\u001b[0m 2ms/step - accuracy: 0.9924 - loss: 0.0243 - val_accuracy: 0.9925 - val_loss: 0.0244\n",
      "Epoch 45/200\n",
      "\u001b[1m450/450\u001b[0m \u001b[32m━━━━━━━━━━━━━━━━━━━━\u001b[0m\u001b[37m\u001b[0m \u001b[1m1s\u001b[0m 1ms/step - accuracy: 0.9918 - loss: 0.0249 - val_accuracy: 0.9928 - val_loss: 0.0241\n",
      "Epoch 46/200\n",
      "\u001b[1m450/450\u001b[0m \u001b[32m━━━━━━━━━━━━━━━━━━━━\u001b[0m\u001b[37m\u001b[0m \u001b[1m1s\u001b[0m 2ms/step - accuracy: 0.9921 - loss: 0.0244 - val_accuracy: 0.9931 - val_loss: 0.0238\n",
      "Epoch 47/200\n",
      "\u001b[1m450/450\u001b[0m \u001b[32m━━━━━━━━━━━━━━━━━━━━\u001b[0m\u001b[37m\u001b[0m \u001b[1m1s\u001b[0m 2ms/step - accuracy: 0.9918 - loss: 0.0239 - val_accuracy: 0.9925 - val_loss: 0.0228\n",
      "Epoch 48/200\n",
      "\u001b[1m450/450\u001b[0m \u001b[32m━━━━━━━━━━━━━━━━━━━━\u001b[0m\u001b[37m\u001b[0m \u001b[1m1s\u001b[0m 2ms/step - accuracy: 0.9922 - loss: 0.0234 - val_accuracy: 0.9922 - val_loss: 0.0227\n",
      "Epoch 49/200\n",
      "\u001b[1m450/450\u001b[0m \u001b[32m━━━━━━━━━━━━━━━━━━━━\u001b[0m\u001b[37m\u001b[0m \u001b[1m1s\u001b[0m 2ms/step - accuracy: 0.9909 - loss: 0.0254 - val_accuracy: 0.9919 - val_loss: 0.0221\n",
      "Epoch 50/200\n",
      "\u001b[1m450/450\u001b[0m \u001b[32m━━━━━━━━━━━━━━━━━━━━\u001b[0m\u001b[37m\u001b[0m \u001b[1m1s\u001b[0m 2ms/step - accuracy: 0.9922 - loss: 0.0220 - val_accuracy: 0.9933 - val_loss: 0.0217\n",
      "Epoch 51/200\n"
     ]
    },
    {
     "name": "stdout",
     "output_type": "stream",
     "text": [
      "\u001b[1m450/450\u001b[0m \u001b[32m━━━━━━━━━━━━━━━━━━━━\u001b[0m\u001b[37m\u001b[0m \u001b[1m1s\u001b[0m 2ms/step - accuracy: 0.9933 - loss: 0.0219 - val_accuracy: 0.9928 - val_loss: 0.0219\n",
      "Epoch 52/200\n",
      "\u001b[1m450/450\u001b[0m \u001b[32m━━━━━━━━━━━━━━━━━━━━\u001b[0m\u001b[37m\u001b[0m \u001b[1m1s\u001b[0m 1ms/step - accuracy: 0.9922 - loss: 0.0225 - val_accuracy: 0.9928 - val_loss: 0.0228\n",
      "Epoch 53/200\n",
      "\u001b[1m450/450\u001b[0m \u001b[32m━━━━━━━━━━━━━━━━━━━━\u001b[0m\u001b[37m\u001b[0m \u001b[1m1s\u001b[0m 1ms/step - accuracy: 0.9926 - loss: 0.0229 - val_accuracy: 0.9931 - val_loss: 0.0212\n",
      "Epoch 54/200\n",
      "\u001b[1m450/450\u001b[0m \u001b[32m━━━━━━━━━━━━━━━━━━━━\u001b[0m\u001b[37m\u001b[0m \u001b[1m1s\u001b[0m 2ms/step - accuracy: 0.9917 - loss: 0.0223 - val_accuracy: 0.9933 - val_loss: 0.0209\n",
      "Epoch 55/200\n",
      "\u001b[1m450/450\u001b[0m \u001b[32m━━━━━━━━━━━━━━━━━━━━\u001b[0m\u001b[37m\u001b[0m \u001b[1m1s\u001b[0m 2ms/step - accuracy: 0.9908 - loss: 0.0238 - val_accuracy: 0.9931 - val_loss: 0.0203\n",
      "Epoch 56/200\n",
      "\u001b[1m450/450\u001b[0m \u001b[32m━━━━━━━━━━━━━━━━━━━━\u001b[0m\u001b[37m\u001b[0m \u001b[1m1s\u001b[0m 2ms/step - accuracy: 0.9923 - loss: 0.0238 - val_accuracy: 0.9925 - val_loss: 0.0200\n",
      "Epoch 57/200\n",
      "\u001b[1m450/450\u001b[0m \u001b[32m━━━━━━━━━━━━━━━━━━━━\u001b[0m\u001b[37m\u001b[0m \u001b[1m1s\u001b[0m 1ms/step - accuracy: 0.9921 - loss: 0.0218 - val_accuracy: 0.9933 - val_loss: 0.0202\n",
      "Epoch 58/200\n",
      "\u001b[1m450/450\u001b[0m \u001b[32m━━━━━━━━━━━━━━━━━━━━\u001b[0m\u001b[37m\u001b[0m \u001b[1m1s\u001b[0m 1ms/step - accuracy: 0.9912 - loss: 0.0228 - val_accuracy: 0.9939 - val_loss: 0.0208\n",
      "Epoch 59/200\n",
      "\u001b[1m450/450\u001b[0m \u001b[32m━━━━━━━━━━━━━━━━━━━━\u001b[0m\u001b[37m\u001b[0m \u001b[1m1s\u001b[0m 1ms/step - accuracy: 0.9918 - loss: 0.0222 - val_accuracy: 0.9931 - val_loss: 0.0202\n",
      "Epoch 60/200\n",
      "\u001b[1m450/450\u001b[0m \u001b[32m━━━━━━━━━━━━━━━━━━━━\u001b[0m\u001b[37m\u001b[0m \u001b[1m1s\u001b[0m 1ms/step - accuracy: 0.9918 - loss: 0.0230 - val_accuracy: 0.9922 - val_loss: 0.0203\n",
      "Epoch 61/200\n",
      "\u001b[1m450/450\u001b[0m \u001b[32m━━━━━━━━━━━━━━━━━━━━\u001b[0m\u001b[37m\u001b[0m \u001b[1m1s\u001b[0m 1ms/step - accuracy: 0.9928 - loss: 0.0192 - val_accuracy: 0.9925 - val_loss: 0.0190\n",
      "Epoch 62/200\n",
      "\u001b[1m450/450\u001b[0m \u001b[32m━━━━━━━━━━━━━━━━━━━━\u001b[0m\u001b[37m\u001b[0m \u001b[1m1s\u001b[0m 1ms/step - accuracy: 0.9914 - loss: 0.0230 - val_accuracy: 0.9939 - val_loss: 0.0195\n",
      "Epoch 63/200\n",
      "\u001b[1m450/450\u001b[0m \u001b[32m━━━━━━━━━━━━━━━━━━━━\u001b[0m\u001b[37m\u001b[0m \u001b[1m1s\u001b[0m 1ms/step - accuracy: 0.9920 - loss: 0.0226 - val_accuracy: 0.9931 - val_loss: 0.0189\n",
      "Epoch 64/200\n",
      "\u001b[1m450/450\u001b[0m \u001b[32m━━━━━━━━━━━━━━━━━━━━\u001b[0m\u001b[37m\u001b[0m \u001b[1m1s\u001b[0m 1ms/step - accuracy: 0.9909 - loss: 0.0233 - val_accuracy: 0.9931 - val_loss: 0.0190\n",
      "Epoch 65/200\n",
      "\u001b[1m450/450\u001b[0m \u001b[32m━━━━━━━━━━━━━━━━━━━━\u001b[0m\u001b[37m\u001b[0m \u001b[1m1s\u001b[0m 1ms/step - accuracy: 0.9927 - loss: 0.0215 - val_accuracy: 0.9939 - val_loss: 0.0192\n",
      "Epoch 66/200\n",
      "\u001b[1m450/450\u001b[0m \u001b[32m━━━━━━━━━━━━━━━━━━━━\u001b[0m\u001b[37m\u001b[0m \u001b[1m1s\u001b[0m 1ms/step - accuracy: 0.9933 - loss: 0.0182 - val_accuracy: 0.9931 - val_loss: 0.0185\n",
      "Epoch 67/200\n",
      "\u001b[1m450/450\u001b[0m \u001b[32m━━━━━━━━━━━━━━━━━━━━\u001b[0m\u001b[37m\u001b[0m \u001b[1m1s\u001b[0m 1ms/step - accuracy: 0.9933 - loss: 0.0191 - val_accuracy: 0.9936 - val_loss: 0.0187\n",
      "Epoch 68/200\n",
      "\u001b[1m450/450\u001b[0m \u001b[32m━━━━━━━━━━━━━━━━━━━━\u001b[0m\u001b[37m\u001b[0m \u001b[1m1s\u001b[0m 1ms/step - accuracy: 0.9928 - loss: 0.0204 - val_accuracy: 0.9936 - val_loss: 0.0178\n",
      "Epoch 69/200\n",
      "\u001b[1m450/450\u001b[0m \u001b[32m━━━━━━━━━━━━━━━━━━━━\u001b[0m\u001b[37m\u001b[0m \u001b[1m1s\u001b[0m 1ms/step - accuracy: 0.9937 - loss: 0.0193 - val_accuracy: 0.9936 - val_loss: 0.0197\n",
      "Epoch 70/200\n",
      "\u001b[1m450/450\u001b[0m \u001b[32m━━━━━━━━━━━━━━━━━━━━\u001b[0m\u001b[37m\u001b[0m \u001b[1m1s\u001b[0m 1ms/step - accuracy: 0.9938 - loss: 0.0193 - val_accuracy: 0.9936 - val_loss: 0.0179\n",
      "Epoch 71/200\n",
      "\u001b[1m450/450\u001b[0m \u001b[32m━━━━━━━━━━━━━━━━━━━━\u001b[0m\u001b[37m\u001b[0m \u001b[1m1s\u001b[0m 2ms/step - accuracy: 0.9928 - loss: 0.0201 - val_accuracy: 0.9931 - val_loss: 0.0175\n",
      "Epoch 72/200\n",
      "\u001b[1m450/450\u001b[0m \u001b[32m━━━━━━━━━━━━━━━━━━━━\u001b[0m\u001b[37m\u001b[0m \u001b[1m1s\u001b[0m 1ms/step - accuracy: 0.9930 - loss: 0.0198 - val_accuracy: 0.9936 - val_loss: 0.0177\n",
      "Epoch 73/200\n",
      "\u001b[1m450/450\u001b[0m \u001b[32m━━━━━━━━━━━━━━━━━━━━\u001b[0m\u001b[37m\u001b[0m \u001b[1m1s\u001b[0m 2ms/step - accuracy: 0.9935 - loss: 0.0189 - val_accuracy: 0.9936 - val_loss: 0.0171\n",
      "Epoch 74/200\n",
      "\u001b[1m450/450\u001b[0m \u001b[32m━━━━━━━━━━━━━━━━━━━━\u001b[0m\u001b[37m\u001b[0m \u001b[1m1s\u001b[0m 1ms/step - accuracy: 0.9932 - loss: 0.0190 - val_accuracy: 0.9939 - val_loss: 0.0168\n",
      "Epoch 75/200\n",
      "\u001b[1m450/450\u001b[0m \u001b[32m━━━━━━━━━━━━━━━━━━━━\u001b[0m\u001b[37m\u001b[0m \u001b[1m1s\u001b[0m 2ms/step - accuracy: 0.9935 - loss: 0.0188 - val_accuracy: 0.9933 - val_loss: 0.0163\n",
      "Epoch 76/200\n",
      "\u001b[1m450/450\u001b[0m \u001b[32m━━━━━━━━━━━━━━━━━━━━\u001b[0m\u001b[37m\u001b[0m \u001b[1m1s\u001b[0m 2ms/step - accuracy: 0.9940 - loss: 0.0185 - val_accuracy: 0.9936 - val_loss: 0.0181\n",
      "Epoch 77/200\n",
      "\u001b[1m450/450\u001b[0m \u001b[32m━━━━━━━━━━━━━━━━━━━━\u001b[0m\u001b[37m\u001b[0m \u001b[1m1s\u001b[0m 2ms/step - accuracy: 0.9927 - loss: 0.0197 - val_accuracy: 0.9939 - val_loss: 0.0170\n",
      "Epoch 78/200\n",
      "\u001b[1m450/450\u001b[0m \u001b[32m━━━━━━━━━━━━━━━━━━━━\u001b[0m\u001b[37m\u001b[0m \u001b[1m1s\u001b[0m 2ms/step - accuracy: 0.9936 - loss: 0.0181 - val_accuracy: 0.9939 - val_loss: 0.0161\n",
      "Epoch 79/200\n",
      "\u001b[1m450/450\u001b[0m \u001b[32m━━━━━━━━━━━━━━━━━━━━\u001b[0m\u001b[37m\u001b[0m \u001b[1m1s\u001b[0m 1ms/step - accuracy: 0.9916 - loss: 0.0207 - val_accuracy: 0.9936 - val_loss: 0.0165\n",
      "Epoch 80/200\n",
      "\u001b[1m450/450\u001b[0m \u001b[32m━━━━━━━━━━━━━━━━━━━━\u001b[0m\u001b[37m\u001b[0m \u001b[1m1s\u001b[0m 1ms/step - accuracy: 0.9929 - loss: 0.0183 - val_accuracy: 0.9939 - val_loss: 0.0163\n",
      "Epoch 81/200\n",
      "\u001b[1m450/450\u001b[0m \u001b[32m━━━━━━━━━━━━━━━━━━━━\u001b[0m\u001b[37m\u001b[0m \u001b[1m1s\u001b[0m 2ms/step - accuracy: 0.9939 - loss: 0.0168 - val_accuracy: 0.9939 - val_loss: 0.0161\n",
      "Epoch 82/200\n",
      "\u001b[1m450/450\u001b[0m \u001b[32m━━━━━━━━━━━━━━━━━━━━\u001b[0m\u001b[37m\u001b[0m \u001b[1m1s\u001b[0m 1ms/step - accuracy: 0.9929 - loss: 0.0177 - val_accuracy: 0.9942 - val_loss: 0.0158\n",
      "Epoch 83/200\n",
      "\u001b[1m450/450\u001b[0m \u001b[32m━━━━━━━━━━━━━━━━━━━━\u001b[0m\u001b[37m\u001b[0m \u001b[1m1s\u001b[0m 2ms/step - accuracy: 0.9932 - loss: 0.0193 - val_accuracy: 0.9936 - val_loss: 0.0160\n",
      "Epoch 84/200\n",
      "\u001b[1m450/450\u001b[0m \u001b[32m━━━━━━━━━━━━━━━━━━━━\u001b[0m\u001b[37m\u001b[0m \u001b[1m1s\u001b[0m 2ms/step - accuracy: 0.9933 - loss: 0.0172 - val_accuracy: 0.9942 - val_loss: 0.0159\n",
      "Epoch 85/200\n",
      "\u001b[1m450/450\u001b[0m \u001b[32m━━━━━━━━━━━━━━━━━━━━\u001b[0m\u001b[37m\u001b[0m \u001b[1m1s\u001b[0m 2ms/step - accuracy: 0.9933 - loss: 0.0191 - val_accuracy: 0.9950 - val_loss: 0.0148\n",
      "Epoch 86/200\n",
      "\u001b[1m450/450\u001b[0m \u001b[32m━━━━━━━━━━━━━━━━━━━━\u001b[0m\u001b[37m\u001b[0m \u001b[1m1s\u001b[0m 2ms/step - accuracy: 0.9941 - loss: 0.0163 - val_accuracy: 0.9947 - val_loss: 0.0159\n",
      "Epoch 87/200\n",
      "\u001b[1m450/450\u001b[0m \u001b[32m━━━━━━━━━━━━━━━━━━━━\u001b[0m\u001b[37m\u001b[0m \u001b[1m1s\u001b[0m 2ms/step - accuracy: 0.9941 - loss: 0.0178 - val_accuracy: 0.9944 - val_loss: 0.0149\n",
      "Epoch 88/200\n",
      "\u001b[1m450/450\u001b[0m \u001b[32m━━━━━━━━━━━━━━━━━━━━\u001b[0m\u001b[37m\u001b[0m \u001b[1m1s\u001b[0m 2ms/step - accuracy: 0.9947 - loss: 0.0149 - val_accuracy: 0.9944 - val_loss: 0.0156\n",
      "Epoch 89/200\n",
      "\u001b[1m450/450\u001b[0m \u001b[32m━━━━━━━━━━━━━━━━━━━━\u001b[0m\u001b[37m\u001b[0m \u001b[1m1s\u001b[0m 2ms/step - accuracy: 0.9938 - loss: 0.0175 - val_accuracy: 0.9947 - val_loss: 0.0147\n",
      "Epoch 90/200\n",
      "\u001b[1m450/450\u001b[0m \u001b[32m━━━━━━━━━━━━━━━━━━━━\u001b[0m\u001b[37m\u001b[0m \u001b[1m1s\u001b[0m 2ms/step - accuracy: 0.9950 - loss: 0.0150 - val_accuracy: 0.9944 - val_loss: 0.0153\n",
      "Epoch 91/200\n",
      "\u001b[1m450/450\u001b[0m \u001b[32m━━━━━━━━━━━━━━━━━━━━\u001b[0m\u001b[37m\u001b[0m \u001b[1m1s\u001b[0m 2ms/step - accuracy: 0.9934 - loss: 0.0182 - val_accuracy: 0.9944 - val_loss: 0.0146\n",
      "Epoch 92/200\n",
      "\u001b[1m450/450\u001b[0m \u001b[32m━━━━━━━━━━━━━━━━━━━━\u001b[0m\u001b[37m\u001b[0m \u001b[1m1s\u001b[0m 2ms/step - accuracy: 0.9948 - loss: 0.0155 - val_accuracy: 0.9942 - val_loss: 0.0152\n",
      "Epoch 93/200\n",
      "\u001b[1m450/450\u001b[0m \u001b[32m━━━━━━━━━━━━━━━━━━━━\u001b[0m\u001b[37m\u001b[0m \u001b[1m1s\u001b[0m 2ms/step - accuracy: 0.9932 - loss: 0.0201 - val_accuracy: 0.9950 - val_loss: 0.0140\n",
      "Epoch 94/200\n",
      "\u001b[1m450/450\u001b[0m \u001b[32m━━━━━━━━━━━━━━━━━━━━\u001b[0m\u001b[37m\u001b[0m \u001b[1m1s\u001b[0m 1ms/step - accuracy: 0.9944 - loss: 0.0156 - val_accuracy: 0.9953 - val_loss: 0.0141\n",
      "Epoch 95/200\n",
      "\u001b[1m450/450\u001b[0m \u001b[32m━━━━━━━━━━━━━━━━━━━━\u001b[0m\u001b[37m\u001b[0m \u001b[1m1s\u001b[0m 2ms/step - accuracy: 0.9944 - loss: 0.0174 - val_accuracy: 0.9953 - val_loss: 0.0135\n",
      "Epoch 96/200\n",
      "\u001b[1m450/450\u001b[0m \u001b[32m━━━━━━━━━━━━━━━━━━━━\u001b[0m\u001b[37m\u001b[0m \u001b[1m1s\u001b[0m 2ms/step - accuracy: 0.9946 - loss: 0.0162 - val_accuracy: 0.9950 - val_loss: 0.0137\n",
      "Epoch 97/200\n",
      "\u001b[1m450/450\u001b[0m \u001b[32m━━━━━━━━━━━━━━━━━━━━\u001b[0m\u001b[37m\u001b[0m \u001b[1m1s\u001b[0m 2ms/step - accuracy: 0.9942 - loss: 0.0165 - val_accuracy: 0.9964 - val_loss: 0.0132\n",
      "Epoch 98/200\n",
      "\u001b[1m450/450\u001b[0m \u001b[32m━━━━━━━━━━━━━━━━━━━━\u001b[0m\u001b[37m\u001b[0m \u001b[1m1s\u001b[0m 2ms/step - accuracy: 0.9932 - loss: 0.0179 - val_accuracy: 0.9950 - val_loss: 0.0143\n",
      "Epoch 99/200\n",
      "\u001b[1m450/450\u001b[0m \u001b[32m━━━━━━━━━━━━━━━━━━━━\u001b[0m\u001b[37m\u001b[0m \u001b[1m1s\u001b[0m 2ms/step - accuracy: 0.9941 - loss: 0.0181 - val_accuracy: 0.9964 - val_loss: 0.0132\n",
      "Epoch 100/200\n",
      "\u001b[1m450/450\u001b[0m \u001b[32m━━━━━━━━━━━━━━━━━━━━\u001b[0m\u001b[37m\u001b[0m \u001b[1m1s\u001b[0m 2ms/step - accuracy: 0.9953 - loss: 0.0155 - val_accuracy: 0.9961 - val_loss: 0.0130\n",
      "Epoch 101/200\n"
     ]
    },
    {
     "name": "stdout",
     "output_type": "stream",
     "text": [
      "\u001b[1m450/450\u001b[0m \u001b[32m━━━━━━━━━━━━━━━━━━━━\u001b[0m\u001b[37m\u001b[0m \u001b[1m1s\u001b[0m 2ms/step - accuracy: 0.9953 - loss: 0.0147 - val_accuracy: 0.9961 - val_loss: 0.0132\n",
      "Epoch 102/200\n",
      "\u001b[1m450/450\u001b[0m \u001b[32m━━━━━━━━━━━━━━━━━━━━\u001b[0m\u001b[37m\u001b[0m \u001b[1m1s\u001b[0m 1ms/step - accuracy: 0.9951 - loss: 0.0157 - val_accuracy: 0.9956 - val_loss: 0.0130\n",
      "Epoch 103/200\n",
      "\u001b[1m450/450\u001b[0m \u001b[32m━━━━━━━━━━━━━━━━━━━━\u001b[0m\u001b[37m\u001b[0m \u001b[1m1s\u001b[0m 2ms/step - accuracy: 0.9957 - loss: 0.0141 - val_accuracy: 0.9953 - val_loss: 0.0134\n",
      "Epoch 104/200\n",
      "\u001b[1m450/450\u001b[0m \u001b[32m━━━━━━━━━━━━━━━━━━━━\u001b[0m\u001b[37m\u001b[0m \u001b[1m1s\u001b[0m 2ms/step - accuracy: 0.9955 - loss: 0.0147 - val_accuracy: 0.9961 - val_loss: 0.0128\n",
      "Epoch 105/200\n",
      "\u001b[1m450/450\u001b[0m \u001b[32m━━━━━━━━━━━━━━━━━━━━\u001b[0m\u001b[37m\u001b[0m \u001b[1m1s\u001b[0m 2ms/step - accuracy: 0.9960 - loss: 0.0133 - val_accuracy: 0.9969 - val_loss: 0.0122\n",
      "Epoch 106/200\n",
      "\u001b[1m450/450\u001b[0m \u001b[32m━━━━━━━━━━━━━━━━━━━━\u001b[0m\u001b[37m\u001b[0m \u001b[1m1s\u001b[0m 1ms/step - accuracy: 0.9942 - loss: 0.0173 - val_accuracy: 0.9961 - val_loss: 0.0129\n",
      "Epoch 107/200\n",
      "\u001b[1m450/450\u001b[0m \u001b[32m━━━━━━━━━━━━━━━━━━━━\u001b[0m\u001b[37m\u001b[0m \u001b[1m1s\u001b[0m 1ms/step - accuracy: 0.9947 - loss: 0.0154 - val_accuracy: 0.9967 - val_loss: 0.0125\n",
      "Epoch 108/200\n",
      "\u001b[1m450/450\u001b[0m \u001b[32m━━━━━━━━━━━━━━━━━━━━\u001b[0m\u001b[37m\u001b[0m \u001b[1m1s\u001b[0m 1ms/step - accuracy: 0.9948 - loss: 0.0183 - val_accuracy: 0.9967 - val_loss: 0.0125\n",
      "Epoch 109/200\n",
      "\u001b[1m450/450\u001b[0m \u001b[32m━━━━━━━━━━━━━━━━━━━━\u001b[0m\u001b[37m\u001b[0m \u001b[1m1s\u001b[0m 1ms/step - accuracy: 0.9946 - loss: 0.0159 - val_accuracy: 0.9964 - val_loss: 0.0120\n",
      "Epoch 110/200\n",
      "\u001b[1m450/450\u001b[0m \u001b[32m━━━━━━━━━━━━━━━━━━━━\u001b[0m\u001b[37m\u001b[0m \u001b[1m1s\u001b[0m 1ms/step - accuracy: 0.9950 - loss: 0.0147 - val_accuracy: 0.9967 - val_loss: 0.0117\n",
      "Epoch 111/200\n",
      "\u001b[1m450/450\u001b[0m \u001b[32m━━━━━━━━━━━━━━━━━━━━\u001b[0m\u001b[37m\u001b[0m \u001b[1m1s\u001b[0m 1ms/step - accuracy: 0.9954 - loss: 0.0149 - val_accuracy: 0.9967 - val_loss: 0.0118\n",
      "Epoch 112/200\n",
      "\u001b[1m450/450\u001b[0m \u001b[32m━━━━━━━━━━━━━━━━━━━━\u001b[0m\u001b[37m\u001b[0m \u001b[1m1s\u001b[0m 1ms/step - accuracy: 0.9956 - loss: 0.0155 - val_accuracy: 0.9969 - val_loss: 0.0116\n",
      "Epoch 113/200\n",
      "\u001b[1m450/450\u001b[0m \u001b[32m━━━━━━━━━━━━━━━━━━━━\u001b[0m\u001b[37m\u001b[0m \u001b[1m1s\u001b[0m 1ms/step - accuracy: 0.9951 - loss: 0.0151 - val_accuracy: 0.9967 - val_loss: 0.0115\n",
      "Epoch 114/200\n",
      "\u001b[1m450/450\u001b[0m \u001b[32m━━━━━━━━━━━━━━━━━━━━\u001b[0m\u001b[37m\u001b[0m \u001b[1m1s\u001b[0m 1ms/step - accuracy: 0.9937 - loss: 0.0173 - val_accuracy: 0.9975 - val_loss: 0.0113\n",
      "Epoch 115/200\n",
      "\u001b[1m450/450\u001b[0m \u001b[32m━━━━━━━━━━━━━━━━━━━━\u001b[0m\u001b[37m\u001b[0m \u001b[1m1s\u001b[0m 2ms/step - accuracy: 0.9956 - loss: 0.0141 - val_accuracy: 0.9969 - val_loss: 0.0114\n",
      "Epoch 116/200\n",
      "\u001b[1m450/450\u001b[0m \u001b[32m━━━━━━━━━━━━━━━━━━━━\u001b[0m\u001b[37m\u001b[0m \u001b[1m1s\u001b[0m 2ms/step - accuracy: 0.9962 - loss: 0.0123 - val_accuracy: 0.9983 - val_loss: 0.0110\n",
      "Epoch 117/200\n",
      "\u001b[1m450/450\u001b[0m \u001b[32m━━━━━━━━━━━━━━━━━━━━\u001b[0m\u001b[37m\u001b[0m \u001b[1m1s\u001b[0m 1ms/step - accuracy: 0.9957 - loss: 0.0138 - val_accuracy: 0.9967 - val_loss: 0.0112\n",
      "Epoch 118/200\n",
      "\u001b[1m450/450\u001b[0m \u001b[32m━━━━━━━━━━━━━━━━━━━━\u001b[0m\u001b[37m\u001b[0m \u001b[1m1s\u001b[0m 1ms/step - accuracy: 0.9950 - loss: 0.0147 - val_accuracy: 0.9967 - val_loss: 0.0113\n",
      "Epoch 119/200\n",
      "\u001b[1m450/450\u001b[0m \u001b[32m━━━━━━━━━━━━━━━━━━━━\u001b[0m\u001b[37m\u001b[0m \u001b[1m1s\u001b[0m 1ms/step - accuracy: 0.9964 - loss: 0.0137 - val_accuracy: 0.9972 - val_loss: 0.0108\n",
      "Epoch 120/200\n",
      "\u001b[1m450/450\u001b[0m \u001b[32m━━━━━━━━━━━━━━━━━━━━\u001b[0m\u001b[37m\u001b[0m \u001b[1m1s\u001b[0m 2ms/step - accuracy: 0.9963 - loss: 0.0135 - val_accuracy: 0.9975 - val_loss: 0.0109\n",
      "Epoch 121/200\n",
      "\u001b[1m450/450\u001b[0m \u001b[32m━━━━━━━━━━━━━━━━━━━━\u001b[0m\u001b[37m\u001b[0m \u001b[1m1s\u001b[0m 2ms/step - accuracy: 0.9964 - loss: 0.0128 - val_accuracy: 0.9967 - val_loss: 0.0114\n",
      "Epoch 122/200\n",
      "\u001b[1m450/450\u001b[0m \u001b[32m━━━━━━━━━━━━━━━━━━━━\u001b[0m\u001b[37m\u001b[0m \u001b[1m1s\u001b[0m 2ms/step - accuracy: 0.9965 - loss: 0.0123 - val_accuracy: 0.9981 - val_loss: 0.0106\n",
      "Epoch 123/200\n",
      "\u001b[1m450/450\u001b[0m \u001b[32m━━━━━━━━━━━━━━━━━━━━\u001b[0m\u001b[37m\u001b[0m \u001b[1m1s\u001b[0m 2ms/step - accuracy: 0.9957 - loss: 0.0126 - val_accuracy: 0.9972 - val_loss: 0.0106\n",
      "Epoch 124/200\n",
      "\u001b[1m450/450\u001b[0m \u001b[32m━━━━━━━━━━━━━━━━━━━━\u001b[0m\u001b[37m\u001b[0m \u001b[1m1s\u001b[0m 2ms/step - accuracy: 0.9944 - loss: 0.0168 - val_accuracy: 0.9969 - val_loss: 0.0107\n",
      "Epoch 125/200\n",
      "\u001b[1m450/450\u001b[0m \u001b[32m━━━━━━━━━━━━━━━━━━━━\u001b[0m\u001b[37m\u001b[0m \u001b[1m1s\u001b[0m 2ms/step - accuracy: 0.9961 - loss: 0.0127 - val_accuracy: 0.9981 - val_loss: 0.0101\n",
      "Epoch 126/200\n",
      "\u001b[1m450/450\u001b[0m \u001b[32m━━━━━━━━━━━━━━━━━━━━\u001b[0m\u001b[37m\u001b[0m \u001b[1m1s\u001b[0m 2ms/step - accuracy: 0.9957 - loss: 0.0135 - val_accuracy: 0.9981 - val_loss: 0.0103\n",
      "Epoch 127/200\n",
      "\u001b[1m450/450\u001b[0m \u001b[32m━━━━━━━━━━━━━━━━━━━━\u001b[0m\u001b[37m\u001b[0m \u001b[1m1s\u001b[0m 2ms/step - accuracy: 0.9963 - loss: 0.0127 - val_accuracy: 0.9975 - val_loss: 0.0103\n",
      "Epoch 128/200\n",
      "\u001b[1m450/450\u001b[0m \u001b[32m━━━━━━━━━━━━━━━━━━━━\u001b[0m\u001b[37m\u001b[0m \u001b[1m1s\u001b[0m 2ms/step - accuracy: 0.9951 - loss: 0.0145 - val_accuracy: 0.9978 - val_loss: 0.0101\n",
      "Epoch 129/200\n",
      "\u001b[1m450/450\u001b[0m \u001b[32m━━━━━━━━━━━━━━━━━━━━\u001b[0m\u001b[37m\u001b[0m \u001b[1m1s\u001b[0m 2ms/step - accuracy: 0.9957 - loss: 0.0138 - val_accuracy: 0.9978 - val_loss: 0.0102\n",
      "Epoch 130/200\n",
      "\u001b[1m450/450\u001b[0m \u001b[32m━━━━━━━━━━━━━━━━━━━━\u001b[0m\u001b[37m\u001b[0m \u001b[1m1s\u001b[0m 2ms/step - accuracy: 0.9964 - loss: 0.0125 - val_accuracy: 0.9975 - val_loss: 0.0099\n",
      "Epoch 131/200\n",
      "\u001b[1m450/450\u001b[0m \u001b[32m━━━━━━━━━━━━━━━━━━━━\u001b[0m\u001b[37m\u001b[0m \u001b[1m1s\u001b[0m 2ms/step - accuracy: 0.9955 - loss: 0.0141 - val_accuracy: 0.9975 - val_loss: 0.0101\n",
      "Epoch 132/200\n",
      "\u001b[1m450/450\u001b[0m \u001b[32m━━━━━━━━━━━━━━━━━━━━\u001b[0m\u001b[37m\u001b[0m \u001b[1m1s\u001b[0m 2ms/step - accuracy: 0.9956 - loss: 0.0127 - val_accuracy: 0.9975 - val_loss: 0.0098\n",
      "Epoch 133/200\n",
      "\u001b[1m450/450\u001b[0m \u001b[32m━━━━━━━━━━━━━━━━━━━━\u001b[0m\u001b[37m\u001b[0m \u001b[1m1s\u001b[0m 2ms/step - accuracy: 0.9957 - loss: 0.0125 - val_accuracy: 0.9978 - val_loss: 0.0100\n",
      "Epoch 134/200\n",
      "\u001b[1m450/450\u001b[0m \u001b[32m━━━━━━━━━━━━━━━━━━━━\u001b[0m\u001b[37m\u001b[0m \u001b[1m1s\u001b[0m 2ms/step - accuracy: 0.9962 - loss: 0.0126 - val_accuracy: 0.9981 - val_loss: 0.0096\n",
      "Epoch 135/200\n",
      "\u001b[1m450/450\u001b[0m \u001b[32m━━━━━━━━━━━━━━━━━━━━\u001b[0m\u001b[37m\u001b[0m \u001b[1m1s\u001b[0m 2ms/step - accuracy: 0.9964 - loss: 0.0113 - val_accuracy: 0.9986 - val_loss: 0.0096\n",
      "Epoch 136/200\n",
      "\u001b[1m450/450\u001b[0m \u001b[32m━━━━━━━━━━━━━━━━━━━━\u001b[0m\u001b[37m\u001b[0m \u001b[1m1s\u001b[0m 2ms/step - accuracy: 0.9961 - loss: 0.0125 - val_accuracy: 0.9981 - val_loss: 0.0095\n",
      "Epoch 137/200\n",
      "\u001b[1m450/450\u001b[0m \u001b[32m━━━━━━━━━━━━━━━━━━━━\u001b[0m\u001b[37m\u001b[0m \u001b[1m1s\u001b[0m 2ms/step - accuracy: 0.9961 - loss: 0.0141 - val_accuracy: 0.9969 - val_loss: 0.0101\n",
      "Epoch 138/200\n",
      "\u001b[1m450/450\u001b[0m \u001b[32m━━━━━━━━━━━━━━━━━━━━\u001b[0m\u001b[37m\u001b[0m \u001b[1m1s\u001b[0m 2ms/step - accuracy: 0.9959 - loss: 0.0140 - val_accuracy: 0.9972 - val_loss: 0.0100\n",
      "Epoch 139/200\n",
      "\u001b[1m450/450\u001b[0m \u001b[32m━━━━━━━━━━━━━━━━━━━━\u001b[0m\u001b[37m\u001b[0m \u001b[1m1s\u001b[0m 2ms/step - accuracy: 0.9966 - loss: 0.0114 - val_accuracy: 0.9981 - val_loss: 0.0095\n",
      "Epoch 140/200\n",
      "\u001b[1m450/450\u001b[0m \u001b[32m━━━━━━━━━━━━━━━━━━━━\u001b[0m\u001b[37m\u001b[0m \u001b[1m1s\u001b[0m 2ms/step - accuracy: 0.9967 - loss: 0.0127 - val_accuracy: 0.9981 - val_loss: 0.0095\n",
      "Epoch 141/200\n",
      "\u001b[1m450/450\u001b[0m \u001b[32m━━━━━━━━━━━━━━━━━━━━\u001b[0m\u001b[37m\u001b[0m \u001b[1m1s\u001b[0m 2ms/step - accuracy: 0.9972 - loss: 0.0123 - val_accuracy: 0.9983 - val_loss: 0.0092\n",
      "Epoch 142/200\n",
      "\u001b[1m450/450\u001b[0m \u001b[32m━━━━━━━━━━━━━━━━━━━━\u001b[0m\u001b[37m\u001b[0m \u001b[1m1s\u001b[0m 2ms/step - accuracy: 0.9968 - loss: 0.0113 - val_accuracy: 0.9992 - val_loss: 0.0090\n",
      "Epoch 143/200\n",
      "\u001b[1m450/450\u001b[0m \u001b[32m━━━━━━━━━━━━━━━━━━━━\u001b[0m\u001b[37m\u001b[0m \u001b[1m1s\u001b[0m 2ms/step - accuracy: 0.9966 - loss: 0.0110 - val_accuracy: 0.9986 - val_loss: 0.0091\n",
      "Epoch 144/200\n",
      "\u001b[1m450/450\u001b[0m \u001b[32m━━━━━━━━━━━━━━━━━━━━\u001b[0m\u001b[37m\u001b[0m \u001b[1m1s\u001b[0m 2ms/step - accuracy: 0.9959 - loss: 0.0132 - val_accuracy: 0.9975 - val_loss: 0.0097\n",
      "Epoch 145/200\n",
      "\u001b[1m450/450\u001b[0m \u001b[32m━━━━━━━━━━━━━━━━━━━━\u001b[0m\u001b[37m\u001b[0m \u001b[1m1s\u001b[0m 2ms/step - accuracy: 0.9965 - loss: 0.0125 - val_accuracy: 0.9986 - val_loss: 0.0089\n",
      "Epoch 146/200\n",
      "\u001b[1m450/450\u001b[0m \u001b[32m━━━━━━━━━━━━━━━━━━━━\u001b[0m\u001b[37m\u001b[0m \u001b[1m1s\u001b[0m 2ms/step - accuracy: 0.9973 - loss: 0.0108 - val_accuracy: 0.9983 - val_loss: 0.0089\n",
      "Epoch 147/200\n",
      "\u001b[1m450/450\u001b[0m \u001b[32m━━━━━━━━━━━━━━━━━━━━\u001b[0m\u001b[37m\u001b[0m \u001b[1m1s\u001b[0m 2ms/step - accuracy: 0.9963 - loss: 0.0111 - val_accuracy: 0.9983 - val_loss: 0.0089\n",
      "Epoch 148/200\n",
      "\u001b[1m450/450\u001b[0m \u001b[32m━━━━━━━━━━━━━━━━━━━━\u001b[0m\u001b[37m\u001b[0m \u001b[1m1s\u001b[0m 2ms/step - accuracy: 0.9962 - loss: 0.0116 - val_accuracy: 0.9986 - val_loss: 0.0085\n",
      "Epoch 149/200\n",
      "\u001b[1m450/450\u001b[0m \u001b[32m━━━━━━━━━━━━━━━━━━━━\u001b[0m\u001b[37m\u001b[0m \u001b[1m1s\u001b[0m 2ms/step - accuracy: 0.9965 - loss: 0.0109 - val_accuracy: 0.9981 - val_loss: 0.0092\n",
      "Epoch 150/200\n"
     ]
    },
    {
     "name": "stdout",
     "output_type": "stream",
     "text": [
      "\u001b[1m450/450\u001b[0m \u001b[32m━━━━━━━━━━━━━━━━━━━━\u001b[0m\u001b[37m\u001b[0m \u001b[1m1s\u001b[0m 2ms/step - accuracy: 0.9978 - loss: 0.0098 - val_accuracy: 0.9986 - val_loss: 0.0088\n",
      "Epoch 151/200\n",
      "\u001b[1m450/450\u001b[0m \u001b[32m━━━━━━━━━━━━━━━━━━━━\u001b[0m\u001b[37m\u001b[0m \u001b[1m1s\u001b[0m 2ms/step - accuracy: 0.9969 - loss: 0.0123 - val_accuracy: 0.9986 - val_loss: 0.0085\n",
      "Epoch 152/200\n",
      "\u001b[1m450/450\u001b[0m \u001b[32m━━━━━━━━━━━━━━━━━━━━\u001b[0m\u001b[37m\u001b[0m \u001b[1m1s\u001b[0m 2ms/step - accuracy: 0.9960 - loss: 0.0130 - val_accuracy: 0.9989 - val_loss: 0.0087\n",
      "Epoch 153/200\n",
      "\u001b[1m450/450\u001b[0m \u001b[32m━━━━━━━━━━━━━━━━━━━━\u001b[0m\u001b[37m\u001b[0m \u001b[1m1s\u001b[0m 1ms/step - accuracy: 0.9967 - loss: 0.0116 - val_accuracy: 0.9986 - val_loss: 0.0086\n"
     ]
    }
   ],
   "source": [
    "ENTRADAS = X_train.shape[1]\n",
    "SALIDAS = Y_train.shape[1]\n",
    "OCULTAS = 8\n",
    "EPOCAS = 200\n",
    "LOTES = 32\n",
    "PACIENCIA = 5\n",
    "ACTIVACION = 'tanh'\n",
    "OPTIMIZADOR = 'adam'\n",
    "\n",
    "\n",
    "# %% CONSTRUCCION DEL MODELO\n",
    "model = Sequential()\n",
    "model.add(Dense(OCULTAS, input_shape=[ENTRADAS], activation=ACTIVACION))\n",
    "model.add(Dense(SALIDAS, activation='softmax'))\n",
    "model.summary()  #-- muestra la cantidad de parámetros de la red\n",
    "\n",
    "\n",
    "model.compile(optimizer=OPTIMIZADOR, loss='categorical_crossentropy', metrics=['accuracy'])\n",
    "\n",
    "# %% ENTRENAMIENTO\n",
    "\n",
    "# parada temprana para evitar el sobreajuste\n",
    "early_stop = tf.keras.callbacks.EarlyStopping(monitor='val_loss', patience=PACIENCIA)\n",
    "\n",
    "# entrena el modelo y guarda la historira del progreso\n",
    "history = model.fit(X_train,Y_train, epochs=EPOCAS, batch_size=LOTES, validation_data = (X_val, Y_val), callbacks=[early_stop])"
   ]
  },
  {
   "cell_type": "markdown",
   "metadata": {
    "id": "PaO5JzBQ3XdD"
   },
   "source": [
    "**Metricas y Gráficos**"
   ]
  },
  {
   "cell_type": "code",
   "execution_count": 12,
   "metadata": {
    "colab": {
     "base_uri": "https://localhost:8080/",
     "height": 1000
    },
    "executionInfo": {
     "elapsed": 4200,
     "status": "ok",
     "timestamp": 1718825396583,
     "user": {
      "displayName": "Redes Neuronales",
      "userId": "11693180954775528178"
     },
     "user_tz": 180
    },
    "id": "DGzlhFvq3WbC",
    "outputId": "0ae06f94-7d42-4421-9601-4919b526fae9"
   },
   "outputs": [
    {
     "name": "stdout",
     "output_type": "stream",
     "text": [
      "\u001b[1m450/450\u001b[0m \u001b[32m━━━━━━━━━━━━━━━━━━━━\u001b[0m\u001b[37m\u001b[0m \u001b[1m1s\u001b[0m 1ms/step\n",
      "\n",
      " -------------------------------------------------------------------------------- \n",
      "\n",
      "Porcentaje de aciertos X_train : 99.639%\n",
      "Reporte de métricas de entrenamiento:\n",
      "              precision    recall  f1-score   support\n",
      "\n",
      "           0       1.00      1.00      1.00      2405\n",
      "           1       1.00      1.00      1.00      2387\n",
      "           2       0.99      0.99      0.99      2398\n",
      "           3       0.99      0.99      0.99      2384\n",
      "           4       1.00      1.00      1.00      2379\n",
      "           5       1.00      1.00      1.00      2447\n",
      "\n",
      "    accuracy                           1.00     14400\n",
      "   macro avg       1.00      1.00      1.00     14400\n",
      "weighted avg       1.00      1.00      1.00     14400\n",
      "\n",
      "\u001b[1m113/113\u001b[0m \u001b[32m━━━━━━━━━━━━━━━━━━━━\u001b[0m\u001b[37m\u001b[0m \u001b[1m0s\u001b[0m 2ms/step\n",
      "\n",
      " -------------------------------------------------------------------------------- \n",
      "\n",
      "Porcentaje de aciertos X_val : 99.861%\n",
      "Reporte de métricas de validación:\n",
      "              precision    recall  f1-score   support\n",
      "\n",
      "           0       1.00      1.00      1.00       595\n",
      "           1       1.00      1.00      1.00       613\n",
      "           2       1.00      1.00      1.00       602\n",
      "           3       1.00      1.00      1.00       616\n",
      "           4       1.00      1.00      1.00       621\n",
      "           5       1.00      1.00      1.00       553\n",
      "\n",
      "    accuracy                           1.00      3600\n",
      "   macro avg       1.00      1.00      1.00      3600\n",
      "weighted avg       1.00      1.00      1.00      3600\n",
      "\n"
     ]
    },
    {
     "data": {
      "text/plain": [
       "<Axes: >"
      ]
     },
     "execution_count": 12,
     "metadata": {},
     "output_type": "execute_result"
    },
    {
     "data": {
      "image/png": "[encoded data removed]",
      "text/plain": [
       "<Figure size 640x480 with 2 Axes>"
      ]
     },
     "metadata": {},
     "output_type": "display_data"
    },
    {
     "data": {
      "image/png": "[encoded data removed]",
      "text/plain": [
       "<Figure size 640x480 with 2 Axes>"
      ]
     },
     "metadata": {},
     "output_type": "display_data"
    }
   ],
   "source": [
    "# predecir la salida del modelo\n",
    "Y_pred = model.predict(X_train)\n",
    "Y_pred_nro = np.argmax(Y_pred,axis=1)  #-- \"conversión a entero\"\n",
    "\n",
    "Y_true = np.argmax(Y_train,axis=1)\n",
    "print('\\n','-'*80, '\\n')\n",
    "print(\"Porcentaje de aciertos X_train : %.3f%%\" % (100*metrics.accuracy_score(Y_true, Y_pred_nro)))\n",
    "\n",
    "report = metrics.classification_report(Y_true, Y_pred_nro)\n",
    "print(\"Reporte de métricas de entrenamiento:\\n%s\" % report)\n",
    "cm = metrics.confusion_matrix(Y_true, Y_pred_nro)\n",
    "\n",
    "plt.figure()\n",
    "sns.heatmap(cm, square=True,  annot=True, fmt='d')\n",
    "\n",
    "# %% --- VALIDACION ---\n",
    "Y_pred = model.predict(X_val)\n",
    "Y_pred_nro = np.argmax(Y_pred,axis=1)  #-- conversión a entero\n",
    "\n",
    "Y_true = np.argmax(Y_val,axis=1)\n",
    "print('\\n','-'*80, '\\n')\n",
    "print(\"Porcentaje de aciertos X_val : %.3f%%\" % (100*metrics.accuracy_score(Y_true, Y_pred_nro)))\n",
    "\n",
    "report = metrics.classification_report(Y_true, Y_pred_nro)\n",
    "print(\"Reporte de métricas de validación:\\n%s\" % report)\n",
    "\n",
    "cm = metrics.confusion_matrix(Y_true, Y_pred_nro)\n",
    "plt.figure()\n",
    "sns.heatmap(cm, square=True,  annot=True, fmt='d')"
   ]
  },
  {
   "cell_type": "markdown",
   "metadata": {
    "id": "yhGLBZR_K3Pn"
   },
   "source": [
    "**Gráficos con evolución de curvas de loss y accuracy**\n",
    "\n",
    "\n"
   ]
  },
  {
   "cell_type": "code",
   "execution_count": 13,
   "metadata": {
    "colab": {
     "base_uri": "https://localhost:8080/",
     "height": 473
    },
    "executionInfo": {
     "elapsed": 812,
     "status": "ok",
     "timestamp": 1718825397390,
     "user": {
      "displayName": "Redes Neuronales",
      "userId": "11693180954775528178"
     },
     "user_tz": 180
    },
    "id": "rX_XzvSBK2CB",
    "outputId": "62f973dd-7467-4c67-9fe5-81bbf9852dda"
   },
   "outputs": [
    {
     "data": {
      "image/png": "[encoded data removed]",
      "text/plain": [
       "<Figure size 2000x600 with 2 Axes>"
      ]
     },
     "metadata": {},
     "output_type": "display_data"
    }
   ],
   "source": [
    "hist = history.history\n",
    "\n",
    "def dibujar_curva(axs, value, epocas, hist):\n",
    "    axs.plot(epocas, hist[value], label='Testeo')\n",
    "    axs.plot(history.epoch, hist['val_'+value], label = 'Validacion')\n",
    "\n",
    "    axs.set(xlabel=\"Epocas\", ylabel=value)\n",
    "    axs.legend()\n",
    "\n",
    "fig, axs = plt.subplots(1,2, figsize=(20,6))\n",
    "\n",
    "dibujar_curva(axs[0], 'loss', history.epoch, hist)\n",
    "dibujar_curva(axs[1], 'accuracy', history.epoch, hist)\n"
   ]
  },
  {
   "cell_type": "markdown",
   "metadata": {},
   "source": [
    "# Vemos que el modelo anda muy bien, lo único es que un par de veces se confunde el 2 con el 3"
   ]
  },
  {
   "cell_type": "markdown",
   "metadata": {},
   "source": [
    "# La translación es solo mover la imágen, por lo cual no habría inconvenientes.\n",
    "# La rotación tampoco es un problema porque dentro de las variables que usamos eso no influye. Por ejemplo usamos el campo de major_axis_length la cual es la longitud del eje mayor de la elipse (no importa si está acostada o no la foto)\n",
    "# Por último, creo que el escalado de la imagen si puede afectar al dataset si es que no se incorporan imágenes con esas características al set de entrenamiento, ya que cambia los valores de los campos de perimeter, major_axis_length, minor_axis_length y filled_area"
   ]
  },
  {
   "cell_type": "code",
   "execution_count": null,
   "metadata": {},
   "outputs": [],
   "source": []
  }
 ],
 "metadata": {
  "colab": {
   "provenance": [
    {
     "file_id": "1h9-ghQ8VXSPHLSG8Hkv8V3MqycXubDfN",
     "timestamp": 1667621061373
    },
    {
     "file_id": "1FV-Ydu5NBJ7DvGNfrlwMxfBHzXCqsO4A",
     "timestamp": 1667001788387
    }
   ]
  },
  "gpuClass": "standard",
  "kernelspec": {
   "display_name": "Python 3 (ipykernel)",
   "language": "python",
   "name": "python3"
  },
  "language_info": {
   "codemirror_mode": {
    "name": "ipython",
    "version": 3
   },
   "file_extension": ".py",
   "mimetype": "text/x-python",
   "name": "python",
   "nbconvert_exporter": "python",
   "pygments_lexer": "ipython3",
   "version": "3.11.5"
  },
  "varInspector": {
   "cols": {
    "lenName": "16",
    "lenType": "16",
    "lenVar": "50"
   },
   "kernels_config": {
    "python": {
     "delete_cmd_postfix": "",
     "delete_cmd_prefix": "del ",
     "library": "var_list.py",
     "varRefreshCmd": "print(var_dic_list())"
    },
    "r": {
     "delete_cmd_postfix": ") ",
     "delete_cmd_prefix": "rm(",
     "library": "var_list.r",
     "varRefreshCmd": "cat(var_dic_list()) "
    }
   },
   "types_to_exclude": [
    "module",
    "function",
    "builtin_function_or_method",
    "instance",
    "_Feature"
   ],
   "window_display": false
  }
 },
 "nbformat": 4,
 "nbformat_minor": 1
}
