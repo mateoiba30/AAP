{
 "cells": [
  {
   "cell_type": "code",
   "execution_count": 72,
   "metadata": {
    "colab": {
     "base_uri": "https://localhost:8080/",
     "height": 675
    },
    "executionInfo": {
     "elapsed": 9,
     "status": "ok",
     "timestamp": 1718644398843,
     "user": {
      "displayName": "Redes Neuronales",
      "userId": "11693180954775528178"
     },
     "user_tz": 180
    },
    "id": "44viJuybOEYD",
    "outputId": "d59bcfc3-3ee4-492a-957e-1f204d8efbb1"
   },
   "outputs": [
    {
     "name": "stdout",
     "output_type": "stream",
     "text": [
      "   Balance  LeftWeight  LeftDist  RightWeight  RightDist\n",
      "0        B           1         1            1          1\n",
      "1        R           1         1            1          2\n",
      "2        R           1         1            1          3\n",
      "3        R           1         1            1          4\n",
      "4        R           1         1            1          5\n",
      "5        R           1         1            2          1\n",
      "6        R           1         1            2          2\n",
      "7        R           1         1            2          3\n",
      "8        R           1         1            2          4\n",
      "9        R           1         1            2          5\n",
      "10       R           1         1            3          1\n",
      "11       R           1         1            3          2\n"
     ]
    },
    {
     "data": {
      "text/plain": [
       "<Axes: >"
      ]
     },
     "execution_count": 72,
     "metadata": {},
     "output_type": "execute_result"
    },
    {
     "data": {
      "image/png": "[encoded data removed]",
      "text/plain": [
       "<Figure size 640x480 with 1 Axes>"
      ]
     },
     "metadata": {},
     "output_type": "display_data"
    }
   ],
   "source": [
    "import pandas as pd      # para trabajar con archivos de datos csv, excel\n",
    "import numpy as np\n",
    "\n",
    "from sklearn import preprocessing, model_selection\n",
    "from sklearn.neural_network import MLPClassifier\n",
    "from matplotlib import pyplot as plt\n",
    "\n",
    "nombre_archivo = '../Datos/Balance.csv' # archivo de hojas\n",
    "\n",
    "df = pd.read_csv(nombre_archivo)\n",
    "\n",
    "# Para hacer una inspección rápida de los datos\n",
    "print(df.head(12))\n",
    "\n",
    "#print(df.describe())\n",
    "df['Balance'].hist(bins=3)"
   ]
  },
  {
   "cell_type": "markdown",
   "metadata": {
    "id": "Ufa1Z79_OMeG"
   },
   "source": [
    "### Selección de atributos y target"
   ]
  },
  {
   "cell_type": "code",
   "execution_count": 73,
   "metadata": {
    "colab": {
     "base_uri": "https://localhost:8080/"
    },
    "executionInfo": {
     "elapsed": 6,
     "status": "ok",
     "timestamp": 1718644398843,
     "user": {
      "displayName": "Redes Neuronales",
      "userId": "11693180954775528178"
     },
     "user_tz": 180
    },
    "id": "31U4F4YICm74",
    "outputId": "1977d09e-62a7-4c94-ba3e-20b1ab394d5f"
   },
   "outputs": [
    {
     "name": "stdout",
     "output_type": "stream",
     "text": [
      "Las clases del dataset son : [1 2 3 4 5]\n",
      "[[1 0 0 0 0]\n",
      " [1 0 0 0 0]\n",
      " [1 0 0 0 0]\n",
      " ...\n",
      " [0 0 0 0 1]\n",
      " [0 0 0 0 1]\n",
      " [0 0 0 0 1]]\n",
      "\n",
      "Datos de Entrenamiento: 437   Datos de Testeo: 188\n"
     ]
    }
   ],
   "source": [
    "# %% separa atributos y clases\n",
    "X_raw = np.array(df.iloc[:,1:])  # recupera todas las columnas salvo la primera (es la clase)\n",
    "Y_raw = np.array(df.iloc[:,1])    # recupera solo la última columna (es la clase)\n",
    "\n",
    "# Binarizador para convertir el nombre de la clase en one hot encoding\n",
    "binarizer = preprocessing.LabelBinarizer()\n",
    "\n",
    "# Binariza cada clase como una combinación de un 1 y 0s\n",
    "Y_raw = binarizer.fit_transform(Y_raw)\n",
    "# Y_raw==pd.get_dummies(df[' Balance']).to_numpy() # forma alternativa para codificar\n",
    "\n",
    "print('Las clases del dataset son :', binarizer.classes_)\n",
    "print(Y_raw)\n",
    "\n",
    "# %% Separa ejemplos para enternamiento y testeo\n",
    "TEST_SIZE = 0.3 # proporcion entre testeo entre entrenamiento y testeo\n",
    "X_train, X_test, Y_train, Y_test = model_selection.train_test_split(X_raw, Y_raw, test_size=TEST_SIZE)#, random_state=42)\n",
    "print('\\nDatos de Entrenamiento: %d   Datos de Testeo: %d' % (len(Y_train), len(Y_test) ))\n",
    "\n",
    "# Escala los atributos de los ejemplo\n",
    "scaler = preprocessing.StandardScaler()\n",
    "#scaler = preprocessing.MinMaxScaler()\n",
    "\n",
    "X_train  = scaler.fit_transform( X_train )\n",
    "X_test   = scaler.transform( X_test )"
   ]
  },
  {
   "cell_type": "markdown",
   "metadata": {
    "id": "cRGFR3UIGHV3"
   },
   "source": [
    "### Entrenamiento y Evaluación del Modelo"
   ]
  },
  {
   "cell_type": "code",
   "execution_count": 74,
   "metadata": {
    "colab": {
     "base_uri": "https://localhost:8080/"
    },
    "executionInfo": {
     "elapsed": 3473,
     "status": "ok",
     "timestamp": 1718644402311,
     "user": {
      "displayName": "Redes Neuronales",
      "userId": "11693180954775528178"
     },
     "user_tz": 180
    },
    "id": "WFr6IoGQBcvr",
    "outputId": "8ac26df2-0700-4e7c-9952-510f2dcbe69f"
   },
   "outputs": [
    {
     "name": "stdout",
     "output_type": "stream",
     "text": [
      "Efectividad: 100.00%\n",
      "      Score:   1.00\n"
     ]
    }
   ],
   "source": [
    "modelo = MLPClassifier(\n",
    "    hidden_layer_sizes=(4),\n",
    "    tol=1.0e-4,\n",
    "    activation='relu',          # aguante relu, sklearn no tiene leaky relu\n",
    "    solver='adam',              # todavía no vimos esto, pero el profe lo puso\n",
    "    alpha=0.005,\n",
    "    max_iter=2500,                        \n",
    ").fit(X_train, Y_train)\n",
    "\n",
    "#LO MALO ES QUE LE PONEMOS LA MISMA FUNCIÓN DE ACTIVACIÓN PARA TODAS LAS CAPAS, COSA QUE NO PASA CON TENSOR FLOW\n",
    "\n",
    "#  ########### Medición del entrenamiento ######################\n",
    "Y_pred = modelo.predict(X_train)\n",
    "score = modelo.score(X_train, Y_train)\n",
    "\n",
    "# \"invierte\" la transformacion binaria para obtener los nombres de las clases\n",
    "Y_it = binarizer.inverse_transform(Y_train)\n",
    "Y_pred_it = binarizer.inverse_transform(Y_pred)\n",
    "\n",
    "# calculo manual del accuracy\n",
    "print('Efectividad: %6.2f%%' % (100*(Y_pred_it == Y_it).sum()/len(Y_it)) )\n",
    "print('      Score: %6.2f' % (score) )\n"
   ]
  },
  {
   "cell_type": "markdown",
   "metadata": {
    "id": "PDRt8OW1GRKA"
   },
   "source": [
    "### Evaluación del Modelo con Datos de Testeo"
   ]
  },
  {
   "cell_type": "code",
   "execution_count": 75,
   "metadata": {
    "colab": {
     "base_uri": "https://localhost:8080/"
    },
    "executionInfo": {
     "elapsed": 5,
     "status": "ok",
     "timestamp": 1718644402312,
     "user": {
      "displayName": "Redes Neuronales",
      "userId": "11693180954775528178"
     },
     "user_tz": 180
    },
    "id": "9sHU6LrTMPuF",
    "outputId": "65cc9c8c-59c8-4a0a-e102-e5a3c74bed58"
   },
   "outputs": [
    {
     "name": "stdout",
     "output_type": "stream",
     "text": [
      "Efectividad: 100.00%\n",
      "      Score:   1.00\n",
      "[4 1 5 2 1 5 1 4 3 1 3 4 4 2 3 1 3 4 5 2 3 1 5 5 3 3 5 3 2 5 2 3 5 1 4 3 5\n",
      " 5 2 3 1 2 3 4 5 1 5 2 4 5 5 2 1 3 2 1 5 4 1 2 1 5 4 4 5 5 3 5 1 4 4 4 3 3\n",
      " 3 1 1 1 1 2 1 4 1 3 4 4 1 3 4 4 4 2 4 5 4 1 4 2 2 4 4 2 4 4 1 3 4 2 4 2 1\n",
      " 2 3 5 1 4 3 3 4 2 5 1 4 1 4 2 2 3 2 2 5 5 4 4 4 2 3 1 3 3 3 2 3 3 2 2 5 1\n",
      " 2 3 5 1 5 4 3 4 1 5 4 1 2 2 4 4 1 2 1 5 4 5 5 2 2 3 3 3 2 1 3 1 1 1 5 4 5\n",
      " 1 3 4]\n",
      "[4 1 5 2 1 5 1 4 3 1 3 4 4 2 3 1 3 4 5 2 3 1 5 5 3 3 5 3 2 5 2 3 5 1 4 3 5\n",
      " 5 2 3 1 2 3 4 5 1 5 2 4 5 5 2 1 3 2 1 5 4 1 2 1 5 4 4 5 5 3 5 1 4 4 4 3 3\n",
      " 3 1 1 1 1 2 1 4 1 3 4 4 1 3 4 4 4 2 4 5 4 1 4 2 2 4 4 2 4 4 1 3 4 2 4 2 1\n",
      " 2 3 5 1 4 3 3 4 2 5 1 4 1 4 2 2 3 2 2 5 5 4 4 4 2 3 1 3 3 3 2 3 3 2 2 5 1\n",
      " 2 3 5 1 5 4 3 4 1 5 4 1 2 2 4 4 1 2 1 5 4 5 5 2 2 3 3 3 2 1 3 1 1 1 5 4 5\n",
      " 1 3 4]\n"
     ]
    }
   ],
   "source": [
    "#  ########### Medición del testeo ######################\n",
    "Y_pred = modelo.predict(X_test)\n",
    "score = modelo.score(X_test, Y_test)\n",
    "\n",
    "# \"invierte\" la transformacion binaria para obtener los nombres de las clases\n",
    "Y_it = binarizer.inverse_transform(Y_test)\n",
    "Y_pred_it = binarizer.inverse_transform(Y_pred)\n",
    "\n",
    "# calculo manual del accuracy\n",
    "print('Efectividad: %6.2f%%' % (100*(Y_pred_it == Y_it).sum()/len(Y_it)) )\n",
    "print('      Score: %6.2f' % (score) )\n",
    "\n",
    "print(Y_it)\n",
    "print(Y_pred_it)"
   ]
  },
  {
   "cell_type": "code",
   "execution_count": null,
   "metadata": {},
   "outputs": [],
   "source": []
  }
 ],
 "metadata": {
  "colab": {
   "provenance": [
    {
     "file_id": "1h9-ghQ8VXSPHLSG8Hkv8V3MqycXubDfN",
     "timestamp": 1667621061373
    },
    {
     "file_id": "1FV-Ydu5NBJ7DvGNfrlwMxfBHzXCqsO4A",
     "timestamp": 1667001788387
    }
   ]
  },
  "gpuClass": "standard",
  "kernelspec": {
   "display_name": "Python 3 (ipykernel)",
   "language": "python",
   "name": "python3"
  },
  "language_info": {
   "codemirror_mode": {
    "name": "ipython",
    "version": 3
   },
   "file_extension": ".py",
   "mimetype": "text/x-python",
   "name": "python",
   "nbconvert_exporter": "python",
   "pygments_lexer": "ipython3",
   "version": "3.11.5"
  },
  "varInspector": {
   "cols": {
    "lenName": "16",
    "lenType": "16",
    "lenVar": "50"
   },
   "kernels_config": {
    "python": {
     "delete_cmd_postfix": "",
     "delete_cmd_prefix": "del ",
     "library": "var_list.py",
     "varRefreshCmd": "print(var_dic_list())"
    },
    "r": {
     "delete_cmd_postfix": ") ",
     "delete_cmd_prefix": "rm(",
     "library": "var_list.r",
     "varRefreshCmd": "cat(var_dic_list()) "
    }
   },
   "types_to_exclude": [
    "module",
    "function",
    "builtin_function_or_method",
    "instance",
    "_Feature"
   ],
   "window_display": false
  }
 },
 "nbformat": 4,
 "nbformat_minor": 1
}
