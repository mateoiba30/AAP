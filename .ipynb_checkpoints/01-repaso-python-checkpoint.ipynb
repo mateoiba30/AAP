{
 "cells": [
  {
   "cell_type": "markdown",
   "id": "9b58cf8c",
   "metadata": {},
   "source": [
    "# Intro teórica\n",
    "\n",
    "no voy a hacer todos los ejercicios ya que se las bases\n",
    "\n",
    "1. en jupyter notebook hay 3 tipos de celdas:\n",
    "    - de código\n",
    "    - markdown\n",
    "    - texto\n",
    "    \n",
    "    El entorno de ejecución en jupyter involucra a los elementos necesarios para ejecutar mi código, como el kernel, las bibliotecas y otras dependencias\n",
    "    \n",
    "\n",
    "1. en el código puedo poner !dir por ejemplo y otros comandos de mis SO"
   ]
  },
  {
   "cell_type": "code",
   "execution_count": 21,
   "id": "88f60f8b",
   "metadata": {},
   "outputs": [
    {
     "name": "stdout",
     "output_type": "stream",
     "text": [
      "Name: numpy\n",
      "Version: 1.24.3\n",
      "Summary: Fundamental package for array computing in Python\n",
      "Home-page: https://www.numpy.org\n",
      "Author: Travis E. Oliphant et al.\n",
      "Author-email: \n",
      "License: BSD-3-Clause\n",
      "Location: C:\\Users\\Mateo\\anaconda3\\Lib\\site-packages\n",
      "Requires: \n",
      "Required-by: astropy, bokeh, Bottleneck, contourpy, daal4py, datasets, datashader, datashape, gensim, h5py, holoviews, hvplot, imagecodecs, imageio, imbalanced-learn, matplotlib, mkl-fft, mkl-random, numba, numexpr, pandas, patsy, pyarrow, pyerfa, PyWavelets, scikit-image, scikit-learn, scikit-surprise, scipy, seaborn, statsmodels, tables, tifffile, transformers, xarray\n"
     ]
    }
   ],
   "source": [
    "!pip show numpy"
   ]
  },
  {
   "cell_type": "code",
   "execution_count": 22,
   "id": "cc70acf5",
   "metadata": {},
   "outputs": [
    {
     "name": "stdout",
     "output_type": "stream",
     "text": [
      "Name: pandas\n",
      "Version: 2.0.3\n",
      "Summary: Powerful data structures for data analysis, time series, and statistics\n",
      "Home-page: \n",
      "Author: \n",
      "Author-email: The Pandas Development Team <pandas-dev@python.org>\n",
      "License: BSD 3-Clause License\n",
      "\n",
      "Copyright (c) 2008-2011, AQR Capital Management, LLC, Lambda Foundry, Inc. and PyData Development Team\n",
      "All rights reserved.\n",
      "\n",
      "Copyright (c) 2011-2023, Open source contributors.\n",
      "\n",
      "Redistribution and use in source and binary forms, with or without\n",
      "modification, are permitted provided that the following conditions are met:\n",
      "\n",
      "* Redistributions of source code must retain the above copyright notice, this\n",
      "  list of conditions and the following disclaimer.\n",
      "\n",
      "* Redistributions in binary form must reproduce the above copyright notice,\n",
      "  this list of conditions and the following disclaimer in the documentation\n",
      "  and/or other materials provided with the distribution.\n",
      "\n",
      "* Neither the name of the copyright holder nor the names of its\n",
      "  contributors may be used to endorse or promote products derived from\n",
      "  this software without specific prior written permission.\n",
      "\n",
      "THIS SOFTWARE IS PROVIDED BY THE COPYRIGHT HOLDERS AND CONTRIBUTORS \"AS IS\"\n",
      "AND ANY EXPRESS OR IMPLIED WARRANTIES, INCLUDING, BUT NOT LIMITED TO, THE\n",
      "IMPLIED WARRANTIES OF MERCHANTABILITY AND FITNESS FOR A PARTICULAR PURPOSE ARE\n",
      "DISCLAIMED. IN NO EVENT SHALL THE COPYRIGHT HOLDER OR CONTRIBUTORS BE LIABLE\n",
      "FOR ANY DIRECT, INDIRECT, INCIDENTAL, SPECIAL, EXEMPLARY, OR CONSEQUENTIAL\n",
      "DAMAGES (INCLUDING, BUT NOT LIMITED TO, PROCUREMENT OF SUBSTITUTE GOODS OR\n",
      "SERVICES; LOSS OF USE, DATA, OR PROFITS; OR BUSINESS INTERRUPTION) HOWEVER\n",
      "CAUSED AND ON ANY THEORY OF LIABILITY, WHETHER IN CONTRACT, STRICT LIABILITY,\n",
      "OR TORT (INCLUDING NEGLIGENCE OR OTHERWISE) ARISING IN ANY WAY OUT OF THE USE\n",
      "OF THIS SOFTWARE, EVEN IF ADVISED OF THE POSSIBILITY OF SUCH DAMAGE.\n",
      "\n",
      "Location: C:\\Users\\Mateo\\anaconda3\\Lib\\site-packages\n",
      "Requires: numpy, numpy, python-dateutil, pytz, tzdata\n",
      "Required-by: bokeh, datasets, datashader, holoviews, hvplot, panel, seaborn, statsmodels, xarray\n"
     ]
    }
   ],
   "source": [
    "!pip show pandas"
   ]
  },
  {
   "cell_type": "code",
   "execution_count": 23,
   "id": "192d0e06",
   "metadata": {},
   "outputs": [
    {
     "name": "stdout",
     "output_type": "stream",
     "text": [
      "Python 3.11.5\n"
     ]
    }
   ],
   "source": [
    "!python --version"
   ]
  },
  {
   "cell_type": "markdown",
   "id": "e5c58fa1",
   "metadata": {},
   "source": [
    "# Repaso Python"
   ]
  },
  {
   "cell_type": "code",
   "execution_count": 1,
   "id": "eb6cbf70",
   "metadata": {},
   "outputs": [
    {
     "name": "stdout",
     "output_type": "stream",
     "text": [
      "Elemento de lista1: 1, Elemento de lista2: a\n",
      "Elemento de lista1: 2, Elemento de lista2: b\n",
      "Elemento de lista1: 3, Elemento de lista2: c\n",
      "Elemento de lista1: 4, Elemento de lista2: d\n"
     ]
    }
   ],
   "source": [
    "#repaso python\n",
    "\n",
    "#ej 2\n",
    "lista1 = [1, 2, 3, 4]\n",
    "lista2 = ['a', 'b', 'c', 'd']\n",
    "\n",
    "#una tupla es una lista inmutable con elementos de diferentes tipos\n",
    "for elemento1, elemento2 in zip(lista1, lista2): #con zip generamos una tupla, la cual tiene un elemento de cada lista en cada posición\n",
    "    print(f\"Elemento de lista1: {elemento1}, Elemento de lista2: {elemento2}\")"
   ]
  },
  {
   "cell_type": "code",
   "execution_count": 2,
   "id": "ef560c96",
   "metadata": {},
   "outputs": [
    {
     "name": "stdout",
     "output_type": "stream",
     "text": [
      "elemento 1\n",
      "elemento 2\n",
      "elemento 3\n",
      "elemento 4\n"
     ]
    }
   ],
   "source": [
    "#ej 3\n",
    "lista3 = [1, 1, 2, 3, 4]\n",
    "for elemento in set(lista3): #set hace que no tengamos elementos repetidos\n",
    "    print(f\"elemento {elemento}\")\n",
    "#set crea un conjunto, el cual es una estructura en python que no contiene repetidos, es mutable, no hay un órden y se pueden aplicar funciones de intersección y similares"
   ]
  },
  {
   "cell_type": "code",
   "execution_count": 5,
   "id": "a9f626a5",
   "metadata": {},
   "outputs": [
    {
     "name": "stdout",
     "output_type": "stream",
     "text": [
      "la distancia entre los puntos es de 1.4142135623730951 unidades\n"
     ]
    }
   ],
   "source": [
    "#ej 4\n",
    "import math\n",
    "\n",
    "def calcularDistancia(punto1, punto2):\n",
    "    catetoA = abs(punto1[0] - punto2[0])\n",
    "    catetoB = abs(punto1[1] - punto2[1])\n",
    "    hipotenusa = math.sqrt(catetoA**2 + catetoB**2)\n",
    "    return hipotenusa\n",
    "    \n",
    "punto1 = [10, 4] # (x, y)\n",
    "punto2 = [11, 5] #a 2^0.5 de distancia\n",
    "distancia = calcularDistancia(punto1, punto2)\n",
    "print(f\"la distancia entre los puntos es de {distancia} unidades\")"
   ]
  },
  {
   "cell_type": "code",
   "execution_count": 6,
   "id": "bf366384",
   "metadata": {},
   "outputs": [
    {
     "name": "stdout",
     "output_type": "stream",
     "text": [
      "Slice 1 (mi_lista[2:7]): [2, 3, 4, 5, 6]\n",
      "Slice 2 (mi_lista[:5]): [0, 1, 2, 3, 4]\n",
      "Slice 3 (mi_lista[5:]): [5, 6, 7, 8, 9]\n",
      "Slice 4 (mi_lista[1:8:2]): [1, 3, 5, 7]\n",
      "Slice 5 (mi_lista[::-1]): [9, 8, 7, 6, 5, 4, 3, 2, 1, 0]\n",
      "Slice 6 (mi_lista[-4:-1]): [6, 7, 8]\n",
      "Slice 7 (mi_lista[:]): [0, 1, 2, 3, 4, 5, 6, 7, 8, 9]\n"
     ]
    }
   ],
   "source": [
    "#ej 5\n",
    "#los slices son partes de una lista: lista[inicio:fin:paso] -> incluye el inicio, no incluye el fin\n",
    "#Si no aclaro el inicio va desde el principio, si no aclaro el fin va hasta el final, si no aclaro el paso entonces es de a 1\n",
    "\n",
    "mi_lista = [0, 1, 2, 3, 4, 5, 6, 7, 8, 9]\n",
    "slice_1 = mi_lista[2:7]\n",
    "print(\"Slice 1 (mi_lista[2:7]):\", slice_1)  # Salida: [2, 3, 4, 5, 6]\n",
    "slice_2 = mi_lista[:5]\n",
    "print(\"Slice 2 (mi_lista[:5]):\", slice_2)  # Salida: [0, 1, 2, 3, 4]\n",
    "slice_3 = mi_lista[5:]\n",
    "print(\"Slice 3 (mi_lista[5:]):\", slice_3)  # Salida: [5, 6, 7, 8, 9]\n",
    "slice_4 = mi_lista[1:8:2]\n",
    "print(\"Slice 4 (mi_lista[1:8:2]):\", slice_4)  # Salida: [1, 3, 5, 7]\n",
    "slice_5 = mi_lista[::-1]\n",
    "print(\"Slice 5 (mi_lista[::-1]):\", slice_5)  # Salida: [9, 8, 7, 6, 5, 4, 3, 2, 1, 0]\n",
    "slice_6 = mi_lista[-4:-1]\n",
    "print(\"Slice 6 (mi_lista[-4:-1]):\", slice_6)  # Salida: [6, 7, 8]\n",
    "slice_7 = mi_lista[:]\n",
    "print(\"Slice 7 (mi_lista[:]):\", slice_7)  # Salida: [0, 1, 2, 3, 4, 5, 6, 7, 8, 9]"
   ]
  },
  {
   "cell_type": "markdown",
   "id": "3fb0026b",
   "metadata": {},
   "source": [
    "# Biblioteca Numpy\n",
    "numpy proporciona una interfaz eficiente y flexible para trabajar con estas estructuras de datos"
   ]
  },
  {
   "cell_type": "code",
   "execution_count": 11,
   "id": "11a65eb4",
   "metadata": {},
   "outputs": [
    {
     "name": "stdout",
     "output_type": "stream",
     "text": [
      "Vector: [1 2 3 4 5]\n",
      "Vector de ceros: [0. 0. 0. 0. 0.]\n",
      "Vector de unos: [1. 1. 1. 1. 1.]\n",
      "Vector con rango: [10 11 12 13 14 15 16 17 18 19]\n",
      "Vector equiespaciado: [0.   0.25 0.5  0.75 1.  ]\n",
      "Vector aleatorio (uniforme [0, 1)): [0.7723639  0.50607924 0.2279858  0.07987642 0.26616018]\n"
     ]
    }
   ],
   "source": [
    "#ej 1 -> creación de vectores\n",
    "\n",
    "import numpy as np\n",
    "\n",
    "# Creación de un vector con elementos especificados\n",
    "vector = np.array([1, 2, 3, 4, 5])\n",
    "print(\"Vector:\", vector)\n",
    "\n",
    "# Creación de un vector de ceros\n",
    "vector_ceros = np.zeros(5)\n",
    "print(\"Vector de ceros:\", vector_ceros)\n",
    "\n",
    "# Creación de un vector de unos\n",
    "vector_unos = np.ones(5)\n",
    "print(\"Vector de unos:\", vector_unos)\n",
    "\n",
    "# Creación de un vector con valores en un rango específico\n",
    "vector_rango = np.arange(10, 20) #-> no es random, es de paso 1\n",
    "print(\"Vector con rango:\", vector_rango)\n",
    "\n",
    "# Creación de un vector con valores equiespaciados\n",
    "vector_linspace = np.linspace(0, 1, 5)\n",
    "print(\"Vector equiespaciado:\", vector_linspace)\n",
    "\n",
    "vector_aleatorio_uniforme = np.random.rand(5)\n",
    "print(\"Vector aleatorio (uniforme [0, 1)):\", vector_aleatorio_uniforme)"
   ]
  },
  {
   "cell_type": "code",
   "execution_count": 8,
   "id": "c955c244",
   "metadata": {},
   "outputs": [
    {
     "name": "stdout",
     "output_type": "stream",
     "text": [
      "Matriz:\n",
      " [[1 2 3]\n",
      " [4 5 6]]\n",
      "Matriz de ceros:\n",
      " [[0. 0. 0.]\n",
      " [0. 0. 0.]\n",
      " [0. 0. 0.]]\n",
      "Matriz de unos:\n",
      " [[1. 1. 1. 1.]\n",
      " [1. 1. 1. 1.]]\n",
      "Matriz identidad:\n",
      " [[1. 0. 0.]\n",
      " [0. 1. 0.]\n",
      " [0. 0. 1.]]\n",
      "Matriz aleatoria:\n",
      " [[0.1223772  0.19845291 0.37137352]\n",
      " [0.44859172 0.0890108  0.78778734]]\n"
     ]
    }
   ],
   "source": [
    "#ej 1-> creación de matrices\n",
    "\n",
    "# Creación de una matriz 2x3 con elementos especificados\n",
    "matriz = np.array([[1, 2, 3], [4, 5, 6]])\n",
    "print(\"Matriz:\\n\", matriz)\n",
    "\n",
    "# Creación de una matriz de ceros 3x3\n",
    "matriz_ceros = np.zeros((3, 3))\n",
    "print(\"Matriz de ceros:\\n\", matriz_ceros)\n",
    "\n",
    "# Creación de una matriz de unos 2x4\n",
    "matriz_unos = np.ones((2, 4))\n",
    "print(\"Matriz de unos:\\n\", matriz_unos)\n",
    "\n",
    "# Creación de una matriz identidad 3x3\n",
    "matriz_identidad = np.eye(3)\n",
    "print(\"Matriz identidad:\\n\", matriz_identidad)\n",
    "\n",
    "# Creación de una matriz con valores aleatorios\n",
    "matriz_aleatoria = np.random.rand(2, 3)\n",
    "print(\"Matriz aleatoria:\\n\", matriz_aleatoria)\n"
   ]
  },
  {
   "cell_type": "code",
   "execution_count": 12,
   "id": "0c0fd993",
   "metadata": {},
   "outputs": [
    {
     "name": "stdout",
     "output_type": "stream",
     "text": [
      "Tensor:\n",
      " [[[ 1  2]\n",
      "  [ 3  4]\n",
      "  [ 5  6]]\n",
      "\n",
      " [[ 7  8]\n",
      "  [ 9 10]\n",
      "  [11 12]]\n",
      "\n",
      " [[13 14]\n",
      "  [15 16]\n",
      "  [17 18]]]\n",
      "Tensor de ceros:\n",
      " [[[0. 0. 0.]\n",
      "  [0. 0. 0.]]\n",
      "\n",
      " [[0. 0. 0.]\n",
      "  [0. 0. 0.]]]\n",
      "Tensor de unos:\n",
      " [[[1. 1. 1.]\n",
      "  [1. 1. 1.]\n",
      "  [1. 1. 1.]]\n",
      "\n",
      " [[1. 1. 1.]\n",
      "  [1. 1. 1.]\n",
      "  [1. 1. 1.]]\n",
      "\n",
      " [[1. 1. 1.]\n",
      "  [1. 1. 1.]\n",
      "  [1. 1. 1.]]]\n",
      "Tensor aleatorio:\n",
      " [[[0.76396752 0.62498137 0.56499816 0.74759495]\n",
      "  [0.70986551 0.39653047 0.51999016 0.04921578]]\n",
      "\n",
      " [[0.48725338 0.99468166 0.01914023 0.95429674]\n",
      "  [0.76480754 0.45006054 0.2085931  0.89309753]]\n",
      "\n",
      " [[0.1903634  0.97894912 0.31076337 0.05307265]\n",
      "  [0.35705571 0.63036012 0.72275205 0.76169802]]]\n"
     ]
    }
   ],
   "source": [
    "#ej 1 -> creación de tensores = arreglos de 3 dimensiones o más\n",
    "\n",
    "# Creación de un tensor 3x3x2 con elementos especificados\n",
    "tensor = np.array([[[1, 2], [3, 4], [5, 6]], \n",
    "                   [[7, 8], [9, 10], [11, 12]],\n",
    "                   [[13, 14], [15, 16], [17, 18]]])\n",
    "print(\"Tensor:\\n\", tensor)\n",
    "\n",
    "# Creación de un tensor 2x2x3 de ceros\n",
    "tensor_ceros = np.zeros((2, 2, 3))\n",
    "print(\"Tensor de ceros:\\n\", tensor_ceros)\n",
    "\n",
    "# Creación de un tensor 3x3x3 de unos\n",
    "tensor_unos = np.ones((3, 3, 3))\n",
    "print(\"Tensor de unos:\\n\", tensor_unos)\n",
    "\n",
    "# Creación de un tensor 3x2x4 con valores aleatorios\n",
    "tensor_aleatorio = np.random.rand(3, 2, 4)\n",
    "print(\"Tensor aleatorio:\\n\", tensor_aleatorio)\n"
   ]
  },
  {
   "cell_type": "code",
   "execution_count": 20,
   "id": "bbdc2a38",
   "metadata": {},
   "outputs": [
    {
     "name": "stdout",
     "output_type": "stream",
     "text": [
      "array(): [1 2 3 4 5]\n",
      "Array vacío:\n",
      " [[6.23042070e-307 4.67296746e-307 1.69121096e-306]\n",
      " [1.78019082e-306 1.89146896e-307 7.56571288e-307]\n",
      " [3.11525958e-307 1.24610723e-306 0.00000000e+000]]\n",
      "Array lleno con 7:\n",
      " [[7 7 7]\n",
      " [7 7 7]]\n",
      "Array de ceros:\n",
      " [[0. 0. 0. 0.]\n",
      " [0. 0. 0. 0.]]\n",
      "Array de unos:\n",
      " [[1. 1.]\n",
      " [1. 1.]\n",
      " [1. 1.]]\n",
      "Matriz identidad:\n",
      " [[1. 0. 0. 0.]\n",
      " [0. 1. 0. 0.]\n",
      " [0. 0. 1. 0.]\n",
      " [0. 0. 0. 1.]]\n"
     ]
    }
   ],
   "source": [
    "#ej 1 -> uso de diferentes constructores para arreglos:\n",
    "\n",
    "#array() -> carga los datos desde una lista\n",
    "lista = [1, 2, 3, 4, 5]\n",
    "array_desde_lista = np.array(lista)\n",
    "print(\"array():\", array_desde_lista)\n",
    "\n",
    "#empty -> inicializa con basura\n",
    "array_vacio = np.empty((3, 3))\n",
    "print(\"Array vacío:\\n\", array_vacio)\n",
    "\n",
    "#full -> carga todo con el mismo valor\n",
    "array_lleno = np.full((2, 3), 7)\n",
    "print(\"Array lleno con 7:\\n\", array_lleno)\n",
    "\n",
    "#zeros() -> full de 0\n",
    "array_ceros = np.zeros((2, 4))\n",
    "print(\"Array de ceros:\\n\", array_ceros)\n",
    "\n",
    "#ones() -> full de 1\n",
    "array_unos = np.ones((3, 2))\n",
    "print(\"Array de unos:\\n\", array_unos)\n",
    "\n",
    "#identity -> matriz identidad\n",
    "matriz_identidad = np.identity(4)\n",
    "print(\"Matriz identidad:\\n\", matriz_identidad)"
   ]
  },
  {
   "cell_type": "markdown",
   "id": "e0930a8c",
   "metadata": {},
   "source": [
    "numpy puede generar arreglos de muchos tipos de datos, donde no solo indico si es integer por ejemplo, sinó que también puedo elegir entre cuantos bytes vaya a usar la variable. Me permite tener datos de primitivos y objetos\n",
    "\n",
    "El tipo de datos que se utiliza por defecto al crear un array en numpy depende de los datos proporcionados:\n",
    "\n",
    "Si se proporcionan números enteros, el tipo por defecto es int64 en sistemas de 64 bits y int32 en sistemas de 32 bits.\n",
    "Si se proporcionan números flotantes, el tipo por defecto es float64.\n",
    "Si se proporcionan números complejos, el tipo por defecto es complex128."
   ]
  }
 ],
 "metadata": {
  "kernelspec": {
   "display_name": "Python 3 (ipykernel)",
   "language": "python",
   "name": "python3"
  },
  "language_info": {
   "codemirror_mode": {
    "name": "ipython",
    "version": 3
   },
   "file_extension": ".py",
   "mimetype": "text/x-python",
   "name": "python",
   "nbconvert_exporter": "python",
   "pygments_lexer": "ipython3",
   "version": "3.11.5"
  }
 },
 "nbformat": 4,
 "nbformat_minor": 5
}
