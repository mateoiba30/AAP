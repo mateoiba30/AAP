{
 "cells": [
  {
   "cell_type": "markdown",
   "id": "9b58cf8c",
   "metadata": {},
   "source": [
    "# Intro teórica\n",
    "\n",
    "no voy a hacer todos los ejercicios ya que se las bases\n",
    "\n",
    "1. en jupyter notebook hay 3 tipos de celdas:\n",
    "    - de código\n",
    "    - markdown\n",
    "    - texto\n",
    "    \n",
    "    El entorno de ejecución en jupyter involucra a los elementos necesarios para ejecutar mi código, como el kernel, las bibliotecas y otras dependencias\n",
    "    \n",
    "\n",
    "1. en el código puedo poner !dir por ejemplo y otros comandos de mis SO"
   ]
  },
  {
   "cell_type": "code",
   "execution_count": 21,
   "id": "88f60f8b",
   "metadata": {},
   "outputs": [
    {
     "name": "stdout",
     "output_type": "stream",
     "text": [
      "Name: numpy\n",
      "Version: 1.24.3\n",
      "Summary: Fundamental package for array computing in Python\n",
      "Home-page: https://www.numpy.org\n",
      "Author: Travis E. Oliphant et al.\n",
      "Author-email: \n",
      "License: BSD-3-Clause\n",
      "Location: C:\\Users\\Mateo\\anaconda3\\Lib\\site-packages\n",
      "Requires: \n",
      "Required-by: astropy, bokeh, Bottleneck, contourpy, daal4py, datasets, datashader, datashape, gensim, h5py, holoviews, hvplot, imagecodecs, imageio, imbalanced-learn, matplotlib, mkl-fft, mkl-random, numba, numexpr, pandas, patsy, pyarrow, pyerfa, PyWavelets, scikit-image, scikit-learn, scikit-surprise, scipy, seaborn, statsmodels, tables, tifffile, transformers, xarray\n"
     ]
    }
   ],
   "source": [
    "!pip show numpy"
   ]
  },
  {
   "cell_type": "code",
   "execution_count": 22,
   "id": "cc70acf5",
   "metadata": {},
   "outputs": [
    {
     "name": "stdout",
     "output_type": "stream",
     "text": [
      "Name: pandas\n",
      "Version: 2.0.3\n",
      "Summary: Powerful data structures for data analysis, time series, and statistics\n",
      "Home-page: \n",
      "Author: \n",
      "Author-email: The Pandas Development Team <pandas-dev@python.org>\n",
      "License: BSD 3-Clause License\n",
      "\n",
      "Copyright (c) 2008-2011, AQR Capital Management, LLC, Lambda Foundry, Inc. and PyData Development Team\n",
      "All rights reserved.\n",
      "\n",
      "Copyright (c) 2011-2023, Open source contributors.\n",
      "\n",
      "Redistribution and use in source and binary forms, with or without\n",
      "modification, are permitted provided that the following conditions are met:\n",
      "\n",
      "* Redistributions of source code must retain the above copyright notice, this\n",
      "  list of conditions and the following disclaimer.\n",
      "\n",
      "* Redistributions in binary form must reproduce the above copyright notice,\n",
      "  this list of conditions and the following disclaimer in the documentation\n",
      "  and/or other materials provided with the distribution.\n",
      "\n",
      "* Neither the name of the copyright holder nor the names of its\n",
      "  contributors may be used to endorse or promote products derived from\n",
      "  this software without specific prior written permission.\n",
      "\n",
      "THIS SOFTWARE IS PROVIDED BY THE COPYRIGHT HOLDERS AND CONTRIBUTORS \"AS IS\"\n",
      "AND ANY EXPRESS OR IMPLIED WARRANTIES, INCLUDING, BUT NOT LIMITED TO, THE\n",
      "IMPLIED WARRANTIES OF MERCHANTABILITY AND FITNESS FOR A PARTICULAR PURPOSE ARE\n",
      "DISCLAIMED. IN NO EVENT SHALL THE COPYRIGHT HOLDER OR CONTRIBUTORS BE LIABLE\n",
      "FOR ANY DIRECT, INDIRECT, INCIDENTAL, SPECIAL, EXEMPLARY, OR CONSEQUENTIAL\n",
      "DAMAGES (INCLUDING, BUT NOT LIMITED TO, PROCUREMENT OF SUBSTITUTE GOODS OR\n",
      "SERVICES; LOSS OF USE, DATA, OR PROFITS; OR BUSINESS INTERRUPTION) HOWEVER\n",
      "CAUSED AND ON ANY THEORY OF LIABILITY, WHETHER IN CONTRACT, STRICT LIABILITY,\n",
      "OR TORT (INCLUDING NEGLIGENCE OR OTHERWISE) ARISING IN ANY WAY OUT OF THE USE\n",
      "OF THIS SOFTWARE, EVEN IF ADVISED OF THE POSSIBILITY OF SUCH DAMAGE.\n",
      "\n",
      "Location: C:\\Users\\Mateo\\anaconda3\\Lib\\site-packages\n",
      "Requires: numpy, numpy, python-dateutil, pytz, tzdata\n",
      "Required-by: bokeh, datasets, datashader, holoviews, hvplot, panel, seaborn, statsmodels, xarray\n"
     ]
    }
   ],
   "source": [
    "!pip show pandas"
   ]
  },
  {
   "cell_type": "code",
   "execution_count": 23,
   "id": "192d0e06",
   "metadata": {},
   "outputs": [
    {
     "name": "stdout",
     "output_type": "stream",
     "text": [
      "Python 3.11.5\n"
     ]
    }
   ],
   "source": [
    "!python --version"
   ]
  },
  {
   "cell_type": "markdown",
   "id": "e5c58fa1",
   "metadata": {},
   "source": [
    "# Repaso Python"
   ]
  },
  {
   "cell_type": "code",
   "execution_count": 1,
   "id": "eb6cbf70",
   "metadata": {},
   "outputs": [
    {
     "name": "stdout",
     "output_type": "stream",
     "text": [
      "Elemento de lista1: 1, Elemento de lista2: a\n",
      "Elemento de lista1: 2, Elemento de lista2: b\n",
      "Elemento de lista1: 3, Elemento de lista2: c\n",
      "Elemento de lista1: 4, Elemento de lista2: d\n"
     ]
    }
   ],
   "source": [
    "#repaso python\n",
    "\n",
    "#ej 2\n",
    "lista1 = [1, 2, 3, 4]\n",
    "lista2 = ['a', 'b', 'c', 'd']\n",
    "\n",
    "#una tupla es una lista inmutable con elementos de diferentes tipos\n",
    "for elemento1, elemento2 in zip(lista1, lista2): #con zip generamos una tupla, la cual tiene un elemento de cada lista en cada posición\n",
    "    print(f\"Elemento de lista1: {elemento1}, Elemento de lista2: {elemento2}\")"
   ]
  },
  {
   "cell_type": "code",
   "execution_count": 2,
   "id": "ef560c96",
   "metadata": {},
   "outputs": [
    {
     "name": "stdout",
     "output_type": "stream",
     "text": [
      "elemento 1\n",
      "elemento 2\n",
      "elemento 3\n",
      "elemento 4\n"
     ]
    }
   ],
   "source": [
    "#ej 3\n",
    "lista3 = [1, 1, 2, 3, 4]\n",
    "for elemento in set(lista3): #set hace que no tengamos elementos repetidos\n",
    "    print(f\"elemento {elemento}\")\n",
    "#set crea un conjunto, el cual es una estructura en python que no contiene repetidos, es mutable, no hay un órden y se pueden aplicar funciones de intersección y similares"
   ]
  },
  {
   "cell_type": "code",
   "execution_count": 5,
   "id": "a9f626a5",
   "metadata": {},
   "outputs": [
    {
     "name": "stdout",
     "output_type": "stream",
     "text": [
      "la distancia entre los puntos es de 1.4142135623730951 unidades\n"
     ]
    }
   ],
   "source": [
    "#ej 4\n",
    "import math\n",
    "\n",
    "def calcularDistancia(punto1, punto2):\n",
    "    catetoA = abs(punto1[0] - punto2[0])\n",
    "    catetoB = abs(punto1[1] - punto2[1])\n",
    "    hipotenusa = math.sqrt(catetoA**2 + catetoB**2)\n",
    "    return hipotenusa\n",
    "    \n",
    "punto1 = [10, 4] # (x, y)\n",
    "punto2 = [11, 5] #a 2^0.5 de distancia\n",
    "distancia = calcularDistancia(punto1, punto2)\n",
    "print(f\"la distancia entre los puntos es de {distancia} unidades\")"
   ]
  },
  {
   "cell_type": "code",
   "execution_count": 6,
   "id": "bf366384",
   "metadata": {},
   "outputs": [
    {
     "name": "stdout",
     "output_type": "stream",
     "text": [
      "Slice 1 (mi_lista[2:7]): [2, 3, 4, 5, 6]\n",
      "Slice 2 (mi_lista[:5]): [0, 1, 2, 3, 4]\n",
      "Slice 3 (mi_lista[5:]): [5, 6, 7, 8, 9]\n",
      "Slice 4 (mi_lista[1:8:2]): [1, 3, 5, 7]\n",
      "Slice 5 (mi_lista[::-1]): [9, 8, 7, 6, 5, 4, 3, 2, 1, 0]\n",
      "Slice 6 (mi_lista[-4:-1]): [6, 7, 8]\n",
      "Slice 7 (mi_lista[:]): [0, 1, 2, 3, 4, 5, 6, 7, 8, 9]\n"
     ]
    }
   ],
   "source": [
    "#ej 5\n",
    "#los slices son partes de una lista: lista[inicio:fin:paso] -> incluye el inicio, no incluye el fin\n",
    "#Si no aclaro el inicio va desde el principio, si no aclaro el fin va hasta el final, si no aclaro el paso entonces es de a 1\n",
    "\n",
    "mi_lista = [0, 1, 2, 3, 4, 5, 6, 7, 8, 9]\n",
    "slice_1 = mi_lista[2:7]\n",
    "print(\"Slice 1 (mi_lista[2:7]):\", slice_1)  # Salida: [2, 3, 4, 5, 6]\n",
    "slice_2 = mi_lista[:5]\n",
    "print(\"Slice 2 (mi_lista[:5]):\", slice_2)  # Salida: [0, 1, 2, 3, 4]\n",
    "slice_3 = mi_lista[5:]\n",
    "print(\"Slice 3 (mi_lista[5:]):\", slice_3)  # Salida: [5, 6, 7, 8, 9]\n",
    "slice_4 = mi_lista[1:8:2]\n",
    "print(\"Slice 4 (mi_lista[1:8:2]):\", slice_4)  # Salida: [1, 3, 5, 7]\n",
    "slice_5 = mi_lista[::-1]\n",
    "print(\"Slice 5 (mi_lista[::-1]):\", slice_5)  # Salida: [9, 8, 7, 6, 5, 4, 3, 2, 1, 0]\n",
    "slice_6 = mi_lista[-4:-1]\n",
    "print(\"Slice 6 (mi_lista[-4:-1]):\", slice_6)  # Salida: [6, 7, 8]\n",
    "slice_7 = mi_lista[:]\n",
    "print(\"Slice 7 (mi_lista[:]):\", slice_7)  # Salida: [0, 1, 2, 3, 4, 5, 6, 7, 8, 9]"
   ]
  },
  {
   "cell_type": "markdown",
   "id": "3fb0026b",
   "metadata": {},
   "source": [
    "# Biblioteca Numpy\n",
    "numpy proporciona una interfaz eficiente y flexible para trabajar con estas estructuras de datos"
   ]
  },
  {
   "cell_type": "code",
   "execution_count": 2,
   "id": "11a65eb4",
   "metadata": {},
   "outputs": [
    {
     "name": "stdout",
     "output_type": "stream",
     "text": [
      "Vector: [1 2 3 4 5]\n",
      "Vector de ceros: [0. 0. 0. 0. 0.]\n",
      "Vector de unos: [1. 1. 1. 1. 1.]\n",
      "Vector con rango: [10 11 12 13 14 15 16 17 18 19]\n",
      "Vector equiespaciado: [0.   0.25 0.5  0.75 1.  ]\n",
      "Vector aleatorio (uniforme [0, 1)): [0.51445604 0.09240355 0.36335814 0.10796603 0.02756372]\n"
     ]
    }
   ],
   "source": [
    "#ej 1 -> creación de vectores\n",
    "\n",
    "import numpy as np\n",
    "\n",
    "# Creación de un vector con elementos especificados\n",
    "vector = np.array([1, 2, 3, 4, 5])\n",
    "print(\"Vector:\", vector)\n",
    "\n",
    "# Creación de un vector de ceros\n",
    "vector_ceros = np.zeros(5)\n",
    "print(\"Vector de ceros:\", vector_ceros)\n",
    "\n",
    "# Creación de un vector de unos\n",
    "vector_unos = np.ones(5)\n",
    "print(\"Vector de unos:\", vector_unos)\n",
    "\n",
    "# Creación de un vector con valores en un rango específico\n",
    "vector_rango = np.arange(10, 20) #-> no es random, es de paso 1\n",
    "print(\"Vector con rango:\", vector_rango)\n",
    "\n",
    "# Creación de un vector con valores equiespaciados\n",
    "vector_linspace = np.linspace(0, 1, 5)\n",
    "print(\"Vector equiespaciado:\", vector_linspace)\n",
    "\n",
    "vector_aleatorio_uniforme = np.random.rand(5)\n",
    "print(\"Vector aleatorio (uniforme [0, 1)):\", vector_aleatorio_uniforme)"
   ]
  },
  {
   "cell_type": "code",
   "execution_count": 3,
   "id": "c955c244",
   "metadata": {},
   "outputs": [
    {
     "name": "stdout",
     "output_type": "stream",
     "text": [
      "Matriz:\n",
      " [[1 2 3]\n",
      " [4 5 6]]\n",
      "Matriz de ceros:\n",
      " [[0. 0. 0.]\n",
      " [0. 0. 0.]\n",
      " [0. 0. 0.]]\n",
      "Matriz de unos:\n",
      " [[1. 1. 1. 1.]\n",
      " [1. 1. 1. 1.]]\n",
      "Matriz identidad:\n",
      " [[1. 0. 0.]\n",
      " [0. 1. 0.]\n",
      " [0. 0. 1.]]\n",
      "Matriz aleatoria:\n",
      " [[0.16850768 0.43452783 0.91731016]\n",
      " [0.17231996 0.73627026 0.5252198 ]]\n"
     ]
    }
   ],
   "source": [
    "#ej 1-> creación de matrices\n",
    "\n",
    "# Creación de una matriz 2x3 con elementos especificados\n",
    "matriz = np.array([[1, 2, 3], [4, 5, 6]])\n",
    "print(\"Matriz:\\n\", matriz)\n",
    "\n",
    "# Creación de una matriz de ceros 3x3\n",
    "matriz_ceros = np.zeros((3, 3))\n",
    "print(\"Matriz de ceros:\\n\", matriz_ceros)\n",
    "\n",
    "# Creación de una matriz de unos 2x4\n",
    "matriz_unos = np.ones((2, 4))\n",
    "print(\"Matriz de unos:\\n\", matriz_unos)\n",
    "\n",
    "# Creación de una matriz identidad 3x3\n",
    "matriz_identidad = np.eye(3)\n",
    "print(\"Matriz identidad:\\n\", matriz_identidad)\n",
    "\n",
    "# Creación de una matriz con valores aleatorios\n",
    "matriz_aleatoria = np.random.rand(2, 3)\n",
    "print(\"Matriz aleatoria:\\n\", matriz_aleatoria)\n"
   ]
  },
  {
   "cell_type": "code",
   "execution_count": 4,
   "id": "0c0fd993",
   "metadata": {},
   "outputs": [
    {
     "name": "stdout",
     "output_type": "stream",
     "text": [
      "Tensor:\n",
      " [[[ 1  2]\n",
      "  [ 3  4]\n",
      "  [ 5  6]]\n",
      "\n",
      " [[ 7  8]\n",
      "  [ 9 10]\n",
      "  [11 12]]\n",
      "\n",
      " [[13 14]\n",
      "  [15 16]\n",
      "  [17 18]]]\n",
      "Tensor de ceros:\n",
      " [[[0. 0. 0.]\n",
      "  [0. 0. 0.]]\n",
      "\n",
      " [[0. 0. 0.]\n",
      "  [0. 0. 0.]]]\n",
      "Tensor de unos:\n",
      " [[[1. 1. 1.]\n",
      "  [1. 1. 1.]\n",
      "  [1. 1. 1.]]\n",
      "\n",
      " [[1. 1. 1.]\n",
      "  [1. 1. 1.]\n",
      "  [1. 1. 1.]]\n",
      "\n",
      " [[1. 1. 1.]\n",
      "  [1. 1. 1.]\n",
      "  [1. 1. 1.]]]\n",
      "Tensor aleatorio:\n",
      " [[[0.41649413 0.73160607 0.49671144 0.69676175]\n",
      "  [0.64888687 0.05922598 0.68992904 0.00780348]]\n",
      "\n",
      " [[0.02985069 0.92995878 0.90858873 0.79034449]\n",
      "  [0.54273989 0.84271364 0.3648561  0.4284231 ]]\n",
      "\n",
      " [[0.33466244 0.32271181 0.64822336 0.85282642]\n",
      "  [0.51598636 0.25437135 0.63529058 0.24017639]]]\n"
     ]
    }
   ],
   "source": [
    "#ej 1 -> creación de tensores = arreglos de 3 dimensiones o más\n",
    "\n",
    "# Creación de un tensor 3x3x2 con elementos especificados\n",
    "tensor = np.array([[[1, 2], [3, 4], [5, 6]], \n",
    "                   [[7, 8], [9, 10], [11, 12]],\n",
    "                   [[13, 14], [15, 16], [17, 18]]])\n",
    "print(\"Tensor:\\n\", tensor)\n",
    "\n",
    "# Creación de un tensor 2x2x3 de ceros\n",
    "tensor_ceros = np.zeros((2, 2, 3))\n",
    "print(\"Tensor de ceros:\\n\", tensor_ceros)\n",
    "\n",
    "# Creación de un tensor 3x3x3 de unos\n",
    "tensor_unos = np.ones((3, 3, 3))\n",
    "print(\"Tensor de unos:\\n\", tensor_unos)\n",
    "\n",
    "# Creación de un tensor 3x2x4 con valores aleatorios\n",
    "tensor_aleatorio = np.random.rand(3, 2, 4)\n",
    "print(\"Tensor aleatorio:\\n\", tensor_aleatorio)\n"
   ]
  },
  {
   "cell_type": "code",
   "execution_count": 5,
   "id": "bbdc2a38",
   "metadata": {},
   "outputs": [
    {
     "name": "stdout",
     "output_type": "stream",
     "text": [
      "array(): [1 2 3 4 5]\n",
      "Array vacío:\n",
      " [[0. 0. 0.]\n",
      " [0. 0. 0.]\n",
      " [0. 0. 0.]]\n",
      "Array lleno con 7:\n",
      " [[7 7 7]\n",
      " [7 7 7]]\n",
      "Array de ceros:\n",
      " [[0. 0. 0. 0.]\n",
      " [0. 0. 0. 0.]]\n",
      "Array de unos:\n",
      " [[1. 1.]\n",
      " [1. 1.]\n",
      " [1. 1.]]\n",
      "Matriz identidad:\n",
      " [[1. 0. 0. 0.]\n",
      " [0. 1. 0. 0.]\n",
      " [0. 0. 1. 0.]\n",
      " [0. 0. 0. 1.]]\n"
     ]
    }
   ],
   "source": [
    "#ej 1 -> uso de diferentes constructores para arreglos:\n",
    "\n",
    "#array() -> carga los datos desde una lista\n",
    "lista = [1, 2, 3, 4, 5]\n",
    "array_desde_lista = np.array(lista)\n",
    "print(\"array():\", array_desde_lista)\n",
    "\n",
    "#empty -> inicializa con basura\n",
    "array_vacio = np.empty((3, 3))\n",
    "print(\"Array vacío:\\n\", array_vacio)\n",
    "\n",
    "#full -> carga todo con el mismo valor\n",
    "array_lleno = np.full((2, 3), 7)\n",
    "print(\"Array lleno con 7:\\n\", array_lleno)\n",
    "\n",
    "#zeros() -> full de 0\n",
    "array_ceros = np.zeros((2, 4))\n",
    "print(\"Array de ceros:\\n\", array_ceros)\n",
    "\n",
    "#ones() -> full de 1\n",
    "array_unos = np.ones((3, 2))\n",
    "print(\"Array de unos:\\n\", array_unos)\n",
    "\n",
    "#identity -> matriz identidad\n",
    "matriz_identidad = np.identity(4)\n",
    "print(\"Matriz identidad:\\n\", matriz_identidad)"
   ]
  },
  {
   "cell_type": "markdown",
   "id": "e0930a8c",
   "metadata": {},
   "source": [
    "numpy puede generar arreglos de muchos tipos de datos, donde no solo indico si es integer por ejemplo, sinó que también puedo elegir entre cuantos bytes vaya a usar la variable. Me permite tener datos de primitivos y objetos\n",
    "\n",
    "El tipo de datos que se utiliza por defecto al crear un array en numpy depende de los datos proporcionados:\n",
    "\n",
    "Si se proporcionan números enteros, el tipo por defecto es int64 en sistemas de 64 bits y int32 en sistemas de 32 bits.\n",
    "Si se proporcionan números flotantes, el tipo por defecto es float64.\n",
    "Si se proporcionan números complejos, el tipo por defecto es complex128."
   ]
  },
  {
   "cell_type": "code",
   "execution_count": 6,
   "id": "d19542e5",
   "metadata": {},
   "outputs": [
    {
     "name": "stdout",
     "output_type": "stream",
     "text": [
      "Shape: (3, 4)\n",
      "Len: 3\n",
      "NDim: 2\n",
      "Size: 12\n"
     ]
    }
   ],
   "source": [
    "#ej 2\n",
    "\n",
    "a = np.array([[1, 2, 3, 4],\n",
    "              [5, 6, 7, 8],\n",
    "              [9, 10, 11, 12]])\n",
    "\n",
    "#dice las dimensiones del arreglo\n",
    "print(\"Shape:\", a.shape)\n",
    "# Salida: Shape: (3, 4)\n",
    "\n",
    "#dice la longitud de la lista principal, es lo mismo que el primer número de shape\n",
    "print(\"Len:\", len(a))\n",
    "# Salida: Len: 3\n",
    "\n",
    "#dimensión\n",
    "print(\"NDim:\", a.ndim)\n",
    "# Salida: NDim: 2\n",
    "\n",
    "#cantidad de elementos individuales\n",
    "print(\"Size:\", a.size)\n",
    "# Salida: Size: 12"
   ]
  },
  {
   "cell_type": "markdown",
   "id": "b9b3c4dc",
   "metadata": {},
   "source": [
    "los arreglos de numpy pueden tener muchos tipos de datos, inclyuyendo complejos (números con parte real e imaginaria), objetos, primitivos, etc\n",
    "\n",
    "Tipo de Dato por Defecto\n",
    "Por defecto: \n",
    "- float64 si hay números decimales\n",
    "- int64 si todos los valores son enteros\n",
    "- Si proporcionas una lista de strings, el tipo será str\n",
    "- etc"
   ]
  },
  {
   "cell_type": "code",
   "execution_count": null,
   "id": "412cc3da",
   "metadata": {},
   "outputs": [],
   "source": [
    "#formas de generar números random con numpy según diferentes distribucione estadísticas:\n",
    "\n",
    "#uniforme (flotantes)\n",
    "arr = np.random.rand(3, 4)#números en [0,1)\n",
    "arr = np.random.random((3, 4)) #la diferencia es que enviamos un solo parámetro que es una tupla, números en [0,1)\n",
    "arr = np.random.uniform(10, 20, size=(3, 4))#elijo el rango de posibles valores\n",
    "arr = np.random.choice([10, 20, 30, 40], size=(3, 4))#le doy la lista de posibles elecciones, puedo especificar si es con reemplazo o no\n",
    "\n",
    "#normal estándar \n",
    "arr = np.random.randn(3, 4) #(media 0, desviación estándar 1)\n",
    "arr = np.random.normal(loc=0, scale=1, size=(3, 4)) #permite personalizar la media (loc) y la desviación estándar (scale).\n",
    "\n",
    "#uniforme discreta (enteros)\n",
    "arr = np.random.randint(1, 10, size=(3, 4))\n",
    "\n"
   ]
  },
  {
   "cell_type": "code",
   "execution_count": null,
   "id": "2649bb45",
   "metadata": {},
   "outputs": [],
   "source": [
    "#ej 3\n",
    "#operaciones a lo largo de diferentes ejes=dimensiones -> la especifico con axis\n",
    "#axis 0 es fila y axis 1 es columna cuando tratamos matrices\n",
    "\n",
    "#suma\n",
    "arr = np.array([[1, 2, 3], [4, 5, 6]])\n",
    "total_sum = np.sum(arr)#21\n",
    "row_sum = np.sum(arr, axis=0)#[5 7 9]\n",
    "col_sum = np.sum(arr, axis=1)#[ 6 15]\n",
    "\n",
    "#mínimo\n",
    "arr = np.array([[7, 2, 3], [4, 9, 6]])\n",
    "min_value = np.min(arr)#2\n",
    "min_row = np.min(arr, axis=0)#[4 2 3]\n",
    "min_col = np.min(arr, axis=1)#[2 4]\n",
    "\n",
    "#maximo\n",
    "arr = np.array([[1, 8, 3], [4, 5, 10]])\n",
    "max_value = np.max(arr) #10\n",
    "max_row = np.max(arr, axis=0)#[4 8 10]\n",
    "max_col = np.max(arr, axis=1)#[8 10]\n",
    "\n",
    "#promedio=mean\n",
    "arr = np.array([[1, 2, 3], [4, 5, 6]])\n",
    "mean_value = np.mean(arr)#3.5\n",
    "mean_row = np.mean(arr, axis=0)#[2.5 3.5 4.5]\n",
    "mean_col = np.mean(arr, axis=1)#[2. 5.]\n",
    "\n",
    "#desviación estándar = std\n",
    "arr = np.array([[1, 2, 3], [4, 5, 6]])\n",
    "std_dev = np.std(arr)#1.707825127659933\n",
    "std_row = np.std(arr, axis=0)#[1.5 1.5 1.5]\n",
    "std_col = np.std(arr, axis=1)#[0.81649658 0.81649658]"
   ]
  },
  {
   "cell_type": "code",
   "execution_count": null,
   "id": "394d2c1b",
   "metadata": {},
   "outputs": [],
   "source": [
    "#ej 4 -> manipular arreglos individuales\n",
    "\n",
    "#agregar al final\n",
    "arr = np.array([1, 2, 3])\n",
    "arr_appended = np.append(arr, [4, 5]) #tmb puedo indicar el axis=eje=dimensión\n",
    "\n",
    "arr = np.array([[1, 2], [3, 4]])\n",
    "arr_appended = np.append(arr, [[5], [6]], axis=1)\n",
    "# [[1 2 5]\n",
    "#  [3 4 6]]\n",
    "\n",
    "#agregar en una posición específica -> el 2do parámetro es la posición ahora\n",
    "arr = np.array([[1, 2], [3, 4]])\n",
    "arr_inserted = np.insert(arr, 1, [5, 6], axis=1)\n",
    "# [[1 5 2]\n",
    "#  [3 6 4]]\n",
    "\n",
    "#eliminar elemento de una posición\n",
    "arr_2d = np.array([[1, 2, 3], [4, 5, 6]])\n",
    "arr_2d_deleted = np.delete(arr_2d, 1, axis=0)\n",
    "# [[1 2 3]]"
   ]
  },
  {
   "cell_type": "code",
   "execution_count": null,
   "id": "bdc0a5ad",
   "metadata": {},
   "outputs": [],
   "source": [
    "#ej 4 -> manipular arreglos de forma grupal\n",
    "\n",
    "#apilar verticalmente (encima del otro)\n",
    "arr1 = np.array([1, 2, 3])\n",
    "arr2 = np.array([4, 5, 6])\n",
    "arr_vstacked = np.vstack((arr1, arr2))\n",
    "# [[1 2 3]\n",
    "#  [4 5 6]]\n",
    "\n",
    "#apilar horizanotalmente\n",
    "arr1 = np.array([1, 2, 3])\n",
    "arr2 = np.array([4, 5, 6])\n",
    "arr_hstacked = np.hstack((arr1, arr2))\n",
    "#[1 2 3 4 5 6]\n",
    "\n",
    "#unir en un eje\n",
    "# Concatenar a lo largo del eje 0 (filas)\n",
    "arr1 = np.array([[1, 2], \n",
    "                 [3, 4]])\n",
    "arr2 = np.array([[5, 6], \n",
    "                 [7, 8]])\n",
    "result1 = np.concatenate((arr1, arr2), axis=0)\n",
    "# [[1 2]\n",
    "#  [3 4]\n",
    "#  [5 6]\n",
    "#  [7 8]]\n",
    "\n",
    "#concateno columnas\n",
    "arr1 = np.array([[1, 2], \n",
    "                 [3, 4]])\n",
    "arr2 = np.array([[5, 6], \n",
    "                 [7, 8]])\n",
    "result1 = np.concatenate((arr1, arr2), axis=1)\n",
    "# [[1 2 5 6]  # 1 es la 1er columna de arr1       2  es la 2da columna de arr1         5 es la 1er columna de arr2      etc\n",
    "#  [3 4 7 8]] # 3                                 4                                    7"
   ]
  },
  {
   "cell_type": "code",
   "execution_count": null,
   "id": "d03aa57b",
   "metadata": {},
   "outputs": [],
   "source": [
    "#ej 5-> acceso a arreglos\n",
    "\n",
    "#así como los arreglos tenían slices eso también lo podemos aplicar a las matrices y arreglos de más dimensiones\n",
    "mat = np.array([[1, 2, 3], [4, 5, 6], [7, 8, 9]])\n",
    "#(primeras dos filas y primeras dos columnas)\n",
    "sub_mat = mat[:2, :2]\n",
    "# [[1 2]\n",
    "#  [4 5]]"
   ]
  },
  {
   "cell_type": "markdown",
   "id": "2bfe793f",
   "metadata": {},
   "source": [
    "# Pandas\n",
    "biblioteca pensada para trabajar con datos relacionales o etiquetados"
   ]
  },
  {
   "cell_type": "code",
   "execution_count": 25,
   "id": "a2a98c30",
   "metadata": {},
   "outputs": [
    {
     "name": "stdout",
     "output_type": "stream",
     "text": [
      "Index(['Nombre', 'Edad', 'Pais'], dtype='object')\n",
      "<class 'pandas.core.frame.DataFrame'>\n",
      "RangeIndex: 4 entries, 0 to 3\n",
      "Data columns (total 3 columns):\n",
      " #   Column  Non-Null Count  Dtype \n",
      "---  ------  --------------  ----- \n",
      " 0   Nombre  4 non-null      object\n",
      " 1   Edad    4 non-null      int64 \n",
      " 2   Pais    4 non-null      object\n",
      "dtypes: int64(1), object(2)\n",
      "memory usage: 228.0+ bytes\n"
     ]
    }
   ],
   "source": [
    "#ej 1\n",
    "import pandas as pd\n",
    "\n",
    "data = {\n",
    "    'Nombre': ['Juan', 'Maria', 'Pedro', 'José'],\n",
    "    'Edad': [20, 26, 18, 22],\n",
    "    'Pais': ['Argentina', 'Peru', 'Brasil', 'Chile']\n",
    "}\n",
    "df = pd.DataFrame(data)\n",
    "print(df.columns)\n",
    "df.info()"
   ]
  },
  {
   "cell_type": "code",
   "execution_count": 26,
   "id": "93c7f2f4",
   "metadata": {},
   "outputs": [
    {
     "data": {
      "text/html": [
       "<div>\n",
       "<style scoped>\n",
       "    .dataframe tbody tr th:only-of-type {\n",
       "        vertical-align: middle;\n",
       "    }\n",
       "\n",
       "    .dataframe tbody tr th {\n",
       "        vertical-align: top;\n",
       "    }\n",
       "\n",
       "    .dataframe thead th {\n",
       "        text-align: right;\n",
       "    }\n",
       "</style>\n",
       "<table border=\"1\" class=\"dataframe\">\n",
       "  <thead>\n",
       "    <tr style=\"text-align: right;\">\n",
       "      <th></th>\n",
       "      <th>Nombre</th>\n",
       "      <th>Edad</th>\n",
       "      <th>Pais</th>\n",
       "    </tr>\n",
       "  </thead>\n",
       "  <tbody>\n",
       "    <tr>\n",
       "      <th>0</th>\n",
       "      <td>Juan</td>\n",
       "      <td>20</td>\n",
       "      <td>Argentina</td>\n",
       "    </tr>\n",
       "    <tr>\n",
       "      <th>1</th>\n",
       "      <td>Maria</td>\n",
       "      <td>26</td>\n",
       "      <td>Peru</td>\n",
       "    </tr>\n",
       "    <tr>\n",
       "      <th>2</th>\n",
       "      <td>Pedro</td>\n",
       "      <td>18</td>\n",
       "      <td>Brasil</td>\n",
       "    </tr>\n",
       "    <tr>\n",
       "      <th>3</th>\n",
       "      <td>José</td>\n",
       "      <td>22</td>\n",
       "      <td>Chile</td>\n",
       "    </tr>\n",
       "    <tr>\n",
       "      <th>4</th>\n",
       "      <td>Pablo</td>\n",
       "      <td>30</td>\n",
       "      <td>Colombia</td>\n",
       "    </tr>\n",
       "    <tr>\n",
       "      <th>5</th>\n",
       "      <td>Pablo</td>\n",
       "      <td>30</td>\n",
       "      <td>Colombia</td>\n",
       "    </tr>\n",
       "  </tbody>\n",
       "</table>\n",
       "</div>"
      ],
      "text/plain": [
       "  Nombre  Edad       Pais\n",
       "0   Juan    20  Argentina\n",
       "1  Maria    26       Peru\n",
       "2  Pedro    18     Brasil\n",
       "3   José    22      Chile\n",
       "4  Pablo    30   Colombia\n",
       "5  Pablo    30   Colombia"
      ]
     },
     "execution_count": 26,
     "metadata": {},
     "output_type": "execute_result"
    }
   ],
   "source": [
    "new_row1 = {\"Nombre\":\"Pablo\", \"Edad\":30, \"Pais\":\"Colombia\"}\n",
    "new_row2 = [\"Pablo\", 30, \"Colombia\"]\n",
    "df.loc[len(df)] = new_row1\n",
    "df.loc[len(df)] = new_row2\n",
    "df.head(10)"
   ]
  },
  {
   "cell_type": "markdown",
   "id": "e090b92f",
   "metadata": {},
   "source": [
    "loc (Label-based Indexing) -> accedo a filas o columnas en base a su nombre\n",
    "\n",
    "iloc (Integer-location based Indexing) -> accedo con el número del índice, para acceder a filas o columnas\n",
    "Acceso a las filas en las posiciones 0 hasta 1 (no incluye 2)\n",
    "print(df.iloc[0:2])\n",
    "\n",
    "Acceder a la primera columna (índice 0)\n",
    "columna_0 = df.iloc[:, 0]"
   ]
  },
  {
   "cell_type": "code",
   "execution_count": 24,
   "id": "d257218e",
   "metadata": {},
   "outputs": [
    {
     "data": {
      "text/html": [
       "<div>\n",
       "<style scoped>\n",
       "    .dataframe tbody tr th:only-of-type {\n",
       "        vertical-align: middle;\n",
       "    }\n",
       "\n",
       "    .dataframe tbody tr th {\n",
       "        vertical-align: top;\n",
       "    }\n",
       "\n",
       "    .dataframe thead th {\n",
       "        text-align: right;\n",
       "    }\n",
       "</style>\n",
       "<table border=\"1\" class=\"dataframe\">\n",
       "  <thead>\n",
       "    <tr style=\"text-align: right;\">\n",
       "      <th></th>\n",
       "      <th>Nombre</th>\n",
       "      <th>Edad</th>\n",
       "      <th>Pais</th>\n",
       "    </tr>\n",
       "  </thead>\n",
       "  <tbody>\n",
       "    <tr>\n",
       "      <th>0</th>\n",
       "      <td>Juan</td>\n",
       "      <td>20</td>\n",
       "      <td>Argentina</td>\n",
       "    </tr>\n",
       "    <tr>\n",
       "      <th>1</th>\n",
       "      <td>Maria</td>\n",
       "      <td>26</td>\n",
       "      <td>Perú</td>\n",
       "    </tr>\n",
       "    <tr>\n",
       "      <th>2</th>\n",
       "      <td>Pedro</td>\n",
       "      <td>18</td>\n",
       "      <td>Brasil</td>\n",
       "    </tr>\n",
       "    <tr>\n",
       "      <th>3</th>\n",
       "      <td>José</td>\n",
       "      <td>22</td>\n",
       "      <td>Chile</td>\n",
       "    </tr>\n",
       "    <tr>\n",
       "      <th>4</th>\n",
       "      <td>Pablo</td>\n",
       "      <td>30</td>\n",
       "      <td>Colombia</td>\n",
       "    </tr>\n",
       "  </tbody>\n",
       "</table>\n",
       "</div>"
      ],
      "text/plain": [
       "  Nombre  Edad       Pais\n",
       "0   Juan    20  Argentina\n",
       "1  Maria    26       Perú\n",
       "2  Pedro    18     Brasil\n",
       "3   José    22      Chile\n",
       "4  Pablo    30   Colombia"
      ]
     },
     "execution_count": 24,
     "metadata": {},
     "output_type": "execute_result"
    }
   ],
   "source": [
    "#elimino datos duplicados automáticamente\n",
    "df = df.drop_duplicates()\n",
    "df.head(10)"
   ]
  },
  {
   "cell_type": "code",
   "execution_count": 31,
   "id": "754315a3",
   "metadata": {},
   "outputs": [
    {
     "data": {
      "text/html": [
       "<div>\n",
       "<style scoped>\n",
       "    .dataframe tbody tr th:only-of-type {\n",
       "        vertical-align: middle;\n",
       "    }\n",
       "\n",
       "    .dataframe tbody tr th {\n",
       "        vertical-align: top;\n",
       "    }\n",
       "\n",
       "    .dataframe thead th {\n",
       "        text-align: right;\n",
       "    }\n",
       "</style>\n",
       "<table border=\"1\" class=\"dataframe\">\n",
       "  <thead>\n",
       "    <tr style=\"text-align: right;\">\n",
       "      <th></th>\n",
       "      <th>Nombre</th>\n",
       "      <th>Edad</th>\n",
       "      <th>Pais</th>\n",
       "    </tr>\n",
       "  </thead>\n",
       "  <tbody>\n",
       "    <tr>\n",
       "      <th>0</th>\n",
       "      <td>Juan</td>\n",
       "      <td>20</td>\n",
       "      <td>Argentina</td>\n",
       "    </tr>\n",
       "    <tr>\n",
       "      <th>1</th>\n",
       "      <td>Maria</td>\n",
       "      <td>26</td>\n",
       "      <td>Perú</td>\n",
       "    </tr>\n",
       "    <tr>\n",
       "      <th>2</th>\n",
       "      <td>Pedro</td>\n",
       "      <td>18</td>\n",
       "      <td>Brasil</td>\n",
       "    </tr>\n",
       "    <tr>\n",
       "      <th>3</th>\n",
       "      <td>José</td>\n",
       "      <td>22</td>\n",
       "      <td>Chile</td>\n",
       "    </tr>\n",
       "    <tr>\n",
       "      <th>4</th>\n",
       "      <td>Pablo</td>\n",
       "      <td>30</td>\n",
       "      <td>Colombia</td>\n",
       "    </tr>\n",
       "    <tr>\n",
       "      <th>5</th>\n",
       "      <td>Pablo</td>\n",
       "      <td>30</td>\n",
       "      <td>Colombia</td>\n",
       "    </tr>\n",
       "  </tbody>\n",
       "</table>\n",
       "</div>"
      ],
      "text/plain": [
       "  Nombre  Edad       Pais\n",
       "0   Juan    20  Argentina\n",
       "1  Maria    26       Perú\n",
       "2  Pedro    18     Brasil\n",
       "3   José    22      Chile\n",
       "4  Pablo    30   Colombia\n",
       "5  Pablo    30   Colombia"
      ]
     },
     "execution_count": 31,
     "metadata": {},
     "output_type": "execute_result"
    }
   ],
   "source": [
    "#corrijo los Peru sin acento\n",
    "\n",
    "for index, row in df.iterrows():\n",
    "    if row['Pais'] == 'Peru':\n",
    "        df.loc[index, 'Pais'] = 'Perú'\n",
    "\n",
    "#otra forma de hacerlo: df['Pais'] = df['Pais'].replace('Peru', 'Perú')\n",
    "df.head(10)"
   ]
  },
  {
   "cell_type": "code",
   "execution_count": 32,
   "id": "ef9cd825",
   "metadata": {},
   "outputs": [],
   "source": [
    "#ej 2 -> guardo el resultado en diferentes formatos\n",
    "\n",
    "# Guardar en un archivo con separación por delimitadores (tabulador)\n",
    "df.to_csv('pra1-pandas-ej2.txt', sep='\\t', index=False)\n",
    "\n",
    "# Guardar en un archivo con separación por delimitadores (punto y coma)\n",
    "df.to_csv('pra1-pandas-ej2.csv', sep=';', index=False)\n",
    "\n",
    "# Guardar en un archivo Excel\n",
    "df.to_excel('pra1-pandas-ej2.xlsx', index=False)\n",
    "\n",
    "# Guardar en un archivo JSON\n",
    "df.to_json('pra1-pandas-ej2.json', orient='records', lines=True)"
   ]
  },
  {
   "cell_type": "code",
   "execution_count": null,
   "id": "b82da5f4",
   "metadata": {},
   "outputs": [],
   "source": []
  }
 ],
 "metadata": {
  "kernelspec": {
   "display_name": "Python 3 (ipykernel)",
   "language": "python",
   "name": "python3"
  },
  "language_info": {
   "codemirror_mode": {
    "name": "ipython",
    "version": 3
   },
   "file_extension": ".py",
   "mimetype": "text/x-python",
   "name": "python",
   "nbconvert_exporter": "python",
   "pygments_lexer": "ipython3",
   "version": "3.11.5"
  }
 },
 "nbformat": 4,
 "nbformat_minor": 5
}
