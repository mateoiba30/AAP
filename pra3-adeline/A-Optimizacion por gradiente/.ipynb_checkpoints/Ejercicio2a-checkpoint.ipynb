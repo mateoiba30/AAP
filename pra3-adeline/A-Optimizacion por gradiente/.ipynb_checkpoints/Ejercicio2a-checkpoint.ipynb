{
 "cells": [
  {
   "cell_type": "markdown",
   "id": "65703dd8",
   "metadata": {},
   "source": [
    "# Minimizar función x^2y𝜋/3\n",
    "gradiente = grad_x, grad_y\n",
    "\n",
    "grad_x = (2y𝜋/3).x\n",
    "\n",
    "grad_y = (x^2𝜋/3).1"
   ]
  },
  {
   "cell_type": "code",
   "execution_count": 14,
   "id": "dc98083e",
   "metadata": {},
   "outputs": [],
   "source": [
    "import numpy as np\n",
    "from matplotlib import pylab as plt\n",
    "import grafica_Grad as gr\n",
    "import math\n",
    "import io\n",
    "\n",
    "# Iniciar en un punto aleatorio del dominio de la función\n",
    "x = 3\n",
    "y = 4\n"
   ]
  },
  {
   "cell_type": "markdown",
   "id": "dd79afec",
   "metadata": {},
   "source": [
    "# Mucho ciudado con los valores iniciales que elijo para x e y, ya que si mi función es cuadrática puedo terminar obteniendo valores muy muy elevados"
   ]
  },
  {
   "cell_type": "code",
   "execution_count": 15,
   "id": "5ca09626",
   "metadata": {},
   "outputs": [],
   "source": [
    "# PARAMETROS\n",
    "alfa = 0.1  # proporción del gradiente a utilizar para modificar la posición actual\n",
    "MAX_ITE = 100  # máxima cantidad de \"pasos\"\n",
    "Cota_ERROR = 10e-6"
   ]
  },
  {
   "cell_type": "code",
   "execution_count": 16,
   "id": "f212238c",
   "metadata": {},
   "outputs": [
    {
     "name": "stdout",
     "output_type": "stream",
     "text": [
      "0.4867258771281655\n",
      "0.17504319700262505\n",
      "0.06386099049643428\n",
      "0.023341313625779396\n",
      "0.008533382350650957\n",
      "0.0031198327373622636\n",
      "0.001140626123155998\n",
      "0.0004170187385093587\n"
     ]
    }
   ],
   "source": [
    "ite = 0\n",
    "z_new = x**2 * y * math.pi/3\n",
    "#z = z_new + Cota_ERROR * 10\n",
    "z = 1\n",
    "\n",
    "puntos = []\n",
    "diferencia = []\n",
    "valorZ = [z_new]\n",
    "while ((ite<MAX_ITE) and (np.abs(z - z_new)>Cota_ERROR)):\n",
    "    z = z_new\n",
    "    PtoAnt = [x, y, z]#para el gráfico 3d\n",
    "\n",
    "    grad_x = (2*y*math.pi*x)/3   # derivada respecto de x\n",
    "    grad_y = ((x**2)*math.pi)/3   # derivada respecto de y\n",
    "    \n",
    "    x = x - alfa * grad_x\n",
    "    y = y - alfa * grad_y\n",
    "    print(x)\n",
    "    z_new = x**2 * y * math.pi/3\n",
    "    \n",
    "    #para los gráficos 2d\n",
    "    diferencia.append( np.abs(z - z_new) )\n",
    "    valorZ.append(z_new)\n",
    "    \n",
    "    #para los gráficos 3d\n",
    "    #gr.graficarPaso(PtoAnt, [x, y, z_new], h)\n",
    "    puntos.append([PtoAnt, [x, y, z_new]])\n",
    "    \n",
    "    ite = ite + 1\n",
    "    "
   ]
  },
  {
   "cell_type": "code",
   "execution_count": null,
   "id": "da468b31",
   "metadata": {},
   "outputs": [],
   "source": [
    "# El valor de la función debe ir disminuyendo\n",
    "plt.plot(range(1, len(valorZ) + 1), valorZ, marker='o')\n",
    "plt.xlabel('evaluaciones')\n",
    "plt.ylabel('Z')\n",
    "plt.show()"
   ]
  },
  {
   "cell_type": "code",
   "execution_count": null,
   "id": "4c0e4c39",
   "metadata": {},
   "outputs": [],
   "source": [
    "# La diferencia entre 2 valores consecutivos de la función debería tender a cero \n",
    "plt.plot(range(1, len(diferencia) + 1), diferencia, marker='o')\n",
    "plt.xlabel('Iteraciones')\n",
    "plt.ylabel('Diferencia')\n",
    "plt.show()\n"
   ]
  },
  {
   "cell_type": "code",
   "execution_count": null,
   "id": "3a18a13c",
   "metadata": {},
   "outputs": [],
   "source": [
    "print(f\"le mínimo es ({x}, {y}, {z})\")"
   ]
  },
  {
   "cell_type": "code",
   "execution_count": null,
   "id": "48e9a297",
   "metadata": {},
   "outputs": [],
   "source": [
    "X = np.linspace(-2.5,2.5,num=20)\n",
    "Y = np.linspace(-2.5,2.5,num=20)\n",
    "X, Y = np.meshgrid(X,Y)\n",
    "Z = X**2 * Y * math.pi/3 #usar X  e Y, no x e y\n",
    "etiquetas = ['X', 'Y', 'z']\n",
    "\n",
    "fig = plt.figure(figsize=plt.figaspect(0.5))\n",
    "#fig=plt.figure(figsize=(7, 3))\n",
    "#gs = gridspec.GridSpec(6,11)\n",
    "\n",
    "ax = fig.add_subplot(1, 2, 1, projection='3d')\n",
    "#ax = fig.add_subplot(gs[:,0:6], projection='3d')\n",
    "ax.plot_wireframe(X,Y,Z)\n",
    "ax.set_xlabel(etiquetas[0])\n",
    "ax.set_ylabel(etiquetas[1])\n",
    "ax.set_zlabel(etiquetas[2]);\n",
    "\n",
    "ax1 = fig.add_subplot(1, 2, 2)\n",
    "#ax = fig.add_subplot(gs[1:4,8:11])\n",
    "ph, pr = np.gradient(Z,0.05,0.05)\n",
    "ax1.contour(X,Y,Z,20)\n",
    "ax1.quiver(X,Y,pr,ph)\n",
    "ax1.set_xlabel(etiquetas[0])\n",
    "ax1.set_ylabel(etiquetas[1])\n",
    "# xPos = ax1.get_xlim()\n",
    "# yPos = ax1.get_ylim()\n",
    "# aux = plt.text((xPos[1]+xPos[0])*0.5,(yPos[1]+yPos[0])*0.5,'*CLICK AQUI*', horizontalalignment='center',fontsize = 9);\n",
    "\n",
    "plt.show()\n",
    "# coord = plt.ginput(1);\n",
    "# aux.remove()\n",
    "\n",
    "#return([coord[0][0], coord[0][1], [ax, ax1]])      \n"
   ]
  },
  {
   "cell_type": "markdown",
   "id": "4a058bb9",
   "metadata": {},
   "source": [
    "# Notar que al minimizar la función obtenemos como respuesta el punto (0,1,0) aprox, que es el lugar donde la función está más tranquila (su mínimo es hacia infinito, pero no estamos buscando eso)"
   ]
  },
  {
   "cell_type": "code",
   "execution_count": null,
   "id": "fcc13b4d",
   "metadata": {},
   "outputs": [],
   "source": []
  }
 ],
 "metadata": {
  "kernelspec": {
   "display_name": "Python 3 (ipykernel)",
   "language": "python",
   "name": "python3"
  },
  "language_info": {
   "codemirror_mode": {
    "name": "ipython",
    "version": 3
   },
   "file_extension": ".py",
   "mimetype": "text/x-python",
   "name": "python",
   "nbconvert_exporter": "python",
   "pygments_lexer": "ipython3",
   "version": "3.11.5"
  }
 },
 "nbformat": 4,
 "nbformat_minor": 5
}
