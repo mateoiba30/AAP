{
 "cells": [
  {
   "cell_type": "markdown",
   "id": "5ddcce9e",
   "metadata": {},
   "source": [
    "# Ej1\n",
    "creo que me confundí el enunciado en el b y d, de todas formas entendí lo que había que entender"
   ]
  },
  {
   "cell_type": "markdown",
   "id": "d3aba1b2",
   "metadata": {},
   "source": [
    "# A)\n",
    "el gradiente es = (f derivada respecto a x, f derivada respecto a y)\n",
    "si x = 1 e y=-1 entonces el gradiente es = ((-1+3y^2)/(3+3y^2)^2), 6x/(2x^2+4)^2)"
   ]
  },
  {
   "cell_type": "markdown",
   "id": "97907e8b",
   "metadata": {},
   "source": [
    "# B) \n",
    "## ii\n",
    "para disminuir la función \n",
    "avanzaría en la dirección opuesta al gradiente:\n",
    "\n",
    "-------\n",
    "x = x - alpha * grad_x\n",
    "\n",
    "y = y - alpha * grad_y\n",
    "\n",
    "------\n",
    "\n",
    "x = 0.2 - alpha * (-1+3)/(3+3)^2)\n",
    "\n",
    "y = -1 - alpha * 1.2/(2*0.04+4)^2\n",
    "\n",
    "-----\n",
    "x = 0.2 - alpha*(2/9)\n",
    "\n",
    "y = -1 - alpha*0.072...\n",
    "\n",
    "-----\n",
    "\n",
    "en ambos casos debemos disminuir los valores de x e y, recordar que alpha es positivo"
   ]
  },
  {
   "cell_type": "markdown",
   "id": "b492f4ae",
   "metadata": {},
   "source": [
    "# c)\n",
    "si alpha = 0.1 entonces los nuevos valores de x e y serían los siguientes:\n",
    "\n",
    "---\n",
    "x = 0.2 - alpha*(2/9)\n",
    "\n",
    "y = -1 - alpha*0.072...\n",
    "\n",
    "-----\n",
    "\n",
    "x = 0.2 - 0.1*(2/9)\n",
    "\n",
    "y = -1 - 0.1*0.072...\n",
    "\n",
    "---\n",
    "\n",
    "x = 0.1777...\n",
    "\n",
    "y = -1.0072..."
   ]
  },
  {
   "cell_type": "markdown",
   "id": "97f34b97",
   "metadata": {},
   "source": [
    "# d)\n",
    "para volver a disminuir la función en el punto que acabo de calcular\n",
    "avanzaría en la dirección opuesta al gradiente:\n",
    "\n",
    "-------\n",
    "x = x - alpha * grad_x\n",
    "\n",
    "y = y - alpha * grad_y\n",
    "\n",
    "------\n",
    "\n",
    "x = 0.1777 - 0.1 * (-1+3y^2)/(3+3y^2)^2)\n",
    "\n",
    "y = -1.0072 - 0.1 * 6x/(2x^2+4)^2\n",
    "\n",
    "-----\n",
    "\n",
    "x = 0.1721\n",
    "\n",
    "y = -2.7682\n",
    "\n",
    "-----\n",
    "\n",
    "en ambos casos debemos disminuir los valores de x e y"
   ]
  }
 ],
 "metadata": {
  "kernelspec": {
   "display_name": "Python 3 (ipykernel)",
   "language": "python",
   "name": "python3"
  },
  "language_info": {
   "codemirror_mode": {
    "name": "ipython",
    "version": 3
   },
   "file_extension": ".py",
   "mimetype": "text/x-python",
   "name": "python",
   "nbconvert_exporter": "python",
   "pygments_lexer": "ipython3",
   "version": "3.11.5"
  }
 },
 "nbformat": 4,
 "nbformat_minor": 5
}
