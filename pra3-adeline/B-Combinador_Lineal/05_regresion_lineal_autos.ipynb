{
 "cells": [
  {
   "cell_type": "markdown",
   "metadata": {
    "id": "vdWG2FEMDVST"
   },
   "source": [
    "# Neurona Lineal - Autos - Predicción\n",
    "---\n",
    "**Montar la carpeta de Google Drive y definir constantes para trabajar**"
   ]
  },
  {
   "cell_type": "code",
   "execution_count": 3,
   "metadata": {
    "colab": {
     "base_uri": "https://localhost:8080/"
    },
    "executionInfo": {
     "elapsed": 2557,
     "status": "ok",
     "timestamp": 1717094248585,
     "user": {
      "displayName": "Redes Neuronales",
      "userId": "11693180954775528178"
     },
     "user_tz": 180
    },
    "id": "HIP8SbdLIkDZ",
    "outputId": "ef9507a5-25dc-4c12-84af-10724ad84b05"
   },
   "outputs": [],
   "source": [
    "ColabNotebook = 'google.colab' in str(get_ipython())\n",
    "\n",
    "if ColabNotebook:\n",
    "    # monta G-drive en entorno COLAB\n",
    "    from google.colab import drive\n",
    "    drive.mount('/content/drive/')\n",
    "\n",
    "    # carpeta donde se encuentran archivos .py auxiliares\n",
    "    FUENTES_DIR = '/content/drive/MyDrive/Colab Notebooks/FUENTES/'\n",
    "    DATOS_DIR = '/content/drive/MyDrive/Colab Notebooks/DATOS/'      # carpeta donde se encuentran los datasets\n",
    "else:\n",
    "    # configuración para notebook con instalación LOCAL\n",
    "    FUENTES_DIR = '../Fuentes'         # carpeta donde se encuentran archivos .py auxiliares\n",
    "    DATOS_DIR   = '../../Datos/' # carpeta donde se encuentran los datasets\n",
    "\n",
    "# agrega ruta de busqueda donde tenemos archivos .py\n",
    "import sys\n",
    "sys.path.append(FUENTES_DIR)"
   ]
  },
  {
   "cell_type": "markdown",
   "metadata": {
    "id": "hj5GbHXwGP1j"
   },
   "source": [
    "**Carga del Dataset y selección de atributos numéricos**"
   ]
  },
  {
   "cell_type": "code",
   "execution_count": 4,
   "metadata": {
    "colab": {
     "base_uri": "https://localhost:8080/",
     "height": 441
    },
    "executionInfo": {
     "elapsed": 13,
     "status": "ok",
     "timestamp": 1717094248585,
     "user": {
      "displayName": "Redes Neuronales",
      "userId": "11693180954775528178"
     },
     "user_tz": 180
    },
    "id": "44viJuybOEYD",
    "outputId": "47c6e45d-0556-4319-c906-4a61f9ecb638"
   },
   "outputs": [
    {
     "name": "stdout",
     "output_type": "stream",
     "text": [
      "ascii\n"
     ]
    },
    {
     "data": {
      "text/html": [
       "<div>\n",
       "<style scoped>\n",
       "    .dataframe tbody tr th:only-of-type {\n",
       "        vertical-align: middle;\n",
       "    }\n",
       "\n",
       "    .dataframe tbody tr th {\n",
       "        vertical-align: top;\n",
       "    }\n",
       "\n",
       "    .dataframe thead th {\n",
       "        text-align: right;\n",
       "    }\n",
       "</style>\n",
       "<table border=\"1\" class=\"dataframe\">\n",
       "  <thead>\n",
       "    <tr style=\"text-align: right;\">\n",
       "      <th></th>\n",
       "      <th>make</th>\n",
       "      <th>fuel-type</th>\n",
       "      <th>num-of-doors</th>\n",
       "      <th>body-style</th>\n",
       "      <th>curb-weight</th>\n",
       "      <th>engine-size</th>\n",
       "      <th>horsepower</th>\n",
       "      <th>city-mpg</th>\n",
       "      <th>highway-mpg</th>\n",
       "      <th>price</th>\n",
       "      <th>volume</th>\n",
       "      <th>eco-rating</th>\n",
       "    </tr>\n",
       "  </thead>\n",
       "  <tbody>\n",
       "    <tr>\n",
       "      <th>0</th>\n",
       "      <td>alfa-romero</td>\n",
       "      <td>gas</td>\n",
       "      <td>two</td>\n",
       "      <td>convertible</td>\n",
       "      <td>2548</td>\n",
       "      <td>130</td>\n",
       "      <td>111.0</td>\n",
       "      <td>21</td>\n",
       "      <td>27</td>\n",
       "      <td>13495.0</td>\n",
       "      <td>528019.904</td>\n",
       "      <td>33.297462</td>\n",
       "    </tr>\n",
       "    <tr>\n",
       "      <th>1</th>\n",
       "      <td>alfa-romero</td>\n",
       "      <td>gas</td>\n",
       "      <td>two</td>\n",
       "      <td>convertible</td>\n",
       "      <td>2548</td>\n",
       "      <td>130</td>\n",
       "      <td>111.0</td>\n",
       "      <td>21</td>\n",
       "      <td>27</td>\n",
       "      <td>16500.0</td>\n",
       "      <td>528019.904</td>\n",
       "      <td>33.297462</td>\n",
       "    </tr>\n",
       "    <tr>\n",
       "      <th>2</th>\n",
       "      <td>alfa-romero</td>\n",
       "      <td>gas</td>\n",
       "      <td>two</td>\n",
       "      <td>hatchback</td>\n",
       "      <td>2823</td>\n",
       "      <td>152</td>\n",
       "      <td>154.0</td>\n",
       "      <td>19</td>\n",
       "      <td>26</td>\n",
       "      <td>16500.0</td>\n",
       "      <td>587592.640</td>\n",
       "      <td>30.898272</td>\n",
       "    </tr>\n",
       "    <tr>\n",
       "      <th>3</th>\n",
       "      <td>audi</td>\n",
       "      <td>gas</td>\n",
       "      <td>four</td>\n",
       "      <td>sedan</td>\n",
       "      <td>2337</td>\n",
       "      <td>109</td>\n",
       "      <td>102.0</td>\n",
       "      <td>24</td>\n",
       "      <td>30</td>\n",
       "      <td>13950.0</td>\n",
       "      <td>634816.956</td>\n",
       "      <td>42.697819</td>\n",
       "    </tr>\n",
       "    <tr>\n",
       "      <th>4</th>\n",
       "      <td>audi</td>\n",
       "      <td>gas</td>\n",
       "      <td>four</td>\n",
       "      <td>sedan</td>\n",
       "      <td>2824</td>\n",
       "      <td>136</td>\n",
       "      <td>115.0</td>\n",
       "      <td>18</td>\n",
       "      <td>22</td>\n",
       "      <td>17450.0</td>\n",
       "      <td>636734.832</td>\n",
       "      <td>27.997459</td>\n",
       "    </tr>\n",
       "    <tr>\n",
       "      <th>...</th>\n",
       "      <td>...</td>\n",
       "      <td>...</td>\n",
       "      <td>...</td>\n",
       "      <td>...</td>\n",
       "      <td>...</td>\n",
       "      <td>...</td>\n",
       "      <td>...</td>\n",
       "      <td>...</td>\n",
       "      <td>...</td>\n",
       "      <td>...</td>\n",
       "      <td>...</td>\n",
       "      <td>...</td>\n",
       "    </tr>\n",
       "    <tr>\n",
       "      <th>200</th>\n",
       "      <td>volvo</td>\n",
       "      <td>gas</td>\n",
       "      <td>four</td>\n",
       "      <td>sedan</td>\n",
       "      <td>2952</td>\n",
       "      <td>141</td>\n",
       "      <td>114.0</td>\n",
       "      <td>23</td>\n",
       "      <td>28</td>\n",
       "      <td>16845.0</td>\n",
       "      <td>721961.760</td>\n",
       "      <td>38.354298</td>\n",
       "    </tr>\n",
       "    <tr>\n",
       "      <th>201</th>\n",
       "      <td>volvo</td>\n",
       "      <td>gas</td>\n",
       "      <td>four</td>\n",
       "      <td>sedan</td>\n",
       "      <td>3049</td>\n",
       "      <td>141</td>\n",
       "      <td>160.0</td>\n",
       "      <td>19</td>\n",
       "      <td>25</td>\n",
       "      <td>19045.0</td>\n",
       "      <td>720913.920</td>\n",
       "      <td>32.043335</td>\n",
       "    </tr>\n",
       "    <tr>\n",
       "      <th>202</th>\n",
       "      <td>volvo</td>\n",
       "      <td>gas</td>\n",
       "      <td>four</td>\n",
       "      <td>sedan</td>\n",
       "      <td>3012</td>\n",
       "      <td>173</td>\n",
       "      <td>134.0</td>\n",
       "      <td>18</td>\n",
       "      <td>23</td>\n",
       "      <td>21485.0</td>\n",
       "      <td>721961.760</td>\n",
       "      <td>29.806494</td>\n",
       "    </tr>\n",
       "    <tr>\n",
       "      <th>203</th>\n",
       "      <td>volvo</td>\n",
       "      <td>diesel</td>\n",
       "      <td>four</td>\n",
       "      <td>sedan</td>\n",
       "      <td>3217</td>\n",
       "      <td>145</td>\n",
       "      <td>106.0</td>\n",
       "      <td>26</td>\n",
       "      <td>27</td>\n",
       "      <td>22470.0</td>\n",
       "      <td>721961.760</td>\n",
       "      <td>35.073342</td>\n",
       "    </tr>\n",
       "    <tr>\n",
       "      <th>204</th>\n",
       "      <td>volvo</td>\n",
       "      <td>gas</td>\n",
       "      <td>four</td>\n",
       "      <td>sedan</td>\n",
       "      <td>3062</td>\n",
       "      <td>141</td>\n",
       "      <td>114.0</td>\n",
       "      <td>19</td>\n",
       "      <td>25</td>\n",
       "      <td>22625.0</td>\n",
       "      <td>721961.760</td>\n",
       "      <td>31.997368</td>\n",
       "    </tr>\n",
       "  </tbody>\n",
       "</table>\n",
       "<p>205 rows × 12 columns</p>\n",
       "</div>"
      ],
      "text/plain": [
       "            make fuel-type num-of-doors   body-style  curb-weight  \\\n",
       "0    alfa-romero       gas          two  convertible         2548   \n",
       "1    alfa-romero       gas          two  convertible         2548   \n",
       "2    alfa-romero       gas          two    hatchback         2823   \n",
       "3           audi       gas         four        sedan         2337   \n",
       "4           audi       gas         four        sedan         2824   \n",
       "..           ...       ...          ...          ...          ...   \n",
       "200        volvo       gas         four        sedan         2952   \n",
       "201        volvo       gas         four        sedan         3049   \n",
       "202        volvo       gas         four        sedan         3012   \n",
       "203        volvo    diesel         four        sedan         3217   \n",
       "204        volvo       gas         four        sedan         3062   \n",
       "\n",
       "     engine-size  horsepower  city-mpg  highway-mpg    price      volume  \\\n",
       "0            130       111.0        21           27  13495.0  528019.904   \n",
       "1            130       111.0        21           27  16500.0  528019.904   \n",
       "2            152       154.0        19           26  16500.0  587592.640   \n",
       "3            109       102.0        24           30  13950.0  634816.956   \n",
       "4            136       115.0        18           22  17450.0  636734.832   \n",
       "..           ...         ...       ...          ...      ...         ...   \n",
       "200          141       114.0        23           28  16845.0  721961.760   \n",
       "201          141       160.0        19           25  19045.0  720913.920   \n",
       "202          173       134.0        18           23  21485.0  721961.760   \n",
       "203          145       106.0        26           27  22470.0  721961.760   \n",
       "204          141       114.0        19           25  22625.0  721961.760   \n",
       "\n",
       "     eco-rating  \n",
       "0     33.297462  \n",
       "1     33.297462  \n",
       "2     30.898272  \n",
       "3     42.697819  \n",
       "4     27.997459  \n",
       "..          ...  \n",
       "200   38.354298  \n",
       "201   32.043335  \n",
       "202   29.806494  \n",
       "203   35.073342  \n",
       "204   31.997368  \n",
       "\n",
       "[205 rows x 12 columns]"
      ]
     },
     "execution_count": 4,
     "metadata": {},
     "output_type": "execute_result"
    }
   ],
   "source": [
    "import os\n",
    "import pandas as pd\n",
    "import numpy as np\n",
    "import chardet\n",
    "from matplotlib import pyplot as plt\n",
    "from sklearn.preprocessing import MinMaxScaler, StandardScaler\n",
    "from ClassNeuronaLineal import NeuronaLineal\n",
    "\n",
    "nombre_archivo = DATOS_DIR + 'automobile-simple.csv'\n",
    "\n",
    "#-- detectando la codificación de caracteres usada ----\n",
    "with open(nombre_archivo, 'rb') as f:\n",
    "    result = chardet.detect(f.read())\n",
    "\n",
    "df= pd.read_csv(nombre_archivo, encoding=result['encoding'])\n",
    "\n",
    "print(result['encoding'])\n",
    "df"
   ]
  },
  {
   "cell_type": "markdown",
   "metadata": {
    "id": "Bl2l7jYvG5sP"
   },
   "source": [
    "**Asignar atributos sin valor o con valor nulo**"
   ]
  },
  {
   "cell_type": "code",
   "execution_count": 5,
   "metadata": {
    "colab": {
     "base_uri": "https://localhost:8080/"
    },
    "executionInfo": {
     "elapsed": 11,
     "status": "ok",
     "timestamp": 1717094248586,
     "user": {
      "displayName": "Redes Neuronales",
      "userId": "11693180954775528178"
     },
     "user_tz": 180
    },
    "id": "wK3O7NmWGkwy",
    "outputId": "7ffc8a20-0e02-4818-ef1c-6ed0c089b57a"
   },
   "outputs": [
    {
     "name": "stdout",
     "output_type": "stream",
     "text": [
      "Antes:\n",
      " make            0\n",
      "fuel-type       0\n",
      "num-of-doors    2\n",
      "body-style      0\n",
      "curb-weight     0\n",
      "engine-size     0\n",
      "horsepower      2\n",
      "city-mpg        0\n",
      "highway-mpg     0\n",
      "price           4\n",
      "volume          0\n",
      "eco-rating      0\n",
      "dtype: int64 \n",
      "\n",
      "Despues:\n",
      " make            0\n",
      "fuel-type       0\n",
      "num-of-doors    2\n",
      "body-style      0\n",
      "curb-weight     0\n",
      "engine-size     0\n",
      "horsepower      2\n",
      "city-mpg        0\n",
      "highway-mpg     0\n",
      "price           0\n",
      "volume          0\n",
      "eco-rating      0\n",
      "dtype: int64\n"
     ]
    }
   ],
   "source": [
    "# muestra cantidad de valores faltantes o nulos por atributo/característica\n",
    "print('Antes:\\n',df.isnull().sum(), '\\n')\n",
    "\n",
    "values = {'price': df['price'].mean()}\n",
    "\n",
    "# reemplaza valores nulos por los indicados en el diccionario values\n",
    "df = df.fillna(value=values)\n",
    "\n",
    "# comprobacion\n",
    "print('Despues:\\n', df.isnull().sum())"
   ]
  },
  {
   "cell_type": "markdown",
   "metadata": {
    "id": "V5Um9iFfH5i0"
   },
   "source": [
    "**Normalización de valores de atributo y valor a predecir**"
   ]
  },
  {
   "cell_type": "code",
   "execution_count": 6,
   "metadata": {
    "colab": {
     "base_uri": "https://localhost:8080/"
    },
    "executionInfo": {
     "elapsed": 9,
     "status": "ok",
     "timestamp": 1717094248586,
     "user": {
      "displayName": "Redes Neuronales",
      "userId": "11693180954775528178"
     },
     "user_tz": 180
    },
    "id": "If9sz9OvGrXp",
    "outputId": "63681308-dee9-4427-de4a-699b91f2b3d1"
   },
   "outputs": [
    {
     "name": "stdout",
     "output_type": "stream",
     "text": [
      "             engine-size     price\n",
      "engine-size     1.000000  0.861752\n",
      "price           0.861752  1.000000\n"
     ]
    }
   ],
   "source": [
    "# Imprime matriz de correclacion\n",
    "corr = df[['engine-size', 'price']].corr()\n",
    "print(corr)\n",
    "\n",
    "# seleccion de atributos\n",
    "X = np.array(df['engine-size']).reshape((-1,1))\n",
    "T = np.array(df['price']).reshape((-1,1))\n",
    "\n",
    "# normalizacion de datos de entrada\n",
    "normalizarEntrada = 2\n",
    "\n",
    "if normalizarEntrada==0:\n",
    "    data_scaler = None\n",
    "elif normalizarEntrada==1:\n",
    "    data_scaler , targer_scaler= MinMaxScaler(), MinMaxScaler()\n",
    "    X = data_scaler.fit_transform(X)\n",
    "    T = targer_scaler.fit_transform(T)\n",
    "elif normalizarEntrada==2:\n",
    "    data_scaler, targer_scaler = StandardScaler(), StandardScaler()\n",
    "    X = data_scaler.fit_transform(X)\n",
    "    T = targer_scaler.fit_transform(T)"
   ]
  },
  {
   "cell_type": "markdown",
   "metadata": {
    "id": "Ufa1Z79_OMeG"
   },
   "source": [
    "**Construccion del modelo y entrenamiento**"
   ]
  },
  {
   "cell_type": "code",
   "execution_count": 7,
   "metadata": {
    "colab": {
     "base_uri": "https://localhost:8080/",
     "height": 985
    },
    "executionInfo": {
     "elapsed": 1359,
     "status": "ok",
     "timestamp": 1717094249938,
     "user": {
      "displayName": "Redes Neuronales",
      "userId": "11693180954775528178"
     },
     "user_tz": 180
    },
    "id": "2VfbQNbZIgu2",
    "outputId": "ddfedc4d-365f-4e5b-b06c-fed8ab2d12c6"
   },
   "outputs": [
    {
     "data": {
      "image/png": "[encoded data removed]",
      "text/plain": [
       "<Figure size 640x480 with 1 Axes>"
      ]
     },
     "metadata": {},
     "output_type": "display_data"
    },
    {
     "name": "stdout",
     "output_type": "stream",
     "text": [
      "Errores:\n",
      "  0 => 94.042996\n",
      "  1 => 54.708585\n",
      "  2 => 54.626893\n",
      "  3 => 54.626032\n",
      "  4 => 54.626022\n"
     ]
    },
    {
     "data": {
      "image/png": "[encoded data removed]",
      "text/plain": [
       "<Figure size 640x480 with 1 Axes>"
      ]
     },
     "metadata": {},
     "output_type": "display_data"
    }
   ],
   "source": [
    "# entrena neurona lineal y grafica\n",
    "modelo = NeuronaLineal(alpha=0.02, n_iter=500, cotaE=0.0001, draw=1, title=['Tamaño motor', 'Precio'])\n",
    "modelo.fit(X, T)\n",
    "\n",
    "# imprime errores de cada iteracion:\n",
    "print('Errores:')\n",
    "for i, err in enumerate(modelo.errors_):\n",
    "    print('%3d => %f' % (i, err[0]))\n"
   ]
  },
  {
   "cell_type": "markdown",
   "metadata": {
    "id": "PmFJhBqmIykD"
   },
   "source": [
    "**Prediccion de valores**"
   ]
  },
  {
   "cell_type": "code",
   "execution_count": 8,
   "metadata": {
    "colab": {
     "base_uri": "https://localhost:8080/",
     "height": 316
    },
    "executionInfo": {
     "elapsed": 10,
     "status": "ok",
     "timestamp": 1717094249938,
     "user": {
      "displayName": "Redes Neuronales",
      "userId": "11693180954775528178"
     },
     "user_tz": 180
    },
    "id": "YfCAbgoqIy1O",
    "outputId": "ceb0c21e-aab4-4786-b918-5db5cd552cf9"
   },
   "outputs": [
    {
     "name": "stdout",
     "output_type": "stream",
     "text": [
      "Tamaño Motor:130\n",
      "Prediccion Precio: 13545.99\n",
      "  Precio Promedio: 16841.25\n",
      "    Precio Mínimo: 13495.00\n",
      "    Precio Máximo: 18950.00\n"
     ]
    },
    {
     "data": {
      "text/html": [
       "<div>\n",
       "<style scoped>\n",
       "    .dataframe tbody tr th:only-of-type {\n",
       "        vertical-align: middle;\n",
       "    }\n",
       "\n",
       "    .dataframe tbody tr th {\n",
       "        vertical-align: top;\n",
       "    }\n",
       "\n",
       "    .dataframe thead th {\n",
       "        text-align: right;\n",
       "    }\n",
       "</style>\n",
       "<table border=\"1\" class=\"dataframe\">\n",
       "  <thead>\n",
       "    <tr style=\"text-align: right;\">\n",
       "      <th></th>\n",
       "      <th>make</th>\n",
       "      <th>fuel-type</th>\n",
       "      <th>num-of-doors</th>\n",
       "      <th>body-style</th>\n",
       "      <th>curb-weight</th>\n",
       "      <th>engine-size</th>\n",
       "      <th>horsepower</th>\n",
       "      <th>city-mpg</th>\n",
       "      <th>highway-mpg</th>\n",
       "      <th>price</th>\n",
       "      <th>volume</th>\n",
       "      <th>eco-rating</th>\n",
       "    </tr>\n",
       "  </thead>\n",
       "  <tbody>\n",
       "    <tr>\n",
       "      <th>0</th>\n",
       "      <td>alfa-romero</td>\n",
       "      <td>gas</td>\n",
       "      <td>two</td>\n",
       "      <td>convertible</td>\n",
       "      <td>2548</td>\n",
       "      <td>130</td>\n",
       "      <td>111.0</td>\n",
       "      <td>21</td>\n",
       "      <td>27</td>\n",
       "      <td>13495.0</td>\n",
       "      <td>528019.904</td>\n",
       "      <td>33.297462</td>\n",
       "    </tr>\n",
       "    <tr>\n",
       "      <th>1</th>\n",
       "      <td>alfa-romero</td>\n",
       "      <td>gas</td>\n",
       "      <td>two</td>\n",
       "      <td>convertible</td>\n",
       "      <td>2548</td>\n",
       "      <td>130</td>\n",
       "      <td>111.0</td>\n",
       "      <td>21</td>\n",
       "      <td>27</td>\n",
       "      <td>16500.0</td>\n",
       "      <td>528019.904</td>\n",
       "      <td>33.297462</td>\n",
       "    </tr>\n",
       "    <tr>\n",
       "      <th>198</th>\n",
       "      <td>volvo</td>\n",
       "      <td>gas</td>\n",
       "      <td>four</td>\n",
       "      <td>sedan</td>\n",
       "      <td>3045</td>\n",
       "      <td>130</td>\n",
       "      <td>162.0</td>\n",
       "      <td>17</td>\n",
       "      <td>22</td>\n",
       "      <td>18420.0</td>\n",
       "      <td>713029.632</td>\n",
       "      <td>27.780359</td>\n",
       "    </tr>\n",
       "    <tr>\n",
       "      <th>199</th>\n",
       "      <td>volvo</td>\n",
       "      <td>gas</td>\n",
       "      <td>four</td>\n",
       "      <td>wagon</td>\n",
       "      <td>3157</td>\n",
       "      <td>130</td>\n",
       "      <td>162.0</td>\n",
       "      <td>17</td>\n",
       "      <td>22</td>\n",
       "      <td>18950.0</td>\n",
       "      <td>729523.200</td>\n",
       "      <td>27.566173</td>\n",
       "    </tr>\n",
       "  </tbody>\n",
       "</table>\n",
       "</div>"
      ],
      "text/plain": [
       "            make fuel-type num-of-doors   body-style  curb-weight  \\\n",
       "0    alfa-romero       gas          two  convertible         2548   \n",
       "1    alfa-romero       gas          two  convertible         2548   \n",
       "198        volvo       gas         four        sedan         3045   \n",
       "199        volvo       gas         four        wagon         3157   \n",
       "\n",
       "     engine-size  horsepower  city-mpg  highway-mpg    price      volume  \\\n",
       "0            130       111.0        21           27  13495.0  528019.904   \n",
       "1            130       111.0        21           27  16500.0  528019.904   \n",
       "198          130       162.0        17           22  18420.0  713029.632   \n",
       "199          130       162.0        17           22  18950.0  729523.200   \n",
       "\n",
       "     eco-rating  \n",
       "0     33.297462  \n",
       "1     33.297462  \n",
       "198   27.780359  \n",
       "199   27.566173  "
      ]
     },
     "execution_count": 8,
     "metadata": {},
     "output_type": "execute_result"
    }
   ],
   "source": [
    "# invierte normalización para predecir\n",
    "tamaño_motor = 130\n",
    "\n",
    "entrada = np.array([tamaño_motor]).reshape((-1,1))\n",
    "\n",
    "if data_scaler:\n",
    "  entrada = data_scaler.transform(entrada)\n",
    "\n",
    "prediccion = modelo.predict( entrada )\n",
    "\n",
    "if targer_scaler:\n",
    "  prediccion = targer_scaler.inverse_transform([prediccion])\n",
    "\n",
    "# para la siguiente prueba tamaño_motor debe coincidir con valores de engin-size en el data_frame\n",
    "\n",
    "autos_sel = df['engine-size']==tamaño_motor\n",
    "valor_prom = df[autos_sel]['price'].mean()\n",
    "valor_min = df[autos_sel]['price'].min()\n",
    "valor_max = df[autos_sel]['price'].max()\n",
    "\n",
    "print('Tamaño Motor:%.0f' % tamaño_motor)\n",
    "\n",
    "print('Prediccion Precio: %.2f'% prediccion)\n",
    "\n",
    "print('  Precio Promedio: %.2f'% valor_prom)\n",
    "print('    Precio Mínimo: %.2f'% valor_min)\n",
    "print('    Precio Máximo: %.2f'% valor_max)\n",
    "\n",
    "df[autos_sel]"
   ]
  }
 ],
 "metadata": {
  "colab": {
   "provenance": [
    {
     "file_id": "1h9-ghQ8VXSPHLSG8Hkv8V3MqycXubDfN",
     "timestamp": 1667621061373
    },
    {
     "file_id": "1FV-Ydu5NBJ7DvGNfrlwMxfBHzXCqsO4A",
     "timestamp": 1667001788387
    }
   ]
  },
  "gpuClass": "standard",
  "kernelspec": {
   "display_name": "Python 3 (ipykernel)",
   "language": "python",
   "name": "python3"
  },
  "language_info": {
   "codemirror_mode": {
    "name": "ipython",
    "version": 3
   },
   "file_extension": ".py",
   "mimetype": "text/x-python",
   "name": "python",
   "nbconvert_exporter": "python",
   "pygments_lexer": "ipython3",
   "version": "3.11.5"
  }
 },
 "nbformat": 4,
 "nbformat_minor": 1
}
