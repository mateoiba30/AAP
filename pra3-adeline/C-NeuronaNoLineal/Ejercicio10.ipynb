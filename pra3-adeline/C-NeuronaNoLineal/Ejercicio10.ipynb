{
 "cells": [
  {
   "cell_type": "code",
   "execution_count": 35,
   "id": "4d2944bb",
   "metadata": {},
   "outputs": [],
   "source": [
    "%matplotlib inline\n",
    "import numpy as np\n",
    "import pandas as pd\n",
    "import time\n",
    "#from matplotlib import pyplot as plt\n",
    "from matplotlib import pylab as plt\n",
    "from IPython import display\n",
    "from sklearn import model_selection,preprocessing\n",
    "from grafica import *\n",
    "from ClassNeuronaGral import NeuronaGradiente"
   ]
  },
  {
   "cell_type": "code",
   "execution_count": 36,
   "id": "ae33431d",
   "metadata": {},
   "outputs": [
    {
     "data": {
      "text/html": [
       "<div>\n",
       "<style scoped>\n",
       "    .dataframe tbody tr th:only-of-type {\n",
       "        vertical-align: middle;\n",
       "    }\n",
       "\n",
       "    .dataframe tbody tr th {\n",
       "        vertical-align: top;\n",
       "    }\n",
       "\n",
       "    .dataframe thead th {\n",
       "        text-align: right;\n",
       "    }\n",
       "</style>\n",
       "<table border=\"1\" class=\"dataframe\">\n",
       "  <thead>\n",
       "    <tr style=\"text-align: right;\">\n",
       "      <th></th>\n",
       "      <th>Area</th>\n",
       "      <th>Perimetro</th>\n",
       "      <th>Compacidad</th>\n",
       "      <th>LongNucleo</th>\n",
       "      <th>AnchoNucleo</th>\n",
       "      <th>Asimetria</th>\n",
       "      <th>LongSurco</th>\n",
       "      <th>Clase</th>\n",
       "    </tr>\n",
       "  </thead>\n",
       "  <tbody>\n",
       "    <tr>\n",
       "      <th>0</th>\n",
       "      <td>15.26</td>\n",
       "      <td>14.84</td>\n",
       "      <td>0.8710</td>\n",
       "      <td>5.763</td>\n",
       "      <td>3.312</td>\n",
       "      <td>2.221</td>\n",
       "      <td>5.220</td>\n",
       "      <td>Tipo1</td>\n",
       "    </tr>\n",
       "    <tr>\n",
       "      <th>1</th>\n",
       "      <td>14.88</td>\n",
       "      <td>14.57</td>\n",
       "      <td>0.8811</td>\n",
       "      <td>5.554</td>\n",
       "      <td>3.333</td>\n",
       "      <td>1.018</td>\n",
       "      <td>4.956</td>\n",
       "      <td>Tipo1</td>\n",
       "    </tr>\n",
       "    <tr>\n",
       "      <th>2</th>\n",
       "      <td>14.29</td>\n",
       "      <td>14.09</td>\n",
       "      <td>0.9050</td>\n",
       "      <td>5.291</td>\n",
       "      <td>3.337</td>\n",
       "      <td>2.699</td>\n",
       "      <td>4.825</td>\n",
       "      <td>Tipo1</td>\n",
       "    </tr>\n",
       "    <tr>\n",
       "      <th>3</th>\n",
       "      <td>13.84</td>\n",
       "      <td>13.94</td>\n",
       "      <td>0.8955</td>\n",
       "      <td>5.324</td>\n",
       "      <td>3.379</td>\n",
       "      <td>2.259</td>\n",
       "      <td>4.805</td>\n",
       "      <td>Tipo1</td>\n",
       "    </tr>\n",
       "    <tr>\n",
       "      <th>4</th>\n",
       "      <td>16.14</td>\n",
       "      <td>14.99</td>\n",
       "      <td>0.9034</td>\n",
       "      <td>5.658</td>\n",
       "      <td>3.562</td>\n",
       "      <td>1.355</td>\n",
       "      <td>5.175</td>\n",
       "      <td>Tipo1</td>\n",
       "    </tr>\n",
       "  </tbody>\n",
       "</table>\n",
       "</div>"
      ],
      "text/plain": [
       "    Area  Perimetro  Compacidad  LongNucleo  AnchoNucleo  Asimetria  \\\n",
       "0  15.26      14.84      0.8710       5.763        3.312      2.221   \n",
       "1  14.88      14.57      0.8811       5.554        3.333      1.018   \n",
       "2  14.29      14.09      0.9050       5.291        3.337      2.699   \n",
       "3  13.84      13.94      0.8955       5.324        3.379      2.259   \n",
       "4  16.14      14.99      0.9034       5.658        3.562      1.355   \n",
       "\n",
       "   LongSurco  Clase  \n",
       "0      5.220  Tipo1  \n",
       "1      4.956  Tipo1  \n",
       "2      4.825  Tipo1  \n",
       "3      4.805  Tipo1  \n",
       "4      5.175  Tipo1  "
      ]
     },
     "execution_count": 36,
     "metadata": {},
     "output_type": "execute_result"
    }
   ],
   "source": [
    "datos = pd.read_csv(\"../../Datos/Semillas.csv\")\n",
    "datos.head()"
   ]
  },
  {
   "cell_type": "code",
   "execution_count": 37,
   "id": "68506f9d",
   "metadata": {},
   "outputs": [
    {
     "data": {
      "text/plain": [
       "array(['Tipo1', 'Tipo2', 'Tipo3'], dtype=object)"
      ]
     },
     "execution_count": 37,
     "metadata": {},
     "output_type": "execute_result"
    }
   ],
   "source": [
    "datos[\"Clase\"].unique()\n"
   ]
  },
  {
   "cell_type": "code",
   "execution_count": 38,
   "id": "4697f6a9",
   "metadata": {},
   "outputs": [
    {
     "data": {
      "text/html": [
       "<div>\n",
       "<style scoped>\n",
       "    .dataframe tbody tr th:only-of-type {\n",
       "        vertical-align: middle;\n",
       "    }\n",
       "\n",
       "    .dataframe tbody tr th {\n",
       "        vertical-align: top;\n",
       "    }\n",
       "\n",
       "    .dataframe thead th {\n",
       "        text-align: right;\n",
       "    }\n",
       "</style>\n",
       "<table border=\"1\" class=\"dataframe\">\n",
       "  <thead>\n",
       "    <tr style=\"text-align: right;\">\n",
       "      <th></th>\n",
       "      <th>Area</th>\n",
       "      <th>Perimetro</th>\n",
       "      <th>Compacidad</th>\n",
       "      <th>LongNucleo</th>\n",
       "      <th>AnchoNucleo</th>\n",
       "      <th>Asimetria</th>\n",
       "      <th>LongSurco</th>\n",
       "      <th>Clase</th>\n",
       "    </tr>\n",
       "  </thead>\n",
       "  <tbody>\n",
       "    <tr>\n",
       "      <th>17</th>\n",
       "      <td>15.69</td>\n",
       "      <td>14.75</td>\n",
       "      <td>0.9058</td>\n",
       "      <td>5.527</td>\n",
       "      <td>3.514</td>\n",
       "      <td>1.599</td>\n",
       "      <td>5.046</td>\n",
       "      <td>0</td>\n",
       "    </tr>\n",
       "    <tr>\n",
       "      <th>124</th>\n",
       "      <td>15.99</td>\n",
       "      <td>14.89</td>\n",
       "      <td>0.9064</td>\n",
       "      <td>5.363</td>\n",
       "      <td>3.582</td>\n",
       "      <td>3.336</td>\n",
       "      <td>5.144</td>\n",
       "      <td>1</td>\n",
       "    </tr>\n",
       "    <tr>\n",
       "      <th>16</th>\n",
       "      <td>13.99</td>\n",
       "      <td>13.83</td>\n",
       "      <td>0.9183</td>\n",
       "      <td>5.119</td>\n",
       "      <td>3.383</td>\n",
       "      <td>5.234</td>\n",
       "      <td>4.781</td>\n",
       "      <td>0</td>\n",
       "    </tr>\n",
       "    <tr>\n",
       "      <th>201</th>\n",
       "      <td>12.67</td>\n",
       "      <td>13.32</td>\n",
       "      <td>0.8977</td>\n",
       "      <td>4.984</td>\n",
       "      <td>3.135</td>\n",
       "      <td>2.300</td>\n",
       "      <td>4.745</td>\n",
       "      <td>0</td>\n",
       "    </tr>\n",
       "    <tr>\n",
       "      <th>138</th>\n",
       "      <td>15.60</td>\n",
       "      <td>15.11</td>\n",
       "      <td>0.8580</td>\n",
       "      <td>5.832</td>\n",
       "      <td>3.286</td>\n",
       "      <td>2.725</td>\n",
       "      <td>5.752</td>\n",
       "      <td>1</td>\n",
       "    </tr>\n",
       "    <tr>\n",
       "      <th>62</th>\n",
       "      <td>12.36</td>\n",
       "      <td>13.19</td>\n",
       "      <td>0.8923</td>\n",
       "      <td>5.076</td>\n",
       "      <td>3.042</td>\n",
       "      <td>3.220</td>\n",
       "      <td>4.605</td>\n",
       "      <td>0</td>\n",
       "    </tr>\n",
       "    <tr>\n",
       "      <th>84</th>\n",
       "      <td>19.51</td>\n",
       "      <td>16.71</td>\n",
       "      <td>0.8780</td>\n",
       "      <td>6.366</td>\n",
       "      <td>3.801</td>\n",
       "      <td>2.962</td>\n",
       "      <td>6.185</td>\n",
       "      <td>1</td>\n",
       "    </tr>\n",
       "    <tr>\n",
       "      <th>35</th>\n",
       "      <td>16.12</td>\n",
       "      <td>15.00</td>\n",
       "      <td>0.9000</td>\n",
       "      <td>5.709</td>\n",
       "      <td>3.485</td>\n",
       "      <td>2.270</td>\n",
       "      <td>5.443</td>\n",
       "      <td>0</td>\n",
       "    </tr>\n",
       "    <tr>\n",
       "      <th>65</th>\n",
       "      <td>12.88</td>\n",
       "      <td>13.50</td>\n",
       "      <td>0.8879</td>\n",
       "      <td>5.139</td>\n",
       "      <td>3.119</td>\n",
       "      <td>2.352</td>\n",
       "      <td>4.607</td>\n",
       "      <td>0</td>\n",
       "    </tr>\n",
       "    <tr>\n",
       "      <th>207</th>\n",
       "      <td>13.20</td>\n",
       "      <td>13.66</td>\n",
       "      <td>0.8883</td>\n",
       "      <td>5.236</td>\n",
       "      <td>3.232</td>\n",
       "      <td>8.315</td>\n",
       "      <td>5.056</td>\n",
       "      <td>0</td>\n",
       "    </tr>\n",
       "    <tr>\n",
       "      <th>195</th>\n",
       "      <td>12.80</td>\n",
       "      <td>13.47</td>\n",
       "      <td>0.8860</td>\n",
       "      <td>5.160</td>\n",
       "      <td>3.126</td>\n",
       "      <td>4.873</td>\n",
       "      <td>4.914</td>\n",
       "      <td>0</td>\n",
       "    </tr>\n",
       "    <tr>\n",
       "      <th>32</th>\n",
       "      <td>14.09</td>\n",
       "      <td>14.41</td>\n",
       "      <td>0.8529</td>\n",
       "      <td>5.717</td>\n",
       "      <td>3.186</td>\n",
       "      <td>3.920</td>\n",
       "      <td>5.299</td>\n",
       "      <td>0</td>\n",
       "    </tr>\n",
       "    <tr>\n",
       "      <th>139</th>\n",
       "      <td>16.23</td>\n",
       "      <td>15.18</td>\n",
       "      <td>0.8850</td>\n",
       "      <td>5.872</td>\n",
       "      <td>3.472</td>\n",
       "      <td>3.769</td>\n",
       "      <td>5.922</td>\n",
       "      <td>1</td>\n",
       "    </tr>\n",
       "    <tr>\n",
       "      <th>136</th>\n",
       "      <td>17.36</td>\n",
       "      <td>15.76</td>\n",
       "      <td>0.8785</td>\n",
       "      <td>6.145</td>\n",
       "      <td>3.574</td>\n",
       "      <td>3.526</td>\n",
       "      <td>5.971</td>\n",
       "      <td>1</td>\n",
       "    </tr>\n",
       "    <tr>\n",
       "      <th>190</th>\n",
       "      <td>10.93</td>\n",
       "      <td>12.80</td>\n",
       "      <td>0.8390</td>\n",
       "      <td>5.046</td>\n",
       "      <td>2.717</td>\n",
       "      <td>5.398</td>\n",
       "      <td>5.045</td>\n",
       "      <td>0</td>\n",
       "    </tr>\n",
       "  </tbody>\n",
       "</table>\n",
       "</div>"
      ],
      "text/plain": [
       "      Area  Perimetro  Compacidad  LongNucleo  AnchoNucleo  Asimetria  \\\n",
       "17   15.69      14.75      0.9058       5.527        3.514      1.599   \n",
       "124  15.99      14.89      0.9064       5.363        3.582      3.336   \n",
       "16   13.99      13.83      0.9183       5.119        3.383      5.234   \n",
       "201  12.67      13.32      0.8977       4.984        3.135      2.300   \n",
       "138  15.60      15.11      0.8580       5.832        3.286      2.725   \n",
       "62   12.36      13.19      0.8923       5.076        3.042      3.220   \n",
       "84   19.51      16.71      0.8780       6.366        3.801      2.962   \n",
       "35   16.12      15.00      0.9000       5.709        3.485      2.270   \n",
       "65   12.88      13.50      0.8879       5.139        3.119      2.352   \n",
       "207  13.20      13.66      0.8883       5.236        3.232      8.315   \n",
       "195  12.80      13.47      0.8860       5.160        3.126      4.873   \n",
       "32   14.09      14.41      0.8529       5.717        3.186      3.920   \n",
       "139  16.23      15.18      0.8850       5.872        3.472      3.769   \n",
       "136  17.36      15.76      0.8785       6.145        3.574      3.526   \n",
       "190  10.93      12.80      0.8390       5.046        2.717      5.398   \n",
       "\n",
       "     LongSurco  Clase  \n",
       "17       5.046      0  \n",
       "124      5.144      1  \n",
       "16       4.781      0  \n",
       "201      4.745      0  \n",
       "138      5.752      1  \n",
       "62       4.605      0  \n",
       "84       6.185      1  \n",
       "35       5.443      0  \n",
       "65       4.607      0  \n",
       "207      5.056      0  \n",
       "195      4.914      0  \n",
       "32       5.299      0  \n",
       "139      5.922      1  \n",
       "136      5.971      1  \n",
       "190      5.045      0  "
      ]
     },
     "execution_count": 38,
     "metadata": {},
     "output_type": "execute_result"
    }
   ],
   "source": [
    "mapeo={\n",
    "    \"Clase\":{\"Tipo1\":0, \"Tipo2\":1, \"Tipo3\":0}\n",
    "}\n",
    "datos.replace(mapeo,inplace=True)\n",
    "datos.sample(15)"
   ]
  },
  {
   "cell_type": "code",
   "execution_count": 39,
   "id": "0aa18625",
   "metadata": {},
   "outputs": [
    {
     "name": "stdout",
     "output_type": "stream",
     "text": [
      "<class 'pandas.core.frame.DataFrame'>\n",
      "RangeIndex: 210 entries, 0 to 209\n",
      "Data columns (total 8 columns):\n",
      " #   Column       Non-Null Count  Dtype  \n",
      "---  ------       --------------  -----  \n",
      " 0   Area         210 non-null    float64\n",
      " 1   Perimetro    210 non-null    float64\n",
      " 2   Compacidad   210 non-null    float64\n",
      " 3   LongNucleo   210 non-null    float64\n",
      " 4   AnchoNucleo  210 non-null    float64\n",
      " 5   Asimetria    210 non-null    float64\n",
      " 6   LongSurco    210 non-null    float64\n",
      " 7   Clase        210 non-null    int64  \n",
      "dtypes: float64(7), int64(1)\n",
      "memory usage: 13.3 KB\n"
     ]
    }
   ],
   "source": [
    "datos.info()"
   ]
  },
  {
   "cell_type": "code",
   "execution_count": 40,
   "id": "d76a04e3",
   "metadata": {},
   "outputs": [
    {
     "name": "stdout",
     "output_type": "stream",
     "text": [
      "[1 0 0 0 0 0 1 0 0 1 1 0 0 0 1 0 0 0 0 0 0 0 0 1 0 1 0 0 0 1 1 1 0 1 1 0 0\n",
      " 0 0 0 1 1 0 1 1 0 1 1 0 0 0 0 0 0 0 0 1 0 0 0 0 0 0 0 0 0 0 0 1 1 0 1 0 0\n",
      " 1 0 0 1 0 0 0 1 0 1 0 0 0 0 0 0 0 0 0 0 0 1 0 0 1 1 1 1 0 0 1 0 0 1 0 0 1\n",
      " 1 0 1 1 0 0 0 0 1 0 1 0 0 0 1]\n"
     ]
    }
   ],
   "source": [
    "X = np.array(datos.iloc[:,:-1])\n",
    "T = np.array(datos['Clase'])\n",
    "\n",
    "normalizador= preprocessing.MinMaxScaler()\n",
    "#normalizador= preprocessing.StandardScaler() #media y desvío\n",
    "\n",
    "# T = T.reshape(-1, 1)\n",
    "\n",
    "X_train, X_test, T_train, T_test = model_selection.train_test_split(\n",
    "        X, T, test_size=0.40)\n",
    "\n",
    "X_train = normalizador.fit_transform(X_train)\n",
    "X_test = normalizador.transform(X_test)\n",
    "\n",
    "# T_train = normalizador.fit_transform(T_train)\n",
    "# T_test = normalizador.transform(X_test)\n",
    "\n",
    "print(T_train)"
   ]
  },
  {
   "cell_type": "markdown",
   "id": "ce8f3871",
   "metadata": {},
   "source": [
    "# De esta forma hay que normalizar. No es necesario normalizar a T porque siempre toma valores entre 0 y 1"
   ]
  },
  {
   "cell_type": "code",
   "execution_count": 41,
   "id": "255e294d",
   "metadata": {},
   "outputs": [
    {
     "data": {
      "text/plain": [
       "<ClassNeuronaGral.NeuronaGradiente at 0x2a93f11bfd0>"
      ]
     },
     "execution_count": 41,
     "metadata": {},
     "output_type": "execute_result"
    }
   ],
   "source": [
    "func_act = \"tanh\"\n",
    "if (func_act == 'tanh'):\n",
    "    T_train = 2*T_train-1\n",
    "    T_test  = 2*T_test-1\n",
    "    \n",
    "ppn = NeuronaGradiente(alpha=0.3, n_iter=200, cotaE=1e-03, FUN=func_act, draw=1, title=[\"X, T\"])\n",
    "ppn.fit(X_train, T_train)\n",
    "#no grafica nada porque tenemos muchas variables, por lo cual nos estamos pasando de las 3 dimensiones"
   ]
  },
  {
   "cell_type": "code",
   "execution_count": null,
   "id": "6380fdf8",
   "metadata": {},
   "outputs": [],
   "source": []
  },
  {
   "cell_type": "code",
   "execution_count": 42,
   "id": "1f2ec7bc",
   "metadata": {},
   "outputs": [
    {
     "data": {
      "image/png": "[encoded data removed]",
      "text/plain": [
       "<Figure size 640x480 with 1 Axes>"
      ]
     },
     "metadata": {},
     "output_type": "display_data"
    }
   ],
   "source": [
    "plt.plot(range(1, len(ppn.errors_) + 1), ppn.errors_, marker='o')\n",
    "plt.xlabel('Iteraciones')\n",
    "plt.ylabel('ECM')\n",
    "plt.show()"
   ]
  },
  {
   "cell_type": "code",
   "execution_count": 43,
   "id": "a449b9f4",
   "metadata": {},
   "outputs": [
    {
     "name": "stdout",
     "output_type": "stream",
     "text": [
      "cantidad de iteraciones:  200\n"
     ]
    }
   ],
   "source": [
    "print(\"cantidad de iteraciones: \", len(ppn.errors_))"
   ]
  },
  {
   "cell_type": "code",
   "execution_count": 44,
   "id": "79bfa6fa",
   "metadata": {},
   "outputs": [
    {
     "name": "stdout",
     "output_type": "stream",
     "text": [
      "% de aciertos = 99.21 %\n",
      "[ 1 -1 -1 -1 -1 -1  1 -1 -1  1  1 -1  1 -1  1 -1 -1 -1 -1 -1 -1 -1 -1  1\n",
      " -1  1 -1 -1 -1  1  1  1 -1  1  1 -1 -1 -1 -1 -1  1  1 -1  1  1 -1  1  1\n",
      " -1 -1 -1 -1 -1 -1 -1 -1  1 -1 -1 -1 -1 -1 -1 -1 -1 -1 -1 -1  1  1 -1  1\n",
      " -1 -1  1 -1 -1  1 -1 -1 -1  1 -1  1 -1 -1 -1 -1 -1 -1 -1 -1 -1 -1 -1  1\n",
      " -1 -1  1  1  1  1 -1 -1  1 -1 -1  1 -1 -1  1  1 -1  1  1 -1 -1 -1 -1  1\n",
      " -1  1 -1 -1 -1  1]\n",
      "[ 1 -1 -1 -1 -1 -1  1 -1 -1  1  1 -1 -1 -1  1 -1 -1 -1 -1 -1 -1 -1 -1  1\n",
      " -1  1 -1 -1 -1  1  1  1 -1  1  1 -1 -1 -1 -1 -1  1  1 -1  1  1 -1  1  1\n",
      " -1 -1 -1 -1 -1 -1 -1 -1  1 -1 -1 -1 -1 -1 -1 -1 -1 -1 -1 -1  1  1 -1  1\n",
      " -1 -1  1 -1 -1  1 -1 -1 -1  1 -1  1 -1 -1 -1 -1 -1 -1 -1 -1 -1 -1 -1  1\n",
      " -1 -1  1  1  1  1 -1 -1  1 -1 -1  1 -1 -1  1  1 -1  1  1 -1 -1 -1 -1  1\n",
      " -1  1 -1 -1 -1  1]\n"
     ]
    }
   ],
   "source": [
    "#del entrenamiento:\n",
    "T_train = T_train.reshape(-1) \n",
    "suma_precisiones = 0\n",
    "\n",
    "Y = ppn.predict(X_train)\n",
    "#print(\"Y = \", Y)\n",
    "#print(\"T = \", T_train)\n",
    "aciertos = sum(Y == T_train)\n",
    "#print(\"aciertos = \", aciertos)\n",
    "precision = 100*aciertos/X_train.shape[0]\n",
    "print(\"%% de aciertos = %.2f %%\" % (precision))\n",
    "suma_precisiones += precision\n",
    "    \n",
    "print(Y)\n",
    "print(T_train)\n",
    "#print(f\"precision promedio de {precision}\")"
   ]
  },
  {
   "cell_type": "code",
   "execution_count": 45,
   "id": "1c5b7458",
   "metadata": {},
   "outputs": [
    {
     "name": "stdout",
     "output_type": "stream",
     "text": [
      "% de aciertos = 97.62 %\n",
      "[-1 -1 -1 -1 -1  1 -1 -1 -1  1  1  1  1 -1  1 -1  1  1 -1  1 -1 -1 -1 -1\n",
      " -1  1 -1 -1 -1 -1 -1  1 -1 -1 -1 -1 -1  1 -1  1  1  1 -1 -1  1 -1 -1  1\n",
      " -1 -1  1 -1 -1 -1 -1  1 -1 -1  1  1 -1 -1 -1 -1 -1  1 -1 -1 -1 -1 -1 -1\n",
      " -1  1  1 -1  1  1  1 -1 -1 -1 -1  1]\n",
      "[-1 -1 -1 -1 -1  1  1 -1  1  1  1  1  1 -1  1 -1  1  1 -1  1 -1 -1 -1 -1\n",
      " -1  1 -1 -1 -1 -1 -1  1 -1 -1 -1 -1 -1  1 -1  1  1  1 -1 -1  1 -1 -1  1\n",
      " -1 -1  1 -1 -1 -1 -1  1 -1 -1  1  1 -1 -1 -1 -1 -1  1 -1 -1 -1 -1 -1 -1\n",
      " -1  1  1 -1  1  1  1 -1 -1 -1 -1  1]\n"
     ]
    }
   ],
   "source": [
    "#del testeo\n",
    "#no debo repetir esta celda únicamente, debo repetir todo el entrenamiento del códgio para tener una nueva precisión\n",
    "\n",
    "suma_precisiones = 0\n",
    "\n",
    "Y = ppn.predict(X_test)\n",
    "#print(\"Y = \", Y)\n",
    "#print(\"T = \", T_test)\n",
    "aciertos = sum(Y == T_test)\n",
    "#print(\"aciertos = \", aciertos)\n",
    "precision = 100*aciertos/X_test.shape[0]\n",
    "print(\"%% de aciertos = %.2f %%\" % (precision))\n",
    "suma_precisiones += precision\n",
    "    \n",
    "print(Y)\n",
    "print(T_test)\n",
    "#print(f\"precision promedio de {precision}\")\n",
    "    "
   ]
  },
  {
   "cell_type": "markdown",
   "id": "71a55978",
   "metadata": {},
   "source": [
    "# Tabla de resultados"
   ]
  },
  {
   "cell_type": "markdown",
   "id": "f5be09c3",
   "metadata": {},
   "source": [
    "|funcion|alfa|iteraciones|precisión train|precisión test\n",
    "|---|---|---|---|---|\n",
    "|sigmoid|0,3|200 |99.21 | 97.62|\n",
    "|sigmoid|0,2|200 | 99.21| 97.62|\n",
    "|sigmoid|0,1| 200| 99.21| 97.62| \n",
    "|tanh|0,3| 200| 99.21 | 96.43|\n",
    "|tanh|0,2| 200| 98.41| 97.62 |\n",
    "|tanh|0,1|200 | 99.21| 98.81|"
   ]
  },
  {
   "cell_type": "code",
   "execution_count": null,
   "id": "553e1f11",
   "metadata": {},
   "outputs": [],
   "source": []
  }
 ],
 "metadata": {
  "kernelspec": {
   "display_name": "Python 3 (ipykernel)",
   "language": "python",
   "name": "python3"
  },
  "language_info": {
   "codemirror_mode": {
    "name": "ipython",
    "version": 3
   },
   "file_extension": ".py",
   "mimetype": "text/x-python",
   "name": "python",
   "nbconvert_exporter": "python",
   "pygments_lexer": "ipython3",
   "version": "3.11.5"
  }
 },
 "nbformat": 4,
 "nbformat_minor": 5
}
