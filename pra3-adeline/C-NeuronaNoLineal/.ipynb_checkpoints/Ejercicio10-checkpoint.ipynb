{
 "cells": [
  {
   "cell_type": "code",
   "execution_count": 87,
   "id": "4d2944bb",
   "metadata": {},
   "outputs": [],
   "source": [
    "%matplotlib inline\n",
    "import numpy as np\n",
    "import pandas as pd\n",
    "import time\n",
    "#from matplotlib import pyplot as plt\n",
    "from matplotlib import pylab as plt\n",
    "from IPython import display\n",
    "from sklearn import model_selection,preprocessing\n",
    "from grafica import *\n",
    "from ClassNeuronaGral import NeuronaGradiente"
   ]
  },
  {
   "cell_type": "code",
   "execution_count": 88,
   "id": "ae33431d",
   "metadata": {},
   "outputs": [
    {
     "data": {
      "text/html": [
       "<div>\n",
       "<style scoped>\n",
       "    .dataframe tbody tr th:only-of-type {\n",
       "        vertical-align: middle;\n",
       "    }\n",
       "\n",
       "    .dataframe tbody tr th {\n",
       "        vertical-align: top;\n",
       "    }\n",
       "\n",
       "    .dataframe thead th {\n",
       "        text-align: right;\n",
       "    }\n",
       "</style>\n",
       "<table border=\"1\" class=\"dataframe\">\n",
       "  <thead>\n",
       "    <tr style=\"text-align: right;\">\n",
       "      <th></th>\n",
       "      <th>Area</th>\n",
       "      <th>Perimetro</th>\n",
       "      <th>Compacidad</th>\n",
       "      <th>LongNucleo</th>\n",
       "      <th>AnchoNucleo</th>\n",
       "      <th>Asimetria</th>\n",
       "      <th>LongSurco</th>\n",
       "      <th>Clase</th>\n",
       "    </tr>\n",
       "  </thead>\n",
       "  <tbody>\n",
       "    <tr>\n",
       "      <th>0</th>\n",
       "      <td>15.26</td>\n",
       "      <td>14.84</td>\n",
       "      <td>0.8710</td>\n",
       "      <td>5.763</td>\n",
       "      <td>3.312</td>\n",
       "      <td>2.221</td>\n",
       "      <td>5.220</td>\n",
       "      <td>Tipo1</td>\n",
       "    </tr>\n",
       "    <tr>\n",
       "      <th>1</th>\n",
       "      <td>14.88</td>\n",
       "      <td>14.57</td>\n",
       "      <td>0.8811</td>\n",
       "      <td>5.554</td>\n",
       "      <td>3.333</td>\n",
       "      <td>1.018</td>\n",
       "      <td>4.956</td>\n",
       "      <td>Tipo1</td>\n",
       "    </tr>\n",
       "    <tr>\n",
       "      <th>2</th>\n",
       "      <td>14.29</td>\n",
       "      <td>14.09</td>\n",
       "      <td>0.9050</td>\n",
       "      <td>5.291</td>\n",
       "      <td>3.337</td>\n",
       "      <td>2.699</td>\n",
       "      <td>4.825</td>\n",
       "      <td>Tipo1</td>\n",
       "    </tr>\n",
       "    <tr>\n",
       "      <th>3</th>\n",
       "      <td>13.84</td>\n",
       "      <td>13.94</td>\n",
       "      <td>0.8955</td>\n",
       "      <td>5.324</td>\n",
       "      <td>3.379</td>\n",
       "      <td>2.259</td>\n",
       "      <td>4.805</td>\n",
       "      <td>Tipo1</td>\n",
       "    </tr>\n",
       "    <tr>\n",
       "      <th>4</th>\n",
       "      <td>16.14</td>\n",
       "      <td>14.99</td>\n",
       "      <td>0.9034</td>\n",
       "      <td>5.658</td>\n",
       "      <td>3.562</td>\n",
       "      <td>1.355</td>\n",
       "      <td>5.175</td>\n",
       "      <td>Tipo1</td>\n",
       "    </tr>\n",
       "  </tbody>\n",
       "</table>\n",
       "</div>"
      ],
      "text/plain": [
       "    Area  Perimetro  Compacidad  LongNucleo  AnchoNucleo  Asimetria  \\\n",
       "0  15.26      14.84      0.8710       5.763        3.312      2.221   \n",
       "1  14.88      14.57      0.8811       5.554        3.333      1.018   \n",
       "2  14.29      14.09      0.9050       5.291        3.337      2.699   \n",
       "3  13.84      13.94      0.8955       5.324        3.379      2.259   \n",
       "4  16.14      14.99      0.9034       5.658        3.562      1.355   \n",
       "\n",
       "   LongSurco  Clase  \n",
       "0      5.220  Tipo1  \n",
       "1      4.956  Tipo1  \n",
       "2      4.825  Tipo1  \n",
       "3      4.805  Tipo1  \n",
       "4      5.175  Tipo1  "
      ]
     },
     "execution_count": 88,
     "metadata": {},
     "output_type": "execute_result"
    }
   ],
   "source": [
    "datos = pd.read_csv(\"../../Datos/Semillas.csv\")\n",
    "datos.head()"
   ]
  },
  {
   "cell_type": "code",
   "execution_count": 89,
   "id": "68506f9d",
   "metadata": {},
   "outputs": [
    {
     "data": {
      "text/plain": [
       "array(['Tipo1', 'Tipo2', 'Tipo3'], dtype=object)"
      ]
     },
     "execution_count": 89,
     "metadata": {},
     "output_type": "execute_result"
    }
   ],
   "source": [
    "datos[\"Clase\"].unique()\n"
   ]
  },
  {
   "cell_type": "code",
   "execution_count": 90,
   "id": "4697f6a9",
   "metadata": {},
   "outputs": [
    {
     "data": {
      "text/html": [
       "<div>\n",
       "<style scoped>\n",
       "    .dataframe tbody tr th:only-of-type {\n",
       "        vertical-align: middle;\n",
       "    }\n",
       "\n",
       "    .dataframe tbody tr th {\n",
       "        vertical-align: top;\n",
       "    }\n",
       "\n",
       "    .dataframe thead th {\n",
       "        text-align: right;\n",
       "    }\n",
       "</style>\n",
       "<table border=\"1\" class=\"dataframe\">\n",
       "  <thead>\n",
       "    <tr style=\"text-align: right;\">\n",
       "      <th></th>\n",
       "      <th>Area</th>\n",
       "      <th>Perimetro</th>\n",
       "      <th>Compacidad</th>\n",
       "      <th>LongNucleo</th>\n",
       "      <th>AnchoNucleo</th>\n",
       "      <th>Asimetria</th>\n",
       "      <th>LongSurco</th>\n",
       "      <th>Clase</th>\n",
       "    </tr>\n",
       "  </thead>\n",
       "  <tbody>\n",
       "    <tr>\n",
       "      <th>171</th>\n",
       "      <td>11.55</td>\n",
       "      <td>13.10</td>\n",
       "      <td>0.8455</td>\n",
       "      <td>5.167</td>\n",
       "      <td>2.845</td>\n",
       "      <td>6.7150</td>\n",
       "      <td>4.956</td>\n",
       "      <td>0</td>\n",
       "    </tr>\n",
       "    <tr>\n",
       "      <th>22</th>\n",
       "      <td>15.88</td>\n",
       "      <td>14.90</td>\n",
       "      <td>0.8988</td>\n",
       "      <td>5.618</td>\n",
       "      <td>3.507</td>\n",
       "      <td>0.7651</td>\n",
       "      <td>5.091</td>\n",
       "      <td>0</td>\n",
       "    </tr>\n",
       "    <tr>\n",
       "      <th>127</th>\n",
       "      <td>17.98</td>\n",
       "      <td>15.85</td>\n",
       "      <td>0.8993</td>\n",
       "      <td>5.979</td>\n",
       "      <td>3.687</td>\n",
       "      <td>2.2570</td>\n",
       "      <td>5.919</td>\n",
       "      <td>1</td>\n",
       "    </tr>\n",
       "    <tr>\n",
       "      <th>18</th>\n",
       "      <td>14.70</td>\n",
       "      <td>14.21</td>\n",
       "      <td>0.9153</td>\n",
       "      <td>5.205</td>\n",
       "      <td>3.466</td>\n",
       "      <td>1.7670</td>\n",
       "      <td>4.649</td>\n",
       "      <td>0</td>\n",
       "    </tr>\n",
       "    <tr>\n",
       "      <th>84</th>\n",
       "      <td>19.51</td>\n",
       "      <td>16.71</td>\n",
       "      <td>0.8780</td>\n",
       "      <td>6.366</td>\n",
       "      <td>3.801</td>\n",
       "      <td>2.9620</td>\n",
       "      <td>6.185</td>\n",
       "      <td>1</td>\n",
       "    </tr>\n",
       "    <tr>\n",
       "      <th>106</th>\n",
       "      <td>18.85</td>\n",
       "      <td>16.17</td>\n",
       "      <td>0.9056</td>\n",
       "      <td>6.152</td>\n",
       "      <td>3.806</td>\n",
       "      <td>2.8430</td>\n",
       "      <td>6.200</td>\n",
       "      <td>1</td>\n",
       "    </tr>\n",
       "    <tr>\n",
       "      <th>36</th>\n",
       "      <td>16.20</td>\n",
       "      <td>15.27</td>\n",
       "      <td>0.8734</td>\n",
       "      <td>5.826</td>\n",
       "      <td>3.464</td>\n",
       "      <td>2.8230</td>\n",
       "      <td>5.527</td>\n",
       "      <td>0</td>\n",
       "    </tr>\n",
       "    <tr>\n",
       "      <th>58</th>\n",
       "      <td>15.38</td>\n",
       "      <td>14.77</td>\n",
       "      <td>0.8857</td>\n",
       "      <td>5.662</td>\n",
       "      <td>3.419</td>\n",
       "      <td>1.9990</td>\n",
       "      <td>5.222</td>\n",
       "      <td>0</td>\n",
       "    </tr>\n",
       "    <tr>\n",
       "      <th>158</th>\n",
       "      <td>11.75</td>\n",
       "      <td>13.52</td>\n",
       "      <td>0.8082</td>\n",
       "      <td>5.444</td>\n",
       "      <td>2.678</td>\n",
       "      <td>4.3780</td>\n",
       "      <td>5.310</td>\n",
       "      <td>0</td>\n",
       "    </tr>\n",
       "    <tr>\n",
       "      <th>100</th>\n",
       "      <td>16.41</td>\n",
       "      <td>15.25</td>\n",
       "      <td>0.8866</td>\n",
       "      <td>5.718</td>\n",
       "      <td>3.525</td>\n",
       "      <td>4.2170</td>\n",
       "      <td>5.618</td>\n",
       "      <td>1</td>\n",
       "    </tr>\n",
       "    <tr>\n",
       "      <th>68</th>\n",
       "      <td>14.37</td>\n",
       "      <td>14.39</td>\n",
       "      <td>0.8726</td>\n",
       "      <td>5.569</td>\n",
       "      <td>3.153</td>\n",
       "      <td>1.4640</td>\n",
       "      <td>5.300</td>\n",
       "      <td>0</td>\n",
       "    </tr>\n",
       "    <tr>\n",
       "      <th>7</th>\n",
       "      <td>14.11</td>\n",
       "      <td>14.10</td>\n",
       "      <td>0.8911</td>\n",
       "      <td>5.420</td>\n",
       "      <td>3.302</td>\n",
       "      <td>2.7000</td>\n",
       "      <td>5.000</td>\n",
       "      <td>0</td>\n",
       "    </tr>\n",
       "    <tr>\n",
       "      <th>132</th>\n",
       "      <td>15.38</td>\n",
       "      <td>14.90</td>\n",
       "      <td>0.8706</td>\n",
       "      <td>5.884</td>\n",
       "      <td>3.268</td>\n",
       "      <td>4.4620</td>\n",
       "      <td>5.795</td>\n",
       "      <td>1</td>\n",
       "    </tr>\n",
       "    <tr>\n",
       "      <th>155</th>\n",
       "      <td>11.19</td>\n",
       "      <td>13.05</td>\n",
       "      <td>0.8253</td>\n",
       "      <td>5.250</td>\n",
       "      <td>2.675</td>\n",
       "      <td>5.8130</td>\n",
       "      <td>5.219</td>\n",
       "      <td>0</td>\n",
       "    </tr>\n",
       "    <tr>\n",
       "      <th>97</th>\n",
       "      <td>18.98</td>\n",
       "      <td>16.57</td>\n",
       "      <td>0.8687</td>\n",
       "      <td>6.449</td>\n",
       "      <td>3.552</td>\n",
       "      <td>2.1440</td>\n",
       "      <td>6.453</td>\n",
       "      <td>1</td>\n",
       "    </tr>\n",
       "  </tbody>\n",
       "</table>\n",
       "</div>"
      ],
      "text/plain": [
       "      Area  Perimetro  Compacidad  LongNucleo  AnchoNucleo  Asimetria  \\\n",
       "171  11.55      13.10      0.8455       5.167        2.845     6.7150   \n",
       "22   15.88      14.90      0.8988       5.618        3.507     0.7651   \n",
       "127  17.98      15.85      0.8993       5.979        3.687     2.2570   \n",
       "18   14.70      14.21      0.9153       5.205        3.466     1.7670   \n",
       "84   19.51      16.71      0.8780       6.366        3.801     2.9620   \n",
       "106  18.85      16.17      0.9056       6.152        3.806     2.8430   \n",
       "36   16.20      15.27      0.8734       5.826        3.464     2.8230   \n",
       "58   15.38      14.77      0.8857       5.662        3.419     1.9990   \n",
       "158  11.75      13.52      0.8082       5.444        2.678     4.3780   \n",
       "100  16.41      15.25      0.8866       5.718        3.525     4.2170   \n",
       "68   14.37      14.39      0.8726       5.569        3.153     1.4640   \n",
       "7    14.11      14.10      0.8911       5.420        3.302     2.7000   \n",
       "132  15.38      14.90      0.8706       5.884        3.268     4.4620   \n",
       "155  11.19      13.05      0.8253       5.250        2.675     5.8130   \n",
       "97   18.98      16.57      0.8687       6.449        3.552     2.1440   \n",
       "\n",
       "     LongSurco  Clase  \n",
       "171      4.956      0  \n",
       "22       5.091      0  \n",
       "127      5.919      1  \n",
       "18       4.649      0  \n",
       "84       6.185      1  \n",
       "106      6.200      1  \n",
       "36       5.527      0  \n",
       "58       5.222      0  \n",
       "158      5.310      0  \n",
       "100      5.618      1  \n",
       "68       5.300      0  \n",
       "7        5.000      0  \n",
       "132      5.795      1  \n",
       "155      5.219      0  \n",
       "97       6.453      1  "
      ]
     },
     "execution_count": 90,
     "metadata": {},
     "output_type": "execute_result"
    }
   ],
   "source": [
    "mapeo={\n",
    "    \"Clase\":{\"Tipo1\":0, \"Tipo2\":1, \"Tipo3\":0}\n",
    "}\n",
    "datos.replace(mapeo,inplace=True)\n",
    "datos.sample(15)"
   ]
  },
  {
   "cell_type": "code",
   "execution_count": 91,
   "id": "0aa18625",
   "metadata": {},
   "outputs": [
    {
     "name": "stdout",
     "output_type": "stream",
     "text": [
      "<class 'pandas.core.frame.DataFrame'>\n",
      "RangeIndex: 210 entries, 0 to 209\n",
      "Data columns (total 8 columns):\n",
      " #   Column       Non-Null Count  Dtype  \n",
      "---  ------       --------------  -----  \n",
      " 0   Area         210 non-null    float64\n",
      " 1   Perimetro    210 non-null    float64\n",
      " 2   Compacidad   210 non-null    float64\n",
      " 3   LongNucleo   210 non-null    float64\n",
      " 4   AnchoNucleo  210 non-null    float64\n",
      " 5   Asimetria    210 non-null    float64\n",
      " 6   LongSurco    210 non-null    float64\n",
      " 7   Clase        210 non-null    int64  \n",
      "dtypes: float64(7), int64(1)\n",
      "memory usage: 13.3 KB\n"
     ]
    }
   ],
   "source": [
    "datos.info()"
   ]
  },
  {
   "cell_type": "code",
   "execution_count": 92,
   "id": "d76a04e3",
   "metadata": {},
   "outputs": [
    {
     "name": "stdout",
     "output_type": "stream",
     "text": [
      "[0 0 1 1 0 1 1 0 0 1 1 0 0 0 0 0 0 1 0 0 0 0 0 1 0 1 1 1 0 0 1 1 1 1 1 0 0\n",
      " 1 0 0 1 1 0 1 1 1 1 0 1 0 0 1 0 0 0 0 0 0 1 0 0 1 1 1 0 0 1 0 0 0 0 1 1 1\n",
      " 1 0 1 1 0 1 0 0 0 1 0 0 0 0 1 0 0 0 1 0 1 0 0 0 1 1 1 0 0 1 0 1 1 0 1 0 0\n",
      " 1 0 0 0 0 0 0 0 0 0 0 0 1 0 0]\n"
     ]
    }
   ],
   "source": [
    "X = np.array(datos.iloc[:,:-1])\n",
    "T = np.array(datos['Clase'])\n",
    "\n",
    "normalizador= preprocessing.MinMaxScaler()\n",
    "#normalizador= preprocessing.StandardScaler() #media y desvío\n",
    "X = normalizador.fit_transform(X)\n",
    "\n",
    "X_train, X_test, T_train, T_test = model_selection.train_test_split(\n",
    "        X, T, test_size=0.40)\n",
    "\n",
    "print(T_train)"
   ]
  },
  {
   "cell_type": "code",
   "execution_count": 93,
   "id": "255e294d",
   "metadata": {},
   "outputs": [
    {
     "data": {
      "text/plain": [
       "<ClassNeuronaGral.NeuronaGradiente at 0x24735b15890>"
      ]
     },
     "execution_count": 93,
     "metadata": {},
     "output_type": "execute_result"
    }
   ],
   "source": [
    "func_act = \"tanh\"\n",
    "if (func_act == 'tanh'):\n",
    "    T_train = 2*T_train-1\n",
    "    T_test  = 2*T_test-1\n",
    "    \n",
    "ppn = NeuronaGradiente(alpha=0.3, n_iter=200, cotaE=1e-03, FUN=func_act, draw=1, title=[\"X, T\"])\n",
    "ppn.fit(X_train, T_train)\n",
    "#no grafica nada porque tenemos muchas variables, por lo cual nos estamos pasando de las 3 dimensiones"
   ]
  },
  {
   "cell_type": "code",
   "execution_count": null,
   "id": "6380fdf8",
   "metadata": {},
   "outputs": [],
   "source": []
  },
  {
   "cell_type": "code",
   "execution_count": 94,
   "id": "1f2ec7bc",
   "metadata": {},
   "outputs": [
    {
     "data": {
      "image/png": "[encoded data removed]",
      "text/plain": [
       "<Figure size 640x480 with 1 Axes>"
      ]
     },
     "metadata": {},
     "output_type": "display_data"
    }
   ],
   "source": [
    "plt.plot(range(1, len(ppn.errors_) + 1), ppn.errors_, marker='o')\n",
    "plt.xlabel('Iteraciones')\n",
    "plt.ylabel('ECM')\n",
    "plt.show()"
   ]
  },
  {
   "cell_type": "code",
   "execution_count": 95,
   "id": "a449b9f4",
   "metadata": {},
   "outputs": [
    {
     "name": "stdout",
     "output_type": "stream",
     "text": [
      "cantidad de iteraciones:  200\n"
     ]
    }
   ],
   "source": [
    "print(\"cantidad de iteraciones: \", len(ppn.errors_))"
   ]
  },
  {
   "cell_type": "code",
   "execution_count": 96,
   "id": "79bfa6fa",
   "metadata": {},
   "outputs": [
    {
     "name": "stdout",
     "output_type": "stream",
     "text": [
      "% de aciertos = 99.21 %\n",
      "[-1 -1  1  1 -1  1  1 -1 -1  1  1 -1 -1 -1 -1 -1 -1  1 -1 -1 -1 -1 -1  1\n",
      " -1  1  1  1 -1 -1  1  1  1  1  1 -1 -1  1 -1 -1  1  1 -1  1  1  1  1 -1\n",
      "  1 -1 -1  1 -1 -1 -1 -1 -1 -1  1 -1 -1  1  1  1 -1 -1  1 -1 -1 -1 -1  1\n",
      "  1  1  1 -1  1 -1 -1  1 -1 -1 -1  1 -1 -1 -1 -1  1 -1 -1 -1  1 -1  1 -1\n",
      " -1 -1  1  1  1 -1 -1  1 -1  1  1 -1  1 -1 -1  1 -1 -1 -1 -1 -1 -1 -1 -1\n",
      " -1 -1 -1  1 -1 -1]\n",
      "[-1 -1  1  1 -1  1  1 -1 -1  1  1 -1 -1 -1 -1 -1 -1  1 -1 -1 -1 -1 -1  1\n",
      " -1  1  1  1 -1 -1  1  1  1  1  1 -1 -1  1 -1 -1  1  1 -1  1  1  1  1 -1\n",
      "  1 -1 -1  1 -1 -1 -1 -1 -1 -1  1 -1 -1  1  1  1 -1 -1  1 -1 -1 -1 -1  1\n",
      "  1  1  1 -1  1  1 -1  1 -1 -1 -1  1 -1 -1 -1 -1  1 -1 -1 -1  1 -1  1 -1\n",
      " -1 -1  1  1  1 -1 -1  1 -1  1  1 -1  1 -1 -1  1 -1 -1 -1 -1 -1 -1 -1 -1\n",
      " -1 -1 -1  1 -1 -1]\n"
     ]
    }
   ],
   "source": [
    "#del entrenamiento:\n",
    "T_train = T_train.reshape(-1) \n",
    "suma_precisiones = 0\n",
    "\n",
    "Y = ppn.predict(X_train)\n",
    "#print(\"Y = \", Y)\n",
    "#print(\"T = \", T_train)\n",
    "aciertos = sum(Y == T_train)\n",
    "#print(\"aciertos = \", aciertos)\n",
    "precision = 100*aciertos/X_train.shape[0]\n",
    "print(\"%% de aciertos = %.2f %%\" % (precision))\n",
    "suma_precisiones += precision\n",
    "    \n",
    "print(Y)\n",
    "print(T_train)\n",
    "#print(f\"precision promedio de {precision}\")"
   ]
  },
  {
   "cell_type": "code",
   "execution_count": 97,
   "id": "1c5b7458",
   "metadata": {},
   "outputs": [
    {
     "name": "stdout",
     "output_type": "stream",
     "text": [
      "% de aciertos = 96.43 %\n",
      "[-1 -1 -1 -1 -1 -1  1 -1 -1 -1 -1  1 -1 -1  1 -1 -1 -1 -1 -1 -1 -1  1 -1\n",
      " -1 -1 -1 -1 -1  1 -1 -1  1 -1 -1  1 -1  1 -1 -1  1  1  1 -1  1  1 -1 -1\n",
      " -1 -1 -1 -1 -1 -1 -1  1 -1 -1  1 -1 -1 -1 -1 -1 -1  1 -1 -1 -1  1 -1 -1\n",
      " -1 -1 -1 -1 -1 -1  1 -1  1 -1 -1 -1]\n",
      "[-1 -1 -1 -1 -1 -1  1 -1 -1 -1 -1  1 -1 -1  1 -1 -1 -1 -1 -1 -1 -1  1 -1\n",
      " -1 -1 -1 -1 -1  1 -1  1  1 -1 -1  1 -1  1 -1 -1 -1  1  1 -1  1  1 -1 -1\n",
      " -1 -1 -1 -1 -1 -1 -1  1 -1 -1  1 -1 -1 -1 -1 -1 -1  1 -1  1 -1  1 -1 -1\n",
      " -1 -1 -1 -1 -1 -1  1 -1  1 -1 -1 -1]\n"
     ]
    }
   ],
   "source": [
    "#del testeo\n",
    "#no debo repetir esta celda únicamente, debo repetir todo el entrenamiento del códgio para tener una nueva precisión\n",
    "\n",
    "suma_precisiones = 0\n",
    "\n",
    "Y = ppn.predict(X_test)\n",
    "#print(\"Y = \", Y)\n",
    "#print(\"T = \", T_test)\n",
    "aciertos = sum(Y == T_test)\n",
    "#print(\"aciertos = \", aciertos)\n",
    "precision = 100*aciertos/X_test.shape[0]\n",
    "print(\"%% de aciertos = %.2f %%\" % (precision))\n",
    "suma_precisiones += precision\n",
    "    \n",
    "print(Y)\n",
    "print(T_test)\n",
    "#print(f\"precision promedio de {precision}\")\n",
    "    "
   ]
  },
  {
   "cell_type": "markdown",
   "id": "71a55978",
   "metadata": {},
   "source": [
    "# Tabla de resultados"
   ]
  },
  {
   "cell_type": "markdown",
   "id": "f5be09c3",
   "metadata": {},
   "source": [
    "|funcion|alfa|iteraciones|precisión train|precisión test\n",
    "|---|---|---|---|---|\n",
    "|sigmoid|0,3|200 |99.21 | 97.62|\n",
    "|sigmoid|0,2|200 | 99.21| 97.62|\n",
    "|sigmoid|0,1| 200| 99.21| 97.62| \n",
    "|tanh|0,3| 200| 99.21 | 96.43|\n",
    "|tanh|0,2| 200| 98.41| 97.62 |\n",
    "|tanh|0,1|200 | 99.21| 98.81|"
   ]
  },
  {
   "cell_type": "code",
   "execution_count": null,
   "id": "553e1f11",
   "metadata": {},
   "outputs": [],
   "source": []
  }
 ],
 "metadata": {
  "kernelspec": {
   "display_name": "Python 3 (ipykernel)",
   "language": "python",
   "name": "python3"
  },
  "language_info": {
   "codemirror_mode": {
    "name": "ipython",
    "version": 3
   },
   "file_extension": ".py",
   "mimetype": "text/x-python",
   "name": "python",
   "nbconvert_exporter": "python",
   "pygments_lexer": "ipython3",
   "version": "3.11.5"
  }
 },
 "nbformat": 4,
 "nbformat_minor": 5
}
